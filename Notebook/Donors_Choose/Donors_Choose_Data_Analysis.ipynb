{
  "cells": [
    {
      "cell_type": "markdown",
      "metadata": {
        "id": "view-in-github",
        "colab_type": "text"
      },
      "source": [
        "<a href=\"https://colab.research.google.com/github/Grey-matter2020/Machine-Learning/blob/main/Notebook/Donors_Choose/Donors_Choose_Data_Analysis.ipynb\" target=\"_parent\"><img src=\"https://colab.research.google.com/assets/colab-badge.svg\" alt=\"Open In Colab\"/></a>"
      ]
    },
    {
      "cell_type": "markdown",
      "metadata": {
        "id": "nvM2d9gKaJaS"
      },
      "source": [
        "# DonorsChoose"
      ]
    },
    {
      "cell_type": "markdown",
      "source": [
        "https://www.kaggle.com/competitions/donorschoose-application-screening/data"
      ],
      "metadata": {
        "id": "_9ZoUfzm-p6N"
      }
    },
    {
      "cell_type": "markdown",
      "metadata": {
        "id": "zt7ZdX4-aJaV"
      },
      "source": [
        "<p>\n",
        "DonorsChoose.org receives hundreds of thousands of project proposals each year for classroom projects in need of funding. Right now, a large number of volunteers is needed to manually screen each submission before it's approved to be posted on the DonorsChoose.org website.\n",
        "</p>\n",
        "<p>\n",
        "    Next year, DonorsChoose.org expects to receive close to 500,000 project proposals. As a result, there are three main problems they need to solve:\n",
        "<ul>\n",
        "<li>\n",
        "    How to scale current manual processes and resources to screen 500,000 projects so that they can be posted as quickly and as efficiently as possible</li>\n",
        "    <li>How to increase the consistency of project vetting across different volunteers to improve the experience for teachers</li>\n",
        "    <li>How to focus volunteer time on the applications that need the most assistance</li>\n",
        "    </ul>\n",
        "</p>    \n",
        "<p>\n",
        "The goal of the competition is to predict whether or not a DonorsChoose.org project proposal submitted by a teacher will be approved, using the text of project descriptions as well as additional metadata about the project, teacher, and school. DonorsChoose.org can then use this information to identify projects most likely to need further review before approval.\n",
        "</p>"
      ]
    },
    {
      "cell_type": "markdown",
      "metadata": {
        "id": "BrEvnJMGaJaZ"
      },
      "source": [
        "## About the DonorsChoose Data Set\n",
        "\n",
        "The `train.csv` data set provided by DonorsChoose contains the following features:\n",
        "\n",
        "Feature | Description \n",
        "----------|---------------\n",
        "**`project_id`** | A unique identifier for the proposed project. **Example:** `p258326`   \n",
        "**`project_title`**    | Title of the project. **Examples:**<br><ul><li><code>Educational Support for English Learners at Home</code></li><li><code>Techie Kindergarteners</code></li></ul> \n",
        "**`project_grade_category`** | Grade level of students for which the project is targeted. One of the following enumerated values: <br/><ul><li><code>Grades PreK-2</code></li><li><code>Grades 3-5</code></li><li><code>Grades 6-8</code></li><li><code>Grades 9-12</code></li></ul>  \n",
        " **`project_subject_categories`** | One or more (comma-separated) subject categories for the project from the following enumerated list of values:  <br/><ul><li><code>Applied Learning</code></li><li><code>Care &amp; Hunger</code></li><li><code>Health &amp; Sports</code></li><li><code>History &amp; Civics</code></li><li><code>Literacy &amp; Language</code></li><li><code>Math &amp; Science</code></li><li><code>Music &amp; The Arts</code></li><li><code>Special Needs</code></li><li><code>Warmth</code></li></ul><br/> **Examples:** <br/><ul><li><code>Music &amp; The Arts</code></li><li><code>Literacy &amp; Language, Math &amp; Science</code></li>  \n",
        "  **`school_state`** | State where school is located ([Two-letter U.S. postal code](https://en.wikipedia.org/wiki/List_of_U.S._state_abbreviations#Postal_codes)). **Example:** `WY`\n",
        "**`project_subject_subcategories`** | One or more (comma-separated) subject subcategories for the project. **Examples:** <br/><ul><li><code>Literacy</code></li><li><code>Literature &amp; Writing, Social Sciences</code></li></ul> \n",
        "**`project_resource_summary`** | An explanation of the resources needed for the project. **Example:** <br/><ul><li><code>My students need shine guards, athletic socks, Soccer Balls, goalie gloves, and training materials for the upcoming Soccer season.</code</li></ul> \n",
        "**`project_essay_1`**    | First application essay<sup>*</sup>  \n",
        "**`project_essay_2`**    | Second application essay<sup>*</sup> \n",
        "**`project_essay_3`**    | Third application essay<sup>*</sup> \n",
        "**`project_essay_4`**    | Fourth application essay<sup>*</sup> \n",
        "**`project_submitted_datetime`** | Datetime when project application was submitted. **Example:** `05-12-2016  13:43:57`   \n",
        "**`teacher_id`** | A unique identifier for the teacher of the proposed project. **Example:** `897464ce9ddc600bced1151f324dd63a`  \n",
        "**`teacher_prefix`** | Teacher's title. One of the following enumerated values: <br/><ul><li><code>nan</code></li><li><code>Dr.</code></li><li><code>Mr.</code></li><li><code>Mrs.</code></li><li><code>Ms.</code></li><li><code>Teacher.</code></li></ul>  \n",
        "**`teacher_number_of_previously_posted_projects`** | Number of project applications previously submitted by the same teacher. **Example:** `2` \n",
        "\n",
        "### Notes on the Essay Data\n",
        "\n",
        "<ul>\n",
        "Prior to May 17, 2016, 4 essays had to be submitted.\n",
        "</ul>\n",
        "\n",
        "\n",
        "<ul>\n",
        "Starting on May 17, 2016, the number of essays was reduced from 4 to 2\n",
        "<br>For all projects with project_submitted_datetime of 2016-05-17 and later, the values of project_essay_3 and project_essay_4 will be NaN.\n",
        "</ul>\n",
        "\n",
        "Additionally, the `resources.csv` data set provides more data about the resources required for each project. Each line in this file represents a resource required by a project:\n",
        "\n",
        "Feature | Description \n",
        "----------|---------------\n",
        "**`id`** | A `project_id` value from the `train.csv` file.  **Example:** `p258326`   \n",
        "**`description`** | Desciption of the resource. **Example:** `Brewster Wall Pops WPE99065 Peel & Stick Calypso Dry-Erase Dots with Marker, 3-Count`   \n",
        "**`quantity`** | Quantity of the resource required. **Example:** `3`   \n",
        "**`price`** | Price of the resource required. **Example:** `16.99`   \n",
        "\n",
        "**Note:** Many projects require multiple resources. The `id` value corresponds to a `project_id` in train.csv, so you use it as a key to retrieve all resources needed for a project:\n",
        "\n",
        "The data set contains the following label (the value you will attempt to predict):\n",
        "\n",
        "Label | Description\n",
        "----------|---------------\n",
        "`project_is_approved` | A binary flag indicating whether DonorsChoose approved the project. A value of `0` indicates the project was not approved, and a value of `1` indicates the project was approved."
      ]
    },
    {
      "cell_type": "code",
      "source": [
        "# Connect to the Google Drive to read the iris.csv file\n",
        "from google.colab import drive\n",
        "\n",
        "drive.mount('/content/gdrive')"
      ],
      "metadata": {
        "colab": {
          "base_uri": "https://localhost:8080/"
        },
        "id": "790aruneaqWX",
        "outputId": "0ff85e66-154f-4aef-95d6-f35cf285fc09"
      },
      "execution_count": 7,
      "outputs": [
        {
          "output_type": "stream",
          "name": "stdout",
          "text": [
            "Mounted at /content/gdrive\n"
          ]
        }
      ]
    },
    {
      "cell_type": "code",
      "source": [
        "#List the files in the Data Analyst folder\n",
        "!ls \"/content/gdrive/My Drive/Machine Learning/Data Analyst\""
      ],
      "metadata": {
        "colab": {
          "base_uri": "https://localhost:8080/"
        },
        "id": "EEc7pxufaqnU",
        "outputId": "82c6a474-6130-41a0-f35e-e1e90a22b7b4"
      },
      "execution_count": 8,
      "outputs": [
        {
          "output_type": "stream",
          "name": "stdout",
          "text": [
            "Donors_Choose_Data_Analysis.ipynb  resources.csv  train_data.csv\n"
          ]
        }
      ]
    },
    {
      "cell_type": "code",
      "source": [
        "#Changing the directory to Data Analyst folder\n",
        "%cd \"/content/gdrive/My Drive/Machine Learning/Data Analyst\""
      ],
      "metadata": {
        "colab": {
          "base_uri": "https://localhost:8080/"
        },
        "id": "N9dAje3Kap1X",
        "outputId": "9db7b2df-ff94-45fa-92f1-190d6b35cac2"
      },
      "execution_count": 13,
      "outputs": [
        {
          "output_type": "stream",
          "name": "stdout",
          "text": [
            "/content/gdrive/My Drive/Machine Learning/Data Analyst\n"
          ]
        }
      ]
    },
    {
      "cell_type": "code",
      "source": [
        "!pwd"
      ],
      "metadata": {
        "colab": {
          "base_uri": "https://localhost:8080/"
        },
        "id": "pMS7VRZMwJf-",
        "outputId": "7786d4bb-f309-49a3-c066-64be75b2a9f2"
      },
      "execution_count": 14,
      "outputs": [
        {
          "output_type": "stream",
          "name": "stdout",
          "text": [
            "/content/gdrive/My Drive/Machine Learning/Data Analyst\n"
          ]
        }
      ]
    },
    {
      "cell_type": "code",
      "execution_count": 15,
      "metadata": {
        "id": "CDr-VpfXaJaf"
      },
      "outputs": [],
      "source": [
        "import pandas as pd\n",
        "import numpy as np\n",
        "\n",
        "import matplotlib.pyplot as plt\n",
        "import seaborn as sns\n",
        "%matplotlib inline\n",
        "import warnings\n",
        "warnings.filterwarnings(\"ignore\")\n"
      ]
    },
    {
      "cell_type": "code",
      "execution_count": null,
      "metadata": {
        "id": "nDz_koIEg-Mz"
      },
      "outputs": [],
      "source": [
        "import re\n",
        "from nltk.corpus import stopwords\n",
        "from tqdm._tqdm_notebook import tqdm_notebook\n",
        "tqdm_notebook.pandas()\n",
        "from sklearn.feature_extraction.text import CountVectorizer\n",
        "from sklearn.feature_extraction.text import TfidfTransformer"
      ]
    },
    {
      "cell_type": "code",
      "execution_count": null,
      "metadata": {
        "id": "R_WBwwU_g-M1"
      },
      "outputs": [],
      "source": [
        "import spacy\n",
        "nlp =spacy.load(\"en_core_web_sm\",disable=['parser', 'ner'])\n",
        "lemmatizer = spacy.lang.en.English()"
      ]
    },
    {
      "cell_type": "markdown",
      "metadata": {
        "id": "8Drwa7XaaJar"
      },
      "source": [
        "## 1.1 Reading Data"
      ]
    },
    {
      "cell_type": "code",
      "execution_count": 16,
      "metadata": {
        "id": "P5NdUxFCaJas"
      },
      "outputs": [],
      "source": [
        "project_data = pd.read_csv('train_data.csv')\n",
        "resource_data = pd.read_csv('resources.csv')"
      ]
    },
    {
      "cell_type": "code",
      "execution_count": 17,
      "metadata": {
        "colab": {
          "base_uri": "https://localhost:8080/",
          "height": 471
        },
        "id": "JhsIqPIKaJax",
        "outputId": "af4ad0c6-2c4d-4e7f-8862-f6c94e35dc48"
      },
      "outputs": [
        {
          "output_type": "stream",
          "name": "stdout",
          "text": [
            "Number of data points in train data (109248, 16)\n",
            "--------------------------------------------------\n",
            "The attributes of data :\n",
            " ['id' 'teacher_id' 'teacher_prefix' 'school_state'\n",
            " 'project_submitted_datetime' 'project_grade_category'\n",
            " 'project_subject_categories' 'project_subject_subcategories'\n",
            " 'project_title' 'project_essay_1' 'project_essay_2' 'project_essay_3'\n",
            " 'project_essay_4' 'project_resource_summary'\n",
            " 'teacher_number_of_previously_posted_projects' 'project_is_approved']\n",
            "--------------------------------------------------\n"
          ]
        },
        {
          "output_type": "execute_result",
          "data": {
            "text/plain": [
              "        id                        teacher_id teacher_prefix school_state  \\\n",
              "0  p253737  c90749f5d961ff158d4b4d1e7dc665fc           Mrs.           IN   \n",
              "1  p258326  897464ce9ddc600bced1151f324dd63a            Mr.           FL   \n",
              "\n",
              "  project_submitted_datetime project_grade_category  \\\n",
              "0           05-12-2016 13:43          Grades PreK-2   \n",
              "1           25-10-2016 09:22             Grades 6-8   \n",
              "\n",
              "          project_subject_categories     project_subject_subcategories  \\\n",
              "0                Literacy & Language                     ESL, Literacy   \n",
              "1  History & Civics, Health & Sports  Civics & Government, Team Sports   \n",
              "\n",
              "                                      project_title  \\\n",
              "0  Educational Support for English Learners at Home   \n",
              "1             Wanted: Projector for Hungry Learners   \n",
              "\n",
              "                                     project_essay_1  \\\n",
              "0  My students are English learners that are work...   \n",
              "1  Our students arrive to our school eager to lea...   \n",
              "\n",
              "                                     project_essay_2 project_essay_3  \\\n",
              "0  \\\"The limits of your language are the limits o...             NaN   \n",
              "1  The projector we need for our school is very c...             NaN   \n",
              "\n",
              "  project_essay_4                           project_resource_summary  \\\n",
              "0             NaN  My students need opportunities to practice beg...   \n",
              "1             NaN  My students need a projector to help with view...   \n",
              "\n",
              "   teacher_number_of_previously_posted_projects  project_is_approved  \n",
              "0                                             0                    0  \n",
              "1                                             7                    1  "
            ],
            "text/html": [
              "\n",
              "  <div id=\"df-eeddc529-584b-437c-af40-7140bbb05276\">\n",
              "    <div class=\"colab-df-container\">\n",
              "      <div>\n",
              "<style scoped>\n",
              "    .dataframe tbody tr th:only-of-type {\n",
              "        vertical-align: middle;\n",
              "    }\n",
              "\n",
              "    .dataframe tbody tr th {\n",
              "        vertical-align: top;\n",
              "    }\n",
              "\n",
              "    .dataframe thead th {\n",
              "        text-align: right;\n",
              "    }\n",
              "</style>\n",
              "<table border=\"1\" class=\"dataframe\">\n",
              "  <thead>\n",
              "    <tr style=\"text-align: right;\">\n",
              "      <th></th>\n",
              "      <th>id</th>\n",
              "      <th>teacher_id</th>\n",
              "      <th>teacher_prefix</th>\n",
              "      <th>school_state</th>\n",
              "      <th>project_submitted_datetime</th>\n",
              "      <th>project_grade_category</th>\n",
              "      <th>project_subject_categories</th>\n",
              "      <th>project_subject_subcategories</th>\n",
              "      <th>project_title</th>\n",
              "      <th>project_essay_1</th>\n",
              "      <th>project_essay_2</th>\n",
              "      <th>project_essay_3</th>\n",
              "      <th>project_essay_4</th>\n",
              "      <th>project_resource_summary</th>\n",
              "      <th>teacher_number_of_previously_posted_projects</th>\n",
              "      <th>project_is_approved</th>\n",
              "    </tr>\n",
              "  </thead>\n",
              "  <tbody>\n",
              "    <tr>\n",
              "      <th>0</th>\n",
              "      <td>p253737</td>\n",
              "      <td>c90749f5d961ff158d4b4d1e7dc665fc</td>\n",
              "      <td>Mrs.</td>\n",
              "      <td>IN</td>\n",
              "      <td>05-12-2016 13:43</td>\n",
              "      <td>Grades PreK-2</td>\n",
              "      <td>Literacy &amp; Language</td>\n",
              "      <td>ESL, Literacy</td>\n",
              "      <td>Educational Support for English Learners at Home</td>\n",
              "      <td>My students are English learners that are work...</td>\n",
              "      <td>\\\"The limits of your language are the limits o...</td>\n",
              "      <td>NaN</td>\n",
              "      <td>NaN</td>\n",
              "      <td>My students need opportunities to practice beg...</td>\n",
              "      <td>0</td>\n",
              "      <td>0</td>\n",
              "    </tr>\n",
              "    <tr>\n",
              "      <th>1</th>\n",
              "      <td>p258326</td>\n",
              "      <td>897464ce9ddc600bced1151f324dd63a</td>\n",
              "      <td>Mr.</td>\n",
              "      <td>FL</td>\n",
              "      <td>25-10-2016 09:22</td>\n",
              "      <td>Grades 6-8</td>\n",
              "      <td>History &amp; Civics, Health &amp; Sports</td>\n",
              "      <td>Civics &amp; Government, Team Sports</td>\n",
              "      <td>Wanted: Projector for Hungry Learners</td>\n",
              "      <td>Our students arrive to our school eager to lea...</td>\n",
              "      <td>The projector we need for our school is very c...</td>\n",
              "      <td>NaN</td>\n",
              "      <td>NaN</td>\n",
              "      <td>My students need a projector to help with view...</td>\n",
              "      <td>7</td>\n",
              "      <td>1</td>\n",
              "    </tr>\n",
              "  </tbody>\n",
              "</table>\n",
              "</div>\n",
              "      <button class=\"colab-df-convert\" onclick=\"convertToInteractive('df-eeddc529-584b-437c-af40-7140bbb05276')\"\n",
              "              title=\"Convert this dataframe to an interactive table.\"\n",
              "              style=\"display:none;\">\n",
              "        \n",
              "  <svg xmlns=\"http://www.w3.org/2000/svg\" height=\"24px\"viewBox=\"0 0 24 24\"\n",
              "       width=\"24px\">\n",
              "    <path d=\"M0 0h24v24H0V0z\" fill=\"none\"/>\n",
              "    <path d=\"M18.56 5.44l.94 2.06.94-2.06 2.06-.94-2.06-.94-.94-2.06-.94 2.06-2.06.94zm-11 1L8.5 8.5l.94-2.06 2.06-.94-2.06-.94L8.5 2.5l-.94 2.06-2.06.94zm10 10l.94 2.06.94-2.06 2.06-.94-2.06-.94-.94-2.06-.94 2.06-2.06.94z\"/><path d=\"M17.41 7.96l-1.37-1.37c-.4-.4-.92-.59-1.43-.59-.52 0-1.04.2-1.43.59L10.3 9.45l-7.72 7.72c-.78.78-.78 2.05 0 2.83L4 21.41c.39.39.9.59 1.41.59.51 0 1.02-.2 1.41-.59l7.78-7.78 2.81-2.81c.8-.78.8-2.07 0-2.86zM5.41 20L4 18.59l7.72-7.72 1.47 1.35L5.41 20z\"/>\n",
              "  </svg>\n",
              "      </button>\n",
              "      \n",
              "  <style>\n",
              "    .colab-df-container {\n",
              "      display:flex;\n",
              "      flex-wrap:wrap;\n",
              "      gap: 12px;\n",
              "    }\n",
              "\n",
              "    .colab-df-convert {\n",
              "      background-color: #E8F0FE;\n",
              "      border: none;\n",
              "      border-radius: 50%;\n",
              "      cursor: pointer;\n",
              "      display: none;\n",
              "      fill: #1967D2;\n",
              "      height: 32px;\n",
              "      padding: 0 0 0 0;\n",
              "      width: 32px;\n",
              "    }\n",
              "\n",
              "    .colab-df-convert:hover {\n",
              "      background-color: #E2EBFA;\n",
              "      box-shadow: 0px 1px 2px rgba(60, 64, 67, 0.3), 0px 1px 3px 1px rgba(60, 64, 67, 0.15);\n",
              "      fill: #174EA6;\n",
              "    }\n",
              "\n",
              "    [theme=dark] .colab-df-convert {\n",
              "      background-color: #3B4455;\n",
              "      fill: #D2E3FC;\n",
              "    }\n",
              "\n",
              "    [theme=dark] .colab-df-convert:hover {\n",
              "      background-color: #434B5C;\n",
              "      box-shadow: 0px 1px 3px 1px rgba(0, 0, 0, 0.15);\n",
              "      filter: drop-shadow(0px 1px 2px rgba(0, 0, 0, 0.3));\n",
              "      fill: #FFFFFF;\n",
              "    }\n",
              "  </style>\n",
              "\n",
              "      <script>\n",
              "        const buttonEl =\n",
              "          document.querySelector('#df-eeddc529-584b-437c-af40-7140bbb05276 button.colab-df-convert');\n",
              "        buttonEl.style.display =\n",
              "          google.colab.kernel.accessAllowed ? 'block' : 'none';\n",
              "\n",
              "        async function convertToInteractive(key) {\n",
              "          const element = document.querySelector('#df-eeddc529-584b-437c-af40-7140bbb05276');\n",
              "          const dataTable =\n",
              "            await google.colab.kernel.invokeFunction('convertToInteractive',\n",
              "                                                     [key], {});\n",
              "          if (!dataTable) return;\n",
              "\n",
              "          const docLinkHtml = 'Like what you see? Visit the ' +\n",
              "            '<a target=\"_blank\" href=https://colab.research.google.com/notebooks/data_table.ipynb>data table notebook</a>'\n",
              "            + ' to learn more about interactive tables.';\n",
              "          element.innerHTML = '';\n",
              "          dataTable['output_type'] = 'display_data';\n",
              "          await google.colab.output.renderOutput(dataTable, element);\n",
              "          const docLink = document.createElement('div');\n",
              "          docLink.innerHTML = docLinkHtml;\n",
              "          element.appendChild(docLink);\n",
              "        }\n",
              "      </script>\n",
              "    </div>\n",
              "  </div>\n",
              "  "
            ]
          },
          "metadata": {},
          "execution_count": 17
        }
      ],
      "source": [
        "print(\"Number of data points in train data\", project_data.shape)\n",
        "print('-'*50)\n",
        "print(\"The attributes of data :\\n\", project_data.columns.values)\n",
        "print('-'*50)\n",
        "project_data.head(2)"
      ]
    },
    {
      "cell_type": "code",
      "execution_count": 18,
      "metadata": {
        "id": "fn0fbARaaJa3",
        "outputId": "e76206c7-6618-4679-ad50-b7f052585d2c",
        "colab": {
          "base_uri": "https://localhost:8080/",
          "height": 146
        }
      },
      "outputs": [
        {
          "output_type": "stream",
          "name": "stdout",
          "text": [
            "Number of data points in resource data (1541272, 4)\n",
            "['id' 'description' 'quantity' 'price']\n"
          ]
        },
        {
          "output_type": "execute_result",
          "data": {
            "text/plain": [
              "        id                                        description  quantity  \\\n",
              "0  p233245  LC652 - Lakeshore Double-Space Mobile Drying Rack         1   \n",
              "1  p069063        Bouncy Bands for Desks (Blue support pipes)         3   \n",
              "\n",
              "    price  \n",
              "0  149.00  \n",
              "1   14.95  "
            ],
            "text/html": [
              "\n",
              "  <div id=\"df-d485209a-b8a9-49b1-9bfa-a8f471f12fd2\">\n",
              "    <div class=\"colab-df-container\">\n",
              "      <div>\n",
              "<style scoped>\n",
              "    .dataframe tbody tr th:only-of-type {\n",
              "        vertical-align: middle;\n",
              "    }\n",
              "\n",
              "    .dataframe tbody tr th {\n",
              "        vertical-align: top;\n",
              "    }\n",
              "\n",
              "    .dataframe thead th {\n",
              "        text-align: right;\n",
              "    }\n",
              "</style>\n",
              "<table border=\"1\" class=\"dataframe\">\n",
              "  <thead>\n",
              "    <tr style=\"text-align: right;\">\n",
              "      <th></th>\n",
              "      <th>id</th>\n",
              "      <th>description</th>\n",
              "      <th>quantity</th>\n",
              "      <th>price</th>\n",
              "    </tr>\n",
              "  </thead>\n",
              "  <tbody>\n",
              "    <tr>\n",
              "      <th>0</th>\n",
              "      <td>p233245</td>\n",
              "      <td>LC652 - Lakeshore Double-Space Mobile Drying Rack</td>\n",
              "      <td>1</td>\n",
              "      <td>149.00</td>\n",
              "    </tr>\n",
              "    <tr>\n",
              "      <th>1</th>\n",
              "      <td>p069063</td>\n",
              "      <td>Bouncy Bands for Desks (Blue support pipes)</td>\n",
              "      <td>3</td>\n",
              "      <td>14.95</td>\n",
              "    </tr>\n",
              "  </tbody>\n",
              "</table>\n",
              "</div>\n",
              "      <button class=\"colab-df-convert\" onclick=\"convertToInteractive('df-d485209a-b8a9-49b1-9bfa-a8f471f12fd2')\"\n",
              "              title=\"Convert this dataframe to an interactive table.\"\n",
              "              style=\"display:none;\">\n",
              "        \n",
              "  <svg xmlns=\"http://www.w3.org/2000/svg\" height=\"24px\"viewBox=\"0 0 24 24\"\n",
              "       width=\"24px\">\n",
              "    <path d=\"M0 0h24v24H0V0z\" fill=\"none\"/>\n",
              "    <path d=\"M18.56 5.44l.94 2.06.94-2.06 2.06-.94-2.06-.94-.94-2.06-.94 2.06-2.06.94zm-11 1L8.5 8.5l.94-2.06 2.06-.94-2.06-.94L8.5 2.5l-.94 2.06-2.06.94zm10 10l.94 2.06.94-2.06 2.06-.94-2.06-.94-.94-2.06-.94 2.06-2.06.94z\"/><path d=\"M17.41 7.96l-1.37-1.37c-.4-.4-.92-.59-1.43-.59-.52 0-1.04.2-1.43.59L10.3 9.45l-7.72 7.72c-.78.78-.78 2.05 0 2.83L4 21.41c.39.39.9.59 1.41.59.51 0 1.02-.2 1.41-.59l7.78-7.78 2.81-2.81c.8-.78.8-2.07 0-2.86zM5.41 20L4 18.59l7.72-7.72 1.47 1.35L5.41 20z\"/>\n",
              "  </svg>\n",
              "      </button>\n",
              "      \n",
              "  <style>\n",
              "    .colab-df-container {\n",
              "      display:flex;\n",
              "      flex-wrap:wrap;\n",
              "      gap: 12px;\n",
              "    }\n",
              "\n",
              "    .colab-df-convert {\n",
              "      background-color: #E8F0FE;\n",
              "      border: none;\n",
              "      border-radius: 50%;\n",
              "      cursor: pointer;\n",
              "      display: none;\n",
              "      fill: #1967D2;\n",
              "      height: 32px;\n",
              "      padding: 0 0 0 0;\n",
              "      width: 32px;\n",
              "    }\n",
              "\n",
              "    .colab-df-convert:hover {\n",
              "      background-color: #E2EBFA;\n",
              "      box-shadow: 0px 1px 2px rgba(60, 64, 67, 0.3), 0px 1px 3px 1px rgba(60, 64, 67, 0.15);\n",
              "      fill: #174EA6;\n",
              "    }\n",
              "\n",
              "    [theme=dark] .colab-df-convert {\n",
              "      background-color: #3B4455;\n",
              "      fill: #D2E3FC;\n",
              "    }\n",
              "\n",
              "    [theme=dark] .colab-df-convert:hover {\n",
              "      background-color: #434B5C;\n",
              "      box-shadow: 0px 1px 3px 1px rgba(0, 0, 0, 0.15);\n",
              "      filter: drop-shadow(0px 1px 2px rgba(0, 0, 0, 0.3));\n",
              "      fill: #FFFFFF;\n",
              "    }\n",
              "  </style>\n",
              "\n",
              "      <script>\n",
              "        const buttonEl =\n",
              "          document.querySelector('#df-d485209a-b8a9-49b1-9bfa-a8f471f12fd2 button.colab-df-convert');\n",
              "        buttonEl.style.display =\n",
              "          google.colab.kernel.accessAllowed ? 'block' : 'none';\n",
              "\n",
              "        async function convertToInteractive(key) {\n",
              "          const element = document.querySelector('#df-d485209a-b8a9-49b1-9bfa-a8f471f12fd2');\n",
              "          const dataTable =\n",
              "            await google.colab.kernel.invokeFunction('convertToInteractive',\n",
              "                                                     [key], {});\n",
              "          if (!dataTable) return;\n",
              "\n",
              "          const docLinkHtml = 'Like what you see? Visit the ' +\n",
              "            '<a target=\"_blank\" href=https://colab.research.google.com/notebooks/data_table.ipynb>data table notebook</a>'\n",
              "            + ' to learn more about interactive tables.';\n",
              "          element.innerHTML = '';\n",
              "          dataTable['output_type'] = 'display_data';\n",
              "          await google.colab.output.renderOutput(dataTable, element);\n",
              "          const docLink = document.createElement('div');\n",
              "          docLink.innerHTML = docLinkHtml;\n",
              "          element.appendChild(docLink);\n",
              "        }\n",
              "      </script>\n",
              "    </div>\n",
              "  </div>\n",
              "  "
            ]
          },
          "metadata": {},
          "execution_count": 18
        }
      ],
      "source": [
        "print(\"Number of data points in resource data\", resource_data.shape)\n",
        "print(resource_data.columns.values)\n",
        "resource_data.head(2)"
      ]
    },
    {
      "cell_type": "markdown",
      "metadata": {
        "id": "udV9YvZNaJa8"
      },
      "source": [
        "# 1.2 Data Analysis"
      ]
    },
    {
      "cell_type": "code",
      "execution_count": null,
      "metadata": {
        "id": "BxhiGKe5g-M8",
        "outputId": "f5c1efa0-e285-4d0e-f550-1e5f7c2fdf76"
      },
      "outputs": [
        {
          "name": "stdout",
          "output_type": "stream",
          "text": [
            "Unnamed: 0                                      109248\n",
            "id                                              109248\n",
            "teacher_id                                      109248\n",
            "teacher_prefix                                  109245\n",
            "school_state                                    109248\n",
            "project_submitted_datetime                      109248\n",
            "project_grade_category                          109248\n",
            "project_subject_categories                      109248\n",
            "project_subject_subcategories                   109248\n",
            "project_title                                   109248\n",
            "project_essay_1                                 109248\n",
            "project_essay_2                                 109248\n",
            "project_essay_3                                   3758\n",
            "project_essay_4                                   3758\n",
            "project_resource_summary                        109248\n",
            "teacher_number_of_previously_posted_projects    109248\n",
            "project_is_approved                             109248\n",
            "dtype: int64\n",
            "**************************************************\n"
          ]
        },
        {
          "data": {
            "text/plain": [
              "(109248, 17)"
            ]
          },
          "execution_count": 7,
          "metadata": {},
          "output_type": "execute_result"
        }
      ],
      "source": [
        "#To see if any rows have missing values\n",
        "print(project_data.count())\n",
        "print(\"*\"*50)\n",
        "project_data.shape"
      ]
    },
    {
      "cell_type": "code",
      "execution_count": null,
      "metadata": {
        "id": "spYCR26Bg-M9"
      },
      "outputs": [],
      "source": [
        "#Remove the missing rows for teacher_prefix.Essay_3 and essay_4 is not needed as we will merge all essay columns into one later\n",
        "#https://pandas.pydata.org/pandas-docs/stable/reference/api/pandas.DataFrame.dropna.html\n",
        "project_data.dropna(subset=['teacher_prefix'],inplace=True)                    #deafult axis = 0"
      ]
    },
    {
      "cell_type": "code",
      "execution_count": null,
      "metadata": {
        "id": "D9rfQl7zg-M-",
        "outputId": "ed52fb75-4482-4e09-9291-3b320e6e6e76"
      },
      "outputs": [
        {
          "data": {
            "text/plain": [
              "(109245, 17)"
            ]
          },
          "execution_count": 9,
          "metadata": {},
          "output_type": "execute_result"
        }
      ],
      "source": [
        "project_data.shape"
      ]
    },
    {
      "cell_type": "markdown",
      "metadata": {
        "id": "gsbCkbeUg-M-"
      },
      "source": [
        "** As we can see that teacher_prefix has 3 values missing and essay_2 and essay_3 has many values missing **"
      ]
    },
    {
      "cell_type": "code",
      "execution_count": null,
      "metadata": {
        "id": "sD9r5xgyg-M_",
        "outputId": "5eaadcb4-a547-4e3d-b0d8-fe8d030eb617"
      },
      "outputs": [
        {
          "name": "stdout",
          "output_type": "stream",
          "text": [
            "id             1541272\n",
            "description    1540980\n",
            "quantity       1541272\n",
            "price          1541272\n",
            "dtype: int64\n",
            "**************************************************\n"
          ]
        },
        {
          "data": {
            "text/plain": [
              "(1541272, 4)"
            ]
          },
          "execution_count": 10,
          "metadata": {},
          "output_type": "execute_result"
        }
      ],
      "source": [
        "#To see if any rows have missing values\n",
        "print(resource_data.count())\n",
        "print(\"*\"*50)\n",
        "resource_data.shape"
      ]
    },
    {
      "cell_type": "markdown",
      "metadata": {
        "id": "_jeZVvjRg-M_"
      },
      "source": [
        "** As we can see that description has some around 300 values missing **"
      ]
    },
    {
      "cell_type": "code",
      "execution_count": 10,
      "metadata": {
        "id": "abpGaCmhg-NA",
        "outputId": "22745618-e86d-4dc3-e9cc-347be75413a7",
        "colab": {
          "base_uri": "https://localhost:8080/"
        }
      },
      "outputs": [
        {
          "output_type": "stream",
          "name": "stdout",
          "text": [
            "1    92706\n",
            "0    16542\n",
            "Name: project_is_approved, dtype: int64\n"
          ]
        },
        {
          "output_type": "execute_result",
          "data": {
            "text/plain": [
              "pandas.core.series.Series"
            ]
          },
          "metadata": {},
          "execution_count": 10
        }
      ],
      "source": [
        "y_value_counts = project_data['project_is_approved'].value_counts()\n",
        "print(y_value_counts)\n",
        "type(y_value_counts)"
      ]
    },
    {
      "cell_type": "code",
      "execution_count": null,
      "metadata": {
        "id": "Ufzalr9Qg-NA",
        "outputId": "e8fc3a5c-bedf-4e2b-b0c6-c0d580986986"
      },
      "outputs": [
        {
          "name": "stdout",
          "output_type": "stream",
          "text": [
            "Number of projects thar are approved for funding  92703 , ( 84.85788823287108 %)\n",
            "Number of projects thar are not approved for funding  16542 , ( 15.14211176712893 %)\n"
          ]
        }
      ],
      "source": [
        "print(\"Number of projects thar are approved for funding \", y_value_counts[1], \", (\", (y_value_counts[1]/(y_value_counts[1]+y_value_counts[0]))*100,\"%)\")\n",
        "print(\"Number of projects thar are not approved for funding \", y_value_counts[0], \", (\", (y_value_counts[0]/(y_value_counts[1]+y_value_counts[0]))*100,\"%)\")\n"
      ]
    },
    {
      "cell_type": "markdown",
      "metadata": {
        "id": "nIJ25SUvg-NB"
      },
      "source": [
        "**We have imbalanced dataset where 85% belong to one class and 15% belong to another class**"
      ]
    },
    {
      "cell_type": "code",
      "execution_count": null,
      "metadata": {
        "id": "uTuGzt3Ag-NB",
        "outputId": "9368f42a-65d5-44ad-ffad-9e3bdd8c2f60"
      },
      "outputs": [
        {
          "data": {
            "image/png": "[encoded data removed]",
            "text/plain": [
              "<Figure size 432x288 with 1 Axes>"
            ]
          },
          "metadata": {},
          "output_type": "display_data"
        }
      ],
      "source": [
        "plt.title(\"Number of projects that are Approved and Not Approved\")\n",
        "project_data['project_is_approved'].value_counts().plot.pie()\n",
        "plt.axis('equal')\n",
        "plt.legend(labels=['Approved','Not Approved'])\n",
        "plt.show()"
      ]
    },
    {
      "cell_type": "markdown",
      "metadata": {
        "id": "WzssSvN6aJbC"
      },
      "source": [
        "### 1.2.1 Univariate Analysis: School State"
      ]
    },
    {
      "cell_type": "code",
      "execution_count": 11,
      "metadata": {
        "id": "DoHRXTR7aJbD",
        "scrolled": false
      },
      "outputs": [],
      "source": [
        "# Pandas dataframe groupby count, mean: https://stackoverflow.com/a/19385591/4084039\n",
        "\n",
        "temp = pd.DataFrame(project_data.groupby(\"school_state\")[\"project_is_approved\"].apply(np.mean)).reset_index()\n",
        "# if you have data which contain only 0 and 1, then the mean = percentage (think about it)\n",
        "temp.columns = ['state_code', 'percentage_approved_proposals']"
      ]
    },
    {
      "cell_type": "code",
      "execution_count": 12,
      "metadata": {
        "id": "0qAgnYkjaJbH",
        "outputId": "b5909963-c37e-4f28-9235-4c2fc0187e72",
        "colab": {
          "base_uri": "https://localhost:8080/"
        }
      },
      "outputs": [
        {
          "output_type": "stream",
          "name": "stdout",
          "text": [
            "States with lowest % approvals\n",
            "\n",
            "\n",
            "   state_code  percentage_approved_proposals\n",
            "46         VT                       0.800000\n",
            "7          DC                       0.802326\n",
            "43         TX                       0.813142\n",
            "26         MT                       0.816327\n",
            "18         LA                       0.831245\n",
            "==================================================\n",
            "\n",
            "\n",
            "States with highest % approvals\n",
            "\n",
            "\n",
            "   state_code  percentage_approved_proposals\n",
            "30         NH                       0.873563\n",
            "35         OH                       0.875152\n",
            "47         WA                       0.876178\n",
            "28         ND                       0.888112\n",
            "8          DE                       0.897959\n"
          ]
        }
      ],
      "source": [
        "# https://www.csi.cuny.edu/sites/default/files/pdf/administration/ops/2letterstabbrev.pdf\n",
        "temp.sort_values(by=['percentage_approved_proposals'], inplace=True)\n",
        "print(\"States with lowest % approvals\")\n",
        "print(\"\\n\")\n",
        "print(temp.head(5))\n",
        "print('='*50)\n",
        "print(\"\\n\")\n",
        "print(\"States with highest % approvals\")\n",
        "print(\"\\n\")\n",
        "print(temp.tail(5))"
      ]
    },
    {
      "cell_type": "markdown",
      "metadata": {
        "id": "eLOeZ7RTg-NE"
      },
      "source": [
        "* **All States have more than 80% Approval Rate**\n",
        "* **The acceptances rates vary from 80% to 90% across states and hence state is a feature that impacts approval rates**\n",
        "* **DE has the highest acceptance rate**\n",
        "* **VT has the lowest acceptance rate**"
      ]
    },
    {
      "cell_type": "code",
      "execution_count": 13,
      "metadata": {
        "id": "ezK5SHfEg-NE"
      },
      "outputs": [],
      "source": [
        "#stacked bar plots matplotlib: https://matplotlib.org/gallery/lines_bars_and_markers/bar_stacked.html\n",
        "def stack_plot(data, xtick, col2='project_is_approved', col3='total'):\n",
        "    plt.figure(figsize=(20,5))\n",
        "    plt.bar(data[xtick],data['total'])\n",
        "    plt.bar(data[xtick],data['project_is_approved'])\n",
        "    plt.legend(labels=['total','approved'])\n",
        "    plt.ylabel('Projects')\n",
        "    plt.title('Number of projects aproved vs rejected')\n",
        "    plt.show()"
      ]
    },
    {
      "cell_type": "code",
      "execution_count": 14,
      "metadata": {
        "id": "ymeadtyPg-NF"
      },
      "outputs": [],
      "source": [
        "def univariate_barplots(data, col1, col2='project_is_approved',top=False):\n",
        "    temp=pd.DataFrame(data.groupby(col1)[col2].sum().reset_index())\n",
        "    temp['total']=pd.DataFrame(data.groupby(col1)[\"project_is_approved\"].count().reset_index())['project_is_approved']\n",
        "    temp['Avg_approval']=pd.DataFrame(project_data.groupby(col1)[\"project_is_approved\"].mean().reset_index())['project_is_approved']\n",
        "    temp.sort_values(by=['total'],inplace=True, ascending=False)\n",
        "    if top:\n",
        "        temp = temp[0:top]\n",
        "    stack_plot(temp, xtick=col1, col2='project_is_approved', col3='total')\n",
        "    print(temp.head(5))\n",
        "    print(\"=\"*50)\n",
        "    print(temp.tail(5))        "
      ]
    },
    {
      "cell_type": "code",
      "execution_count": 15,
      "metadata": {
        "id": "MFeQuFqIg-NH",
        "outputId": "221bd145-2b38-41f7-b38b-6660ae374cb5",
        "colab": {
          "base_uri": "https://localhost:8080/",
          "height": 555
        }
      },
      "outputs": [
        {
          "output_type": "display_data",
          "data": {
            "text/plain": [
              "<Figure size 1440x360 with 1 Axes>"
            ],
            "image/png": "[encoded data removed]"
          },
          "metadata": {
            "needs_background": "light"
          }
        },
        {
          "output_type": "stream",
          "name": "stdout",
          "text": [
            "   school_state  project_is_approved  total  Avg_approval\n",
            "4            CA                13205  15388      0.858136\n",
            "43           TX                 6014   7396      0.813142\n",
            "34           NY                 6291   7318      0.859661\n",
            "9            FL                 5144   6185      0.831690\n",
            "27           NC                 4353   5091      0.855038\n",
            "==================================================\n",
            "   school_state  project_is_approved  total  Avg_approval\n",
            "39           RI                  243    285      0.852632\n",
            "26           MT                  200    245      0.816327\n",
            "28           ND                  127    143      0.888112\n",
            "50           WY                   82     98      0.836735\n",
            "46           VT                   64     80      0.800000\n"
          ]
        }
      ],
      "source": [
        "univariate_barplots(project_data, 'school_state', 'project_is_approved')"
      ]
    },
    {
      "cell_type": "markdown",
      "metadata": {
        "id": "FXmkPzbYg-NH"
      },
      "source": [
        "* **Highest no of proposals were received from state of CA**\n",
        "* **Lowest no of proposals were received from state if VT**"
      ]
    },
    {
      "cell_type": "markdown",
      "metadata": {
        "id": "df7aw9znaJbU"
      },
      "source": [
        "### 1.2.2 Univariate Analysis: teacher_prefix"
      ]
    },
    {
      "cell_type": "code",
      "execution_count": 16,
      "metadata": {
        "id": "7hzEN-UTaJbV",
        "outputId": "8ce60dc6-1fd8-41a0-cb4a-e5ae7a1c92ee",
        "colab": {
          "base_uri": "https://localhost:8080/",
          "height": 555
        }
      },
      "outputs": [
        {
          "output_type": "display_data",
          "data": {
            "text/plain": [
              "<Figure size 1440x360 with 1 Axes>"
            ],
            "image/png": "[encoded data removed]"
          },
          "metadata": {
            "needs_background": "light"
          }
        },
        {
          "output_type": "stream",
          "name": "stdout",
          "text": [
            "  teacher_prefix  project_is_approved  total  Avg_approval\n",
            "2           Mrs.                48997  57269      0.855559\n",
            "3            Ms.                32860  38955      0.843537\n",
            "1            Mr.                 8960  10648      0.841473\n",
            "4        Teacher                 1877   2360      0.795339\n",
            "0            Dr.                    9     13      0.692308\n",
            "==================================================\n",
            "  teacher_prefix  project_is_approved  total  Avg_approval\n",
            "2           Mrs.                48997  57269      0.855559\n",
            "3            Ms.                32860  38955      0.843537\n",
            "1            Mr.                 8960  10648      0.841473\n",
            "4        Teacher                 1877   2360      0.795339\n",
            "0            Dr.                    9     13      0.692308\n"
          ]
        }
      ],
      "source": [
        "univariate_barplots(project_data, 'teacher_prefix', 'project_is_approved')"
      ]
    },
    {
      "cell_type": "markdown",
      "metadata": {
        "id": "YQft7M1kg-NJ"
      },
      "source": [
        "__SUMMARY: Doctors have the lowest acceptance Rate followed by Teachers. Individuals(both male and female) have almost equal sucess rate. Prefix impacts the approval rates__"
      ]
    },
    {
      "cell_type": "markdown",
      "metadata": {
        "id": "KLkWseiHaJbY"
      },
      "source": [
        "### 1.2.3 Univariate Analysis: project_grade_category"
      ]
    },
    {
      "cell_type": "code",
      "execution_count": null,
      "metadata": {
        "id": "ywuMX7O2aJbZ",
        "outputId": "85a57231-4818-406f-ee64-5ca716d2439b"
      },
      "outputs": [
        {
          "data": {
            "image/png": "[encoded data removed]",
            "text/plain": [
              "<Figure size 1440x360 with 1 Axes>"
            ]
          },
          "metadata": {},
          "output_type": "display_data"
        },
        {
          "name": "stdout",
          "output_type": "stream",
          "text": [
            "  project_grade_category  project_is_approved  total       Avg\n",
            "3          Grades PreK-2                37536  44225  0.848751\n",
            "0             Grades 3-5                31727  37135  0.854369\n",
            "1             Grades 6-8                14258  16923  0.842522\n",
            "2            Grades 9-12                 9182  10962  0.837621\n",
            "==================================================\n",
            "  project_grade_category  project_is_approved  total       Avg\n",
            "3          Grades PreK-2                37536  44225  0.848751\n",
            "0             Grades 3-5                31727  37135  0.854369\n",
            "1             Grades 6-8                14258  16923  0.842522\n",
            "2            Grades 9-12                 9182  10962  0.837621\n"
          ]
        }
      ],
      "source": [
        "univariate_barplots(project_data, 'project_grade_category', 'project_is_approved')"
      ]
    },
    {
      "cell_type": "markdown",
      "metadata": {
        "id": "sZSittOBg-NK"
      },
      "source": [
        "__SUMMARY: Almost similar acceptance rate across Grades__"
      ]
    },
    {
      "cell_type": "markdown",
      "metadata": {
        "id": "ODDsS25MaJbd"
      },
      "source": [
        "### 1.2.4 Univariate Analysis: project_subject_categories"
      ]
    },
    {
      "cell_type": "code",
      "execution_count": 18,
      "metadata": {
        "id": "6bVJBMWtg-NK",
        "outputId": "1bcc5682-f3f6-43a5-bfd3-98475b40cc38",
        "colab": {
          "base_uri": "https://localhost:8080/",
          "height": 547
        }
      },
      "outputs": [
        {
          "output_type": "execute_result",
          "data": {
            "text/plain": [
              "        id                        teacher_id teacher_prefix school_state  \\\n",
              "0  p253737  c90749f5d961ff158d4b4d1e7dc665fc           Mrs.           IN   \n",
              "1  p258326  897464ce9ddc600bced1151f324dd63a            Mr.           FL   \n",
              "2  p182444  3465aaf82da834c0582ebd0ef8040ca0            Ms.           AZ   \n",
              "3  p246581  f3cb9bffbba169bef1a77b243e620b60           Mrs.           KY   \n",
              "4  p104768  be1f7507a41f8479dc06f047086a39ec           Mrs.           TX   \n",
              "\n",
              "  project_submitted_datetime project_grade_category  \\\n",
              "0           05-12-2016 13:43          Grades PreK-2   \n",
              "1           25-10-2016 09:22             Grades 6-8   \n",
              "2           31-08-2016 12:03             Grades 6-8   \n",
              "3           06-10-2016 21:16          Grades PreK-2   \n",
              "4           11-07-2016 01:10          Grades PreK-2   \n",
              "\n",
              "            project_subject_categories     project_subject_subcategories  \\\n",
              "0                  Literacy & Language                     ESL, Literacy   \n",
              "1    History & Civics, Health & Sports  Civics & Government, Team Sports   \n",
              "2                      Health & Sports    Health & Wellness, Team Sports   \n",
              "3  Literacy & Language, Math & Science             Literacy, Mathematics   \n",
              "4                       Math & Science                       Mathematics   \n",
              "\n",
              "                                       project_title  \\\n",
              "0   Educational Support for English Learners at Home   \n",
              "1              Wanted: Projector for Hungry Learners   \n",
              "2  Soccer Equipment for AWESOME Middle School Stu...   \n",
              "3                             Techie Kindergarteners   \n",
              "4                             Interactive Math Tools   \n",
              "\n",
              "                                     project_essay_1  \\\n",
              "0  My students are English learners that are work...   \n",
              "1  Our students arrive to our school eager to lea...   \n",
              "2  \\r\\n\\\"True champions aren't always the ones th...   \n",
              "3  I work at a unique school filled with both ESL...   \n",
              "4  Our second grade classroom next year will be m...   \n",
              "\n",
              "                                     project_essay_2 project_essay_3  \\\n",
              "0  \\\"The limits of your language are the limits o...             NaN   \n",
              "1  The projector we need for our school is very c...             NaN   \n",
              "2  The students on the campus come to school know...             NaN   \n",
              "3  My students live in high poverty conditions wi...             NaN   \n",
              "4  For many students, math is a subject that does...             NaN   \n",
              "\n",
              "  project_essay_4                           project_resource_summary  \\\n",
              "0             NaN  My students need opportunities to practice beg...   \n",
              "1             NaN  My students need a projector to help with view...   \n",
              "2             NaN  My students need shine guards, athletic socks,...   \n",
              "3             NaN  My students need to engage in Reading and Math...   \n",
              "4             NaN  My students need hands on practice in mathemat...   \n",
              "\n",
              "   teacher_number_of_previously_posted_projects  project_is_approved  \n",
              "0                                             0                    0  \n",
              "1                                             7                    1  \n",
              "2                                             1                    0  \n",
              "3                                             4                    1  \n",
              "4                                             1                    1  "
            ],
            "text/html": [
              "\n",
              "  <div id=\"df-419c62bb-3327-44bf-ad50-f2a00f8e27e1\">\n",
              "    <div class=\"colab-df-container\">\n",
              "      <div>\n",
              "<style scoped>\n",
              "    .dataframe tbody tr th:only-of-type {\n",
              "        vertical-align: middle;\n",
              "    }\n",
              "\n",
              "    .dataframe tbody tr th {\n",
              "        vertical-align: top;\n",
              "    }\n",
              "\n",
              "    .dataframe thead th {\n",
              "        text-align: right;\n",
              "    }\n",
              "</style>\n",
              "<table border=\"1\" class=\"dataframe\">\n",
              "  <thead>\n",
              "    <tr style=\"text-align: right;\">\n",
              "      <th></th>\n",
              "      <th>id</th>\n",
              "      <th>teacher_id</th>\n",
              "      <th>teacher_prefix</th>\n",
              "      <th>school_state</th>\n",
              "      <th>project_submitted_datetime</th>\n",
              "      <th>project_grade_category</th>\n",
              "      <th>project_subject_categories</th>\n",
              "      <th>project_subject_subcategories</th>\n",
              "      <th>project_title</th>\n",
              "      <th>project_essay_1</th>\n",
              "      <th>project_essay_2</th>\n",
              "      <th>project_essay_3</th>\n",
              "      <th>project_essay_4</th>\n",
              "      <th>project_resource_summary</th>\n",
              "      <th>teacher_number_of_previously_posted_projects</th>\n",
              "      <th>project_is_approved</th>\n",
              "    </tr>\n",
              "  </thead>\n",
              "  <tbody>\n",
              "    <tr>\n",
              "      <th>0</th>\n",
              "      <td>p253737</td>\n",
              "      <td>c90749f5d961ff158d4b4d1e7dc665fc</td>\n",
              "      <td>Mrs.</td>\n",
              "      <td>IN</td>\n",
              "      <td>05-12-2016 13:43</td>\n",
              "      <td>Grades PreK-2</td>\n",
              "      <td>Literacy &amp; Language</td>\n",
              "      <td>ESL, Literacy</td>\n",
              "      <td>Educational Support for English Learners at Home</td>\n",
              "      <td>My students are English learners that are work...</td>\n",
              "      <td>\\\"The limits of your language are the limits o...</td>\n",
              "      <td>NaN</td>\n",
              "      <td>NaN</td>\n",
              "      <td>My students need opportunities to practice beg...</td>\n",
              "      <td>0</td>\n",
              "      <td>0</td>\n",
              "    </tr>\n",
              "    <tr>\n",
              "      <th>1</th>\n",
              "      <td>p258326</td>\n",
              "      <td>897464ce9ddc600bced1151f324dd63a</td>\n",
              "      <td>Mr.</td>\n",
              "      <td>FL</td>\n",
              "      <td>25-10-2016 09:22</td>\n",
              "      <td>Grades 6-8</td>\n",
              "      <td>History &amp; Civics, Health &amp; Sports</td>\n",
              "      <td>Civics &amp; Government, Team Sports</td>\n",
              "      <td>Wanted: Projector for Hungry Learners</td>\n",
              "      <td>Our students arrive to our school eager to lea...</td>\n",
              "      <td>The projector we need for our school is very c...</td>\n",
              "      <td>NaN</td>\n",
              "      <td>NaN</td>\n",
              "      <td>My students need a projector to help with view...</td>\n",
              "      <td>7</td>\n",
              "      <td>1</td>\n",
              "    </tr>\n",
              "    <tr>\n",
              "      <th>2</th>\n",
              "      <td>p182444</td>\n",
              "      <td>3465aaf82da834c0582ebd0ef8040ca0</td>\n",
              "      <td>Ms.</td>\n",
              "      <td>AZ</td>\n",
              "      <td>31-08-2016 12:03</td>\n",
              "      <td>Grades 6-8</td>\n",
              "      <td>Health &amp; Sports</td>\n",
              "      <td>Health &amp; Wellness, Team Sports</td>\n",
              "      <td>Soccer Equipment for AWESOME Middle School Stu...</td>\n",
              "      <td>\\r\\n\\\"True champions aren't always the ones th...</td>\n",
              "      <td>The students on the campus come to school know...</td>\n",
              "      <td>NaN</td>\n",
              "      <td>NaN</td>\n",
              "      <td>My students need shine guards, athletic socks,...</td>\n",
              "      <td>1</td>\n",
              "      <td>0</td>\n",
              "    </tr>\n",
              "    <tr>\n",
              "      <th>3</th>\n",
              "      <td>p246581</td>\n",
              "      <td>f3cb9bffbba169bef1a77b243e620b60</td>\n",
              "      <td>Mrs.</td>\n",
              "      <td>KY</td>\n",
              "      <td>06-10-2016 21:16</td>\n",
              "      <td>Grades PreK-2</td>\n",
              "      <td>Literacy &amp; Language, Math &amp; Science</td>\n",
              "      <td>Literacy, Mathematics</td>\n",
              "      <td>Techie Kindergarteners</td>\n",
              "      <td>I work at a unique school filled with both ESL...</td>\n",
              "      <td>My students live in high poverty conditions wi...</td>\n",
              "      <td>NaN</td>\n",
              "      <td>NaN</td>\n",
              "      <td>My students need to engage in Reading and Math...</td>\n",
              "      <td>4</td>\n",
              "      <td>1</td>\n",
              "    </tr>\n",
              "    <tr>\n",
              "      <th>4</th>\n",
              "      <td>p104768</td>\n",
              "      <td>be1f7507a41f8479dc06f047086a39ec</td>\n",
              "      <td>Mrs.</td>\n",
              "      <td>TX</td>\n",
              "      <td>11-07-2016 01:10</td>\n",
              "      <td>Grades PreK-2</td>\n",
              "      <td>Math &amp; Science</td>\n",
              "      <td>Mathematics</td>\n",
              "      <td>Interactive Math Tools</td>\n",
              "      <td>Our second grade classroom next year will be m...</td>\n",
              "      <td>For many students, math is a subject that does...</td>\n",
              "      <td>NaN</td>\n",
              "      <td>NaN</td>\n",
              "      <td>My students need hands on practice in mathemat...</td>\n",
              "      <td>1</td>\n",
              "      <td>1</td>\n",
              "    </tr>\n",
              "  </tbody>\n",
              "</table>\n",
              "</div>\n",
              "      <button class=\"colab-df-convert\" onclick=\"convertToInteractive('df-419c62bb-3327-44bf-ad50-f2a00f8e27e1')\"\n",
              "              title=\"Convert this dataframe to an interactive table.\"\n",
              "              style=\"display:none;\">\n",
              "        \n",
              "  <svg xmlns=\"http://www.w3.org/2000/svg\" height=\"24px\"viewBox=\"0 0 24 24\"\n",
              "       width=\"24px\">\n",
              "    <path d=\"M0 0h24v24H0V0z\" fill=\"none\"/>\n",
              "    <path d=\"M18.56 5.44l.94 2.06.94-2.06 2.06-.94-2.06-.94-.94-2.06-.94 2.06-2.06.94zm-11 1L8.5 8.5l.94-2.06 2.06-.94-2.06-.94L8.5 2.5l-.94 2.06-2.06.94zm10 10l.94 2.06.94-2.06 2.06-.94-2.06-.94-.94-2.06-.94 2.06-2.06.94z\"/><path d=\"M17.41 7.96l-1.37-1.37c-.4-.4-.92-.59-1.43-.59-.52 0-1.04.2-1.43.59L10.3 9.45l-7.72 7.72c-.78.78-.78 2.05 0 2.83L4 21.41c.39.39.9.59 1.41.59.51 0 1.02-.2 1.41-.59l7.78-7.78 2.81-2.81c.8-.78.8-2.07 0-2.86zM5.41 20L4 18.59l7.72-7.72 1.47 1.35L5.41 20z\"/>\n",
              "  </svg>\n",
              "      </button>\n",
              "      \n",
              "  <style>\n",
              "    .colab-df-container {\n",
              "      display:flex;\n",
              "      flex-wrap:wrap;\n",
              "      gap: 12px;\n",
              "    }\n",
              "\n",
              "    .colab-df-convert {\n",
              "      background-color: #E8F0FE;\n",
              "      border: none;\n",
              "      border-radius: 50%;\n",
              "      cursor: pointer;\n",
              "      display: none;\n",
              "      fill: #1967D2;\n",
              "      height: 32px;\n",
              "      padding: 0 0 0 0;\n",
              "      width: 32px;\n",
              "    }\n",
              "\n",
              "    .colab-df-convert:hover {\n",
              "      background-color: #E2EBFA;\n",
              "      box-shadow: 0px 1px 2px rgba(60, 64, 67, 0.3), 0px 1px 3px 1px rgba(60, 64, 67, 0.15);\n",
              "      fill: #174EA6;\n",
              "    }\n",
              "\n",
              "    [theme=dark] .colab-df-convert {\n",
              "      background-color: #3B4455;\n",
              "      fill: #D2E3FC;\n",
              "    }\n",
              "\n",
              "    [theme=dark] .colab-df-convert:hover {\n",
              "      background-color: #434B5C;\n",
              "      box-shadow: 0px 1px 3px 1px rgba(0, 0, 0, 0.15);\n",
              "      filter: drop-shadow(0px 1px 2px rgba(0, 0, 0, 0.3));\n",
              "      fill: #FFFFFF;\n",
              "    }\n",
              "  </style>\n",
              "\n",
              "      <script>\n",
              "        const buttonEl =\n",
              "          document.querySelector('#df-419c62bb-3327-44bf-ad50-f2a00f8e27e1 button.colab-df-convert');\n",
              "        buttonEl.style.display =\n",
              "          google.colab.kernel.accessAllowed ? 'block' : 'none';\n",
              "\n",
              "        async function convertToInteractive(key) {\n",
              "          const element = document.querySelector('#df-419c62bb-3327-44bf-ad50-f2a00f8e27e1');\n",
              "          const dataTable =\n",
              "            await google.colab.kernel.invokeFunction('convertToInteractive',\n",
              "                                                     [key], {});\n",
              "          if (!dataTable) return;\n",
              "\n",
              "          const docLinkHtml = 'Like what you see? Visit the ' +\n",
              "            '<a target=\"_blank\" href=https://colab.research.google.com/notebooks/data_table.ipynb>data table notebook</a>'\n",
              "            + ' to learn more about interactive tables.';\n",
              "          element.innerHTML = '';\n",
              "          dataTable['output_type'] = 'display_data';\n",
              "          await google.colab.output.renderOutput(dataTable, element);\n",
              "          const docLink = document.createElement('div');\n",
              "          docLink.innerHTML = docLinkHtml;\n",
              "          element.appendChild(docLink);\n",
              "        }\n",
              "      </script>\n",
              "    </div>\n",
              "  </div>\n",
              "  "
            ]
          },
          "metadata": {},
          "execution_count": 18
        }
      ],
      "source": [
        "project_data.head()"
      ]
    },
    {
      "cell_type": "code",
      "execution_count": null,
      "metadata": {
        "id": "v5_VZQChg-NL"
      },
      "outputs": [],
      "source": [
        "catogories = list(project_data['project_subject_categories'].values)\n",
        "# remove special characters from list of strings python: https://stackoverflow.com/a/47301924/4084039\n",
        "# https://www.geeksforgeeks.org/removing-stop-words-nltk-python/\n",
        "# https://stackoverflow.com/questions/23669024/how-to-strip-a-specific-word-from-a-string\n",
        "# https://stackoverflow.com/questions/8270092/remove-all-whitespace-in-a-string-in-python\n",
        "cat_list = []\n",
        "for i in catogories:\n",
        "    temp=\"\"\n",
        "    for j in i.split(','):\n",
        "        j=j.replace(\"The\",'')\n",
        "        j=j.replace(' ','')\n",
        "        j=j.replace('&','_')\n",
        "        j=j.strip()\n",
        "        temp+=j+\" \"\n",
        "    cat_list.append(temp.strip())      "
      ]
    },
    {
      "cell_type": "code",
      "execution_count": null,
      "metadata": {
        "id": "RTTCjO5Ag-NM",
        "outputId": "7fb6d9eb-3458-4dc4-e763-82f5a874e6a0"
      },
      "outputs": [
        {
          "data": {
            "text/html": [
              "<div>\n",
              "<style scoped>\n",
              "    .dataframe tbody tr th:only-of-type {\n",
              "        vertical-align: middle;\n",
              "    }\n",
              "\n",
              "    .dataframe tbody tr th {\n",
              "        vertical-align: top;\n",
              "    }\n",
              "\n",
              "    .dataframe thead th {\n",
              "        text-align: right;\n",
              "    }\n",
              "</style>\n",
              "<table border=\"1\" class=\"dataframe\">\n",
              "  <thead>\n",
              "    <tr style=\"text-align: right;\">\n",
              "      <th></th>\n",
              "      <th>Unnamed: 0</th>\n",
              "      <th>id</th>\n",
              "      <th>teacher_id</th>\n",
              "      <th>teacher_prefix</th>\n",
              "      <th>school_state</th>\n",
              "      <th>project_submitted_datetime</th>\n",
              "      <th>project_grade_category</th>\n",
              "      <th>project_subject_subcategories</th>\n",
              "      <th>project_title</th>\n",
              "      <th>project_essay_1</th>\n",
              "      <th>project_essay_2</th>\n",
              "      <th>project_essay_3</th>\n",
              "      <th>project_essay_4</th>\n",
              "      <th>project_resource_summary</th>\n",
              "      <th>teacher_number_of_previously_posted_projects</th>\n",
              "      <th>project_is_approved</th>\n",
              "      <th>clean_categories</th>\n",
              "    </tr>\n",
              "  </thead>\n",
              "  <tbody>\n",
              "    <tr>\n",
              "      <th>0</th>\n",
              "      <td>160221</td>\n",
              "      <td>p253737</td>\n",
              "      <td>c90749f5d961ff158d4b4d1e7dc665fc</td>\n",
              "      <td>Mrs.</td>\n",
              "      <td>IN</td>\n",
              "      <td>2016-12-05 13:43:57</td>\n",
              "      <td>Grades PreK-2</td>\n",
              "      <td>ESL, Literacy</td>\n",
              "      <td>Educational Support for English Learners at Home</td>\n",
              "      <td>My students are English learners that are work...</td>\n",
              "      <td>\\\"The limits of your language are the limits o...</td>\n",
              "      <td>NaN</td>\n",
              "      <td>NaN</td>\n",
              "      <td>My students need opportunities to practice beg...</td>\n",
              "      <td>0</td>\n",
              "      <td>0</td>\n",
              "      <td>Literacy_Language</td>\n",
              "    </tr>\n",
              "    <tr>\n",
              "      <th>1</th>\n",
              "      <td>140945</td>\n",
              "      <td>p258326</td>\n",
              "      <td>897464ce9ddc600bced1151f324dd63a</td>\n",
              "      <td>Mr.</td>\n",
              "      <td>FL</td>\n",
              "      <td>2016-10-25 09:22:10</td>\n",
              "      <td>Grades 6-8</td>\n",
              "      <td>Civics &amp; Government, Team Sports</td>\n",
              "      <td>Wanted: Projector for Hungry Learners</td>\n",
              "      <td>Our students arrive to our school eager to lea...</td>\n",
              "      <td>The projector we need for our school is very c...</td>\n",
              "      <td>NaN</td>\n",
              "      <td>NaN</td>\n",
              "      <td>My students need a projector to help with view...</td>\n",
              "      <td>7</td>\n",
              "      <td>1</td>\n",
              "      <td>History_Civics Health_Sports</td>\n",
              "    </tr>\n",
              "  </tbody>\n",
              "</table>\n",
              "</div>"
            ],
            "text/plain": [
              "   Unnamed: 0       id                        teacher_id teacher_prefix  \\\n",
              "0      160221  p253737  c90749f5d961ff158d4b4d1e7dc665fc           Mrs.   \n",
              "1      140945  p258326  897464ce9ddc600bced1151f324dd63a            Mr.   \n",
              "\n",
              "  school_state project_submitted_datetime project_grade_category  \\\n",
              "0           IN        2016-12-05 13:43:57          Grades PreK-2   \n",
              "1           FL        2016-10-25 09:22:10             Grades 6-8   \n",
              "\n",
              "      project_subject_subcategories  \\\n",
              "0                     ESL, Literacy   \n",
              "1  Civics & Government, Team Sports   \n",
              "\n",
              "                                      project_title  \\\n",
              "0  Educational Support for English Learners at Home   \n",
              "1             Wanted: Projector for Hungry Learners   \n",
              "\n",
              "                                     project_essay_1  \\\n",
              "0  My students are English learners that are work...   \n",
              "1  Our students arrive to our school eager to lea...   \n",
              "\n",
              "                                     project_essay_2 project_essay_3  \\\n",
              "0  \\\"The limits of your language are the limits o...             NaN   \n",
              "1  The projector we need for our school is very c...             NaN   \n",
              "\n",
              "  project_essay_4                           project_resource_summary  \\\n",
              "0             NaN  My students need opportunities to practice beg...   \n",
              "1             NaN  My students need a projector to help with view...   \n",
              "\n",
              "   teacher_number_of_previously_posted_projects  project_is_approved  \\\n",
              "0                                             0                    0   \n",
              "1                                             7                    1   \n",
              "\n",
              "               clean_categories  \n",
              "0             Literacy_Language  \n",
              "1  History_Civics Health_Sports  "
            ]
          },
          "execution_count": 23,
          "metadata": {},
          "output_type": "execute_result"
        }
      ],
      "source": [
        "project_data['clean_categories'] = cat_list\n",
        "project_data.drop(['project_subject_categories'], axis=1, inplace=True)\n",
        "project_data.head()"
      ]
    },
    {
      "cell_type": "code",
      "execution_count": null,
      "metadata": {
        "id": "osOAKP6FaJbk",
        "outputId": "d3b2c75b-8e86-4995-9429-3bc56c35cc6e",
        "scrolled": false
      },
      "outputs": [
        {
          "data": {
            "image/png": "[encoded data removed]",
            "text/plain": [
              "<Figure size 1440x360 with 1 Axes>"
            ]
          },
          "metadata": {},
          "output_type": "display_data"
        },
        {
          "name": "stdout",
          "output_type": "stream",
          "text": [
            "                  clean_categories  project_is_approved  total       Avg\n",
            "24               Literacy_Language                20519  23654  0.867464\n",
            "32                    Math_Science                13991  17072  0.819529\n",
            "28  Literacy_Language Math_Science                12723  14634  0.869414\n",
            "8                    Health_Sports                 8640  10177  0.848973\n",
            "40                      Music_Arts                 4429   5180  0.855019\n",
            "==================================================\n",
            "                        clean_categories  project_is_approved  total       Avg\n",
            "39       Math_Science Warmth Care_Hunger                    6     11  0.545455\n",
            "41            Music_Arts AppliedLearning                    7     10  0.700000\n",
            "7     AppliedLearning Warmth Care_Hunger                    8     10  0.800000\n",
            "31  Literacy_Language Warmth Care_Hunger                    7      9  0.777778\n",
            "45         Music_Arts Warmth Care_Hunger                    1      2  0.500000\n"
          ]
        }
      ],
      "source": [
        "univariate_barplots(project_data, 'clean_categories', 'project_is_approved', top=50)"
      ]
    },
    {
      "cell_type": "markdown",
      "metadata": {
        "id": "-NxGPgk8g-NN"
      },
      "source": [
        "* **Project Categories do have an impact on the Acceptance Rate**\n",
        "* **Projects around Literacy_Language, Maths_Science, Health_Sports, Music_Arts have the highest acceptance rate**\n",
        "* **Projects around Warth, Care_Hunger have the lowest acceptance rate**"
      ]
    },
    {
      "cell_type": "code",
      "execution_count": null,
      "metadata": {
        "id": "7zVBViRUaJbn"
      },
      "outputs": [],
      "source": [
        "# count of all the words in corpus python: https://stackoverflow.com/a/22898595/4084039\n",
        "#Counter takes a list of words to count\n",
        "from collections import Counter\n",
        "my_counter = Counter()\n",
        "for word in project_data['clean_categories'].values:\n",
        "    my_counter.update(word.split())"
      ]
    },
    {
      "cell_type": "code",
      "execution_count": null,
      "metadata": {
        "id": "9qfRzxjyg-NO",
        "outputId": "223b4f00-d1d1-440e-a12e-a7449f7f4fc7"
      },
      "outputs": [
        {
          "name": "stdout",
          "output_type": "stream",
          "text": [
            "Counter({'Literacy_Language': 52236, 'Math_Science': 41419, 'Health_Sports': 14223, 'SpecialNeeds': 13642, 'AppliedLearning': 12135, 'Music_Arts': 10293, 'History_Civics': 5914, 'Warmth': 1388, 'Care_Hunger': 1388})\n"
          ]
        }
      ],
      "source": [
        "print(my_counter)"
      ]
    },
    {
      "cell_type": "code",
      "execution_count": null,
      "metadata": {
        "id": "1B-BdeFHg-NP"
      },
      "outputs": [],
      "source": [
        "# dict sort by value python: https://stackoverflow.com/a/613218/4084039\n",
        "my_counter.values()\n",
        "my_counter.keys()\n",
        "my_counter.items()\n",
        "sorted_my_counter=dict(sorted(my_counter.items(),key=lambda kv: kv[1]))"
      ]
    },
    {
      "cell_type": "code",
      "execution_count": null,
      "metadata": {
        "id": "jue4Thwxg-NQ",
        "outputId": "6a9159b1-7cec-4b09-dfc9-98c2684e31d2"
      },
      "outputs": [
        {
          "data": {
            "image/png": "[encoded data removed]",
            "text/plain": [
              "<Figure size 1440x360 with 1 Axes>"
            ]
          },
          "metadata": {},
          "output_type": "display_data"
        }
      ],
      "source": [
        "plt.figure(figsize=(20,5))\n",
        "plt.bar(sorted_my_counter.keys(),sorted_my_counter.values())\n",
        "plt.ylabel('Projects')\n",
        "plt.title('% of projects aproved category wise')\n",
        "plt.show()"
      ]
    },
    {
      "cell_type": "code",
      "execution_count": null,
      "metadata": {
        "id": "sQ2F2FLig-NR",
        "outputId": "3e2ef11e-9ae9-40e6-b24e-5b7db2a5f173"
      },
      "outputs": [
        {
          "name": "stdout",
          "output_type": "stream",
          "text": [
            "Warmth            :  1388      \n",
            "Care_Hunger       :  1388      \n",
            "History_Civics    :  5914      \n",
            "Music_Arts        :  10293     \n",
            "AppliedLearning   :  12135     \n",
            "SpecialNeeds      :  13642     \n",
            "Health_Sports     :  14223     \n",
            "Math_Science      :  41419     \n",
            "Literacy_Language :  52236     \n"
          ]
        }
      ],
      "source": [
        "for i, j in sorted_my_counter.items():\n",
        "    print(\"{:17} :  {:<10}\".format(i,j))"
      ]
    },
    {
      "cell_type": "markdown",
      "metadata": {
        "id": "O29roDtfg-NS"
      },
      "source": [
        "* ** We have the largest no of proposal received for the category Literacy_Language followed by Math_Science**\n",
        "* ** The lowest is received for Warmth and Care_Hunger**"
      ]
    },
    {
      "cell_type": "markdown",
      "metadata": {
        "id": "hqnsApdoaJbv"
      },
      "source": [
        "### 1.2.5 Univariate Analysis: project_subject_subcategories"
      ]
    },
    {
      "cell_type": "code",
      "execution_count": null,
      "metadata": {
        "id": "fuucFuPqaJbv"
      },
      "outputs": [],
      "source": [
        "sub_catogories = list(project_data['project_subject_subcategories'].values)\n",
        "# remove special characters from list of strings python: https://stackoverflow.com/a/47301924/4084039\n",
        "\n",
        "# https://www.geeksforgeeks.org/removing-stop-words-nltk-python/\n",
        "# https://stackoverflow.com/questions/23669024/how-to-strip-a-specific-word-from-a-string\n",
        "# https://stackoverflow.com/questions/8270092/remove-all-whitespace-in-a-string-in-python\n",
        "\n",
        "sub_cat_list = []\n",
        "for i in sub_catogories:\n",
        "    temp=\"\"\n",
        "    for j in i.split(','):\n",
        "        j=j.replace(\"The\",'')\n",
        "        j=j.replace(' ','')\n",
        "        j=j.replace('&','_')\n",
        "        j=j.strip()\n",
        "        temp+=j+\" \"\n",
        "    sub_cat_list.append(temp.strip())  "
      ]
    },
    {
      "cell_type": "code",
      "execution_count": null,
      "metadata": {
        "id": "EGDMvA75aJby",
        "outputId": "f13c5478-43a6-43ff-e131-22582371b588"
      },
      "outputs": [
        {
          "data": {
            "text/html": [
              "<div>\n",
              "<style scoped>\n",
              "    .dataframe tbody tr th:only-of-type {\n",
              "        vertical-align: middle;\n",
              "    }\n",
              "\n",
              "    .dataframe tbody tr th {\n",
              "        vertical-align: top;\n",
              "    }\n",
              "\n",
              "    .dataframe thead th {\n",
              "        text-align: right;\n",
              "    }\n",
              "</style>\n",
              "<table border=\"1\" class=\"dataframe\">\n",
              "  <thead>\n",
              "    <tr style=\"text-align: right;\">\n",
              "      <th></th>\n",
              "      <th>Unnamed: 0</th>\n",
              "      <th>id</th>\n",
              "      <th>teacher_id</th>\n",
              "      <th>teacher_prefix</th>\n",
              "      <th>school_state</th>\n",
              "      <th>project_submitted_datetime</th>\n",
              "      <th>project_grade_category</th>\n",
              "      <th>project_title</th>\n",
              "      <th>project_essay_1</th>\n",
              "      <th>project_essay_2</th>\n",
              "      <th>project_essay_3</th>\n",
              "      <th>project_essay_4</th>\n",
              "      <th>project_resource_summary</th>\n",
              "      <th>teacher_number_of_previously_posted_projects</th>\n",
              "      <th>project_is_approved</th>\n",
              "      <th>clean_categories</th>\n",
              "      <th>clean_subcategories</th>\n",
              "    </tr>\n",
              "  </thead>\n",
              "  <tbody>\n",
              "    <tr>\n",
              "      <th>0</th>\n",
              "      <td>160221</td>\n",
              "      <td>p253737</td>\n",
              "      <td>c90749f5d961ff158d4b4d1e7dc665fc</td>\n",
              "      <td>Mrs.</td>\n",
              "      <td>IN</td>\n",
              "      <td>2016-12-05 13:43:57</td>\n",
              "      <td>Grades PreK-2</td>\n",
              "      <td>Educational Support for English Learners at Home</td>\n",
              "      <td>My students are English learners that are work...</td>\n",
              "      <td>\\\"The limits of your language are the limits o...</td>\n",
              "      <td>NaN</td>\n",
              "      <td>NaN</td>\n",
              "      <td>My students need opportunities to practice beg...</td>\n",
              "      <td>0</td>\n",
              "      <td>0</td>\n",
              "      <td>Literacy_Language</td>\n",
              "      <td>ESL Literacy</td>\n",
              "    </tr>\n",
              "    <tr>\n",
              "      <th>1</th>\n",
              "      <td>140945</td>\n",
              "      <td>p258326</td>\n",
              "      <td>897464ce9ddc600bced1151f324dd63a</td>\n",
              "      <td>Mr.</td>\n",
              "      <td>FL</td>\n",
              "      <td>2016-10-25 09:22:10</td>\n",
              "      <td>Grades 6-8</td>\n",
              "      <td>Wanted: Projector for Hungry Learners</td>\n",
              "      <td>Our students arrive to our school eager to lea...</td>\n",
              "      <td>The projector we need for our school is very c...</td>\n",
              "      <td>NaN</td>\n",
              "      <td>NaN</td>\n",
              "      <td>My students need a projector to help with view...</td>\n",
              "      <td>7</td>\n",
              "      <td>1</td>\n",
              "      <td>History_Civics Health_Sports</td>\n",
              "      <td>Civics_Government TeamSports</td>\n",
              "    </tr>\n",
              "  </tbody>\n",
              "</table>\n",
              "</div>"
            ],
            "text/plain": [
              "   Unnamed: 0       id                        teacher_id teacher_prefix  \\\n",
              "0      160221  p253737  c90749f5d961ff158d4b4d1e7dc665fc           Mrs.   \n",
              "1      140945  p258326  897464ce9ddc600bced1151f324dd63a            Mr.   \n",
              "\n",
              "  school_state project_submitted_datetime project_grade_category  \\\n",
              "0           IN        2016-12-05 13:43:57          Grades PreK-2   \n",
              "1           FL        2016-10-25 09:22:10             Grades 6-8   \n",
              "\n",
              "                                      project_title  \\\n",
              "0  Educational Support for English Learners at Home   \n",
              "1             Wanted: Projector for Hungry Learners   \n",
              "\n",
              "                                     project_essay_1  \\\n",
              "0  My students are English learners that are work...   \n",
              "1  Our students arrive to our school eager to lea...   \n",
              "\n",
              "                                     project_essay_2 project_essay_3  \\\n",
              "0  \\\"The limits of your language are the limits o...             NaN   \n",
              "1  The projector we need for our school is very c...             NaN   \n",
              "\n",
              "  project_essay_4                           project_resource_summary  \\\n",
              "0             NaN  My students need opportunities to practice beg...   \n",
              "1             NaN  My students need a projector to help with view...   \n",
              "\n",
              "   teacher_number_of_previously_posted_projects  project_is_approved  \\\n",
              "0                                             0                    0   \n",
              "1                                             7                    1   \n",
              "\n",
              "               clean_categories           clean_subcategories  \n",
              "0             Literacy_Language                  ESL Literacy  \n",
              "1  History_Civics Health_Sports  Civics_Government TeamSports  "
            ]
          },
          "execution_count": 32,
          "metadata": {},
          "output_type": "execute_result"
        }
      ],
      "source": [
        "project_data['clean_subcategories'] = sub_cat_list\n",
        "project_data.drop(['project_subject_subcategories'], axis=1, inplace=True)\n",
        "project_data.head(2)"
      ]
    },
    {
      "cell_type": "code",
      "execution_count": null,
      "metadata": {
        "id": "O4EiP97LaJb1",
        "outputId": "c6af711d-268c-4240-f7a7-63ecf1e9dcc6"
      },
      "outputs": [
        {
          "data": {
            "image/png": "[encoded data removed]",
            "text/plain": [
              "<Figure size 1440x360 with 1 Axes>"
            ]
          },
          "metadata": {},
          "output_type": "display_data"
        },
        {
          "name": "stdout",
          "output_type": "stream",
          "text": [
            "                clean_subcategories  project_is_approved  total       Avg\n",
            "317                        Literacy                 8371   9486  0.882458\n",
            "319            Literacy Mathematics                 7259   8324  0.872057\n",
            "331  Literature_Writing Mathematics                 5139   5922  0.867781\n",
            "318     Literacy Literature_Writing                 4823   5571  0.865733\n",
            "342                     Mathematics                 4385   5379  0.815207\n",
            "==================================================\n",
            "                    clean_subcategories  project_is_approved  total       Avg\n",
            "196       EnvironmentalScience Literacy                  389    444  0.876126\n",
            "127                                 ESL                  349    421  0.828979\n",
            "79                   College_CareerPrep                  343    421  0.814727\n",
            "17   AppliedSciences Literature_Writing                  361    420  0.859524\n",
            "3    AppliedSciences College_CareerPrep                  330    405  0.814815\n"
          ]
        }
      ],
      "source": [
        "univariate_barplots(project_data, 'clean_subcategories', 'project_is_approved', top=50)"
      ]
    },
    {
      "cell_type": "markdown",
      "metadata": {
        "id": "XlZtcSiGg-NT"
      },
      "source": [
        "** Project Subcategories do have an impact on the Project Acceptance Rate**"
      ]
    },
    {
      "cell_type": "code",
      "execution_count": null,
      "metadata": {
        "id": "M-mfsKtyaJb5"
      },
      "outputs": [],
      "source": [
        "# count of all the words in corpus python: https://stackoverflow.com/a/22898595/4084039\n",
        "from collections import Counter\n",
        "my_counter_subcategory = Counter()\n",
        "for word in project_data['clean_subcategories'].values:\n",
        "    my_counter_subcategory.update(word.split())"
      ]
    },
    {
      "cell_type": "code",
      "execution_count": null,
      "metadata": {
        "id": "fUR6t0fCg-NU",
        "outputId": "061c6f75-451f-4e0a-cd44-6336aa3e4897"
      },
      "outputs": [
        {
          "name": "stdout",
          "output_type": "stream",
          "text": [
            "Counter({'Literacy': 33699, 'Mathematics': 28072, 'Literature_Writing': 22177, 'SpecialNeeds': 13642, 'AppliedSciences': 10816, 'Health_Wellness': 10234, 'VisualArts': 6278, 'EnvironmentalScience': 5591, 'Gym_Fitness': 4509, 'ESL': 4367, 'EarlyDevelopment': 4254, 'Health_LifeScience': 4235, 'History_Geography': 3171, 'Music': 3145, 'College_CareerPrep': 2568, 'Other': 2372, 'TeamSports': 2192, 'CharacterEducation': 2065, 'PerformingArts': 1961, 'SocialSciences': 1920, 'Warmth': 1388, 'Care_Hunger': 1388, 'NutritionEducation': 1355, 'ForeignLanguages': 890, 'Civics_Government': 815, 'Extracurricular': 810, 'ParentInvolvement': 677, 'FinancialLiteracy': 568, 'CommunityService': 441, 'Economics': 269})\n"
          ]
        }
      ],
      "source": [
        "print(my_counter_subcategory)"
      ]
    },
    {
      "cell_type": "code",
      "execution_count": null,
      "metadata": {
        "id": "wRXV-kWgg-NU"
      },
      "outputs": [],
      "source": [
        "# dict sort by value python: https://stackoverflow.com/a/613218/4084039\n",
        "my_counter_subcategory.values()\n",
        "my_counter_subcategory.keys()\n",
        "my_counter_subcategory.items()\n",
        "sorted_my_counter_subcategory=dict(sorted(my_counter_subcategory.items(),key=lambda kv: kv[1]))"
      ]
    },
    {
      "cell_type": "code",
      "execution_count": null,
      "metadata": {
        "id": "HKHia4Dyg-NV",
        "outputId": "a3b2317a-e3aa-40cc-8483-6385ec9398be"
      },
      "outputs": [
        {
          "data": {
            "image/png": "[encoded data removed]",
            "text/plain": [
              "<Figure size 1440x360 with 1 Axes>"
            ]
          },
          "metadata": {},
          "output_type": "display_data"
        }
      ],
      "source": [
        "plt.figure(figsize=(20,5))\n",
        "plt.bar(sorted_my_counter_subcategory.keys(),sorted_my_counter_subcategory.values())\n",
        "plt.ylabel('Projects')\n",
        "plt.title('No of Projects')\n",
        "plt.show()"
      ]
    },
    {
      "cell_type": "code",
      "execution_count": null,
      "metadata": {
        "id": "8u_zRJ2Fg-NV",
        "outputId": "d94db71c-44ee-407c-8c98-ce0df9015516"
      },
      "outputs": [
        {
          "name": "stdout",
          "output_type": "stream",
          "text": [
            "Economics            :  269       \n",
            "CommunityService     :  441       \n",
            "FinancialLiteracy    :  568       \n",
            "ParentInvolvement    :  677       \n",
            "Extracurricular      :  810       \n",
            "Civics_Government    :  815       \n",
            "ForeignLanguages     :  890       \n",
            "NutritionEducation   :  1355      \n",
            "Warmth               :  1388      \n",
            "Care_Hunger          :  1388      \n",
            "SocialSciences       :  1920      \n",
            "PerformingArts       :  1961      \n",
            "CharacterEducation   :  2065      \n",
            "TeamSports           :  2192      \n",
            "Other                :  2372      \n",
            "College_CareerPrep   :  2568      \n",
            "Music                :  3145      \n",
            "History_Geography    :  3171      \n",
            "Health_LifeScience   :  4235      \n",
            "EarlyDevelopment     :  4254      \n",
            "ESL                  :  4367      \n",
            "Gym_Fitness          :  4509      \n",
            "EnvironmentalScience :  5591      \n",
            "VisualArts           :  6278      \n",
            "Health_Wellness      :  10234     \n",
            "AppliedSciences      :  10816     \n",
            "SpecialNeeds         :  13642     \n",
            "Literature_Writing   :  22177     \n",
            "Mathematics          :  28072     \n",
            "Literacy             :  33699     \n"
          ]
        }
      ],
      "source": [
        "for i, j in sorted_my_counter_subcategory.items():\n",
        "    print(\"{:20} :  {:<10}\".format(i,j))"
      ]
    },
    {
      "cell_type": "markdown",
      "metadata": {
        "id": "-RnvaBOXg-NW"
      },
      "source": [
        "* **Highest no of proposals are received for Literacy, Mathematics and Literature Writing**"
      ]
    },
    {
      "cell_type": "markdown",
      "metadata": {
        "id": "MDUTl1iAaJcC"
      },
      "source": [
        "### 1.2.6 Univariate Analysis: Text features (Project Title)"
      ]
    },
    {
      "cell_type": "code",
      "execution_count": null,
      "metadata": {
        "id": "sbZpAMB0g-NW",
        "outputId": "cdd97945-8b58-40bc-88ba-f4446cc0b973"
      },
      "outputs": [
        {
          "data": {
            "text/plain": [
              "{13: 1,\n",
              " 12: 11,\n",
              " 11: 30,\n",
              " 1: 31,\n",
              " 10: 3968,\n",
              " 9: 5383,\n",
              " 8: 7289,\n",
              " 2: 8732,\n",
              " 7: 10630,\n",
              " 6: 14824,\n",
              " 3: 18691,\n",
              " 5: 19677,\n",
              " 4: 19978}"
            ]
          },
          "execution_count": 39,
          "metadata": {},
          "output_type": "execute_result"
        }
      ],
      "source": [
        "#Approach 1:\n",
        "#How to calculate number of words in a string in DataFrame: https://stackoverflow.com/a/37483537/4084039\n",
        "word_count = project_data['project_title'].str.split().apply(len).value_counts()\n",
        "word_dict = dict(word_count)\n",
        "sorted_word_dict = dict(sorted(word_dict.items(), key=lambda kv: kv[1]))\n",
        "sorted_word_dict"
      ]
    },
    {
      "cell_type": "code",
      "execution_count": null,
      "metadata": {
        "id": "FCF0f8qpg-NX",
        "outputId": "ce4e9407-a241-466b-f808-b4c02f21cdc3"
      },
      "outputs": [
        {
          "data": {
            "image/png": "[encoded data removed]",
            "text/plain": [
              "<Figure size 1440x360 with 1 Axes>"
            ]
          },
          "metadata": {},
          "output_type": "display_data"
        }
      ],
      "source": [
        "#Below code didnt not arrange the bars in the ascending order and hence has to use an alternative approach\n",
        "plt.figure(figsize=(20,5))\n",
        "plt.bar(sorted_word_dict.keys(),sorted_word_dict.values())\n",
        "plt.ylabel('Number of projects')\n",
        "plt.xlabel('Number words in project title')\n",
        "plt.title('Words for each title of the project')\n",
        "plt.show()"
      ]
    },
    {
      "cell_type": "code",
      "execution_count": null,
      "metadata": {
        "id": "QtuoriChg-NX",
        "outputId": "32b12079-af0f-4dcc-a129-e9f12ea6625f"
      },
      "outputs": [
        {
          "data": {
            "image/png": "[encoded data removed]",
            "text/plain": [
              "<Figure size 1440x360 with 1 Axes>"
            ]
          },
          "metadata": {},
          "output_type": "display_data"
        }
      ],
      "source": [
        "#Approach 2:\n",
        "plt.figure(figsize=(20,5))\n",
        "ind = np.arange(len(sorted_word_dict))\n",
        "plt.bar(ind,sorted_word_dict.values())\n",
        "plt.ylabel('Number of projects')\n",
        "plt.xlabel('Number words in project title')\n",
        "plt.title('Words for each title of the project')\n",
        "plt.xticks(ind, list(sorted_word_dict.keys()))\n",
        "plt.show()"
      ]
    },
    {
      "cell_type": "markdown",
      "metadata": {
        "id": "yYeRHjMSg-NY"
      },
      "source": [
        "* ** Project title length varies from 1 to 13 words with maxiumum having less than 11 words"
      ]
    },
    {
      "cell_type": "code",
      "execution_count": null,
      "metadata": {
        "id": "p7K3PYqIaJcF"
      },
      "outputs": [],
      "source": [
        "approved_title_word_count = project_data[project_data['project_is_approved']==1]['project_title'].str.split().apply(len)\n",
        "approved_title_word_count = approved_title_word_count.values\n",
        "\n",
        "rejected_title_word_count = project_data[project_data['project_is_approved']==0]['project_title'].str.split().apply(len)\n",
        "rejected_title_word_count = rejected_title_word_count.values"
      ]
    },
    {
      "cell_type": "code",
      "execution_count": null,
      "metadata": {
        "id": "G3dpNOjgaJcH",
        "outputId": "6b105677-ef5f-42f1-d1aa-a8d678cb5391"
      },
      "outputs": [
        {
          "data": {
            "image/png": "[encoded data removed]",
            "text/plain": [
              "<Figure size 432x288 with 1 Axes>"
            ]
          },
          "metadata": {},
          "output_type": "display_data"
        }
      ],
      "source": [
        "# https://glowingpython.blogspot.com/2012/09/boxplot-with-matplotlib.html\n",
        "plt.boxplot([approved_title_word_count, rejected_title_word_count])\n",
        "plt.xticks([1,2],('Approved Projects','Rejected Projects'))\n",
        "plt.ylabel('Words in project title')\n",
        "plt.grid()\n",
        "plt.show()"
      ]
    },
    {
      "cell_type": "code",
      "execution_count": null,
      "metadata": {
        "id": "4v9vZDlPaJcK",
        "outputId": "73039ef3-5a8e-46b8-d344-2a0d90ae5a90"
      },
      "outputs": [
        {
          "data": {
            "image/png": "[encoded data removed]",
            "text/plain": [
              "<Figure size 720x216 with 1 Axes>"
            ]
          },
          "metadata": {},
          "output_type": "display_data"
        }
      ],
      "source": [
        "plt.figure(figsize=(10,3))\n",
        "sns.kdeplot(approved_title_word_count,label=\"Approved Projects\",bw=0.8)\n",
        "sns.kdeplot(rejected_title_word_count,label=\"Not Approved Projects\",bw=0.8)\n",
        "plt.title('Words for each title of the project')\n",
        "plt.xlabel('Number of words in each title')\n",
        "plt.legend()\n",
        "plt.show()"
      ]
    },
    {
      "cell_type": "markdown",
      "metadata": {
        "id": "yX1Ul6j0g-Na"
      },
      "source": [
        "* ** Dont see any difference in the distribution of the project title word count for apporved and rejected proposals**"
      ]
    },
    {
      "cell_type": "markdown",
      "metadata": {
        "id": "eWIdgjtHaJcM"
      },
      "source": [
        "### 1.2.7 Univariate Analysis: Text features (Project Essay's)"
      ]
    },
    {
      "cell_type": "code",
      "execution_count": 25,
      "metadata": {
        "id": "VbFu4ASuaJcM"
      },
      "outputs": [],
      "source": [
        "# merge two column text dataframe: \n",
        "project_data[\"essay\"] = project_data[\"project_essay_1\"].map(str) +\\\n",
        "                        project_data[\"project_essay_2\"].map(str) + \\\n",
        "                        project_data[\"project_essay_3\"].map(str) + \\\n",
        "                        project_data[\"project_essay_4\"].map(str)"
      ]
    },
    {
      "cell_type": "code",
      "execution_count": 26,
      "metadata": {
        "id": "6l5OrYO4g-Nb",
        "outputId": "d169056a-e3e0-46e4-bc9a-de9e0179147e",
        "colab": {
          "base_uri": "https://localhost:8080/",
          "height": 249
        }
      },
      "outputs": [
        {
          "output_type": "execute_result",
          "data": {
            "text/plain": [
              "        id                        teacher_id teacher_prefix school_state  \\\n",
              "0  p253737  c90749f5d961ff158d4b4d1e7dc665fc           Mrs.           IN   \n",
              "\n",
              "  project_submitted_datetime project_grade_category  \\\n",
              "0           05-12-2016 13:43          Grades PreK-2   \n",
              "\n",
              "  project_subject_categories project_subject_subcategories  \\\n",
              "0        Literacy & Language                 ESL, Literacy   \n",
              "\n",
              "                                      project_title  \\\n",
              "0  Educational Support for English Learners at Home   \n",
              "\n",
              "                                     project_essay_1  \\\n",
              "0  My students are English learners that are work...   \n",
              "\n",
              "                                     project_essay_2 project_essay_3  \\\n",
              "0  \\\"The limits of your language are the limits o...             NaN   \n",
              "\n",
              "  project_essay_4                           project_resource_summary  \\\n",
              "0             NaN  My students need opportunities to practice beg...   \n",
              "\n",
              "   teacher_number_of_previously_posted_projects  project_is_approved  \\\n",
              "0                                             0                    0   \n",
              "\n",
              "                                               essay  \n",
              "0  My students are English learners that are work...  "
            ],
            "text/html": [
              "\n",
              "  <div id=\"df-e84a79fc-1811-4db2-92bc-a98c6c1c3cf7\">\n",
              "    <div class=\"colab-df-container\">\n",
              "      <div>\n",
              "<style scoped>\n",
              "    .dataframe tbody tr th:only-of-type {\n",
              "        vertical-align: middle;\n",
              "    }\n",
              "\n",
              "    .dataframe tbody tr th {\n",
              "        vertical-align: top;\n",
              "    }\n",
              "\n",
              "    .dataframe thead th {\n",
              "        text-align: right;\n",
              "    }\n",
              "</style>\n",
              "<table border=\"1\" class=\"dataframe\">\n",
              "  <thead>\n",
              "    <tr style=\"text-align: right;\">\n",
              "      <th></th>\n",
              "      <th>id</th>\n",
              "      <th>teacher_id</th>\n",
              "      <th>teacher_prefix</th>\n",
              "      <th>school_state</th>\n",
              "      <th>project_submitted_datetime</th>\n",
              "      <th>project_grade_category</th>\n",
              "      <th>project_subject_categories</th>\n",
              "      <th>project_subject_subcategories</th>\n",
              "      <th>project_title</th>\n",
              "      <th>project_essay_1</th>\n",
              "      <th>project_essay_2</th>\n",
              "      <th>project_essay_3</th>\n",
              "      <th>project_essay_4</th>\n",
              "      <th>project_resource_summary</th>\n",
              "      <th>teacher_number_of_previously_posted_projects</th>\n",
              "      <th>project_is_approved</th>\n",
              "      <th>essay</th>\n",
              "    </tr>\n",
              "  </thead>\n",
              "  <tbody>\n",
              "    <tr>\n",
              "      <th>0</th>\n",
              "      <td>p253737</td>\n",
              "      <td>c90749f5d961ff158d4b4d1e7dc665fc</td>\n",
              "      <td>Mrs.</td>\n",
              "      <td>IN</td>\n",
              "      <td>05-12-2016 13:43</td>\n",
              "      <td>Grades PreK-2</td>\n",
              "      <td>Literacy &amp; Language</td>\n",
              "      <td>ESL, Literacy</td>\n",
              "      <td>Educational Support for English Learners at Home</td>\n",
              "      <td>My students are English learners that are work...</td>\n",
              "      <td>\\\"The limits of your language are the limits o...</td>\n",
              "      <td>NaN</td>\n",
              "      <td>NaN</td>\n",
              "      <td>My students need opportunities to practice beg...</td>\n",
              "      <td>0</td>\n",
              "      <td>0</td>\n",
              "      <td>My students are English learners that are work...</td>\n",
              "    </tr>\n",
              "  </tbody>\n",
              "</table>\n",
              "</div>\n",
              "      <button class=\"colab-df-convert\" onclick=\"convertToInteractive('df-e84a79fc-1811-4db2-92bc-a98c6c1c3cf7')\"\n",
              "              title=\"Convert this dataframe to an interactive table.\"\n",
              "              style=\"display:none;\">\n",
              "        \n",
              "  <svg xmlns=\"http://www.w3.org/2000/svg\" height=\"24px\"viewBox=\"0 0 24 24\"\n",
              "       width=\"24px\">\n",
              "    <path d=\"M0 0h24v24H0V0z\" fill=\"none\"/>\n",
              "    <path d=\"M18.56 5.44l.94 2.06.94-2.06 2.06-.94-2.06-.94-.94-2.06-.94 2.06-2.06.94zm-11 1L8.5 8.5l.94-2.06 2.06-.94-2.06-.94L8.5 2.5l-.94 2.06-2.06.94zm10 10l.94 2.06.94-2.06 2.06-.94-2.06-.94-.94-2.06-.94 2.06-2.06.94z\"/><path d=\"M17.41 7.96l-1.37-1.37c-.4-.4-.92-.59-1.43-.59-.52 0-1.04.2-1.43.59L10.3 9.45l-7.72 7.72c-.78.78-.78 2.05 0 2.83L4 21.41c.39.39.9.59 1.41.59.51 0 1.02-.2 1.41-.59l7.78-7.78 2.81-2.81c.8-.78.8-2.07 0-2.86zM5.41 20L4 18.59l7.72-7.72 1.47 1.35L5.41 20z\"/>\n",
              "  </svg>\n",
              "      </button>\n",
              "      \n",
              "  <style>\n",
              "    .colab-df-container {\n",
              "      display:flex;\n",
              "      flex-wrap:wrap;\n",
              "      gap: 12px;\n",
              "    }\n",
              "\n",
              "    .colab-df-convert {\n",
              "      background-color: #E8F0FE;\n",
              "      border: none;\n",
              "      border-radius: 50%;\n",
              "      cursor: pointer;\n",
              "      display: none;\n",
              "      fill: #1967D2;\n",
              "      height: 32px;\n",
              "      padding: 0 0 0 0;\n",
              "      width: 32px;\n",
              "    }\n",
              "\n",
              "    .colab-df-convert:hover {\n",
              "      background-color: #E2EBFA;\n",
              "      box-shadow: 0px 1px 2px rgba(60, 64, 67, 0.3), 0px 1px 3px 1px rgba(60, 64, 67, 0.15);\n",
              "      fill: #174EA6;\n",
              "    }\n",
              "\n",
              "    [theme=dark] .colab-df-convert {\n",
              "      background-color: #3B4455;\n",
              "      fill: #D2E3FC;\n",
              "    }\n",
              "\n",
              "    [theme=dark] .colab-df-convert:hover {\n",
              "      background-color: #434B5C;\n",
              "      box-shadow: 0px 1px 3px 1px rgba(0, 0, 0, 0.15);\n",
              "      filter: drop-shadow(0px 1px 2px rgba(0, 0, 0, 0.3));\n",
              "      fill: #FFFFFF;\n",
              "    }\n",
              "  </style>\n",
              "\n",
              "      <script>\n",
              "        const buttonEl =\n",
              "          document.querySelector('#df-e84a79fc-1811-4db2-92bc-a98c6c1c3cf7 button.colab-df-convert');\n",
              "        buttonEl.style.display =\n",
              "          google.colab.kernel.accessAllowed ? 'block' : 'none';\n",
              "\n",
              "        async function convertToInteractive(key) {\n",
              "          const element = document.querySelector('#df-e84a79fc-1811-4db2-92bc-a98c6c1c3cf7');\n",
              "          const dataTable =\n",
              "            await google.colab.kernel.invokeFunction('convertToInteractive',\n",
              "                                                     [key], {});\n",
              "          if (!dataTable) return;\n",
              "\n",
              "          const docLinkHtml = 'Like what you see? Visit the ' +\n",
              "            '<a target=\"_blank\" href=https://colab.research.google.com/notebooks/data_table.ipynb>data table notebook</a>'\n",
              "            + ' to learn more about interactive tables.';\n",
              "          element.innerHTML = '';\n",
              "          dataTable['output_type'] = 'display_data';\n",
              "          await google.colab.output.renderOutput(dataTable, element);\n",
              "          const docLink = document.createElement('div');\n",
              "          docLink.innerHTML = docLinkHtml;\n",
              "          element.appendChild(docLink);\n",
              "        }\n",
              "      </script>\n",
              "    </div>\n",
              "  </div>\n",
              "  "
            ]
          },
          "metadata": {},
          "execution_count": 26
        }
      ],
      "source": [
        "project_data[project_data['id']=='p253737']"
      ]
    },
    {
      "cell_type": "code",
      "execution_count": 27,
      "metadata": {
        "id": "LMtLZgJ6aJcO"
      },
      "outputs": [],
      "source": [
        "approved_word_count = project_data[project_data['project_is_approved']==1]['essay'].str.split().apply(len)\n",
        "approved_word_count = approved_word_count.values\n",
        "\n",
        "rejected_word_count = project_data[project_data['project_is_approved']==0]['essay'].str.split().apply(len)\n",
        "rejected_word_count = rejected_word_count.values"
      ]
    },
    {
      "cell_type": "code",
      "execution_count": 28,
      "metadata": {
        "id": "dfP35Qj4aJcQ",
        "outputId": "e4320245-4be0-4d22-c632-bedff79c57ec",
        "colab": {
          "base_uri": "https://localhost:8080/",
          "height": 281
        }
      },
      "outputs": [
        {
          "output_type": "display_data",
          "data": {
            "text/plain": [
              "<Figure size 432x288 with 1 Axes>"
            ],
            "image/png": "[encoded data removed]"
          },
          "metadata": {
            "needs_background": "light"
          }
        }
      ],
      "source": [
        "# https://glowingpython.blogspot.com/2012/09/boxplot-with-matplotlib.html\n",
        "plt.boxplot([approved_word_count, rejected_word_count])\n",
        "plt.title('Words for each essay of the project')\n",
        "plt.xticks([1,2],('Approved Projects','Rejected Projects'))\n",
        "plt.ylabel('Words in project essays')\n",
        "plt.grid()\n",
        "plt.show()"
      ]
    },
    {
      "cell_type": "code",
      "execution_count": 29,
      "metadata": {
        "id": "TDFkNuj8aJcS",
        "outputId": "f71e55de-f3f4-473f-c729-aa29dd0e1ba7",
        "colab": {
          "base_uri": "https://localhost:8080/",
          "height": 477
        }
      },
      "outputs": [
        {
          "output_type": "display_data",
          "data": {
            "text/plain": [
              "<Figure size 720x216 with 1 Axes>"
            ],
            "image/png": "[encoded data removed]"
          },
          "metadata": {
            "needs_background": "light"
          }
        },
        {
          "output_type": "error",
          "ename": "NameError",
          "evalue": "ignored",
          "traceback": [
            "\u001b[0;31m---------------------------------------------------------------------------\u001b[0m",
            "\u001b[0;31mNameError\u001b[0m                                 Traceback (most recent call last)",
            "\u001b[0;32m<ipython-input-29-f41b7429fac4>\u001b[0m in \u001b[0;36m<module>\u001b[0;34m\u001b[0m\n\u001b[1;32m      8\u001b[0m \u001b[0;34m\u001b[0m\u001b[0m\n\u001b[1;32m      9\u001b[0m \u001b[0mplt\u001b[0m\u001b[0;34m.\u001b[0m\u001b[0mfigure\u001b[0m\u001b[0;34m(\u001b[0m\u001b[0mfigsize\u001b[0m\u001b[0;34m=\u001b[0m\u001b[0;34m(\u001b[0m\u001b[0;36m10\u001b[0m\u001b[0;34m,\u001b[0m\u001b[0;36m3\u001b[0m\u001b[0;34m)\u001b[0m\u001b[0;34m)\u001b[0m\u001b[0;34m\u001b[0m\u001b[0;34m\u001b[0m\u001b[0m\n\u001b[0;32m---> 10\u001b[0;31m \u001b[0msns\u001b[0m\u001b[0;34m.\u001b[0m\u001b[0mkdeplot\u001b[0m\u001b[0;34m(\u001b[0m\u001b[0mapproved_title_word_count\u001b[0m\u001b[0;34m,\u001b[0m\u001b[0mlabel\u001b[0m\u001b[0;34m=\u001b[0m\u001b[0;34m\"Approved Projects\"\u001b[0m\u001b[0;34m,\u001b[0m\u001b[0mbw\u001b[0m\u001b[0;34m=\u001b[0m\u001b[0;36m0.8\u001b[0m\u001b[0;34m)\u001b[0m\u001b[0;34m\u001b[0m\u001b[0;34m\u001b[0m\u001b[0m\n\u001b[0m\u001b[1;32m     11\u001b[0m \u001b[0msns\u001b[0m\u001b[0;34m.\u001b[0m\u001b[0mkdeplot\u001b[0m\u001b[0;34m(\u001b[0m\u001b[0mrejected_title_word_count\u001b[0m\u001b[0;34m,\u001b[0m\u001b[0mlabel\u001b[0m\u001b[0;34m=\u001b[0m\u001b[0;34m\"Not Approved Projects\"\u001b[0m\u001b[0;34m,\u001b[0m\u001b[0mbw\u001b[0m\u001b[0;34m=\u001b[0m\u001b[0;36m0.8\u001b[0m\u001b[0;34m)\u001b[0m\u001b[0;34m\u001b[0m\u001b[0;34m\u001b[0m\u001b[0m\n\u001b[1;32m     12\u001b[0m \u001b[0mplt\u001b[0m\u001b[0;34m.\u001b[0m\u001b[0mlegend\u001b[0m\u001b[0;34m(\u001b[0m\u001b[0;34m)\u001b[0m\u001b[0;34m\u001b[0m\u001b[0;34m\u001b[0m\u001b[0m\n",
            "\u001b[0;31mNameError\u001b[0m: name 'approved_title_word_count' is not defined"
          ]
        },
        {
          "output_type": "display_data",
          "data": {
            "text/plain": [
              "<Figure size 720x216 with 0 Axes>"
            ]
          },
          "metadata": {}
        }
      ],
      "source": [
        "plt.figure(figsize=(10,3))\n",
        "sns.distplot(approved_word_count, hist=False, label=\"Approved Projects\")\n",
        "sns.distplot(rejected_word_count, hist=False, label=\"Not Approved Projects\")\n",
        "plt.title('Words for each essay of the project')\n",
        "plt.xlabel('Number of words in each eassay')\n",
        "plt.legend()\n",
        "plt.show()\n",
        "\n",
        "plt.figure(figsize=(10,3))\n",
        "sns.kdeplot(approved_title_word_count,label=\"Approved Projects\",bw=0.8)\n",
        "sns.kdeplot(rejected_title_word_count,label=\"Not Approved Projects\",bw=0.8)\n",
        "plt.legend()\n",
        "plt.show()"
      ]
    },
    {
      "cell_type": "code",
      "execution_count": null,
      "metadata": {
        "id": "FiWt6ej6g-Nd"
      },
      "outputs": [],
      "source": [
        "plt.figure(figsize=(10,3))\n",
        "sns.kdeplot(approved_word_count,label=\"Approved Projects\",bw=4)\n",
        "sns.kdeplot(rejected_word_count,label=\"Not Approved Projects\",bw=4)\n",
        "plt.title('Words for each essay of the project')\n",
        "plt.xlabel('Number of words in each eassay')\n",
        "plt.legend()\n",
        "plt.show()"
      ]
    },
    {
      "cell_type": "markdown",
      "metadata": {
        "id": "FvUsbmDUg-Nd"
      },
      "source": [
        "* **Dont see much differnec in the word count of the essays for approved and rejected proposals**"
      ]
    },
    {
      "cell_type": "markdown",
      "metadata": {
        "id": "eAr4K8J4aJcV"
      },
      "source": [
        "### 1.2.8 Univariate Analysis: Cost per project"
      ]
    },
    {
      "cell_type": "code",
      "execution_count": null,
      "metadata": {
        "id": "DCd2dI6eaJcV",
        "outputId": "89d8283f-63c8-4c53-ff8d-8401776b33fd"
      },
      "outputs": [
        {
          "data": {
            "text/html": [
              "<div>\n",
              "<style scoped>\n",
              "    .dataframe tbody tr th:only-of-type {\n",
              "        vertical-align: middle;\n",
              "    }\n",
              "\n",
              "    .dataframe tbody tr th {\n",
              "        vertical-align: top;\n",
              "    }\n",
              "\n",
              "    .dataframe thead th {\n",
              "        text-align: right;\n",
              "    }\n",
              "</style>\n",
              "<table border=\"1\" class=\"dataframe\">\n",
              "  <thead>\n",
              "    <tr style=\"text-align: right;\">\n",
              "      <th></th>\n",
              "      <th>id</th>\n",
              "      <th>description</th>\n",
              "      <th>quantity</th>\n",
              "      <th>price</th>\n",
              "    </tr>\n",
              "  </thead>\n",
              "  <tbody>\n",
              "    <tr>\n",
              "      <th>0</th>\n",
              "      <td>p233245</td>\n",
              "      <td>LC652 - Lakeshore Double-Space Mobile Drying Rack</td>\n",
              "      <td>1</td>\n",
              "      <td>149.00</td>\n",
              "    </tr>\n",
              "    <tr>\n",
              "      <th>1</th>\n",
              "      <td>p069063</td>\n",
              "      <td>Bouncy Bands for Desks (Blue support pipes)</td>\n",
              "      <td>3</td>\n",
              "      <td>14.95</td>\n",
              "    </tr>\n",
              "  </tbody>\n",
              "</table>\n",
              "</div>"
            ],
            "text/plain": [
              "        id                                        description  quantity  \\\n",
              "0  p233245  LC652 - Lakeshore Double-Space Mobile Drying Rack         1   \n",
              "1  p069063        Bouncy Bands for Desks (Blue support pipes)         3   \n",
              "\n",
              "    price  \n",
              "0  149.00  \n",
              "1   14.95  "
            ]
          },
          "execution_count": 51,
          "metadata": {},
          "output_type": "execute_result"
        }
      ],
      "source": [
        "# we get the cost of the project using resource.csv file\n",
        "resource_data.head(2)"
      ]
    },
    {
      "cell_type": "code",
      "execution_count": null,
      "metadata": {
        "id": "XgDCvSspg-Ne",
        "outputId": "98832a8c-1350-4d64-bca3-fdfd4cf8bf09"
      },
      "outputs": [
        {
          "data": {
            "text/html": [
              "<div>\n",
              "<style scoped>\n",
              "    .dataframe tbody tr th:only-of-type {\n",
              "        vertical-align: middle;\n",
              "    }\n",
              "\n",
              "    .dataframe tbody tr th {\n",
              "        vertical-align: top;\n",
              "    }\n",
              "\n",
              "    .dataframe thead th {\n",
              "        text-align: right;\n",
              "    }\n",
              "</style>\n",
              "<table border=\"1\" class=\"dataframe\">\n",
              "  <thead>\n",
              "    <tr style=\"text-align: right;\">\n",
              "      <th></th>\n",
              "      <th>id</th>\n",
              "      <th>description</th>\n",
              "      <th>quantity</th>\n",
              "      <th>price</th>\n",
              "    </tr>\n",
              "  </thead>\n",
              "  <tbody>\n",
              "    <tr>\n",
              "      <th>414179</th>\n",
              "      <td>p000001</td>\n",
              "      <td>Cap Barbell 300 Pound Olympic Set, Grey</td>\n",
              "      <td>2</td>\n",
              "      <td>261.08</td>\n",
              "    </tr>\n",
              "    <tr>\n",
              "      <th>414180</th>\n",
              "      <td>p000001</td>\n",
              "      <td>Cap Barbell Power Rack Exercise Stand</td>\n",
              "      <td>2</td>\n",
              "      <td>89.00</td>\n",
              "    </tr>\n",
              "    <tr>\n",
              "      <th>414181</th>\n",
              "      <td>p000001</td>\n",
              "      <td>Marcy SB-10510 Flat Bench</td>\n",
              "      <td>1</td>\n",
              "      <td>85.49</td>\n",
              "    </tr>\n",
              "    <tr>\n",
              "      <th>414182</th>\n",
              "      <td>p000001</td>\n",
              "      <td>ProSource Puzzle Exercise Mat High Quality EVA...</td>\n",
              "      <td>2</td>\n",
              "      <td>23.99</td>\n",
              "    </tr>\n",
              "  </tbody>\n",
              "</table>\n",
              "</div>"
            ],
            "text/plain": [
              "             id                                        description  quantity  \\\n",
              "414179  p000001            Cap Barbell 300 Pound Olympic Set, Grey         2   \n",
              "414180  p000001              Cap Barbell Power Rack Exercise Stand         2   \n",
              "414181  p000001                          Marcy SB-10510 Flat Bench         1   \n",
              "414182  p000001  ProSource Puzzle Exercise Mat High Quality EVA...         2   \n",
              "\n",
              "         price  \n",
              "414179  261.08  \n",
              "414180   89.00  \n",
              "414181   85.49  \n",
              "414182   23.99  "
            ]
          },
          "execution_count": 52,
          "metadata": {},
          "output_type": "execute_result"
        }
      ],
      "source": [
        "resource_data[resource_data['id']=='p000001']"
      ]
    },
    {
      "cell_type": "code",
      "execution_count": null,
      "metadata": {
        "id": "OMJDP23wg-Nf"
      },
      "outputs": [],
      "source": [
        "resource_data[\"Total_Price\"]=resource_data[\"quantity\"]*resource_data[\"price\"]"
      ]
    },
    {
      "cell_type": "code",
      "execution_count": null,
      "metadata": {
        "id": "ckz7gvklg-Nf",
        "outputId": "da1c3820-f0de-41a0-97cf-b6bf9a7bb00f"
      },
      "outputs": [
        {
          "data": {
            "text/html": [
              "<div>\n",
              "<style scoped>\n",
              "    .dataframe tbody tr th:only-of-type {\n",
              "        vertical-align: middle;\n",
              "    }\n",
              "\n",
              "    .dataframe tbody tr th {\n",
              "        vertical-align: top;\n",
              "    }\n",
              "\n",
              "    .dataframe thead th {\n",
              "        text-align: right;\n",
              "    }\n",
              "</style>\n",
              "<table border=\"1\" class=\"dataframe\">\n",
              "  <thead>\n",
              "    <tr style=\"text-align: right;\">\n",
              "      <th></th>\n",
              "      <th>id</th>\n",
              "      <th>description</th>\n",
              "      <th>quantity</th>\n",
              "      <th>price</th>\n",
              "      <th>Total_Price</th>\n",
              "    </tr>\n",
              "  </thead>\n",
              "  <tbody>\n",
              "    <tr>\n",
              "      <th>414179</th>\n",
              "      <td>p000001</td>\n",
              "      <td>Cap Barbell 300 Pound Olympic Set, Grey</td>\n",
              "      <td>2</td>\n",
              "      <td>261.08</td>\n",
              "      <td>522.16</td>\n",
              "    </tr>\n",
              "    <tr>\n",
              "      <th>414180</th>\n",
              "      <td>p000001</td>\n",
              "      <td>Cap Barbell Power Rack Exercise Stand</td>\n",
              "      <td>2</td>\n",
              "      <td>89.00</td>\n",
              "      <td>178.00</td>\n",
              "    </tr>\n",
              "    <tr>\n",
              "      <th>414181</th>\n",
              "      <td>p000001</td>\n",
              "      <td>Marcy SB-10510 Flat Bench</td>\n",
              "      <td>1</td>\n",
              "      <td>85.49</td>\n",
              "      <td>85.49</td>\n",
              "    </tr>\n",
              "    <tr>\n",
              "      <th>414182</th>\n",
              "      <td>p000001</td>\n",
              "      <td>ProSource Puzzle Exercise Mat High Quality EVA...</td>\n",
              "      <td>2</td>\n",
              "      <td>23.99</td>\n",
              "      <td>47.98</td>\n",
              "    </tr>\n",
              "  </tbody>\n",
              "</table>\n",
              "</div>"
            ],
            "text/plain": [
              "             id                                        description  quantity  \\\n",
              "414179  p000001            Cap Barbell 300 Pound Olympic Set, Grey         2   \n",
              "414180  p000001              Cap Barbell Power Rack Exercise Stand         2   \n",
              "414181  p000001                          Marcy SB-10510 Flat Bench         1   \n",
              "414182  p000001  ProSource Puzzle Exercise Mat High Quality EVA...         2   \n",
              "\n",
              "         price  Total_Price  \n",
              "414179  261.08       522.16  \n",
              "414180   89.00       178.00  \n",
              "414181   85.49        85.49  \n",
              "414182   23.99        47.98  "
            ]
          },
          "execution_count": 54,
          "metadata": {},
          "output_type": "execute_result"
        }
      ],
      "source": [
        "resource_data[resource_data['id']=='p000001']"
      ]
    },
    {
      "cell_type": "code",
      "execution_count": null,
      "metadata": {
        "id": "ynKLwBKyaJcX",
        "outputId": "02385313-fe79-475f-cde7-64acfca30cf1"
      },
      "outputs": [
        {
          "data": {
            "text/html": [
              "<div>\n",
              "<style scoped>\n",
              "    .dataframe tbody tr th:only-of-type {\n",
              "        vertical-align: middle;\n",
              "    }\n",
              "\n",
              "    .dataframe tbody tr th {\n",
              "        vertical-align: top;\n",
              "    }\n",
              "\n",
              "    .dataframe thead th {\n",
              "        text-align: right;\n",
              "    }\n",
              "</style>\n",
              "<table border=\"1\" class=\"dataframe\">\n",
              "  <thead>\n",
              "    <tr style=\"text-align: right;\">\n",
              "      <th></th>\n",
              "      <th>id</th>\n",
              "      <th>Total_Price</th>\n",
              "      <th>quantity</th>\n",
              "    </tr>\n",
              "  </thead>\n",
              "  <tbody>\n",
              "    <tr>\n",
              "      <th>0</th>\n",
              "      <td>p000001</td>\n",
              "      <td>833.63</td>\n",
              "      <td>7</td>\n",
              "    </tr>\n",
              "    <tr>\n",
              "      <th>1</th>\n",
              "      <td>p000002</td>\n",
              "      <td>630.28</td>\n",
              "      <td>21</td>\n",
              "    </tr>\n",
              "  </tbody>\n",
              "</table>\n",
              "</div>"
            ],
            "text/plain": [
              "        id  Total_Price  quantity\n",
              "0  p000001       833.63         7\n",
              "1  p000002       630.28        21"
            ]
          },
          "execution_count": 55,
          "metadata": {},
          "output_type": "execute_result"
        }
      ],
      "source": [
        "# https://stackoverflow.com/questions/22407798/how-to-reset-a-dataframes-indexes-for-all-groups-in-one-step\n",
        "price_data = resource_data.groupby('id').agg({'Total_Price':'sum', 'quantity':'sum'}).reset_index()\n",
        "price_data.head(2)"
      ]
    },
    {
      "cell_type": "code",
      "execution_count": null,
      "metadata": {
        "id": "mY4NLTFNaJca"
      },
      "outputs": [],
      "source": [
        "# join two dataframes in python: \n",
        "project_data = pd.merge(project_data, price_data, on='id', how='left')"
      ]
    },
    {
      "cell_type": "code",
      "execution_count": null,
      "metadata": {
        "id": "J2jiEvdKg-Ng",
        "outputId": "3798a2f9-b883-496b-f538-0fc18bf05bf6"
      },
      "outputs": [
        {
          "data": {
            "text/html": [
              "<div>\n",
              "<style scoped>\n",
              "    .dataframe tbody tr th:only-of-type {\n",
              "        vertical-align: middle;\n",
              "    }\n",
              "\n",
              "    .dataframe tbody tr th {\n",
              "        vertical-align: top;\n",
              "    }\n",
              "\n",
              "    .dataframe thead th {\n",
              "        text-align: right;\n",
              "    }\n",
              "</style>\n",
              "<table border=\"1\" class=\"dataframe\">\n",
              "  <thead>\n",
              "    <tr style=\"text-align: right;\">\n",
              "      <th></th>\n",
              "      <th>Unnamed: 0</th>\n",
              "      <th>id</th>\n",
              "      <th>teacher_id</th>\n",
              "      <th>teacher_prefix</th>\n",
              "      <th>school_state</th>\n",
              "      <th>project_submitted_datetime</th>\n",
              "      <th>project_grade_category</th>\n",
              "      <th>project_title</th>\n",
              "      <th>project_essay_1</th>\n",
              "      <th>project_essay_2</th>\n",
              "      <th>project_essay_3</th>\n",
              "      <th>project_essay_4</th>\n",
              "      <th>project_resource_summary</th>\n",
              "      <th>teacher_number_of_previously_posted_projects</th>\n",
              "      <th>project_is_approved</th>\n",
              "      <th>clean_categories</th>\n",
              "      <th>clean_subcategories</th>\n",
              "      <th>essay</th>\n",
              "      <th>Total_Price</th>\n",
              "      <th>quantity</th>\n",
              "    </tr>\n",
              "  </thead>\n",
              "  <tbody>\n",
              "    <tr>\n",
              "      <th>0</th>\n",
              "      <td>160221</td>\n",
              "      <td>p253737</td>\n",
              "      <td>c90749f5d961ff158d4b4d1e7dc665fc</td>\n",
              "      <td>Mrs.</td>\n",
              "      <td>IN</td>\n",
              "      <td>2016-12-05 13:43:57</td>\n",
              "      <td>Grades PreK-2</td>\n",
              "      <td>Educational Support for English Learners at Home</td>\n",
              "      <td>My students are English learners that are work...</td>\n",
              "      <td>\\\"The limits of your language are the limits o...</td>\n",
              "      <td>NaN</td>\n",
              "      <td>NaN</td>\n",
              "      <td>My students need opportunities to practice beg...</td>\n",
              "      <td>0</td>\n",
              "      <td>0</td>\n",
              "      <td>Literacy_Language</td>\n",
              "      <td>ESL Literacy</td>\n",
              "      <td>My students are English learners that are work...</td>\n",
              "      <td>596.36</td>\n",
              "      <td>23</td>\n",
              "    </tr>\n",
              "    <tr>\n",
              "      <th>1</th>\n",
              "      <td>140945</td>\n",
              "      <td>p258326</td>\n",
              "      <td>897464ce9ddc600bced1151f324dd63a</td>\n",
              "      <td>Mr.</td>\n",
              "      <td>FL</td>\n",
              "      <td>2016-10-25 09:22:10</td>\n",
              "      <td>Grades 6-8</td>\n",
              "      <td>Wanted: Projector for Hungry Learners</td>\n",
              "      <td>Our students arrive to our school eager to lea...</td>\n",
              "      <td>The projector we need for our school is very c...</td>\n",
              "      <td>NaN</td>\n",
              "      <td>NaN</td>\n",
              "      <td>My students need a projector to help with view...</td>\n",
              "      <td>7</td>\n",
              "      <td>1</td>\n",
              "      <td>History_Civics Health_Sports</td>\n",
              "      <td>Civics_Government TeamSports</td>\n",
              "      <td>Our students arrive to our school eager to lea...</td>\n",
              "      <td>299.00</td>\n",
              "      <td>1</td>\n",
              "    </tr>\n",
              "    <tr>\n",
              "      <th>2</th>\n",
              "      <td>21895</td>\n",
              "      <td>p182444</td>\n",
              "      <td>3465aaf82da834c0582ebd0ef8040ca0</td>\n",
              "      <td>Ms.</td>\n",
              "      <td>AZ</td>\n",
              "      <td>2016-08-31 12:03:56</td>\n",
              "      <td>Grades 6-8</td>\n",
              "      <td>Soccer Equipment for AWESOME Middle School Stu...</td>\n",
              "      <td>\\r\\n\\\"True champions aren't always the ones th...</td>\n",
              "      <td>The students on the campus come to school know...</td>\n",
              "      <td>NaN</td>\n",
              "      <td>NaN</td>\n",
              "      <td>My students need shine guards, athletic socks,...</td>\n",
              "      <td>1</td>\n",
              "      <td>0</td>\n",
              "      <td>Health_Sports</td>\n",
              "      <td>Health_Wellness TeamSports</td>\n",
              "      <td>\\r\\n\\\"True champions aren't always the ones th...</td>\n",
              "      <td>686.68</td>\n",
              "      <td>22</td>\n",
              "    </tr>\n",
              "    <tr>\n",
              "      <th>3</th>\n",
              "      <td>45</td>\n",
              "      <td>p246581</td>\n",
              "      <td>f3cb9bffbba169bef1a77b243e620b60</td>\n",
              "      <td>Mrs.</td>\n",
              "      <td>KY</td>\n",
              "      <td>2016-10-06 21:16:17</td>\n",
              "      <td>Grades PreK-2</td>\n",
              "      <td>Techie Kindergarteners</td>\n",
              "      <td>I work at a unique school filled with both ESL...</td>\n",
              "      <td>My students live in high poverty conditions wi...</td>\n",
              "      <td>NaN</td>\n",
              "      <td>NaN</td>\n",
              "      <td>My students need to engage in Reading and Math...</td>\n",
              "      <td>4</td>\n",
              "      <td>1</td>\n",
              "      <td>Literacy_Language Math_Science</td>\n",
              "      <td>Literacy Mathematics</td>\n",
              "      <td>I work at a unique school filled with both ESL...</td>\n",
              "      <td>431.90</td>\n",
              "      <td>4</td>\n",
              "    </tr>\n",
              "    <tr>\n",
              "      <th>4</th>\n",
              "      <td>172407</td>\n",
              "      <td>p104768</td>\n",
              "      <td>be1f7507a41f8479dc06f047086a39ec</td>\n",
              "      <td>Mrs.</td>\n",
              "      <td>TX</td>\n",
              "      <td>2016-07-11 01:10:09</td>\n",
              "      <td>Grades PreK-2</td>\n",
              "      <td>Interactive Math Tools</td>\n",
              "      <td>Our second grade classroom next year will be m...</td>\n",
              "      <td>For many students, math is a subject that does...</td>\n",
              "      <td>NaN</td>\n",
              "      <td>NaN</td>\n",
              "      <td>My students need hands on practice in mathemat...</td>\n",
              "      <td>1</td>\n",
              "      <td>1</td>\n",
              "      <td>Math_Science</td>\n",
              "      <td>Mathematics</td>\n",
              "      <td>Our second grade classroom next year will be m...</td>\n",
              "      <td>143.96</td>\n",
              "      <td>4</td>\n",
              "    </tr>\n",
              "  </tbody>\n",
              "</table>\n",
              "</div>"
            ],
            "text/plain": [
              "   Unnamed: 0       id                        teacher_id teacher_prefix  \\\n",
              "0      160221  p253737  c90749f5d961ff158d4b4d1e7dc665fc           Mrs.   \n",
              "1      140945  p258326  897464ce9ddc600bced1151f324dd63a            Mr.   \n",
              "2       21895  p182444  3465aaf82da834c0582ebd0ef8040ca0            Ms.   \n",
              "3          45  p246581  f3cb9bffbba169bef1a77b243e620b60           Mrs.   \n",
              "4      172407  p104768  be1f7507a41f8479dc06f047086a39ec           Mrs.   \n",
              "\n",
              "  school_state project_submitted_datetime project_grade_category  \\\n",
              "0           IN        2016-12-05 13:43:57          Grades PreK-2   \n",
              "1           FL        2016-10-25 09:22:10             Grades 6-8   \n",
              "2           AZ        2016-08-31 12:03:56             Grades 6-8   \n",
              "3           KY        2016-10-06 21:16:17          Grades PreK-2   \n",
              "4           TX        2016-07-11 01:10:09          Grades PreK-2   \n",
              "\n",
              "                                       project_title  \\\n",
              "0   Educational Support for English Learners at Home   \n",
              "1              Wanted: Projector for Hungry Learners   \n",
              "2  Soccer Equipment for AWESOME Middle School Stu...   \n",
              "3                             Techie Kindergarteners   \n",
              "4                             Interactive Math Tools   \n",
              "\n",
              "                                     project_essay_1  \\\n",
              "0  My students are English learners that are work...   \n",
              "1  Our students arrive to our school eager to lea...   \n",
              "2  \\r\\n\\\"True champions aren't always the ones th...   \n",
              "3  I work at a unique school filled with both ESL...   \n",
              "4  Our second grade classroom next year will be m...   \n",
              "\n",
              "                                     project_essay_2 project_essay_3  \\\n",
              "0  \\\"The limits of your language are the limits o...             NaN   \n",
              "1  The projector we need for our school is very c...             NaN   \n",
              "2  The students on the campus come to school know...             NaN   \n",
              "3  My students live in high poverty conditions wi...             NaN   \n",
              "4  For many students, math is a subject that does...             NaN   \n",
              "\n",
              "  project_essay_4                           project_resource_summary  \\\n",
              "0             NaN  My students need opportunities to practice beg...   \n",
              "1             NaN  My students need a projector to help with view...   \n",
              "2             NaN  My students need shine guards, athletic socks,...   \n",
              "3             NaN  My students need to engage in Reading and Math...   \n",
              "4             NaN  My students need hands on practice in mathemat...   \n",
              "\n",
              "   teacher_number_of_previously_posted_projects  project_is_approved  \\\n",
              "0                                             0                    0   \n",
              "1                                             7                    1   \n",
              "2                                             1                    0   \n",
              "3                                             4                    1   \n",
              "4                                             1                    1   \n",
              "\n",
              "                 clean_categories           clean_subcategories  \\\n",
              "0               Literacy_Language                  ESL Literacy   \n",
              "1    History_Civics Health_Sports  Civics_Government TeamSports   \n",
              "2                   Health_Sports    Health_Wellness TeamSports   \n",
              "3  Literacy_Language Math_Science          Literacy Mathematics   \n",
              "4                    Math_Science                   Mathematics   \n",
              "\n",
              "                                               essay  Total_Price  quantity  \n",
              "0  My students are English learners that are work...       596.36        23  \n",
              "1  Our students arrive to our school eager to lea...       299.00         1  \n",
              "2  \\r\\n\\\"True champions aren't always the ones th...       686.68        22  \n",
              "3  I work at a unique school filled with both ESL...       431.90         4  \n",
              "4  Our second grade classroom next year will be m...       143.96         4  "
            ]
          },
          "execution_count": 57,
          "metadata": {},
          "output_type": "execute_result"
        }
      ],
      "source": [
        "project_data.head()"
      ]
    },
    {
      "cell_type": "code",
      "execution_count": null,
      "metadata": {
        "id": "NftGuuYEaJcc"
      },
      "outputs": [],
      "source": [
        "approved_price = project_data[project_data['project_is_approved']==1]['Total_Price'].values\n",
        "\n",
        "rejected_price = project_data[project_data['project_is_approved']==0]['Total_Price'].values"
      ]
    },
    {
      "cell_type": "code",
      "execution_count": null,
      "metadata": {
        "id": "q7r37jCjaJcd",
        "outputId": "a7cbdb66-a641-45bd-8111-7ec7b0095da3"
      },
      "outputs": [
        {
          "data": {
            "image/png": "[encoded data removed]",
            "text/plain": [
              "<Figure size 432x288 with 1 Axes>"
            ]
          },
          "metadata": {},
          "output_type": "display_data"
        }
      ],
      "source": [
        "# https://glowingpython.blogspot.com/2012/09/boxplot-with-matplotlib.html\n",
        "plt.boxplot([approved_price, rejected_price])\n",
        "plt.title('Box Plots of Cost per approved and not approved Projects')\n",
        "plt.xticks([1,2],('Approved Projects','Rejected Projects'))\n",
        "plt.ylabel('Price')\n",
        "plt.grid()\n",
        "plt.show()"
      ]
    },
    {
      "cell_type": "code",
      "execution_count": null,
      "metadata": {
        "id": "ooqInUqlaJcf",
        "outputId": "72f9715d-4092-46c9-9f9d-8fcced5e341e"
      },
      "outputs": [
        {
          "data": {
            "image/png": "[encoded data removed]",
            "text/plain": [
              "<Figure size 720x216 with 1 Axes>"
            ]
          },
          "metadata": {},
          "output_type": "display_data"
        }
      ],
      "source": [
        "plt.figure(figsize=(10,3))\n",
        "sns.distplot(approved_price, hist=False, label=\"Approved Projects\")\n",
        "sns.distplot(rejected_price, hist=False, label=\"Not Approved Projects\")\n",
        "plt.title('Cost per approved and not approved Projects')\n",
        "plt.xlabel('Cost of a project')\n",
        "plt.legend()\n",
        "plt.show()"
      ]
    },
    {
      "cell_type": "markdown",
      "metadata": {
        "id": "KzUad8L1g-Ni"
      },
      "source": [
        "* **Again dont see price having any influence on the approval and rejection**"
      ]
    },
    {
      "cell_type": "code",
      "execution_count": null,
      "metadata": {
        "id": "lnfwCqdRaJch",
        "outputId": "e3c94d54-4d6e-46c3-b42c-cb8331392a3e"
      },
      "outputs": [
        {
          "name": "stdout",
          "output_type": "stream",
          "text": [
            "+--------------------------------------------------------+\n",
            "|      Cost per approved and not approved Projects       |\n",
            "+------------+-------------------+-----------------------+\n",
            "| Percentile | Approved Projects | Not Approved Projects |\n",
            "+------------+-------------------+-----------------------+\n",
            "|     0      |       100.0       |         100.0         |\n",
            "|     5      |      119.284      |         125.84        |\n",
            "|     10     |      146.152      |        163.614        |\n",
            "|     15     |       178.0       |        203.147        |\n",
            "|     20     |       207.84      |        239.788        |\n",
            "|     25     |      240.485      |        273.905        |\n",
            "|     30     |       270.9       |        301.976        |\n",
            "|     35     |       299.7       |        337.844        |\n",
            "|     40     |       328.97      |         368.0         |\n",
            "|     45     |       359.97      |        397.352        |\n",
            "|     50     |       391.44      |         428.36        |\n",
            "|     55     |      421.271      |        468.753        |\n",
            "|     60     |      465.762      |        523.736        |\n",
            "|     65     |      514.953      |        599.436        |\n",
            "|     70     |       596.0       |         677.24        |\n",
            "|     75     |       679.04      |        734.888        |\n",
            "|     80     |       746.24      |        800.846        |\n",
            "|     85     |       828.0       |        952.159        |\n",
            "|     90     |      1023.956     |        1197.672       |\n",
            "|     95     |      1490.036     |        1575.098       |\n",
            "|    100     |      13543.82     |        10987.06       |\n",
            "+------------+-------------------+-----------------------+\n"
          ]
        }
      ],
      "source": [
        "# http://zetcode.com/python/prettytable/\n",
        "from prettytable import PrettyTable\n",
        "\n",
        "#If you get a ModuleNotFoundError error , install prettytable using: pip3 install prettytable\n",
        "\n",
        "x = PrettyTable()\n",
        "x.field_names = [\"Percentile\", \"Approved Projects\", \"Not Approved Projects\"]\n",
        "x.title = 'Cost per approved and not approved Projects'\n",
        "for i in range(0,101,5):\n",
        "    x.add_row([i,np.round(np.percentile(approved_price,i), 3), np.round(np.percentile(rejected_price,i), 3)])\n",
        "print(x)"
      ]
    },
    {
      "cell_type": "markdown",
      "metadata": {
        "id": "qSaNh-Xpg-Ni"
      },
      "source": [
        "### 1.2.8 Univariate Analysis: Quantity per project"
      ]
    },
    {
      "cell_type": "code",
      "execution_count": null,
      "metadata": {
        "id": "PiabsLDWg-Nj"
      },
      "outputs": [],
      "source": [
        "approved_quantity = project_data[project_data['project_is_approved']==1]['quantity'].values\n",
        "\n",
        "rejected_quantity = project_data[project_data['project_is_approved']==0]['quantity'].values"
      ]
    },
    {
      "cell_type": "code",
      "execution_count": null,
      "metadata": {
        "id": "8w7KaDy3g-Nj",
        "outputId": "7a8c098f-d9ee-4ac2-d74c-a0b3472d38a3"
      },
      "outputs": [
        {
          "data": {
            "image/png": "[encoded data removed]",
            "text/plain": [
              "<Figure size 432x288 with 1 Axes>"
            ]
          },
          "metadata": {},
          "output_type": "display_data"
        }
      ],
      "source": [
        "# https://glowingpython.blogspot.com/2012/09/boxplot-with-matplotlib.html\n",
        "plt.boxplot([approved_quantity, rejected_quantity])\n",
        "plt.title('Box Plots of Quantity per approved and not approved Projects')\n",
        "plt.xticks([1,2],('Approved Projects','Rejected Projects'))\n",
        "plt.ylabel('Quantity')\n",
        "plt.grid()\n",
        "plt.show()"
      ]
    },
    {
      "cell_type": "code",
      "execution_count": null,
      "metadata": {
        "id": "NqkJQcpng-Nk",
        "outputId": "1fabe823-d3df-4bfe-c96d-b6e0d6d43b79"
      },
      "outputs": [
        {
          "data": {
            "image/png": "[encoded data removed]",
            "text/plain": [
              "<Figure size 720x216 with 1 Axes>"
            ]
          },
          "metadata": {},
          "output_type": "display_data"
        }
      ],
      "source": [
        "plt.figure(figsize=(10,3))\n",
        "sns.distplot(approved_quantity, hist=False, label=\"Approved Projects\")\n",
        "sns.distplot(rejected_quantity, hist=False, label=\"Not Approved Projects\")\n",
        "plt.title('Quantity per approved and not approved Projects')\n",
        "plt.xlabel('Quantity of a project')\n",
        "plt.legend()\n",
        "plt.show()"
      ]
    },
    {
      "cell_type": "markdown",
      "metadata": {
        "id": "5wJ_Hs2Mg-Nk"
      },
      "source": [
        "* **Again no difference in the distribution of quanitity for approved and rejected projects** "
      ]
    },
    {
      "cell_type": "markdown",
      "metadata": {
        "id": "Qq8L1X89aJcj"
      },
      "source": [
        "<h3><font color='black'>1.2.9 Univariate Analysis: teacher_number_of_previously_posted_projects</font></h3>"
      ]
    },
    {
      "cell_type": "code",
      "source": [
        "approved_projects = project_data[project_data['project_is_approved']==1]['teacher_number_of_previously_posted_projects'].values\n",
        "\n",
        "rejected_projects = project_data[project_data['project_is_approved']==0]['teacher_number_of_previously_posted_projects'].values"
      ],
      "metadata": {
        "id": "Ewk_jNsyzjxU"
      },
      "execution_count": null,
      "outputs": []
    },
    {
      "cell_type": "code",
      "execution_count": null,
      "metadata": {
        "id": "Q1xmXW4kg-Nl",
        "outputId": "9382b821-70ab-4544-caf7-07caec6b5b69"
      },
      "outputs": [
        {
          "data": {
            "image/png": "[encoded data removed]",
            "text/plain": [
              "<Figure size 432x288 with 1 Axes>"
            ]
          },
          "metadata": {},
          "output_type": "display_data"
        }
      ],
      "source": [
        "# https://glowingpython.blogspot.com/2012/09/boxplot-with-matplotlib.html\n",
        "plt.boxplot([approved_projects, rejected_projects])\n",
        "plt.title('Box Plots of No of previously posted porjects by a teacher')\n",
        "plt.xticks([1,2],('Approved Projects','Rejected Projects'))\n",
        "plt.ylabel('No of projects')\n",
        "plt.grid()\n",
        "plt.show()"
      ]
    },
    {
      "cell_type": "code",
      "execution_count": null,
      "metadata": {
        "id": "9NyhmCwhg-Ns",
        "outputId": "3a002159-16e4-47d1-8bd2-158f5dbaa5dc"
      },
      "outputs": [
        {
          "data": {
            "image/png": "[encoded data removed]",
            "text/plain": [
              "<Figure size 720x216 with 1 Axes>"
            ]
          },
          "metadata": {},
          "output_type": "display_data"
        }
      ],
      "source": [
        "plt.figure(figsize=(10,3))\n",
        "sns.distplot(approved_projects, hist=False, label=\"Approved Projects\")\n",
        "sns.distplot(rejected_projects, hist=False, label=\"Not Approved Projects\")\n",
        "plt.title('No of previously posted porjects by a teacher')\n",
        "plt.xlabel('No of projects')\n",
        "plt.legend()\n",
        "plt.show()"
      ]
    },
    {
      "cell_type": "markdown",
      "metadata": {
        "id": "3g4mktKPg-Ns"
      },
      "source": [
        "* ** Again no difference in the distribution of no of previously submitted proposals for approved and rejected projects**"
      ]
    },
    {
      "cell_type": "code",
      "execution_count": null,
      "metadata": {
        "id": "fKmDSb5sg-Nt",
        "outputId": "44c725bd-3298-43bc-bc19-74c1b9a9702a"
      },
      "outputs": [
        {
          "name": "stdout",
          "output_type": "stream",
          "text": [
            "+--------------------------------------------------------+\n",
            "|     No of previously posted porjects by a teacher      |\n",
            "+------------+-------------------+-----------------------+\n",
            "| Percentile | Approved Projects | Not Approved Projects |\n",
            "+------------+-------------------+-----------------------+\n",
            "|     0      |        0.0        |          0.0          |\n",
            "|     5      |        0.0        |          0.0          |\n",
            "|     10     |        0.0        |          0.0          |\n",
            "|     15     |        0.0        |          0.0          |\n",
            "|     20     |        0.0        |          0.0          |\n",
            "|     25     |        0.0        |          0.0          |\n",
            "|     30     |        1.0        |          0.0          |\n",
            "|     35     |        1.0        |          1.0          |\n",
            "|     40     |        1.0        |          1.0          |\n",
            "|     45     |        2.0        |          1.0          |\n",
            "|     50     |        2.0        |          2.0          |\n",
            "|     55     |        3.0        |          2.0          |\n",
            "|     60     |        4.0        |          3.0          |\n",
            "|     65     |        5.0        |          3.0          |\n",
            "|     70     |        7.0        |          4.0          |\n",
            "|     75     |        9.0        |          6.0          |\n",
            "|     80     |        13.0       |          8.0          |\n",
            "|     85     |        19.0       |          11.0         |\n",
            "|     90     |        30.0       |          17.0         |\n",
            "|     95     |        57.0       |          31.0         |\n",
            "|    100     |       451.0       |         345.0         |\n",
            "+------------+-------------------+-----------------------+\n"
          ]
        }
      ],
      "source": [
        "# http://zetcode.com/python/prettytable/\n",
        "\n",
        "x = PrettyTable()\n",
        "x.field_names = [\"Percentile\", \"Approved Projects\", \"Not Approved Projects\"]\n",
        "x.title='No of previously posted porjects by a teacher'\n",
        "for i in range(0,101,5):\n",
        "    x.add_row([i,np.round(np.percentile(approved_projects,i), 3), np.round(np.percentile(rejected_projects,i), 3)])\n",
        "print(x)"
      ]
    },
    {
      "cell_type": "markdown",
      "metadata": {
        "id": "OITep3gyg-Nu"
      },
      "source": [
        "* ** 25% of people are first time submitters**\n",
        "* ** Another 20% have 1 or 2 proposals in the past**\n",
        "* ** Another 20% have 3 to 9 proposals in the past **\n",
        "* ** Rest 35% have more than 10 proposals and maximum upto 451 proposals also **"
      ]
    },
    {
      "cell_type": "markdown",
      "metadata": {
        "id": "czY88FJHg-Nu"
      },
      "source": [
        "**We dont see \"No of previously posted porjects by a teacher\" impacting the approval rates**"
      ]
    },
    {
      "cell_type": "markdown",
      "metadata": {
        "id": "74frDDqAaJck"
      },
      "source": [
        "<h3><font color='black'>1.2.10 Univariate Analysis: project_resource_summary</font></h3>\n",
        "\n",
        "\n",
        "\n",
        "\n"
      ]
    },
    {
      "cell_type": "markdown",
      "metadata": {
        "id": "PmGfe2Z_aJcl"
      },
      "source": [
        "\n",
        "\n",
        "Check if the `presence of the numerical digits` in the `project_resource_summary` effects the acceptance of the project or not. If you observe that `presence of the numerical digits` is helpful in the classification, please include it for further process or you can ignore it."
      ]
    },
    {
      "cell_type": "code",
      "execution_count": null,
      "metadata": {
        "id": "8Xj_egrEg-Nv"
      },
      "outputs": [],
      "source": [
        "approved_project_resource_summary_count = project_data[project_data['project_is_approved']==1]['project_resource_summary'].str.split().apply(len)\n",
        "approved_project_resource_summary_count = approved_project_resource_summary_count.values\n",
        "\n",
        "rejected_project_resource_summary_count = project_data[project_data['project_is_approved']==0]['project_resource_summary'].str.split().apply(len)\n",
        "rejected_project_resource_summary_count = rejected_project_resource_summary_count .values"
      ]
    },
    {
      "cell_type": "code",
      "execution_count": null,
      "metadata": {
        "id": "k-n2OWLsg-Nw",
        "outputId": "25d64fe2-4a7c-4f9d-f826-de5644e8dfd6"
      },
      "outputs": [
        {
          "data": {
            "image/png": "[encoded data removed]",
            "text/plain": [
              "<Figure size 432x288 with 1 Axes>"
            ]
          },
          "metadata": {},
          "output_type": "display_data"
        }
      ],
      "source": [
        "# https://glowingpython.blogspot.com/2012/09/boxplot-with-matplotlib.html\n",
        "plt.boxplot([approved_project_resource_summary_count , rejected_project_resource_summary_count])\n",
        "plt.title('Box Plots of project_resource_summary')\n",
        "plt.xticks([1,2],('Approved Projects','Rejected Projects'))\n",
        "plt.ylabel('Count of words')\n",
        "plt.grid()\n",
        "plt.show()"
      ]
    },
    {
      "cell_type": "code",
      "execution_count": null,
      "metadata": {
        "id": "Ah79P9aUg-Nw",
        "outputId": "7f1cc1f6-38de-43cd-a32d-bb5684a925ac"
      },
      "outputs": [
        {
          "data": {
            "image/png": "[encoded data removed]",
            "text/plain": [
              "<Figure size 720x216 with 1 Axes>"
            ]
          },
          "metadata": {},
          "output_type": "display_data"
        }
      ],
      "source": [
        "plt.figure(figsize=(10,3))\n",
        "sns.distplot(approved_project_resource_summary_count, hist=False, label=\"Approved Projects\")\n",
        "sns.distplot(rejected_project_resource_summary_count, hist=False, label=\"Not Approved Projects\")\n",
        "plt.title('Box Plots of words for project_resource_summary')\n",
        "plt.xlabel('Count of words')\n",
        "plt.legend()\n",
        "plt.show()"
      ]
    },
    {
      "cell_type": "code",
      "execution_count": null,
      "metadata": {
        "id": "qojCwQxag-Nx",
        "outputId": "05995bf4-eaa0-4c3e-ec0f-511d5cf85316"
      },
      "outputs": [
        {
          "name": "stdout",
          "output_type": "stream",
          "text": [
            "+--------------------------------------------------------+\n",
            "|                project_resource_summary                |\n",
            "+------------+-------------------+-----------------------+\n",
            "| Percentile | Approved Projects | Not Approved Projects |\n",
            "+------------+-------------------+-----------------------+\n",
            "|     0      |        4.0        |          4.0          |\n",
            "|     5      |        11.0       |          11.0         |\n",
            "|     10     |        11.0       |          11.0         |\n",
            "|     15     |        12.0       |          12.0         |\n",
            "|     20     |        13.0       |          13.0         |\n",
            "|     25     |        14.0       |          14.0         |\n",
            "|     30     |        14.0       |          15.0         |\n",
            "|     35     |        15.0       |          16.0         |\n",
            "|     40     |        16.0       |          17.0         |\n",
            "|     45     |        17.0       |          18.0         |\n",
            "|     50     |        18.0       |          19.0         |\n",
            "|     55     |        19.0       |          20.0         |\n",
            "|     60     |        21.0       |          22.0         |\n",
            "|     65     |        22.0       |          24.0         |\n",
            "|     70     |        24.0       |          25.0         |\n",
            "|     75     |        26.0       |          28.0         |\n",
            "|     80     |        28.0       |          30.0         |\n",
            "|     85     |        30.0       |          32.0         |\n",
            "|     90     |        33.0       |          34.0         |\n",
            "|     95     |        35.0       |          35.0         |\n",
            "|    100     |       137.0       |          37.0         |\n",
            "+------------+-------------------+-----------------------+\n"
          ]
        }
      ],
      "source": [
        "# http://zetcode.com/python/prettytable/\n",
        "\n",
        "x = PrettyTable()\n",
        "x.field_names = [\"Percentile\", \"Approved Projects\", \"Not Approved Projects\"]\n",
        "x.title='project_resource_summary'\n",
        "for i in range(0,101,5):\n",
        "    x.add_row([i,np.round(np.percentile(approved_project_resource_summary_count,i), 3), np.round(np.percentile(rejected_project_resource_summary_count,i), 3)])\n",
        "print(x)"
      ]
    },
    {
      "cell_type": "markdown",
      "metadata": {
        "id": "N46LdNn3g-Ny"
      },
      "source": [
        "**We dont see \"Word Count in Project Resource Summary\" impacting project approval rate**"
      ]
    },
    {
      "cell_type": "code",
      "execution_count": null,
      "metadata": {
        "id": "4xLe0zpjg-Nz"
      },
      "outputs": [],
      "source": [
        "#How to find any digit in a string https://stackoverflow.com/questions/19859282/check-if-a-string-contains-a-number\n",
        "#def any_digit(string):\n",
        "def any_digit(string):\n",
        "    if any(i.isdigit() for i in string):\n",
        "        return 1\n",
        "    else:\n",
        "        return 0"
      ]
    },
    {
      "cell_type": "code",
      "source": [
        "project_data[\"project_resource_summary_isdigit\"]=project_data['project_resource_summary'].apply(any_digit)"
      ],
      "metadata": {
        "id": "EaiAKvD00E-S"
      },
      "execution_count": null,
      "outputs": []
    },
    {
      "cell_type": "code",
      "execution_count": null,
      "metadata": {
        "id": "0sJfltJ7g-N0",
        "outputId": "50517506-7a1d-46a3-df05-b821ca6c9166"
      },
      "outputs": [
        {
          "data": {
            "image/png": "[encoded data removed]",
            "text/plain": [
              "<Figure size 1440x360 with 1 Axes>"
            ]
          },
          "metadata": {},
          "output_type": "display_data"
        },
        {
          "name": "stdout",
          "output_type": "stream",
          "text": [
            "   project_resource_summary_isdigit  project_is_approved  total       Avg\n",
            "0                                 0                78614  93490  0.840881\n",
            "1                                 1                14089  15755  0.894256\n",
            "==================================================\n",
            "   project_resource_summary_isdigit  project_is_approved  total       Avg\n",
            "0                                 0                78614  93490  0.840881\n",
            "1                                 1                14089  15755  0.894256\n"
          ]
        }
      ],
      "source": [
        "univariate_barplots(project_data, 'project_resource_summary_isdigit', 'project_is_approved')"
      ]
    },
    {
      "cell_type": "markdown",
      "metadata": {
        "id": "VaWv1MkMg-N1"
      },
      "source": [
        "** As we can see the presence of Numeric No does impact the acceptance rate so we will keep this field**"
      ]
    }
  ],
  "metadata": {
    "colab": {
      "collapsed_sections": [
        "df7aw9znaJbU",
        "KLkWseiHaJbY",
        "ODDsS25MaJbd",
        "hqnsApdoaJbv",
        "MDUTl1iAaJcC",
        "eWIdgjtHaJcM",
        "eAr4K8J4aJcV",
        "hV8-QvxGaJcm",
        "3KP4HQ2xaJc8",
        "umi63xCcaJdD",
        "oMHWIrroaJdE",
        "sKXhBeHZaJdK",
        "RDYCGTBvaJdP",
        "yJWbIFXKaJdW"
      ],
      "provenance": [],
      "include_colab_link": true
    },
    "kernelspec": {
      "display_name": "Python 3 (ipykernel)",
      "language": "python",
      "name": "python3"
    },
    "language_info": {
      "codemirror_mode": {
        "name": "ipython",
        "version": 3
      },
      "file_extension": ".py",
      "mimetype": "text/x-python",
      "name": "python",
      "nbconvert_exporter": "python",
      "pygments_lexer": "ipython3",
      "version": "3.9.7"
    }
  },
  "nbformat": 4,
  "nbformat_minor": 0
}