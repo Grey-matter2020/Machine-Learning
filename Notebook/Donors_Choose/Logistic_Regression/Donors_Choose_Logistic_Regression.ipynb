{
  "cells": [
    {
      "cell_type": "markdown",
      "metadata": {
        "id": "view-in-github",
        "colab_type": "text"
      },
      "source": [
        "<a href=\"https://colab.research.google.com/github/Grey-matter2020/Machine-Learning/blob/main/Notebook/Donors_Choose/Logistic_Regression/Donors_Choose_Logistic_Regression.ipynb\" target=\"_parent\"><img src=\"https://colab.research.google.com/assets/colab-badge.svg\" alt=\"Open In Colab\"/></a>"
      ]
    },
    {
      "cell_type": "markdown",
      "metadata": {
        "id": "nvM2d9gKaJaS"
      },
      "source": [
        "# DonorsChoose"
      ]
    },
    {
      "cell_type": "markdown",
      "source": [
        "https://www.kaggle.com/competitions/donorschoose-application-screening/data"
      ],
      "metadata": {
        "id": "F30w48sfbUjn"
      }
    },
    {
      "cell_type": "markdown",
      "metadata": {
        "id": "zt7ZdX4-aJaV"
      },
      "source": [
        "<p>\n",
        "DonorsChoose.org receives hundreds of thousands of project proposals each year for classroom projects in need of funding. Right now, a large number of volunteers is needed to manually screen each submission before it's approved to be posted on the DonorsChoose.org website.\n",
        "</p>\n",
        "<p>\n",
        "    Next year, DonorsChoose.org expects to receive close to 500,000 project proposals. As a result, there are three main problems they need to solve:\n",
        "<ul>\n",
        "<li>\n",
        "    How to scale current manual processes and resources to screen 500,000 projects so that they can be posted as quickly and as efficiently as possible</li>\n",
        "    <li>How to increase the consistency of project vetting across different volunteers to improve the experience for teachers</li>\n",
        "    <li>How to focus volunteer time on the applications that need the most assistance</li>\n",
        "    </ul>\n",
        "</p>    \n",
        "<p>\n",
        "The goal of the competition is to predict whether or not a DonorsChoose.org project proposal submitted by a teacher will be approved, using the text of project descriptions as well as additional metadata about the project, teacher, and school. DonorsChoose.org can then use this information to identify projects most likely to need further review before approval.\n",
        "</p>"
      ]
    },
    {
      "cell_type": "markdown",
      "metadata": {
        "id": "BrEvnJMGaJaZ"
      },
      "source": [
        "## About the DonorsChoose Data Set\n",
        "\n",
        "The `train.csv` data set provided by DonorsChoose contains the following features:\n",
        "\n",
        "Feature | Description \n",
        "----------|---------------\n",
        "**`project_id`** | A unique identifier for the proposed project. **Example:** `p258326`   \n",
        "**`project_title`**    | Title of the project. **Examples:**<br><ul><li><code>Educational Support for English Learners at Home</code></li><li><code>Techie Kindergarteners</code></li></ul> \n",
        "**`project_grade_category`** | Grade level of students for which the project is targeted. One of the following enumerated values: <br/><ul><li><code>Grades PreK-2</code></li><li><code>Grades 3-5</code></li><li><code>Grades 6-8</code></li><li><code>Grades 9-12</code></li></ul>  \n",
        " **`project_subject_categories`** | One or more (comma-separated) subject categories for the project from the following enumerated list of values:  <br/><ul><li><code>Applied Learning</code></li><li><code>Care &amp; Hunger</code></li><li><code>Health &amp; Sports</code></li><li><code>History &amp; Civics</code></li><li><code>Literacy &amp; Language</code></li><li><code>Math &amp; Science</code></li><li><code>Music &amp; The Arts</code></li><li><code>Special Needs</code></li><li><code>Warmth</code></li></ul><br/> **Examples:** <br/><ul><li><code>Music &amp; The Arts</code></li><li><code>Literacy &amp; Language, Math &amp; Science</code></li>  \n",
        "  **`school_state`** | State where school is located ([Two-letter U.S. postal code](https://en.wikipedia.org/wiki/List_of_U.S._state_abbreviations#Postal_codes)). **Example:** `WY`\n",
        "**`project_subject_subcategories`** | One or more (comma-separated) subject subcategories for the project. **Examples:** <br/><ul><li><code>Literacy</code></li><li><code>Literature &amp; Writing, Social Sciences</code></li></ul> \n",
        "**`project_resource_summary`** | An explanation of the resources needed for the project. **Example:** <br/><ul><li><code>My students need shine guards, athletic socks, Soccer Balls, goalie gloves, and training materials for the upcoming Soccer season.</code</li></ul> \n",
        "**`project_essay_1`**    | First application essay<sup>*</sup>  \n",
        "**`project_essay_2`**    | Second application essay<sup>*</sup> \n",
        "**`project_essay_3`**    | Third application essay<sup>*</sup> \n",
        "**`project_essay_4`**    | Fourth application essay<sup>*</sup> \n",
        "**`project_submitted_datetime`** | Datetime when project application was submitted. **Example:** `05-12-2016  13:43:57`   \n",
        "**`teacher_id`** | A unique identifier for the teacher of the proposed project. **Example:** `897464ce9ddc600bced1151f324dd63a`  \n",
        "**`teacher_prefix`** | Teacher's title. One of the following enumerated values: <br/><ul><li><code>nan</code></li><li><code>Dr.</code></li><li><code>Mr.</code></li><li><code>Mrs.</code></li><li><code>Ms.</code></li><li><code>Teacher.</code></li></ul>  \n",
        "**`teacher_number_of_previously_posted_projects`** | Number of project applications previously submitted by the same teacher. **Example:** `2` \n",
        "\n",
        "### Notes on the Essay Data\n",
        "\n",
        "<ul>\n",
        "Prior to May 17, 2016, 4 essays had to be submitted.\n",
        "</ul>\n",
        "\n",
        "\n",
        "<ul>\n",
        "Starting on May 17, 2016, the number of essays was reduced from 4 to 2\n",
        "<br>For all projects with project_submitted_datetime of 2016-05-17 and later, the values of project_essay_3 and project_essay_4 will be NaN.\n",
        "</ul>\n",
        "\n",
        "Additionally, the `resources.csv` data set provides more data about the resources required for each project. Each line in this file represents a resource required by a project:\n",
        "\n",
        "Feature | Description \n",
        "----------|---------------\n",
        "**`id`** | A `project_id` value from the `train.csv` file.  **Example:** `p258326`   \n",
        "**`description`** | Desciption of the resource. **Example:** `Brewster Wall Pops WPE99065 Peel & Stick Calypso Dry-Erase Dots with Marker, 3-Count`   \n",
        "**`quantity`** | Quantity of the resource required. **Example:** `3`   \n",
        "**`price`** | Price of the resource required. **Example:** `16.99`   \n",
        "\n",
        "**Note:** Many projects require multiple resources. The `id` value corresponds to a `project_id` in train.csv, so you use it as a key to retrieve all resources needed for a project:\n",
        "\n",
        "The data set contains the following label (the value you will attempt to predict):\n",
        "\n",
        "Label | Description\n",
        "----------|---------------\n",
        "`project_is_approved` | A binary flag indicating whether DonorsChoose approved the project. A value of `0` indicates the project was not approved, and a value of `1` indicates the project was approved."
      ]
    },
    {
      "cell_type": "code",
      "source": [
        "# Connect to the Google Drive to read the iris.csv file\n",
        "from google.colab import drive\n",
        "\n",
        "drive.mount('/content/gdrive')"
      ],
      "metadata": {
        "colab": {
          "base_uri": "https://localhost:8080/"
        },
        "id": "RDUTVp4Ubjpp",
        "outputId": "ea0d965d-a416-4819-a84c-1199d36a4850"
      },
      "execution_count": null,
      "outputs": [
        {
          "output_type": "stream",
          "name": "stdout",
          "text": [
            "Drive already mounted at /content/gdrive; to attempt to forcibly remount, call drive.mount(\"/content/gdrive\", force_remount=True).\n"
          ]
        }
      ]
    },
    {
      "cell_type": "code",
      "source": [
        "#List the files in the Data Analyst folder\n",
        "!ls \"/content/gdrive/My Drive/Machine Learning/Logistic Regression\""
      ],
      "metadata": {
        "colab": {
          "base_uri": "https://localhost:8080/"
        },
        "id": "G8wtDR4Ebj4X",
        "outputId": "48875487-5b6c-4d5b-8355-d285978b7985"
      },
      "execution_count": null,
      "outputs": [
        {
          "output_type": "stream",
          "name": "stdout",
          "text": [
            "Donors_Choose_Logistic_Regression.ipynb  resources.csv\n",
            "glove_vectors\t\t\t\t train_data.csv\n"
          ]
        }
      ]
    },
    {
      "cell_type": "code",
      "source": [
        "#Changing the directory to Data Analyst folder\n",
        "%cd \"/content/gdrive/My Drive/Machine Learning/Logistic Regression\""
      ],
      "metadata": {
        "colab": {
          "base_uri": "https://localhost:8080/"
        },
        "id": "xaQv41bfbkCt",
        "outputId": "4099d17e-a81c-45ce-cac9-f9d281be404f"
      },
      "execution_count": null,
      "outputs": [
        {
          "output_type": "stream",
          "name": "stdout",
          "text": [
            "/content/gdrive/My Drive/Machine Learning/Logistic Regression\n"
          ]
        }
      ]
    },
    {
      "cell_type": "code",
      "source": [
        "!pwd"
      ],
      "metadata": {
        "colab": {
          "base_uri": "https://localhost:8080/"
        },
        "id": "ZeppdGhKbkLV",
        "outputId": "d17de74d-f701-47a5-fd9c-4d354c55a1fd"
      },
      "execution_count": null,
      "outputs": [
        {
          "output_type": "stream",
          "name": "stdout",
          "text": [
            "/content/gdrive/My Drive/Machine Learning/Logistic Regression\n"
          ]
        }
      ]
    },
    {
      "cell_type": "code",
      "execution_count": null,
      "metadata": {
        "id": "CDr-VpfXaJaf"
      },
      "outputs": [],
      "source": [
        "import sqlite3\n",
        "import pandas as pd\n",
        "import numpy as np\n",
        "\n",
        "import matplotlib.pyplot as plt\n",
        "import seaborn as sns\n",
        "%matplotlib inline\n",
        "import warnings\n",
        "warnings.filterwarnings(\"ignore\")\n"
      ]
    },
    {
      "cell_type": "code",
      "execution_count": null,
      "metadata": {
        "id": "-muKqg01a_fq"
      },
      "outputs": [],
      "source": [
        "import re\n",
        "#from nltk.corpus import stopwords\n",
        "from tqdm._tqdm_notebook import tqdm_notebook\n",
        "tqdm_notebook.pandas()\n",
        "from sklearn.feature_extraction.text import CountVectorizer\n",
        "from sklearn.feature_extraction.text import TfidfTransformer"
      ]
    },
    {
      "cell_type": "code",
      "execution_count": null,
      "metadata": {
        "id": "RKlWrAsoa_fq"
      },
      "outputs": [],
      "source": [
        "import spacy\n",
        "nlp =spacy.load(\"en_core_web_sm\",disable=['parser', 'ner'])\n",
        "lemmatizer = spacy.lang.en.English()"
      ]
    },
    {
      "cell_type": "markdown",
      "metadata": {
        "id": "8Drwa7XaaJar"
      },
      "source": [
        "## 1.1 Reading Data"
      ]
    },
    {
      "cell_type": "code",
      "execution_count": null,
      "metadata": {
        "id": "P5NdUxFCaJas"
      },
      "outputs": [],
      "source": [
        "project_data = pd.read_csv('train_data.csv')\n",
        "resource_data = pd.read_csv('resources.csv')"
      ]
    },
    {
      "cell_type": "code",
      "execution_count": null,
      "metadata": {
        "colab": {
          "base_uri": "https://localhost:8080/",
          "height": 471
        },
        "id": "JhsIqPIKaJax",
        "outputId": "798d3d98-19f6-4c84-e8cd-e4c613b9cbfa",
        "scrolled": true
      },
      "outputs": [
        {
          "output_type": "stream",
          "name": "stdout",
          "text": [
            "Number of data points in train data (109248, 16)\n",
            "--------------------------------------------------\n",
            "The attributes of data :\n",
            " ['id' 'teacher_id' 'teacher_prefix' 'school_state'\n",
            " 'project_submitted_datetime' 'project_grade_category'\n",
            " 'project_subject_categories' 'project_subject_subcategories'\n",
            " 'project_title' 'project_essay_1' 'project_essay_2' 'project_essay_3'\n",
            " 'project_essay_4' 'project_resource_summary'\n",
            " 'teacher_number_of_previously_posted_projects' 'project_is_approved']\n",
            "--------------------------------------------------\n"
          ]
        },
        {
          "output_type": "execute_result",
          "data": {
            "text/plain": [
              "        id                        teacher_id teacher_prefix school_state  \\\n",
              "0  p253737  c90749f5d961ff158d4b4d1e7dc665fc           Mrs.           IN   \n",
              "1  p258326  897464ce9ddc600bced1151f324dd63a            Mr.           FL   \n",
              "\n",
              "  project_submitted_datetime project_grade_category  \\\n",
              "0           05-12-2016 13:43          Grades PreK-2   \n",
              "1           25-10-2016 09:22             Grades 6-8   \n",
              "\n",
              "          project_subject_categories     project_subject_subcategories  \\\n",
              "0                Literacy & Language                     ESL, Literacy   \n",
              "1  History & Civics, Health & Sports  Civics & Government, Team Sports   \n",
              "\n",
              "                                      project_title  \\\n",
              "0  Educational Support for English Learners at Home   \n",
              "1             Wanted: Projector for Hungry Learners   \n",
              "\n",
              "                                     project_essay_1  \\\n",
              "0  My students are English learners that are work...   \n",
              "1  Our students arrive to our school eager to lea...   \n",
              "\n",
              "                                     project_essay_2 project_essay_3  \\\n",
              "0  \\\"The limits of your language are the limits o...             NaN   \n",
              "1  The projector we need for our school is very c...             NaN   \n",
              "\n",
              "  project_essay_4                           project_resource_summary  \\\n",
              "0             NaN  My students need opportunities to practice beg...   \n",
              "1             NaN  My students need a projector to help with view...   \n",
              "\n",
              "   teacher_number_of_previously_posted_projects  project_is_approved  \n",
              "0                                             0                    0  \n",
              "1                                             7                    1  "
            ],
            "text/html": [
              "\n",
              "  <div id=\"df-9fc35df3-3a0d-47d7-a585-64015e189169\">\n",
              "    <div class=\"colab-df-container\">\n",
              "      <div>\n",
              "<style scoped>\n",
              "    .dataframe tbody tr th:only-of-type {\n",
              "        vertical-align: middle;\n",
              "    }\n",
              "\n",
              "    .dataframe tbody tr th {\n",
              "        vertical-align: top;\n",
              "    }\n",
              "\n",
              "    .dataframe thead th {\n",
              "        text-align: right;\n",
              "    }\n",
              "</style>\n",
              "<table border=\"1\" class=\"dataframe\">\n",
              "  <thead>\n",
              "    <tr style=\"text-align: right;\">\n",
              "      <th></th>\n",
              "      <th>id</th>\n",
              "      <th>teacher_id</th>\n",
              "      <th>teacher_prefix</th>\n",
              "      <th>school_state</th>\n",
              "      <th>project_submitted_datetime</th>\n",
              "      <th>project_grade_category</th>\n",
              "      <th>project_subject_categories</th>\n",
              "      <th>project_subject_subcategories</th>\n",
              "      <th>project_title</th>\n",
              "      <th>project_essay_1</th>\n",
              "      <th>project_essay_2</th>\n",
              "      <th>project_essay_3</th>\n",
              "      <th>project_essay_4</th>\n",
              "      <th>project_resource_summary</th>\n",
              "      <th>teacher_number_of_previously_posted_projects</th>\n",
              "      <th>project_is_approved</th>\n",
              "    </tr>\n",
              "  </thead>\n",
              "  <tbody>\n",
              "    <tr>\n",
              "      <th>0</th>\n",
              "      <td>p253737</td>\n",
              "      <td>c90749f5d961ff158d4b4d1e7dc665fc</td>\n",
              "      <td>Mrs.</td>\n",
              "      <td>IN</td>\n",
              "      <td>05-12-2016 13:43</td>\n",
              "      <td>Grades PreK-2</td>\n",
              "      <td>Literacy &amp; Language</td>\n",
              "      <td>ESL, Literacy</td>\n",
              "      <td>Educational Support for English Learners at Home</td>\n",
              "      <td>My students are English learners that are work...</td>\n",
              "      <td>\\\"The limits of your language are the limits o...</td>\n",
              "      <td>NaN</td>\n",
              "      <td>NaN</td>\n",
              "      <td>My students need opportunities to practice beg...</td>\n",
              "      <td>0</td>\n",
              "      <td>0</td>\n",
              "    </tr>\n",
              "    <tr>\n",
              "      <th>1</th>\n",
              "      <td>p258326</td>\n",
              "      <td>897464ce9ddc600bced1151f324dd63a</td>\n",
              "      <td>Mr.</td>\n",
              "      <td>FL</td>\n",
              "      <td>25-10-2016 09:22</td>\n",
              "      <td>Grades 6-8</td>\n",
              "      <td>History &amp; Civics, Health &amp; Sports</td>\n",
              "      <td>Civics &amp; Government, Team Sports</td>\n",
              "      <td>Wanted: Projector for Hungry Learners</td>\n",
              "      <td>Our students arrive to our school eager to lea...</td>\n",
              "      <td>The projector we need for our school is very c...</td>\n",
              "      <td>NaN</td>\n",
              "      <td>NaN</td>\n",
              "      <td>My students need a projector to help with view...</td>\n",
              "      <td>7</td>\n",
              "      <td>1</td>\n",
              "    </tr>\n",
              "  </tbody>\n",
              "</table>\n",
              "</div>\n",
              "      <button class=\"colab-df-convert\" onclick=\"convertToInteractive('df-9fc35df3-3a0d-47d7-a585-64015e189169')\"\n",
              "              title=\"Convert this dataframe to an interactive table.\"\n",
              "              style=\"display:none;\">\n",
              "        \n",
              "  <svg xmlns=\"http://www.w3.org/2000/svg\" height=\"24px\"viewBox=\"0 0 24 24\"\n",
              "       width=\"24px\">\n",
              "    <path d=\"M0 0h24v24H0V0z\" fill=\"none\"/>\n",
              "    <path d=\"M18.56 5.44l.94 2.06.94-2.06 2.06-.94-2.06-.94-.94-2.06-.94 2.06-2.06.94zm-11 1L8.5 8.5l.94-2.06 2.06-.94-2.06-.94L8.5 2.5l-.94 2.06-2.06.94zm10 10l.94 2.06.94-2.06 2.06-.94-2.06-.94-.94-2.06-.94 2.06-2.06.94z\"/><path d=\"M17.41 7.96l-1.37-1.37c-.4-.4-.92-.59-1.43-.59-.52 0-1.04.2-1.43.59L10.3 9.45l-7.72 7.72c-.78.78-.78 2.05 0 2.83L4 21.41c.39.39.9.59 1.41.59.51 0 1.02-.2 1.41-.59l7.78-7.78 2.81-2.81c.8-.78.8-2.07 0-2.86zM5.41 20L4 18.59l7.72-7.72 1.47 1.35L5.41 20z\"/>\n",
              "  </svg>\n",
              "      </button>\n",
              "      \n",
              "  <style>\n",
              "    .colab-df-container {\n",
              "      display:flex;\n",
              "      flex-wrap:wrap;\n",
              "      gap: 12px;\n",
              "    }\n",
              "\n",
              "    .colab-df-convert {\n",
              "      background-color: #E8F0FE;\n",
              "      border: none;\n",
              "      border-radius: 50%;\n",
              "      cursor: pointer;\n",
              "      display: none;\n",
              "      fill: #1967D2;\n",
              "      height: 32px;\n",
              "      padding: 0 0 0 0;\n",
              "      width: 32px;\n",
              "    }\n",
              "\n",
              "    .colab-df-convert:hover {\n",
              "      background-color: #E2EBFA;\n",
              "      box-shadow: 0px 1px 2px rgba(60, 64, 67, 0.3), 0px 1px 3px 1px rgba(60, 64, 67, 0.15);\n",
              "      fill: #174EA6;\n",
              "    }\n",
              "\n",
              "    [theme=dark] .colab-df-convert {\n",
              "      background-color: #3B4455;\n",
              "      fill: #D2E3FC;\n",
              "    }\n",
              "\n",
              "    [theme=dark] .colab-df-convert:hover {\n",
              "      background-color: #434B5C;\n",
              "      box-shadow: 0px 1px 3px 1px rgba(0, 0, 0, 0.15);\n",
              "      filter: drop-shadow(0px 1px 2px rgba(0, 0, 0, 0.3));\n",
              "      fill: #FFFFFF;\n",
              "    }\n",
              "  </style>\n",
              "\n",
              "      <script>\n",
              "        const buttonEl =\n",
              "          document.querySelector('#df-9fc35df3-3a0d-47d7-a585-64015e189169 button.colab-df-convert');\n",
              "        buttonEl.style.display =\n",
              "          google.colab.kernel.accessAllowed ? 'block' : 'none';\n",
              "\n",
              "        async function convertToInteractive(key) {\n",
              "          const element = document.querySelector('#df-9fc35df3-3a0d-47d7-a585-64015e189169');\n",
              "          const dataTable =\n",
              "            await google.colab.kernel.invokeFunction('convertToInteractive',\n",
              "                                                     [key], {});\n",
              "          if (!dataTable) return;\n",
              "\n",
              "          const docLinkHtml = 'Like what you see? Visit the ' +\n",
              "            '<a target=\"_blank\" href=https://colab.research.google.com/notebooks/data_table.ipynb>data table notebook</a>'\n",
              "            + ' to learn more about interactive tables.';\n",
              "          element.innerHTML = '';\n",
              "          dataTable['output_type'] = 'display_data';\n",
              "          await google.colab.output.renderOutput(dataTable, element);\n",
              "          const docLink = document.createElement('div');\n",
              "          docLink.innerHTML = docLinkHtml;\n",
              "          element.appendChild(docLink);\n",
              "        }\n",
              "      </script>\n",
              "    </div>\n",
              "  </div>\n",
              "  "
            ]
          },
          "metadata": {},
          "execution_count": 12
        }
      ],
      "source": [
        "print(\"Number of data points in train data\", project_data.shape)\n",
        "print('-'*50)\n",
        "print(\"The attributes of data :\\n\", project_data.columns.values)\n",
        "print('-'*50)\n",
        "project_data.head(2)"
      ]
    },
    {
      "cell_type": "code",
      "execution_count": null,
      "metadata": {
        "colab": {
          "base_uri": "https://localhost:8080/",
          "height": 146
        },
        "id": "fn0fbARaaJa3",
        "outputId": "6ea9333e-3664-44e3-e796-e9e8dab16072"
      },
      "outputs": [
        {
          "output_type": "stream",
          "name": "stdout",
          "text": [
            "Number of data points in train data (1541272, 4)\n",
            "['id' 'description' 'quantity' 'price']\n"
          ]
        },
        {
          "output_type": "execute_result",
          "data": {
            "text/plain": [
              "        id                                        description  quantity  \\\n",
              "0  p233245  LC652 - Lakeshore Double-Space Mobile Drying Rack         1   \n",
              "1  p069063        Bouncy Bands for Desks (Blue support pipes)         3   \n",
              "\n",
              "    price  \n",
              "0  149.00  \n",
              "1   14.95  "
            ],
            "text/html": [
              "\n",
              "  <div id=\"df-86a91736-99dd-4b7c-afc8-e220f270c200\">\n",
              "    <div class=\"colab-df-container\">\n",
              "      <div>\n",
              "<style scoped>\n",
              "    .dataframe tbody tr th:only-of-type {\n",
              "        vertical-align: middle;\n",
              "    }\n",
              "\n",
              "    .dataframe tbody tr th {\n",
              "        vertical-align: top;\n",
              "    }\n",
              "\n",
              "    .dataframe thead th {\n",
              "        text-align: right;\n",
              "    }\n",
              "</style>\n",
              "<table border=\"1\" class=\"dataframe\">\n",
              "  <thead>\n",
              "    <tr style=\"text-align: right;\">\n",
              "      <th></th>\n",
              "      <th>id</th>\n",
              "      <th>description</th>\n",
              "      <th>quantity</th>\n",
              "      <th>price</th>\n",
              "    </tr>\n",
              "  </thead>\n",
              "  <tbody>\n",
              "    <tr>\n",
              "      <th>0</th>\n",
              "      <td>p233245</td>\n",
              "      <td>LC652 - Lakeshore Double-Space Mobile Drying Rack</td>\n",
              "      <td>1</td>\n",
              "      <td>149.00</td>\n",
              "    </tr>\n",
              "    <tr>\n",
              "      <th>1</th>\n",
              "      <td>p069063</td>\n",
              "      <td>Bouncy Bands for Desks (Blue support pipes)</td>\n",
              "      <td>3</td>\n",
              "      <td>14.95</td>\n",
              "    </tr>\n",
              "  </tbody>\n",
              "</table>\n",
              "</div>\n",
              "      <button class=\"colab-df-convert\" onclick=\"convertToInteractive('df-86a91736-99dd-4b7c-afc8-e220f270c200')\"\n",
              "              title=\"Convert this dataframe to an interactive table.\"\n",
              "              style=\"display:none;\">\n",
              "        \n",
              "  <svg xmlns=\"http://www.w3.org/2000/svg\" height=\"24px\"viewBox=\"0 0 24 24\"\n",
              "       width=\"24px\">\n",
              "    <path d=\"M0 0h24v24H0V0z\" fill=\"none\"/>\n",
              "    <path d=\"M18.56 5.44l.94 2.06.94-2.06 2.06-.94-2.06-.94-.94-2.06-.94 2.06-2.06.94zm-11 1L8.5 8.5l.94-2.06 2.06-.94-2.06-.94L8.5 2.5l-.94 2.06-2.06.94zm10 10l.94 2.06.94-2.06 2.06-.94-2.06-.94-.94-2.06-.94 2.06-2.06.94z\"/><path d=\"M17.41 7.96l-1.37-1.37c-.4-.4-.92-.59-1.43-.59-.52 0-1.04.2-1.43.59L10.3 9.45l-7.72 7.72c-.78.78-.78 2.05 0 2.83L4 21.41c.39.39.9.59 1.41.59.51 0 1.02-.2 1.41-.59l7.78-7.78 2.81-2.81c.8-.78.8-2.07 0-2.86zM5.41 20L4 18.59l7.72-7.72 1.47 1.35L5.41 20z\"/>\n",
              "  </svg>\n",
              "      </button>\n",
              "      \n",
              "  <style>\n",
              "    .colab-df-container {\n",
              "      display:flex;\n",
              "      flex-wrap:wrap;\n",
              "      gap: 12px;\n",
              "    }\n",
              "\n",
              "    .colab-df-convert {\n",
              "      background-color: #E8F0FE;\n",
              "      border: none;\n",
              "      border-radius: 50%;\n",
              "      cursor: pointer;\n",
              "      display: none;\n",
              "      fill: #1967D2;\n",
              "      height: 32px;\n",
              "      padding: 0 0 0 0;\n",
              "      width: 32px;\n",
              "    }\n",
              "\n",
              "    .colab-df-convert:hover {\n",
              "      background-color: #E2EBFA;\n",
              "      box-shadow: 0px 1px 2px rgba(60, 64, 67, 0.3), 0px 1px 3px 1px rgba(60, 64, 67, 0.15);\n",
              "      fill: #174EA6;\n",
              "    }\n",
              "\n",
              "    [theme=dark] .colab-df-convert {\n",
              "      background-color: #3B4455;\n",
              "      fill: #D2E3FC;\n",
              "    }\n",
              "\n",
              "    [theme=dark] .colab-df-convert:hover {\n",
              "      background-color: #434B5C;\n",
              "      box-shadow: 0px 1px 3px 1px rgba(0, 0, 0, 0.15);\n",
              "      filter: drop-shadow(0px 1px 2px rgba(0, 0, 0, 0.3));\n",
              "      fill: #FFFFFF;\n",
              "    }\n",
              "  </style>\n",
              "\n",
              "      <script>\n",
              "        const buttonEl =\n",
              "          document.querySelector('#df-86a91736-99dd-4b7c-afc8-e220f270c200 button.colab-df-convert');\n",
              "        buttonEl.style.display =\n",
              "          google.colab.kernel.accessAllowed ? 'block' : 'none';\n",
              "\n",
              "        async function convertToInteractive(key) {\n",
              "          const element = document.querySelector('#df-86a91736-99dd-4b7c-afc8-e220f270c200');\n",
              "          const dataTable =\n",
              "            await google.colab.kernel.invokeFunction('convertToInteractive',\n",
              "                                                     [key], {});\n",
              "          if (!dataTable) return;\n",
              "\n",
              "          const docLinkHtml = 'Like what you see? Visit the ' +\n",
              "            '<a target=\"_blank\" href=https://colab.research.google.com/notebooks/data_table.ipynb>data table notebook</a>'\n",
              "            + ' to learn more about interactive tables.';\n",
              "          element.innerHTML = '';\n",
              "          dataTable['output_type'] = 'display_data';\n",
              "          await google.colab.output.renderOutput(dataTable, element);\n",
              "          const docLink = document.createElement('div');\n",
              "          docLink.innerHTML = docLinkHtml;\n",
              "          element.appendChild(docLink);\n",
              "        }\n",
              "      </script>\n",
              "    </div>\n",
              "  </div>\n",
              "  "
            ]
          },
          "metadata": {},
          "execution_count": 13
        }
      ],
      "source": [
        "print(\"Number of data points in train data\", resource_data.shape)\n",
        "print(resource_data.columns.values)\n",
        "resource_data.head(2)"
      ]
    },
    {
      "cell_type": "markdown",
      "metadata": {
        "id": "udV9YvZNaJa8"
      },
      "source": [
        "# 1.2 Data Analysis"
      ]
    },
    {
      "cell_type": "code",
      "execution_count": null,
      "metadata": {
        "colab": {
          "base_uri": "https://localhost:8080/"
        },
        "id": "UUAlpvsJa_fu",
        "outputId": "e97ada68-9ccd-4d63-c6bf-9312a0c4777b"
      },
      "outputs": [
        {
          "output_type": "stream",
          "name": "stdout",
          "text": [
            "id                                              109248\n",
            "teacher_id                                      109248\n",
            "teacher_prefix                                  109245\n",
            "school_state                                    109248\n",
            "project_submitted_datetime                      109248\n",
            "project_grade_category                          109248\n",
            "project_subject_categories                      109248\n",
            "project_subject_subcategories                   109248\n",
            "project_title                                   109248\n",
            "project_essay_1                                 109248\n",
            "project_essay_2                                 109248\n",
            "project_essay_3                                   3758\n",
            "project_essay_4                                   3758\n",
            "project_resource_summary                        109248\n",
            "teacher_number_of_previously_posted_projects    109248\n",
            "project_is_approved                             109248\n",
            "dtype: int64\n",
            "**************************************************\n"
          ]
        },
        {
          "output_type": "execute_result",
          "data": {
            "text/plain": [
              "(109248, 16)"
            ]
          },
          "metadata": {},
          "execution_count": 14
        }
      ],
      "source": [
        "#To see if any rows have missing values\n",
        "print(project_data.count())\n",
        "print(\"*\"*50)\n",
        "project_data.shape"
      ]
    },
    {
      "cell_type": "code",
      "execution_count": null,
      "metadata": {
        "id": "09ebHJrba_fv"
      },
      "outputs": [],
      "source": [
        "#Remove the missing rows for teacher_prefix.Essay_3 and essay_4 is not needed as we will merge all essay columns into one later\n",
        "#https://pandas.pydata.org/pandas-docs/stable/reference/api/pandas.DataFrame.dropna.html\n",
        "project_data.dropna(subset=['teacher_prefix'],inplace=True)"
      ]
    },
    {
      "cell_type": "code",
      "execution_count": null,
      "metadata": {
        "colab": {
          "base_uri": "https://localhost:8080/"
        },
        "id": "Kq-dBpYba_fw",
        "outputId": "414fa510-5f82-4f2a-e5ff-4f32d8731192"
      },
      "outputs": [
        {
          "output_type": "execute_result",
          "data": {
            "text/plain": [
              "(109245, 16)"
            ]
          },
          "metadata": {},
          "execution_count": 16
        }
      ],
      "source": [
        "project_data.shape"
      ]
    },
    {
      "cell_type": "markdown",
      "metadata": {
        "id": "TQrPl5q_a_fw"
      },
      "source": [
        "** As we can see that teacher_prefix has 3 values missing and essay_2 and essay_3 has many values missing **"
      ]
    },
    {
      "cell_type": "code",
      "execution_count": null,
      "metadata": {
        "colab": {
          "base_uri": "https://localhost:8080/"
        },
        "id": "RI4k3B1Ia_fx",
        "outputId": "5f793be9-5edc-494e-e565-c7dda674f87e"
      },
      "outputs": [
        {
          "output_type": "stream",
          "name": "stdout",
          "text": [
            "id             1541272\n",
            "description    1540980\n",
            "quantity       1541272\n",
            "price          1541272\n",
            "dtype: int64\n",
            "**************************************************\n"
          ]
        },
        {
          "output_type": "execute_result",
          "data": {
            "text/plain": [
              "(1541272, 4)"
            ]
          },
          "metadata": {},
          "execution_count": 17
        }
      ],
      "source": [
        "#To see if any rows have missing values\n",
        "print(resource_data.count())\n",
        "print(\"*\"*50)\n",
        "resource_data.shape"
      ]
    },
    {
      "cell_type": "markdown",
      "metadata": {
        "id": "JBVtzLuIa_fx"
      },
      "source": [
        "** As we can see that description has some values missing **"
      ]
    },
    {
      "cell_type": "code",
      "execution_count": null,
      "metadata": {
        "colab": {
          "base_uri": "https://localhost:8080/"
        },
        "id": "yIgoTQaIa_fx",
        "outputId": "93884dd8-81df-4c28-8b90-c20eaaeef810"
      },
      "outputs": [
        {
          "output_type": "stream",
          "name": "stdout",
          "text": [
            "1    92703\n",
            "0    16542\n",
            "Name: project_is_approved, dtype: int64\n"
          ]
        },
        {
          "output_type": "execute_result",
          "data": {
            "text/plain": [
              "pandas.core.series.Series"
            ]
          },
          "metadata": {},
          "execution_count": 18
        }
      ],
      "source": [
        "y_value_counts = project_data['project_is_approved'].value_counts()\n",
        "print(y_value_counts)\n",
        "type(y_value_counts)"
      ]
    },
    {
      "cell_type": "code",
      "execution_count": null,
      "metadata": {
        "colab": {
          "base_uri": "https://localhost:8080/"
        },
        "id": "n5FNjPyYa_fy",
        "outputId": "b459cb6d-6e64-4604-f1c7-35e2daf08509"
      },
      "outputs": [
        {
          "output_type": "stream",
          "name": "stdout",
          "text": [
            "Number of projects thar are approved for funding  92703 , ( 84.85788823287108 %)\n",
            "Number of projects thar are not approved for funding  16542 , ( 15.14211176712893 %)\n"
          ]
        }
      ],
      "source": [
        "print(\"Number of projects thar are approved for funding \", y_value_counts[1], \", (\", (y_value_counts[1]/(y_value_counts[1]+y_value_counts[0]))*100,\"%)\")\n",
        "print(\"Number of projects thar are not approved for funding \", y_value_counts[0], \", (\", (y_value_counts[0]/(y_value_counts[1]+y_value_counts[0]))*100,\"%)\")\n"
      ]
    },
    {
      "cell_type": "markdown",
      "metadata": {
        "id": "nFnGIw5Sa_fy"
      },
      "source": [
        "**We have imbalanced dataset where 85% belong to one class and 15% belong to another class**"
      ]
    },
    {
      "cell_type": "code",
      "execution_count": null,
      "metadata": {
        "colab": {
          "base_uri": "https://localhost:8080/",
          "height": 264
        },
        "id": "XWl60jeNa_fz",
        "outputId": "26c3e923-ae3a-4568-ef37-79355daad82b"
      },
      "outputs": [
        {
          "output_type": "display_data",
          "data": {
            "text/plain": [
              "<Figure size 432x288 with 1 Axes>"
            ],
            "image/png": "[encoded data removed]"
          },
          "metadata": {}
        }
      ],
      "source": [
        "plt.title(\"Number of projects that are Approved and Not Approved\")\n",
        "project_data['project_is_approved'].value_counts().plot.pie()\n",
        "plt.axis('equal')\n",
        "plt.legend(labels=['Approved','Not Approved'])\n",
        "plt.show()"
      ]
    },
    {
      "cell_type": "markdown",
      "metadata": {
        "id": "W56KAhWba_fz"
      },
      "source": [
        "## 1.3 preprocessing of `project_subject_categories`"
      ]
    },
    {
      "cell_type": "code",
      "execution_count": null,
      "metadata": {
        "id": "NrCyv-fja_f0"
      },
      "outputs": [],
      "source": [
        "catogories = list(project_data['project_subject_categories'].values)\n",
        "# remove special characters from list of strings python: https://stackoverflow.com/a/47301924/4084039\n",
        "\n",
        "# https://www.geeksforgeeks.org/removing-stop-words-nltk-python/\n",
        "# https://stackoverflow.com/questions/23669024/how-to-strip-a-specific-word-from-a-string\n",
        "# https://stackoverflow.com/questions/8270092/remove-all-whitespace-in-a-string-in-python\n",
        "cat_list = []\n",
        "for i in catogories:\n",
        "    temp = \"\"\n",
        "    # consider we have text like this \"Math & Science, Warmth, Care & Hunger\"\n",
        "    for j in i.split(','): # it will split it in three parts [\"Math & Science\", \"Warmth\", \"Care & Hunger\"]\n",
        "        if 'The' in j.split(): # this will split each of the catogory based on space \"Math & Science\"=> \"Math\",\"&\", \"Science\"\n",
        "            j=j.replace('The','') # if we have the words \"The\" we are going to replace it with ''(i.e removing 'The')\n",
        "        j = j.replace(' ','') # we are placeing all the ' '(space) with ''(empty) ex:\"Math & Science\"=>\"Math&Science\"\n",
        "        temp+=j.strip()+\" \" #\" abc \".strip() will return \"abc\", remove the trailing spaces\n",
        "        temp = temp.replace('&','_') # we are replacing the & value into \n",
        "    cat_list.append(temp.strip())\n",
        "    \n",
        "project_data['clean_categories'] = cat_list\n",
        "project_data.drop(['project_subject_categories'], axis=1, inplace=True)\n",
        "\n"
      ]
    },
    {
      "cell_type": "markdown",
      "metadata": {
        "id": "hqnsApdoaJbv"
      },
      "source": [
        "## 1.4 preprocessing of `project_subject_subcategories`"
      ]
    },
    {
      "cell_type": "code",
      "execution_count": null,
      "metadata": {
        "id": "fuucFuPqaJbv"
      },
      "outputs": [],
      "source": [
        "sub_catogories = list(project_data['project_subject_subcategories'].values)\n",
        "# remove special characters from list of strings python: https://stackoverflow.com/a/47301924/4084039\n",
        "\n",
        "# https://www.geeksforgeeks.org/removing-stop-words-nltk-python/\n",
        "# https://stackoverflow.com/questions/23669024/how-to-strip-a-specific-word-from-a-string\n",
        "# https://stackoverflow.com/questions/8270092/remove-all-whitespace-in-a-string-in-python\n",
        "\n",
        "sub_cat_list = []\n",
        "for i in sub_catogories:\n",
        "    temp=\"\"\n",
        "    for j in i.split(','):\n",
        "        j=j.replace(\"The\",'')\n",
        "        j=j.replace(' ','')\n",
        "        j=j.replace('&','_')\n",
        "        j=j.strip()\n",
        "        temp+=j+\" \"\n",
        "    sub_cat_list.append(temp.strip())  "
      ]
    },
    {
      "cell_type": "code",
      "execution_count": null,
      "metadata": {
        "colab": {
          "base_uri": "https://localhost:8080/",
          "height": 297
        },
        "id": "EGDMvA75aJby",
        "outputId": "e506181f-bab8-4dbb-f373-71ad481aaf35"
      },
      "outputs": [
        {
          "output_type": "execute_result",
          "data": {
            "text/plain": [
              "        id                        teacher_id teacher_prefix school_state  \\\n",
              "0  p253737  c90749f5d961ff158d4b4d1e7dc665fc           Mrs.           IN   \n",
              "1  p258326  897464ce9ddc600bced1151f324dd63a            Mr.           FL   \n",
              "\n",
              "  project_submitted_datetime project_grade_category  \\\n",
              "0           05-12-2016 13:43          Grades PreK-2   \n",
              "1           25-10-2016 09:22             Grades 6-8   \n",
              "\n",
              "                                      project_title  \\\n",
              "0  Educational Support for English Learners at Home   \n",
              "1             Wanted: Projector for Hungry Learners   \n",
              "\n",
              "                                     project_essay_1  \\\n",
              "0  My students are English learners that are work...   \n",
              "1  Our students arrive to our school eager to lea...   \n",
              "\n",
              "                                     project_essay_2 project_essay_3  \\\n",
              "0  \\\"The limits of your language are the limits o...             NaN   \n",
              "1  The projector we need for our school is very c...             NaN   \n",
              "\n",
              "  project_essay_4                           project_resource_summary  \\\n",
              "0             NaN  My students need opportunities to practice beg...   \n",
              "1             NaN  My students need a projector to help with view...   \n",
              "\n",
              "   teacher_number_of_previously_posted_projects  project_is_approved  \\\n",
              "0                                             0                    0   \n",
              "1                                             7                    1   \n",
              "\n",
              "               clean_categories           clean_subcategories  \n",
              "0             Literacy_Language                  ESL Literacy  \n",
              "1  History_Civics Health_Sports  Civics_Government TeamSports  "
            ],
            "text/html": [
              "\n",
              "  <div id=\"df-dfddb6c8-127b-46f5-893f-17562c9c214a\">\n",
              "    <div class=\"colab-df-container\">\n",
              "      <div>\n",
              "<style scoped>\n",
              "    .dataframe tbody tr th:only-of-type {\n",
              "        vertical-align: middle;\n",
              "    }\n",
              "\n",
              "    .dataframe tbody tr th {\n",
              "        vertical-align: top;\n",
              "    }\n",
              "\n",
              "    .dataframe thead th {\n",
              "        text-align: right;\n",
              "    }\n",
              "</style>\n",
              "<table border=\"1\" class=\"dataframe\">\n",
              "  <thead>\n",
              "    <tr style=\"text-align: right;\">\n",
              "      <th></th>\n",
              "      <th>id</th>\n",
              "      <th>teacher_id</th>\n",
              "      <th>teacher_prefix</th>\n",
              "      <th>school_state</th>\n",
              "      <th>project_submitted_datetime</th>\n",
              "      <th>project_grade_category</th>\n",
              "      <th>project_title</th>\n",
              "      <th>project_essay_1</th>\n",
              "      <th>project_essay_2</th>\n",
              "      <th>project_essay_3</th>\n",
              "      <th>project_essay_4</th>\n",
              "      <th>project_resource_summary</th>\n",
              "      <th>teacher_number_of_previously_posted_projects</th>\n",
              "      <th>project_is_approved</th>\n",
              "      <th>clean_categories</th>\n",
              "      <th>clean_subcategories</th>\n",
              "    </tr>\n",
              "  </thead>\n",
              "  <tbody>\n",
              "    <tr>\n",
              "      <th>0</th>\n",
              "      <td>p253737</td>\n",
              "      <td>c90749f5d961ff158d4b4d1e7dc665fc</td>\n",
              "      <td>Mrs.</td>\n",
              "      <td>IN</td>\n",
              "      <td>05-12-2016 13:43</td>\n",
              "      <td>Grades PreK-2</td>\n",
              "      <td>Educational Support for English Learners at Home</td>\n",
              "      <td>My students are English learners that are work...</td>\n",
              "      <td>\\\"The limits of your language are the limits o...</td>\n",
              "      <td>NaN</td>\n",
              "      <td>NaN</td>\n",
              "      <td>My students need opportunities to practice beg...</td>\n",
              "      <td>0</td>\n",
              "      <td>0</td>\n",
              "      <td>Literacy_Language</td>\n",
              "      <td>ESL Literacy</td>\n",
              "    </tr>\n",
              "    <tr>\n",
              "      <th>1</th>\n",
              "      <td>p258326</td>\n",
              "      <td>897464ce9ddc600bced1151f324dd63a</td>\n",
              "      <td>Mr.</td>\n",
              "      <td>FL</td>\n",
              "      <td>25-10-2016 09:22</td>\n",
              "      <td>Grades 6-8</td>\n",
              "      <td>Wanted: Projector for Hungry Learners</td>\n",
              "      <td>Our students arrive to our school eager to lea...</td>\n",
              "      <td>The projector we need for our school is very c...</td>\n",
              "      <td>NaN</td>\n",
              "      <td>NaN</td>\n",
              "      <td>My students need a projector to help with view...</td>\n",
              "      <td>7</td>\n",
              "      <td>1</td>\n",
              "      <td>History_Civics Health_Sports</td>\n",
              "      <td>Civics_Government TeamSports</td>\n",
              "    </tr>\n",
              "  </tbody>\n",
              "</table>\n",
              "</div>\n",
              "      <button class=\"colab-df-convert\" onclick=\"convertToInteractive('df-dfddb6c8-127b-46f5-893f-17562c9c214a')\"\n",
              "              title=\"Convert this dataframe to an interactive table.\"\n",
              "              style=\"display:none;\">\n",
              "        \n",
              "  <svg xmlns=\"http://www.w3.org/2000/svg\" height=\"24px\"viewBox=\"0 0 24 24\"\n",
              "       width=\"24px\">\n",
              "    <path d=\"M0 0h24v24H0V0z\" fill=\"none\"/>\n",
              "    <path d=\"M18.56 5.44l.94 2.06.94-2.06 2.06-.94-2.06-.94-.94-2.06-.94 2.06-2.06.94zm-11 1L8.5 8.5l.94-2.06 2.06-.94-2.06-.94L8.5 2.5l-.94 2.06-2.06.94zm10 10l.94 2.06.94-2.06 2.06-.94-2.06-.94-.94-2.06-.94 2.06-2.06.94z\"/><path d=\"M17.41 7.96l-1.37-1.37c-.4-.4-.92-.59-1.43-.59-.52 0-1.04.2-1.43.59L10.3 9.45l-7.72 7.72c-.78.78-.78 2.05 0 2.83L4 21.41c.39.39.9.59 1.41.59.51 0 1.02-.2 1.41-.59l7.78-7.78 2.81-2.81c.8-.78.8-2.07 0-2.86zM5.41 20L4 18.59l7.72-7.72 1.47 1.35L5.41 20z\"/>\n",
              "  </svg>\n",
              "      </button>\n",
              "      \n",
              "  <style>\n",
              "    .colab-df-container {\n",
              "      display:flex;\n",
              "      flex-wrap:wrap;\n",
              "      gap: 12px;\n",
              "    }\n",
              "\n",
              "    .colab-df-convert {\n",
              "      background-color: #E8F0FE;\n",
              "      border: none;\n",
              "      border-radius: 50%;\n",
              "      cursor: pointer;\n",
              "      display: none;\n",
              "      fill: #1967D2;\n",
              "      height: 32px;\n",
              "      padding: 0 0 0 0;\n",
              "      width: 32px;\n",
              "    }\n",
              "\n",
              "    .colab-df-convert:hover {\n",
              "      background-color: #E2EBFA;\n",
              "      box-shadow: 0px 1px 2px rgba(60, 64, 67, 0.3), 0px 1px 3px 1px rgba(60, 64, 67, 0.15);\n",
              "      fill: #174EA6;\n",
              "    }\n",
              "\n",
              "    [theme=dark] .colab-df-convert {\n",
              "      background-color: #3B4455;\n",
              "      fill: #D2E3FC;\n",
              "    }\n",
              "\n",
              "    [theme=dark] .colab-df-convert:hover {\n",
              "      background-color: #434B5C;\n",
              "      box-shadow: 0px 1px 3px 1px rgba(0, 0, 0, 0.15);\n",
              "      filter: drop-shadow(0px 1px 2px rgba(0, 0, 0, 0.3));\n",
              "      fill: #FFFFFF;\n",
              "    }\n",
              "  </style>\n",
              "\n",
              "      <script>\n",
              "        const buttonEl =\n",
              "          document.querySelector('#df-dfddb6c8-127b-46f5-893f-17562c9c214a button.colab-df-convert');\n",
              "        buttonEl.style.display =\n",
              "          google.colab.kernel.accessAllowed ? 'block' : 'none';\n",
              "\n",
              "        async function convertToInteractive(key) {\n",
              "          const element = document.querySelector('#df-dfddb6c8-127b-46f5-893f-17562c9c214a');\n",
              "          const dataTable =\n",
              "            await google.colab.kernel.invokeFunction('convertToInteractive',\n",
              "                                                     [key], {});\n",
              "          if (!dataTable) return;\n",
              "\n",
              "          const docLinkHtml = 'Like what you see? Visit the ' +\n",
              "            '<a target=\"_blank\" href=https://colab.research.google.com/notebooks/data_table.ipynb>data table notebook</a>'\n",
              "            + ' to learn more about interactive tables.';\n",
              "          element.innerHTML = '';\n",
              "          dataTable['output_type'] = 'display_data';\n",
              "          await google.colab.output.renderOutput(dataTable, element);\n",
              "          const docLink = document.createElement('div');\n",
              "          docLink.innerHTML = docLinkHtml;\n",
              "          element.appendChild(docLink);\n",
              "        }\n",
              "      </script>\n",
              "    </div>\n",
              "  </div>\n",
              "  "
            ]
          },
          "metadata": {},
          "execution_count": 23
        }
      ],
      "source": [
        "project_data['clean_subcategories'] = sub_cat_list\n",
        "project_data.drop(['project_subject_subcategories'], axis=1, inplace=True)\n",
        "project_data.head(2)"
      ]
    },
    {
      "cell_type": "markdown",
      "metadata": {
        "id": "9hQk61Q7a_f2"
      },
      "source": [
        "## 1.5 Cost per project"
      ]
    },
    {
      "cell_type": "code",
      "execution_count": null,
      "metadata": {
        "id": "xg3UurUya_f4"
      },
      "outputs": [],
      "source": [
        "resource_data[\"Total_Price\"]=resource_data[\"quantity\"]*resource_data[\"price\"]"
      ]
    },
    {
      "cell_type": "code",
      "execution_count": null,
      "metadata": {
        "colab": {
          "base_uri": "https://localhost:8080/",
          "height": 174
        },
        "id": "IrZhRLnBa_f4",
        "outputId": "21d92159-02cc-4be7-ff53-e2f82aa8a3a9"
      },
      "outputs": [
        {
          "output_type": "execute_result",
          "data": {
            "text/plain": [
              "             id                                        description  quantity  \\\n",
              "414179  p000001            Cap Barbell 300 Pound Olympic Set, Grey         2   \n",
              "414180  p000001              Cap Barbell Power Rack Exercise Stand         2   \n",
              "414181  p000001                          Marcy SB-10510 Flat Bench         1   \n",
              "414182  p000001  ProSource Puzzle Exercise Mat High Quality EVA...         2   \n",
              "\n",
              "         price  Total_Price  \n",
              "414179  261.08       522.16  \n",
              "414180   89.00       178.00  \n",
              "414181   85.49        85.49  \n",
              "414182   23.99        47.98  "
            ],
            "text/html": [
              "\n",
              "  <div id=\"df-db9569f5-3559-4e7e-ab96-84347426a1d9\">\n",
              "    <div class=\"colab-df-container\">\n",
              "      <div>\n",
              "<style scoped>\n",
              "    .dataframe tbody tr th:only-of-type {\n",
              "        vertical-align: middle;\n",
              "    }\n",
              "\n",
              "    .dataframe tbody tr th {\n",
              "        vertical-align: top;\n",
              "    }\n",
              "\n",
              "    .dataframe thead th {\n",
              "        text-align: right;\n",
              "    }\n",
              "</style>\n",
              "<table border=\"1\" class=\"dataframe\">\n",
              "  <thead>\n",
              "    <tr style=\"text-align: right;\">\n",
              "      <th></th>\n",
              "      <th>id</th>\n",
              "      <th>description</th>\n",
              "      <th>quantity</th>\n",
              "      <th>price</th>\n",
              "      <th>Total_Price</th>\n",
              "    </tr>\n",
              "  </thead>\n",
              "  <tbody>\n",
              "    <tr>\n",
              "      <th>414179</th>\n",
              "      <td>p000001</td>\n",
              "      <td>Cap Barbell 300 Pound Olympic Set, Grey</td>\n",
              "      <td>2</td>\n",
              "      <td>261.08</td>\n",
              "      <td>522.16</td>\n",
              "    </tr>\n",
              "    <tr>\n",
              "      <th>414180</th>\n",
              "      <td>p000001</td>\n",
              "      <td>Cap Barbell Power Rack Exercise Stand</td>\n",
              "      <td>2</td>\n",
              "      <td>89.00</td>\n",
              "      <td>178.00</td>\n",
              "    </tr>\n",
              "    <tr>\n",
              "      <th>414181</th>\n",
              "      <td>p000001</td>\n",
              "      <td>Marcy SB-10510 Flat Bench</td>\n",
              "      <td>1</td>\n",
              "      <td>85.49</td>\n",
              "      <td>85.49</td>\n",
              "    </tr>\n",
              "    <tr>\n",
              "      <th>414182</th>\n",
              "      <td>p000001</td>\n",
              "      <td>ProSource Puzzle Exercise Mat High Quality EVA...</td>\n",
              "      <td>2</td>\n",
              "      <td>23.99</td>\n",
              "      <td>47.98</td>\n",
              "    </tr>\n",
              "  </tbody>\n",
              "</table>\n",
              "</div>\n",
              "      <button class=\"colab-df-convert\" onclick=\"convertToInteractive('df-db9569f5-3559-4e7e-ab96-84347426a1d9')\"\n",
              "              title=\"Convert this dataframe to an interactive table.\"\n",
              "              style=\"display:none;\">\n",
              "        \n",
              "  <svg xmlns=\"http://www.w3.org/2000/svg\" height=\"24px\"viewBox=\"0 0 24 24\"\n",
              "       width=\"24px\">\n",
              "    <path d=\"M0 0h24v24H0V0z\" fill=\"none\"/>\n",
              "    <path d=\"M18.56 5.44l.94 2.06.94-2.06 2.06-.94-2.06-.94-.94-2.06-.94 2.06-2.06.94zm-11 1L8.5 8.5l.94-2.06 2.06-.94-2.06-.94L8.5 2.5l-.94 2.06-2.06.94zm10 10l.94 2.06.94-2.06 2.06-.94-2.06-.94-.94-2.06-.94 2.06-2.06.94z\"/><path d=\"M17.41 7.96l-1.37-1.37c-.4-.4-.92-.59-1.43-.59-.52 0-1.04.2-1.43.59L10.3 9.45l-7.72 7.72c-.78.78-.78 2.05 0 2.83L4 21.41c.39.39.9.59 1.41.59.51 0 1.02-.2 1.41-.59l7.78-7.78 2.81-2.81c.8-.78.8-2.07 0-2.86zM5.41 20L4 18.59l7.72-7.72 1.47 1.35L5.41 20z\"/>\n",
              "  </svg>\n",
              "      </button>\n",
              "      \n",
              "  <style>\n",
              "    .colab-df-container {\n",
              "      display:flex;\n",
              "      flex-wrap:wrap;\n",
              "      gap: 12px;\n",
              "    }\n",
              "\n",
              "    .colab-df-convert {\n",
              "      background-color: #E8F0FE;\n",
              "      border: none;\n",
              "      border-radius: 50%;\n",
              "      cursor: pointer;\n",
              "      display: none;\n",
              "      fill: #1967D2;\n",
              "      height: 32px;\n",
              "      padding: 0 0 0 0;\n",
              "      width: 32px;\n",
              "    }\n",
              "\n",
              "    .colab-df-convert:hover {\n",
              "      background-color: #E2EBFA;\n",
              "      box-shadow: 0px 1px 2px rgba(60, 64, 67, 0.3), 0px 1px 3px 1px rgba(60, 64, 67, 0.15);\n",
              "      fill: #174EA6;\n",
              "    }\n",
              "\n",
              "    [theme=dark] .colab-df-convert {\n",
              "      background-color: #3B4455;\n",
              "      fill: #D2E3FC;\n",
              "    }\n",
              "\n",
              "    [theme=dark] .colab-df-convert:hover {\n",
              "      background-color: #434B5C;\n",
              "      box-shadow: 0px 1px 3px 1px rgba(0, 0, 0, 0.15);\n",
              "      filter: drop-shadow(0px 1px 2px rgba(0, 0, 0, 0.3));\n",
              "      fill: #FFFFFF;\n",
              "    }\n",
              "  </style>\n",
              "\n",
              "      <script>\n",
              "        const buttonEl =\n",
              "          document.querySelector('#df-db9569f5-3559-4e7e-ab96-84347426a1d9 button.colab-df-convert');\n",
              "        buttonEl.style.display =\n",
              "          google.colab.kernel.accessAllowed ? 'block' : 'none';\n",
              "\n",
              "        async function convertToInteractive(key) {\n",
              "          const element = document.querySelector('#df-db9569f5-3559-4e7e-ab96-84347426a1d9');\n",
              "          const dataTable =\n",
              "            await google.colab.kernel.invokeFunction('convertToInteractive',\n",
              "                                                     [key], {});\n",
              "          if (!dataTable) return;\n",
              "\n",
              "          const docLinkHtml = 'Like what you see? Visit the ' +\n",
              "            '<a target=\"_blank\" href=https://colab.research.google.com/notebooks/data_table.ipynb>data table notebook</a>'\n",
              "            + ' to learn more about interactive tables.';\n",
              "          element.innerHTML = '';\n",
              "          dataTable['output_type'] = 'display_data';\n",
              "          await google.colab.output.renderOutput(dataTable, element);\n",
              "          const docLink = document.createElement('div');\n",
              "          docLink.innerHTML = docLinkHtml;\n",
              "          element.appendChild(docLink);\n",
              "        }\n",
              "      </script>\n",
              "    </div>\n",
              "  </div>\n",
              "  "
            ]
          },
          "metadata": {},
          "execution_count": 25
        }
      ],
      "source": [
        "resource_data[resource_data['id']=='p000001']"
      ]
    },
    {
      "cell_type": "code",
      "execution_count": null,
      "metadata": {
        "colab": {
          "base_uri": "https://localhost:8080/",
          "height": 112
        },
        "id": "XgqnabZza_f5",
        "outputId": "e62dcbe0-52aa-4963-c029-9f03bf8042d2"
      },
      "outputs": [
        {
          "output_type": "execute_result",
          "data": {
            "text/plain": [
              "        id  Total_Price  quantity\n",
              "0  p000001       833.63         7\n",
              "1  p000002       630.28        21"
            ],
            "text/html": [
              "\n",
              "  <div id=\"df-35a7492d-fd08-419a-814a-ba5b47099449\">\n",
              "    <div class=\"colab-df-container\">\n",
              "      <div>\n",
              "<style scoped>\n",
              "    .dataframe tbody tr th:only-of-type {\n",
              "        vertical-align: middle;\n",
              "    }\n",
              "\n",
              "    .dataframe tbody tr th {\n",
              "        vertical-align: top;\n",
              "    }\n",
              "\n",
              "    .dataframe thead th {\n",
              "        text-align: right;\n",
              "    }\n",
              "</style>\n",
              "<table border=\"1\" class=\"dataframe\">\n",
              "  <thead>\n",
              "    <tr style=\"text-align: right;\">\n",
              "      <th></th>\n",
              "      <th>id</th>\n",
              "      <th>Total_Price</th>\n",
              "      <th>quantity</th>\n",
              "    </tr>\n",
              "  </thead>\n",
              "  <tbody>\n",
              "    <tr>\n",
              "      <th>0</th>\n",
              "      <td>p000001</td>\n",
              "      <td>833.63</td>\n",
              "      <td>7</td>\n",
              "    </tr>\n",
              "    <tr>\n",
              "      <th>1</th>\n",
              "      <td>p000002</td>\n",
              "      <td>630.28</td>\n",
              "      <td>21</td>\n",
              "    </tr>\n",
              "  </tbody>\n",
              "</table>\n",
              "</div>\n",
              "      <button class=\"colab-df-convert\" onclick=\"convertToInteractive('df-35a7492d-fd08-419a-814a-ba5b47099449')\"\n",
              "              title=\"Convert this dataframe to an interactive table.\"\n",
              "              style=\"display:none;\">\n",
              "        \n",
              "  <svg xmlns=\"http://www.w3.org/2000/svg\" height=\"24px\"viewBox=\"0 0 24 24\"\n",
              "       width=\"24px\">\n",
              "    <path d=\"M0 0h24v24H0V0z\" fill=\"none\"/>\n",
              "    <path d=\"M18.56 5.44l.94 2.06.94-2.06 2.06-.94-2.06-.94-.94-2.06-.94 2.06-2.06.94zm-11 1L8.5 8.5l.94-2.06 2.06-.94-2.06-.94L8.5 2.5l-.94 2.06-2.06.94zm10 10l.94 2.06.94-2.06 2.06-.94-2.06-.94-.94-2.06-.94 2.06-2.06.94z\"/><path d=\"M17.41 7.96l-1.37-1.37c-.4-.4-.92-.59-1.43-.59-.52 0-1.04.2-1.43.59L10.3 9.45l-7.72 7.72c-.78.78-.78 2.05 0 2.83L4 21.41c.39.39.9.59 1.41.59.51 0 1.02-.2 1.41-.59l7.78-7.78 2.81-2.81c.8-.78.8-2.07 0-2.86zM5.41 20L4 18.59l7.72-7.72 1.47 1.35L5.41 20z\"/>\n",
              "  </svg>\n",
              "      </button>\n",
              "      \n",
              "  <style>\n",
              "    .colab-df-container {\n",
              "      display:flex;\n",
              "      flex-wrap:wrap;\n",
              "      gap: 12px;\n",
              "    }\n",
              "\n",
              "    .colab-df-convert {\n",
              "      background-color: #E8F0FE;\n",
              "      border: none;\n",
              "      border-radius: 50%;\n",
              "      cursor: pointer;\n",
              "      display: none;\n",
              "      fill: #1967D2;\n",
              "      height: 32px;\n",
              "      padding: 0 0 0 0;\n",
              "      width: 32px;\n",
              "    }\n",
              "\n",
              "    .colab-df-convert:hover {\n",
              "      background-color: #E2EBFA;\n",
              "      box-shadow: 0px 1px 2px rgba(60, 64, 67, 0.3), 0px 1px 3px 1px rgba(60, 64, 67, 0.15);\n",
              "      fill: #174EA6;\n",
              "    }\n",
              "\n",
              "    [theme=dark] .colab-df-convert {\n",
              "      background-color: #3B4455;\n",
              "      fill: #D2E3FC;\n",
              "    }\n",
              "\n",
              "    [theme=dark] .colab-df-convert:hover {\n",
              "      background-color: #434B5C;\n",
              "      box-shadow: 0px 1px 3px 1px rgba(0, 0, 0, 0.15);\n",
              "      filter: drop-shadow(0px 1px 2px rgba(0, 0, 0, 0.3));\n",
              "      fill: #FFFFFF;\n",
              "    }\n",
              "  </style>\n",
              "\n",
              "      <script>\n",
              "        const buttonEl =\n",
              "          document.querySelector('#df-35a7492d-fd08-419a-814a-ba5b47099449 button.colab-df-convert');\n",
              "        buttonEl.style.display =\n",
              "          google.colab.kernel.accessAllowed ? 'block' : 'none';\n",
              "\n",
              "        async function convertToInteractive(key) {\n",
              "          const element = document.querySelector('#df-35a7492d-fd08-419a-814a-ba5b47099449');\n",
              "          const dataTable =\n",
              "            await google.colab.kernel.invokeFunction('convertToInteractive',\n",
              "                                                     [key], {});\n",
              "          if (!dataTable) return;\n",
              "\n",
              "          const docLinkHtml = 'Like what you see? Visit the ' +\n",
              "            '<a target=\"_blank\" href=https://colab.research.google.com/notebooks/data_table.ipynb>data table notebook</a>'\n",
              "            + ' to learn more about interactive tables.';\n",
              "          element.innerHTML = '';\n",
              "          dataTable['output_type'] = 'display_data';\n",
              "          await google.colab.output.renderOutput(dataTable, element);\n",
              "          const docLink = document.createElement('div');\n",
              "          docLink.innerHTML = docLinkHtml;\n",
              "          element.appendChild(docLink);\n",
              "        }\n",
              "      </script>\n",
              "    </div>\n",
              "  </div>\n",
              "  "
            ]
          },
          "metadata": {},
          "execution_count": 26
        }
      ],
      "source": [
        "# https://stackoverflow.com/questions/22407798/how-to-reset-a-dataframes-indexes-for-all-groups-in-one-step\n",
        "price_data = resource_data.groupby('id').agg({'Total_Price':'sum', 'quantity':'sum'}).reset_index()\n",
        "price_data.head(2)"
      ]
    },
    {
      "cell_type": "code",
      "execution_count": null,
      "metadata": {
        "id": "rGUjMR6-a_f5"
      },
      "outputs": [],
      "source": [
        "# join two dataframes in python: \n",
        "project_data = pd.merge(project_data, price_data, on='id', how='left')"
      ]
    },
    {
      "cell_type": "markdown",
      "metadata": {
        "id": "u_t7hAfyaJcl"
      },
      "source": [
        "## 1.6 Text preprocessing"
      ]
    },
    {
      "cell_type": "code",
      "execution_count": null,
      "metadata": {
        "id": "9SnjU0pYa_f5"
      },
      "outputs": [],
      "source": [
        "# merge two column text dataframe: \n",
        "project_data[\"essay\"] = project_data[\"project_essay_1\"].map(str) +\\\n",
        "                        project_data[\"project_essay_2\"].map(str) + \\\n",
        "                        project_data[\"project_essay_3\"].map(str) + \\\n",
        "                        project_data[\"project_essay_4\"].map(str)"
      ]
    },
    {
      "cell_type": "code",
      "execution_count": null,
      "metadata": {
        "colab": {
          "base_uri": "https://localhost:8080/",
          "height": 249
        },
        "id": "Yyia30m8a_f5",
        "outputId": "0b4c60c1-85b1-45c8-bd49-ccc452ed0d73"
      },
      "outputs": [
        {
          "output_type": "execute_result",
          "data": {
            "text/plain": [
              "        id                        teacher_id teacher_prefix school_state  \\\n",
              "0  p253737  c90749f5d961ff158d4b4d1e7dc665fc           Mrs.           IN   \n",
              "\n",
              "  project_submitted_datetime project_grade_category  \\\n",
              "0           05-12-2016 13:43          Grades PreK-2   \n",
              "\n",
              "                                      project_title  \\\n",
              "0  Educational Support for English Learners at Home   \n",
              "\n",
              "                                     project_essay_1  \\\n",
              "0  My students are English learners that are work...   \n",
              "\n",
              "                                     project_essay_2 project_essay_3  \\\n",
              "0  \\\"The limits of your language are the limits o...             NaN   \n",
              "\n",
              "  project_essay_4                           project_resource_summary  \\\n",
              "0             NaN  My students need opportunities to practice beg...   \n",
              "\n",
              "   teacher_number_of_previously_posted_projects  project_is_approved  \\\n",
              "0                                             0                    0   \n",
              "\n",
              "    clean_categories clean_subcategories  Total_Price  quantity  \\\n",
              "0  Literacy_Language        ESL Literacy       596.36        23   \n",
              "\n",
              "                                               essay  \n",
              "0  My students are English learners that are work...  "
            ],
            "text/html": [
              "\n",
              "  <div id=\"df-3dbd6ca4-60ec-43e4-870c-1cfa2e0e35d0\">\n",
              "    <div class=\"colab-df-container\">\n",
              "      <div>\n",
              "<style scoped>\n",
              "    .dataframe tbody tr th:only-of-type {\n",
              "        vertical-align: middle;\n",
              "    }\n",
              "\n",
              "    .dataframe tbody tr th {\n",
              "        vertical-align: top;\n",
              "    }\n",
              "\n",
              "    .dataframe thead th {\n",
              "        text-align: right;\n",
              "    }\n",
              "</style>\n",
              "<table border=\"1\" class=\"dataframe\">\n",
              "  <thead>\n",
              "    <tr style=\"text-align: right;\">\n",
              "      <th></th>\n",
              "      <th>id</th>\n",
              "      <th>teacher_id</th>\n",
              "      <th>teacher_prefix</th>\n",
              "      <th>school_state</th>\n",
              "      <th>project_submitted_datetime</th>\n",
              "      <th>project_grade_category</th>\n",
              "      <th>project_title</th>\n",
              "      <th>project_essay_1</th>\n",
              "      <th>project_essay_2</th>\n",
              "      <th>project_essay_3</th>\n",
              "      <th>project_essay_4</th>\n",
              "      <th>project_resource_summary</th>\n",
              "      <th>teacher_number_of_previously_posted_projects</th>\n",
              "      <th>project_is_approved</th>\n",
              "      <th>clean_categories</th>\n",
              "      <th>clean_subcategories</th>\n",
              "      <th>Total_Price</th>\n",
              "      <th>quantity</th>\n",
              "      <th>essay</th>\n",
              "    </tr>\n",
              "  </thead>\n",
              "  <tbody>\n",
              "    <tr>\n",
              "      <th>0</th>\n",
              "      <td>p253737</td>\n",
              "      <td>c90749f5d961ff158d4b4d1e7dc665fc</td>\n",
              "      <td>Mrs.</td>\n",
              "      <td>IN</td>\n",
              "      <td>05-12-2016 13:43</td>\n",
              "      <td>Grades PreK-2</td>\n",
              "      <td>Educational Support for English Learners at Home</td>\n",
              "      <td>My students are English learners that are work...</td>\n",
              "      <td>\\\"The limits of your language are the limits o...</td>\n",
              "      <td>NaN</td>\n",
              "      <td>NaN</td>\n",
              "      <td>My students need opportunities to practice beg...</td>\n",
              "      <td>0</td>\n",
              "      <td>0</td>\n",
              "      <td>Literacy_Language</td>\n",
              "      <td>ESL Literacy</td>\n",
              "      <td>596.36</td>\n",
              "      <td>23</td>\n",
              "      <td>My students are English learners that are work...</td>\n",
              "    </tr>\n",
              "  </tbody>\n",
              "</table>\n",
              "</div>\n",
              "      <button class=\"colab-df-convert\" onclick=\"convertToInteractive('df-3dbd6ca4-60ec-43e4-870c-1cfa2e0e35d0')\"\n",
              "              title=\"Convert this dataframe to an interactive table.\"\n",
              "              style=\"display:none;\">\n",
              "        \n",
              "  <svg xmlns=\"http://www.w3.org/2000/svg\" height=\"24px\"viewBox=\"0 0 24 24\"\n",
              "       width=\"24px\">\n",
              "    <path d=\"M0 0h24v24H0V0z\" fill=\"none\"/>\n",
              "    <path d=\"M18.56 5.44l.94 2.06.94-2.06 2.06-.94-2.06-.94-.94-2.06-.94 2.06-2.06.94zm-11 1L8.5 8.5l.94-2.06 2.06-.94-2.06-.94L8.5 2.5l-.94 2.06-2.06.94zm10 10l.94 2.06.94-2.06 2.06-.94-2.06-.94-.94-2.06-.94 2.06-2.06.94z\"/><path d=\"M17.41 7.96l-1.37-1.37c-.4-.4-.92-.59-1.43-.59-.52 0-1.04.2-1.43.59L10.3 9.45l-7.72 7.72c-.78.78-.78 2.05 0 2.83L4 21.41c.39.39.9.59 1.41.59.51 0 1.02-.2 1.41-.59l7.78-7.78 2.81-2.81c.8-.78.8-2.07 0-2.86zM5.41 20L4 18.59l7.72-7.72 1.47 1.35L5.41 20z\"/>\n",
              "  </svg>\n",
              "      </button>\n",
              "      \n",
              "  <style>\n",
              "    .colab-df-container {\n",
              "      display:flex;\n",
              "      flex-wrap:wrap;\n",
              "      gap: 12px;\n",
              "    }\n",
              "\n",
              "    .colab-df-convert {\n",
              "      background-color: #E8F0FE;\n",
              "      border: none;\n",
              "      border-radius: 50%;\n",
              "      cursor: pointer;\n",
              "      display: none;\n",
              "      fill: #1967D2;\n",
              "      height: 32px;\n",
              "      padding: 0 0 0 0;\n",
              "      width: 32px;\n",
              "    }\n",
              "\n",
              "    .colab-df-convert:hover {\n",
              "      background-color: #E2EBFA;\n",
              "      box-shadow: 0px 1px 2px rgba(60, 64, 67, 0.3), 0px 1px 3px 1px rgba(60, 64, 67, 0.15);\n",
              "      fill: #174EA6;\n",
              "    }\n",
              "\n",
              "    [theme=dark] .colab-df-convert {\n",
              "      background-color: #3B4455;\n",
              "      fill: #D2E3FC;\n",
              "    }\n",
              "\n",
              "    [theme=dark] .colab-df-convert:hover {\n",
              "      background-color: #434B5C;\n",
              "      box-shadow: 0px 1px 3px 1px rgba(0, 0, 0, 0.15);\n",
              "      filter: drop-shadow(0px 1px 2px rgba(0, 0, 0, 0.3));\n",
              "      fill: #FFFFFF;\n",
              "    }\n",
              "  </style>\n",
              "\n",
              "      <script>\n",
              "        const buttonEl =\n",
              "          document.querySelector('#df-3dbd6ca4-60ec-43e4-870c-1cfa2e0e35d0 button.colab-df-convert');\n",
              "        buttonEl.style.display =\n",
              "          google.colab.kernel.accessAllowed ? 'block' : 'none';\n",
              "\n",
              "        async function convertToInteractive(key) {\n",
              "          const element = document.querySelector('#df-3dbd6ca4-60ec-43e4-870c-1cfa2e0e35d0');\n",
              "          const dataTable =\n",
              "            await google.colab.kernel.invokeFunction('convertToInteractive',\n",
              "                                                     [key], {});\n",
              "          if (!dataTable) return;\n",
              "\n",
              "          const docLinkHtml = 'Like what you see? Visit the ' +\n",
              "            '<a target=\"_blank\" href=https://colab.research.google.com/notebooks/data_table.ipynb>data table notebook</a>'\n",
              "            + ' to learn more about interactive tables.';\n",
              "          element.innerHTML = '';\n",
              "          dataTable['output_type'] = 'display_data';\n",
              "          await google.colab.output.renderOutput(dataTable, element);\n",
              "          const docLink = document.createElement('div');\n",
              "          docLink.innerHTML = docLinkHtml;\n",
              "          element.appendChild(docLink);\n",
              "        }\n",
              "      </script>\n",
              "    </div>\n",
              "  </div>\n",
              "  "
            ]
          },
          "metadata": {},
          "execution_count": 29
        }
      ],
      "source": [
        "project_data[project_data['id']=='p253737']"
      ]
    },
    {
      "cell_type": "markdown",
      "metadata": {
        "id": "hV8-QvxGaJcm"
      },
      "source": [
        "### 1.6.1 Preprocessing Essay Text"
      ]
    },
    {
      "cell_type": "code",
      "execution_count": null,
      "metadata": {
        "colab": {
          "base_uri": "https://localhost:8080/",
          "height": 384
        },
        "id": "WMkfWyz4aJcm",
        "outputId": "ec36d3ee-08dc-42cc-85c0-916e6b86ee0f"
      },
      "outputs": [
        {
          "output_type": "execute_result",
          "data": {
            "text/plain": [
              "        id                        teacher_id teacher_prefix school_state  \\\n",
              "0  p253737  c90749f5d961ff158d4b4d1e7dc665fc           Mrs.           IN   \n",
              "1  p258326  897464ce9ddc600bced1151f324dd63a            Mr.           FL   \n",
              "\n",
              "  project_submitted_datetime project_grade_category  \\\n",
              "0           05-12-2016 13:43          Grades PreK-2   \n",
              "1           25-10-2016 09:22             Grades 6-8   \n",
              "\n",
              "                                      project_title  \\\n",
              "0  Educational Support for English Learners at Home   \n",
              "1             Wanted: Projector for Hungry Learners   \n",
              "\n",
              "                                     project_essay_1  \\\n",
              "0  My students are English learners that are work...   \n",
              "1  Our students arrive to our school eager to lea...   \n",
              "\n",
              "                                     project_essay_2 project_essay_3  \\\n",
              "0  \\\"The limits of your language are the limits o...             NaN   \n",
              "1  The projector we need for our school is very c...             NaN   \n",
              "\n",
              "  project_essay_4                           project_resource_summary  \\\n",
              "0             NaN  My students need opportunities to practice beg...   \n",
              "1             NaN  My students need a projector to help with view...   \n",
              "\n",
              "   teacher_number_of_previously_posted_projects  project_is_approved  \\\n",
              "0                                             0                    0   \n",
              "1                                             7                    1   \n",
              "\n",
              "               clean_categories           clean_subcategories  Total_Price  \\\n",
              "0             Literacy_Language                  ESL Literacy       596.36   \n",
              "1  History_Civics Health_Sports  Civics_Government TeamSports       299.00   \n",
              "\n",
              "   quantity                                              essay  \n",
              "0        23  My students are English learners that are work...  \n",
              "1         1  Our students arrive to our school eager to lea...  "
            ],
            "text/html": [
              "\n",
              "  <div id=\"df-d6f56353-6040-4b6d-bd93-e651bea2135a\">\n",
              "    <div class=\"colab-df-container\">\n",
              "      <div>\n",
              "<style scoped>\n",
              "    .dataframe tbody tr th:only-of-type {\n",
              "        vertical-align: middle;\n",
              "    }\n",
              "\n",
              "    .dataframe tbody tr th {\n",
              "        vertical-align: top;\n",
              "    }\n",
              "\n",
              "    .dataframe thead th {\n",
              "        text-align: right;\n",
              "    }\n",
              "</style>\n",
              "<table border=\"1\" class=\"dataframe\">\n",
              "  <thead>\n",
              "    <tr style=\"text-align: right;\">\n",
              "      <th></th>\n",
              "      <th>id</th>\n",
              "      <th>teacher_id</th>\n",
              "      <th>teacher_prefix</th>\n",
              "      <th>school_state</th>\n",
              "      <th>project_submitted_datetime</th>\n",
              "      <th>project_grade_category</th>\n",
              "      <th>project_title</th>\n",
              "      <th>project_essay_1</th>\n",
              "      <th>project_essay_2</th>\n",
              "      <th>project_essay_3</th>\n",
              "      <th>project_essay_4</th>\n",
              "      <th>project_resource_summary</th>\n",
              "      <th>teacher_number_of_previously_posted_projects</th>\n",
              "      <th>project_is_approved</th>\n",
              "      <th>clean_categories</th>\n",
              "      <th>clean_subcategories</th>\n",
              "      <th>Total_Price</th>\n",
              "      <th>quantity</th>\n",
              "      <th>essay</th>\n",
              "    </tr>\n",
              "  </thead>\n",
              "  <tbody>\n",
              "    <tr>\n",
              "      <th>0</th>\n",
              "      <td>p253737</td>\n",
              "      <td>c90749f5d961ff158d4b4d1e7dc665fc</td>\n",
              "      <td>Mrs.</td>\n",
              "      <td>IN</td>\n",
              "      <td>05-12-2016 13:43</td>\n",
              "      <td>Grades PreK-2</td>\n",
              "      <td>Educational Support for English Learners at Home</td>\n",
              "      <td>My students are English learners that are work...</td>\n",
              "      <td>\\\"The limits of your language are the limits o...</td>\n",
              "      <td>NaN</td>\n",
              "      <td>NaN</td>\n",
              "      <td>My students need opportunities to practice beg...</td>\n",
              "      <td>0</td>\n",
              "      <td>0</td>\n",
              "      <td>Literacy_Language</td>\n",
              "      <td>ESL Literacy</td>\n",
              "      <td>596.36</td>\n",
              "      <td>23</td>\n",
              "      <td>My students are English learners that are work...</td>\n",
              "    </tr>\n",
              "    <tr>\n",
              "      <th>1</th>\n",
              "      <td>p258326</td>\n",
              "      <td>897464ce9ddc600bced1151f324dd63a</td>\n",
              "      <td>Mr.</td>\n",
              "      <td>FL</td>\n",
              "      <td>25-10-2016 09:22</td>\n",
              "      <td>Grades 6-8</td>\n",
              "      <td>Wanted: Projector for Hungry Learners</td>\n",
              "      <td>Our students arrive to our school eager to lea...</td>\n",
              "      <td>The projector we need for our school is very c...</td>\n",
              "      <td>NaN</td>\n",
              "      <td>NaN</td>\n",
              "      <td>My students need a projector to help with view...</td>\n",
              "      <td>7</td>\n",
              "      <td>1</td>\n",
              "      <td>History_Civics Health_Sports</td>\n",
              "      <td>Civics_Government TeamSports</td>\n",
              "      <td>299.00</td>\n",
              "      <td>1</td>\n",
              "      <td>Our students arrive to our school eager to lea...</td>\n",
              "    </tr>\n",
              "  </tbody>\n",
              "</table>\n",
              "</div>\n",
              "      <button class=\"colab-df-convert\" onclick=\"convertToInteractive('df-d6f56353-6040-4b6d-bd93-e651bea2135a')\"\n",
              "              title=\"Convert this dataframe to an interactive table.\"\n",
              "              style=\"display:none;\">\n",
              "        \n",
              "  <svg xmlns=\"http://www.w3.org/2000/svg\" height=\"24px\"viewBox=\"0 0 24 24\"\n",
              "       width=\"24px\">\n",
              "    <path d=\"M0 0h24v24H0V0z\" fill=\"none\"/>\n",
              "    <path d=\"M18.56 5.44l.94 2.06.94-2.06 2.06-.94-2.06-.94-.94-2.06-.94 2.06-2.06.94zm-11 1L8.5 8.5l.94-2.06 2.06-.94-2.06-.94L8.5 2.5l-.94 2.06-2.06.94zm10 10l.94 2.06.94-2.06 2.06-.94-2.06-.94-.94-2.06-.94 2.06-2.06.94z\"/><path d=\"M17.41 7.96l-1.37-1.37c-.4-.4-.92-.59-1.43-.59-.52 0-1.04.2-1.43.59L10.3 9.45l-7.72 7.72c-.78.78-.78 2.05 0 2.83L4 21.41c.39.39.9.59 1.41.59.51 0 1.02-.2 1.41-.59l7.78-7.78 2.81-2.81c.8-.78.8-2.07 0-2.86zM5.41 20L4 18.59l7.72-7.72 1.47 1.35L5.41 20z\"/>\n",
              "  </svg>\n",
              "      </button>\n",
              "      \n",
              "  <style>\n",
              "    .colab-df-container {\n",
              "      display:flex;\n",
              "      flex-wrap:wrap;\n",
              "      gap: 12px;\n",
              "    }\n",
              "\n",
              "    .colab-df-convert {\n",
              "      background-color: #E8F0FE;\n",
              "      border: none;\n",
              "      border-radius: 50%;\n",
              "      cursor: pointer;\n",
              "      display: none;\n",
              "      fill: #1967D2;\n",
              "      height: 32px;\n",
              "      padding: 0 0 0 0;\n",
              "      width: 32px;\n",
              "    }\n",
              "\n",
              "    .colab-df-convert:hover {\n",
              "      background-color: #E2EBFA;\n",
              "      box-shadow: 0px 1px 2px rgba(60, 64, 67, 0.3), 0px 1px 3px 1px rgba(60, 64, 67, 0.15);\n",
              "      fill: #174EA6;\n",
              "    }\n",
              "\n",
              "    [theme=dark] .colab-df-convert {\n",
              "      background-color: #3B4455;\n",
              "      fill: #D2E3FC;\n",
              "    }\n",
              "\n",
              "    [theme=dark] .colab-df-convert:hover {\n",
              "      background-color: #434B5C;\n",
              "      box-shadow: 0px 1px 3px 1px rgba(0, 0, 0, 0.15);\n",
              "      filter: drop-shadow(0px 1px 2px rgba(0, 0, 0, 0.3));\n",
              "      fill: #FFFFFF;\n",
              "    }\n",
              "  </style>\n",
              "\n",
              "      <script>\n",
              "        const buttonEl =\n",
              "          document.querySelector('#df-d6f56353-6040-4b6d-bd93-e651bea2135a button.colab-df-convert');\n",
              "        buttonEl.style.display =\n",
              "          google.colab.kernel.accessAllowed ? 'block' : 'none';\n",
              "\n",
              "        async function convertToInteractive(key) {\n",
              "          const element = document.querySelector('#df-d6f56353-6040-4b6d-bd93-e651bea2135a');\n",
              "          const dataTable =\n",
              "            await google.colab.kernel.invokeFunction('convertToInteractive',\n",
              "                                                     [key], {});\n",
              "          if (!dataTable) return;\n",
              "\n",
              "          const docLinkHtml = 'Like what you see? Visit the ' +\n",
              "            '<a target=\"_blank\" href=https://colab.research.google.com/notebooks/data_table.ipynb>data table notebook</a>'\n",
              "            + ' to learn more about interactive tables.';\n",
              "          element.innerHTML = '';\n",
              "          dataTable['output_type'] = 'display_data';\n",
              "          await google.colab.output.renderOutput(dataTable, element);\n",
              "          const docLink = document.createElement('div');\n",
              "          docLink.innerHTML = docLinkHtml;\n",
              "          element.appendChild(docLink);\n",
              "        }\n",
              "      </script>\n",
              "    </div>\n",
              "  </div>\n",
              "  "
            ]
          },
          "metadata": {},
          "execution_count": 30
        }
      ],
      "source": [
        "project_data.head(2)\n"
      ]
    },
    {
      "cell_type": "code",
      "execution_count": null,
      "metadata": {
        "colab": {
          "base_uri": "https://localhost:8080/"
        },
        "id": "-8c1-F07aJco",
        "outputId": "be854b55-763c-4c76-a06f-0209e1eee3a8"
      },
      "outputs": [
        {
          "output_type": "stream",
          "name": "stdout",
          "text": [
            "My students are English learners that are working on English as their second or third languages. We are a melting pot of refugees, immigrants, and native-born Americans bringing the gift of language to our school. \\r\\n\\r\\n We have over 24 languages represented in our English Learner program with students at every level of mastery.  We also have over 40 countries represented with the families within our school.  Each student brings a wealth of knowledge and experiences to us that open our eyes to new cultures, beliefs, and respect.\\\"The limits of your language are the limits of your world.\\\"-Ludwig Wittgenstein  Our English learner's have a strong support system at home that begs for more resources.  Many times our parents are learning to read and speak English along side of their children.  Sometimes this creates barriers for parents to be able to help their child learn phonetics, letter recognition, and other reading skills.\\r\\n\\r\\nBy providing these dvd's and players, students are able to continue their mastery of the English language even if no one at home is able to assist.  All families with students within the Level 1 proficiency status, will be a offered to be a part of this program.  These educational videos will be specially chosen by the English Learner Teacher and will be sent home regularly to watch.  The videos are to help the child develop early reading skills.\\r\\n\\r\\nParents that do not have access to a dvd player will have the opportunity to check out a dvd player to use for the year.  The plan is to use these videos and educational dvd's for the years to come for other EL students.\\r\\nnannan\n",
            "==================================================\n",
            "The 51 fifth grade students that will cycle through my classroom this year all love learning, at least most of the time. At our school, 97.3% of the students receive free or reduced price lunch. Of the 560 students, 97.3% are minority students. \\r\\nThe school has a vibrant community that loves to get together and celebrate. Around Halloween there is a whole school parade to show off the beautiful costumes that students wear. On Cinco de Mayo we put on a big festival with crafts made by the students, dances, and games. At the end of the year the school hosts a carnival to celebrate the hard work put in during the school year, with a dunk tank being the most popular activity.My students will use these five brightly colored Hokki stools in place of regular, stationary, 4-legged chairs. As I will only have a total of ten in the classroom and not enough for each student to have an individual one, they will be used in a variety of ways. During independent reading time they will be used as special chairs students will each use on occasion. I will utilize them in place of chairs at my small group tables during math and reading times. The rest of the day they will be used by the students who need the highest amount of movement in their life in order to stay focused on school.\\r\\n\\r\\nWhenever asked what the classroom is missing, my students always say more Hokki Stools. They can't get their fill of the 5 stools we already have. When the students are sitting in group with me on the Hokki Stools, they are always moving, but at the same time doing their work. Anytime the students get to pick where they can sit, the Hokki Stools are the first to be taken. There are always students who head over to the kidney table to get one of the stools who are disappointed as there are not enough of them. \\r\\n\\r\\nWe ask a lot of students to sit for 7 hours a day. The Hokki stools will be a compromise that allow my students to do desk work and move at the same time. These stools will help students to meet their 60 minutes a day of movement by allowing them to activate their core muscles for balance while they sit. For many of my students, these chairs will take away the barrier that exists in schools for a child who can't sit still.nannan\n",
            "==================================================\n",
            "How do you remember your days of school? Was it in a sterile environment with plain walls, rows of desks, and a teacher in front of the room? A typical day in our room is nothing like that. I work hard to create a warm inviting themed room for my students look forward to coming to each day.\\r\\n\\r\\nMy class is made up of 28 wonderfully unique boys and girls of mixed races in Arkansas.\\r\\nThey attend a Title I school, which means there is a high enough percentage of free and reduced-price lunch to qualify. Our school is an \\\"open classroom\\\" concept, which is very unique as there are no walls separating the classrooms. These 9 and 10 year-old students are very eager learners; they are like sponges, absorbing all the information and experiences and keep on wanting more.With these resources such as the comfy red throw pillows and the whimsical nautical hanging decor and the blue fish nets, I will be able to help create the mood in our classroom setting to be one of a themed nautical environment. Creating a classroom environment is very important in the success in each and every child's education. The nautical photo props will be used with each child as they step foot into our classroom for the first time on Meet the Teacher evening. I'll take pictures of each child with them, have them developed, and then hung in our classroom ready for their first day of 4th grade.  This kind gesture will set the tone before even the first day of school! The nautical thank you cards will be used throughout the year by the students as they create thank you cards to their team groups.\\r\\n\\r\\nYour generous donations will help me to help make our classroom a fun, inviting, learning environment from day one.\\r\\n\\r\\nIt costs lost of money out of my own pocket on resources to get our classroom ready. Please consider helping with this project to make our new school year a very successful one. Thank you!nannan\n",
            "==================================================\n",
            "My wonderful students are 3, 4, and 5 years old.  We are located in a small town outside of Charlotte, NC.  All of my 22 students are children of school district employees.\\r\\nMy students are bright, energetic, and they love to learn!  They love hands-on activities that get them moving.  Like most preschoolers, they enjoy music and creating different things. \\r\\nAll of my students come from wonderful families that are very supportive of our classroom.  Our parents enjoy watching their children's growth as much as we do!These materials will help me teach my students all about the life cycle of a butterfly.  We will watch as the Painted Lady caterpillars grow bigger and build their chrysalis.  After a few weeks they will emerge from the chrysalis as beautiful butterflies!  We already have a net for the chrysalises, but we still need the caterpillars and feeding station.\\r\\nThis will be an unforgettable experience for my students.  My student absolutely love hands-on materials.  They learn so much from getting to touch and manipulate different things.  The supporting materials I have selected will help my students understand the life cycle through exploration.nannan\n",
            "==================================================\n",
            "The students in my classroom are learners, readers, writers, explorers, scientists, and mathematicians! The potential in these first graders is endless! Each day they come in grinning from ear-to-ear and ready to learn more. \\r\\nI choose curriculum that is real and relevant to the students, but it will also prepare them for their futures. These kids are encouraged to investigate concepts that are exciting for them and I hope we can keep this momentum going! These kids deserve the best, please help me give that to them! Thank you! :)These kits include a wide variety of science, technology, engineering, and mechanics for my students to dive into at the beginning of the year. I want them to hit the ground running this upcoming year and these kits always encourage high interest.\\r\\nWho wouldn't want to build their own roller coaster, design a car, or even think critically to make a bean bag bounce as far as it can go?? These kits will also shows students potential careers that they may have never heard of before!\\r\\nAny donations would be greatly appreciated and my students will know exactly who to thank for them!nannan\n",
            "==================================================\n"
          ]
        }
      ],
      "source": [
        "# printing some random essays.\n",
        "print(project_data['essay'].values[0])\n",
        "print(\"=\"*50)\n",
        "print(project_data['essay'].values[150])\n",
        "print(\"=\"*50)\n",
        "print(project_data['essay'].values[1000])\n",
        "print(\"=\"*50)\n",
        "print(project_data['essay'].values[20000])\n",
        "print(\"=\"*50)\n",
        "print(project_data['essay'].values[99999])\n",
        "print(\"=\"*50)\n"
      ]
    },
    {
      "cell_type": "code",
      "execution_count": null,
      "metadata": {
        "id": "T_lC4-p3aJcq"
      },
      "outputs": [],
      "source": [
        "# Expanding some shorter sentences\n",
        "def decontracted(phrase):\n",
        "    # specific\n",
        "    phrase = re.sub(r\"won't\", \"will not\", phrase)\n",
        "    phrase = re.sub(r\"can\\'t\", \"can not\", phrase)\n",
        "\n",
        "    # general\n",
        "    phrase = re.sub(r\"n\\'t\", \" not\", phrase)\n",
        "    phrase = re.sub(r\"\\'re\", \" are\", phrase)\n",
        "    phrase = re.sub(r\"\\'s\", \" is\", phrase)\n",
        "    phrase = re.sub(r\"\\'d\", \" would\", phrase)\n",
        "    phrase = re.sub(r\"\\'ll\", \" will\", phrase)\n",
        "    phrase = re.sub(r\"\\'t\", \" not\", phrase)\n",
        "    phrase = re.sub(r\"\\'ve\", \" have\", phrase)\n",
        "    phrase = re.sub(r\"\\'m\", \" am\", phrase)\n",
        "    return phrase"
      ]
    },
    {
      "cell_type": "code",
      "execution_count": null,
      "metadata": {
        "id": "zye_gWrya_f6"
      },
      "outputs": [],
      "source": [
        "# Lemmatization using spacy https://yanlinc.medium.com/how-to-build-a-lda-topic-model-using-from-text-601cdcbfd3a6\n",
        "# https://stackoverflow.com/questions/56966754/how-can-i-make-spacy-not-produce-the-pron-lemma\n",
        "def lemmatization(text, allowed_postags=['NOUN', 'ADJ', 'VERB', 'ADV','PROPN']):\n",
        "    doc = nlp(text) \n",
        "    text1=\" \".join([token.lemma_ if token.lemma_ not in ['-PRON-'] else '' for token in doc if token.pos_ in allowed_postags])\n",
        "    return text1"
      ]
    },
    {
      "cell_type": "code",
      "source": [
        "import nltk\n",
        "nltk.download('stopwords')\n",
        "from nltk.corpus import stopwords\n",
        "stops = set(stopwords.words('english'))\n",
        "print(stops)"
      ],
      "metadata": {
        "colab": {
          "base_uri": "https://localhost:8080/"
        },
        "id": "ONE0_7IOJo6v",
        "outputId": "7f617fe6-c1e8-4fd6-b389-78f510462cae"
      },
      "execution_count": 3,
      "outputs": [
        {
          "output_type": "stream",
          "name": "stdout",
          "text": [
            "{'d', 'not', 'needn', 'more', 'where', 'own', 'hadn', \"you'd\", 'yourselves', 'all', 'over', 'hers', 'they', \"aren't\", \"haven't\", \"hasn't\", 'ourselves', \"wouldn't\", 'should', 'he', 'to', 'about', 'themselves', 'him', \"should've\", 'did', 'most', 'can', 'these', 'for', 'her', 'who', 'your', 's', \"couldn't\", \"hadn't\", \"she's\", 'was', 'doesn', 'which', 'yourself', 'of', \"don't\", 'but', 'i', 'whom', 'm', 'the', 'no', \"you're\", 'do', 'be', 'too', 'from', 'those', 'down', 'were', 'what', 'in', 'an', 'as', 'don', 'further', 'such', 'below', 'theirs', 're', 'against', \"didn't\", 'it', 'while', 'with', 'them', 'haven', 'mightn', 't', 'on', 've', \"needn't\", 'or', 'wouldn', 'having', \"it's\", 'both', 'any', \"you've\", \"won't\", 'at', 'ma', 'if', 'after', 'there', 'same', 'weren', \"weren't\", 'been', 'our', 'very', 'hasn', 'am', 'their', 'didn', 'o', \"shouldn't\", 'myself', 'isn', 'had', 'now', 'won', 'is', 'few', 'just', 'y', 'himself', 'does', 'out', 'off', 'why', 'between', 'will', 'we', 'by', 'yours', \"mustn't\", 'before', 'than', 'some', 'during', 'couldn', 'are', 'how', 'a', 'his', 'here', 'has', 'you', 'other', 'when', 'this', 'itself', 'nor', 'll', 'aren', \"isn't\", 'again', 'ours', 'herself', 'only', 'have', 'into', 'shan', 'doing', 'once', 'up', 'so', 'mustn', 'its', 'that', 'wasn', 'shouldn', 'she', 'through', 'above', 'and', 'each', \"doesn't\", 'until', \"shan't\", \"you'll\", 'under', \"mightn't\", \"wasn't\", \"that'll\", 'me', 'ain', 'then', 'being', 'because', 'my'}\n"
          ]
        },
        {
          "output_type": "stream",
          "name": "stderr",
          "text": [
            "[nltk_data] Downloading package stopwords to /root/nltk_data...\n",
            "[nltk_data]   Unzipping corpora/stopwords.zip.\n"
          ]
        }
      ]
    },
    {
      "cell_type": "code",
      "execution_count": null,
      "metadata": {
        "id": "wQATh1fDa_f6"
      },
      "outputs": [],
      "source": [
        "#Removing stop words. I have taken the stopwords from NLTK english package and then removed all the words which will\n",
        "# not appear given the pre processing steps applied above Like ain't will be modified to ainot\n",
        "stopwords=['i','me','my','myself','we','our','ours','ourselves','you',\"you are\",\"you have\",\"you will\",\"you would\",'your','yours','yourself',\n",
        " 'yourselves','he','him','his','himself','she',\"she is\",'her','hers','herself','it',\"it is\",'its','itself','they',\n",
        " 'them','their','theirs','themselves','what','which','who','whom','this','that',\"that will\",'these','those','am',\n",
        " 'is','are','was','were','be','been','being','have','has','had','having','do','does','did','doing','a','an','the',\n",
        " 'and','but','if','or','because','as','until','while','of','at','by','for','with','about','against','between','into','through',\n",
        " 'during','before','after','above','below','to','from','up','down','in','out','on','off','over','under','again','further','then',\n",
        " 'once','here','there','when','where','why','how','all','any','both','each','few','more','most','other','some','such','only','no','nor','not',\n",
        "'own','same','so','than','too','very','is','s','t','can','will','just','don',\"do not\",'should',\n",
        " \"should have\",'now','would','will','am','o','are','have','y']"
      ]
    },
    {
      "cell_type": "code",
      "execution_count": null,
      "metadata": {
        "id": "FDgba-v1a_f7"
      },
      "outputs": [],
      "source": [
        "#remove words with numbers python: https://stackoverflow.com/a/18082370/4084039\n",
        "#remove special character: https://stackoverflow.com/a/5843547/4084039\n",
        "# \\r \\n \\t remove from string python: http://texthandler.com/info/remove-line-breaks-python/\n",
        "def data_clean(Text): \n",
        "    Text = decontracted(Text)#Expand words\n",
        "    Text = re.sub(\"\\S*\\d\\S*\", \"\", Text).strip()#Remove numbers\n",
        "    Text = re.sub('[^A-Za-z0-9]+', ' ', Text).strip()#Remove special characters\n",
        "    Text = re.sub(r\"\\b..\\b\", ' ', Text).strip()#Remove words less than and equal 3 characters\n",
        "    Text = re.sub('\\\\r', ' ' ,Text) # Remove line breaks\n",
        "    Text = re.sub('\\\\n', ' ' ,Text)   # remove line breaks\n",
        "    Text = re.sub('\\\\\"', ' ' ,Text)  # removes \"\"\n",
        "    Text = \" \".join([word.lower() for word in Text.split() if word.lower() not in stopwords])#Lowercase and remove stop words\n",
        "    #Text = lemmatization(Text)#Find lemma#This was increasing the data pre processing very heavily so removed for time being\n",
        "    return Text"
      ]
    },
    {
      "cell_type": "code",
      "source": [
        "# Try out every command for yourself before running the whole code\n",
        "import re\n",
        "Text = 'My number is HELLO12345HELLO'\n",
        "re.sub(\"\\S*\\d\\S*\", \"\", Text)"
      ],
      "metadata": {
        "colab": {
          "base_uri": "https://localhost:8080/",
          "height": 35
        },
        "id": "8cXGu7l5Krgd",
        "outputId": "3e6777eb-3aec-4e47-8d1a-8704804d1577"
      },
      "execution_count": 6,
      "outputs": [
        {
          "output_type": "execute_result",
          "data": {
            "text/plain": [
              "'My number is '"
            ],
            "application/vnd.google.colaboratory.intrinsic+json": {
              "type": "string"
            }
          },
          "metadata": {},
          "execution_count": 6
        }
      ]
    },
    {
      "cell_type": "code",
      "source": [
        "Text = 'I saw a cat and the cat is a agile animal'\n",
        "re.sub(r\"\\b..\\b\", ' ', Text)"
      ],
      "metadata": {
        "colab": {
          "base_uri": "https://localhost:8080/",
          "height": 35
        },
        "id": "4OAY-yJdQpns",
        "outputId": "6c1a69fc-fa08-4973-c4d8-55c3025428b3"
      },
      "execution_count": null,
      "outputs": [
        {
          "output_type": "execute_result",
          "data": {
            "text/plain": [
              "' saw  cat and the cat    agile animal'"
            ],
            "application/vnd.google.colaboratory.intrinsic+json": {
              "type": "string"
            }
          },
          "metadata": {},
          "execution_count": 24
        }
      ]
    },
    {
      "cell_type": "code",
      "execution_count": null,
      "metadata": {
        "id": "IlqwuT3la_f7"
      },
      "outputs": [],
      "source": [
        "Cleaned_data=pd.DataFrame()"
      ]
    },
    {
      "cell_type": "code",
      "execution_count": null,
      "metadata": {
        "colab": {
          "base_uri": "https://localhost:8080/",
          "height": 49,
          "referenced_widgets": [
            "dbd52c9da1c64d38b1b248584ec5098a",
            "9310afac2e6248a6a0faabca58ed89c2",
            "48fc5ef65fd14f30bf12bfac035ed270",
            "ece6634cef1f435db38086a97bba319f",
            "3a35112d636b4c6eaeed7548166d7ef2",
            "23b9f43d300c48698a43d173cde5f0d8",
            "78b4839c09d5417cb199152e6606c88f",
            "8ff031eb529c4874a01cd4dc955c5738",
            "4d39f7ed10a34d29a4fa9cf4ffd51d6c",
            "802f147b7bec48f096b41397f5a90f83",
            "7c8154d1e7f24d51bbd256252d01c7d2"
          ]
        },
        "id": "sSXiKxOka_f7",
        "outputId": "bef36a47-fff7-44a1-953c-5ce114d9b180"
      },
      "outputs": [
        {
          "output_type": "display_data",
          "data": {
            "text/plain": [
              "  0%|          | 0/109245 [00:00<?, ?it/s]"
            ],
            "application/vnd.jupyter.widget-view+json": {
              "version_major": 2,
              "version_minor": 0,
              "model_id": "dbd52c9da1c64d38b1b248584ec5098a"
            }
          },
          "metadata": {}
        }
      ],
      "source": [
        "Cleaned_data[\"Essay_Cleaned\"]=project_data[\"essay\"].progress_apply(data_clean)"
      ]
    },
    {
      "cell_type": "code",
      "execution_count": null,
      "metadata": {
        "colab": {
          "base_uri": "https://localhost:8080/",
          "height": 122
        },
        "id": "DIgHChlYaJc1",
        "outputId": "572e777d-7266-42e5-9b9c-72496613d8c9"
      },
      "outputs": [
        {
          "output_type": "execute_result",
          "data": {
            "text/plain": [
              "'describing students easy task many say inspirational creative hard working unique unique interests learning abilities much common desire learn day despite difficulties encounter nour classroom amazing understand everyone learns pace teacher pride making sure students always engaged motivated inspired create learning nthis project help students choose seating appropriate developmentally many students tire sitting chairs lessons different seats available helps keep engaged learning nflexible seating important classroom many students struggle attention focus engagement currently stability balls seating well regular chairs stools help students trouble balance find difficult sit stability ball long period time excited try stools part engaging classroom community nannan'"
            ],
            "application/vnd.google.colaboratory.intrinsic+json": {
              "type": "string"
            }
          },
          "metadata": {},
          "execution_count": 39
        }
      ],
      "source": [
        "# after preprocesing\n",
        "Cleaned_data[\"Essay_Cleaned\"][2000]"
      ]
    },
    {
      "cell_type": "code",
      "execution_count": null,
      "metadata": {
        "colab": {
          "base_uri": "https://localhost:8080/",
          "height": 139
        },
        "id": "jLyRPQWsa_f7",
        "outputId": "de263af7-bab2-4fb6-f991-83d11a506590"
      },
      "outputs": [
        {
          "output_type": "execute_result",
          "data": {
            "text/plain": [
              "\"Describing my students isn't an easy task.  Many would say that they are inspirational, creative, and hard-working.  They are all unique - unique in their interests, their learning, their abilities, and so much more.  What they all have in common is their desire to learn each day, despite difficulties that they encounter.  \\\\r\\\\nOur classroom is amazing - because we understand that everyone learns at their own pace.  As the teacher, I pride myself in making sure my students are always engaged, motivated, and inspired to create their own learning! \\\\r\\\\nThis project is to help my students choose seating that is more appropriate for them, developmentally.  Many students tire of sitting in chairs during lessons, and having different seats available helps to keep them engaged and learning.\\\\r\\\\nFlexible seating is important in our classroom, as many of our students struggle with attention, focus, and engagement.  We currently have stability balls for seating, as well as regular chairs, but these stools will help students who have trouble with balance, or find it difficult to sit on a stability ball for a long period of time.  We are excited to try these stools as a part of our engaging classroom community!nannan\""
            ],
            "application/vnd.google.colaboratory.intrinsic+json": {
              "type": "string"
            }
          },
          "metadata": {},
          "execution_count": 40
        }
      ],
      "source": [
        "#Before processing\n",
        "project_data[\"essay\"][2000]"
      ]
    },
    {
      "cell_type": "markdown",
      "metadata": {
        "id": "oTPIxdGmaJc3"
      },
      "source": [
        "### 1.6.2 Preprocessing Project Title"
      ]
    },
    {
      "cell_type": "code",
      "execution_count": null,
      "metadata": {
        "colab": {
          "base_uri": "https://localhost:8080/",
          "height": 35
        },
        "id": "hxmvXLZBaJc4",
        "outputId": "087d401f-a77b-4c37-a1d8-2655db35f79a"
      },
      "outputs": [
        {
          "output_type": "execute_result",
          "data": {
            "text/plain": [
              "'Steady Stools for Active Learning'"
            ],
            "application/vnd.google.colaboratory.intrinsic+json": {
              "type": "string"
            }
          },
          "metadata": {},
          "execution_count": 41
        }
      ],
      "source": [
        "#Before processing\n",
        "project_data[\"project_title\"][2000]"
      ]
    },
    {
      "cell_type": "code",
      "execution_count": null,
      "metadata": {
        "colab": {
          "base_uri": "https://localhost:8080/",
          "height": 49,
          "referenced_widgets": [
            "48fb397116044c37bb2cabb6af694de9",
            "168476cad7334ecca313005846527cd7",
            "d09c8d149bd9487a8e745cafd9bed9e4",
            "c24085667e4d4490ac2ccf16ff1cc27d",
            "422218c49a8f4cea89c3c61baca9ed14",
            "63fbc27186824a048df50d08a734f2cc",
            "e6a44c4e7320437eba14efc982b4c372",
            "4eadaed012974e2290e3699beebf4fb6",
            "16f3ec75595445ae9b4c40d403c68acd",
            "a6f8178eba594e4fac3fb241ad6857df",
            "bad556b256db40c79724be347c8d9560"
          ]
        },
        "id": "d4g0y9y3a_f8",
        "outputId": "5560bdbb-806b-431c-bd27-74903f7e75ce"
      },
      "outputs": [
        {
          "output_type": "display_data",
          "data": {
            "text/plain": [
              "  0%|          | 0/109245 [00:00<?, ?it/s]"
            ],
            "application/vnd.jupyter.widget-view+json": {
              "version_major": 2,
              "version_minor": 0,
              "model_id": "48fb397116044c37bb2cabb6af694de9"
            }
          },
          "metadata": {}
        }
      ],
      "source": [
        "Cleaned_data[\"Project_Title_Cleaned\"]=project_data[\"project_title\"].progress_apply(data_clean)"
      ]
    },
    {
      "cell_type": "code",
      "execution_count": null,
      "metadata": {
        "colab": {
          "base_uri": "https://localhost:8080/",
          "height": 35
        },
        "id": "tAPIBnIpa_f8",
        "outputId": "41173e1e-8bb4-40f1-bdb1-d2cf2fb263b0"
      },
      "outputs": [
        {
          "output_type": "execute_result",
          "data": {
            "text/plain": [
              "'steady stools active learning'"
            ],
            "application/vnd.google.colaboratory.intrinsic+json": {
              "type": "string"
            }
          },
          "metadata": {},
          "execution_count": 43
        }
      ],
      "source": [
        "# after preprocesing\n",
        "Cleaned_data[\"Project_Title_Cleaned\"][2000]"
      ]
    },
    {
      "cell_type": "code",
      "execution_count": null,
      "metadata": {
        "colab": {
          "base_uri": "https://localhost:8080/"
        },
        "id": "P6uNzGaUa_f8",
        "outputId": "dd0b62f4-fa1c-4041-a95c-cedb2a354bd2"
      },
      "outputs": [
        {
          "output_type": "execute_result",
          "data": {
            "text/plain": [
              "Index(['Essay_Cleaned', 'Project_Title_Cleaned'], dtype='object')"
            ]
          },
          "metadata": {},
          "execution_count": 44
        }
      ],
      "source": [
        "Cleaned_data.columns"
      ]
    },
    {
      "cell_type": "code",
      "execution_count": null,
      "metadata": {
        "colab": {
          "base_uri": "https://localhost:8080/"
        },
        "id": "njGDVFIfa_f8",
        "outputId": "b4a51e3d-4d41-499e-9e26-699b41e3f385"
      },
      "outputs": [
        {
          "output_type": "execute_result",
          "data": {
            "text/plain": [
              "(109245, 19)"
            ]
          },
          "metadata": {},
          "execution_count": 45
        }
      ],
      "source": [
        "project_data.shape\n"
      ]
    },
    {
      "cell_type": "code",
      "execution_count": null,
      "metadata": {
        "id": "3wgjYLCPa_f9"
      },
      "outputs": [],
      "source": [
        "project_data['Essay_Cleaned']=Cleaned_data['Essay_Cleaned']\n",
        "project_data['Project_Title_Cleaned']=Cleaned_data['Project_Title_Cleaned']"
      ]
    },
    {
      "cell_type": "code",
      "execution_count": null,
      "metadata": {
        "colab": {
          "base_uri": "https://localhost:8080/"
        },
        "id": "K0WRkTlZa_f9",
        "outputId": "3e7acf98-88be-4a0d-9c2f-9c532a4fbc84"
      },
      "outputs": [
        {
          "output_type": "execute_result",
          "data": {
            "text/plain": [
              "Index(['id', 'teacher_id', 'teacher_prefix', 'school_state',\n",
              "       'project_submitted_datetime', 'project_grade_category', 'project_title',\n",
              "       'project_essay_1', 'project_essay_2', 'project_essay_3',\n",
              "       'project_essay_4', 'project_resource_summary',\n",
              "       'teacher_number_of_previously_posted_projects', 'project_is_approved',\n",
              "       'clean_categories', 'clean_subcategories', 'Total_Price', 'quantity',\n",
              "       'essay', 'Essay_Cleaned', 'Project_Title_Cleaned'],\n",
              "      dtype='object')"
            ]
          },
          "metadata": {},
          "execution_count": 47
        }
      ],
      "source": [
        "project_data.columns"
      ]
    },
    {
      "cell_type": "code",
      "execution_count": null,
      "metadata": {
        "colab": {
          "base_uri": "https://localhost:8080/",
          "height": 733
        },
        "id": "iiGlnB5ka_f9",
        "outputId": "4868afc7-69c1-48da-9908-7b59f4783284"
      },
      "outputs": [
        {
          "output_type": "execute_result",
          "data": {
            "text/plain": [
              "        id                        teacher_id teacher_prefix school_state  \\\n",
              "0  p253737  c90749f5d961ff158d4b4d1e7dc665fc           Mrs.           IN   \n",
              "1  p258326  897464ce9ddc600bced1151f324dd63a            Mr.           FL   \n",
              "2  p182444  3465aaf82da834c0582ebd0ef8040ca0            Ms.           AZ   \n",
              "3  p246581  f3cb9bffbba169bef1a77b243e620b60           Mrs.           KY   \n",
              "4  p104768  be1f7507a41f8479dc06f047086a39ec           Mrs.           TX   \n",
              "\n",
              "  project_submitted_datetime project_grade_category  \\\n",
              "0           05-12-2016 13:43          Grades PreK-2   \n",
              "1           25-10-2016 09:22             Grades 6-8   \n",
              "2           31-08-2016 12:03             Grades 6-8   \n",
              "3           06-10-2016 21:16          Grades PreK-2   \n",
              "4           11-07-2016 01:10          Grades PreK-2   \n",
              "\n",
              "                                       project_title  \\\n",
              "0   Educational Support for English Learners at Home   \n",
              "1              Wanted: Projector for Hungry Learners   \n",
              "2  Soccer Equipment for AWESOME Middle School Stu...   \n",
              "3                             Techie Kindergarteners   \n",
              "4                             Interactive Math Tools   \n",
              "\n",
              "                                     project_essay_1  \\\n",
              "0  My students are English learners that are work...   \n",
              "1  Our students arrive to our school eager to lea...   \n",
              "2  \\r\\n\\\"True champions aren't always the ones th...   \n",
              "3  I work at a unique school filled with both ESL...   \n",
              "4  Our second grade classroom next year will be m...   \n",
              "\n",
              "                                     project_essay_2 project_essay_3  ...  \\\n",
              "0  \\\"The limits of your language are the limits o...             NaN  ...   \n",
              "1  The projector we need for our school is very c...             NaN  ...   \n",
              "2  The students on the campus come to school know...             NaN  ...   \n",
              "3  My students live in high poverty conditions wi...             NaN  ...   \n",
              "4  For many students, math is a subject that does...             NaN  ...   \n",
              "\n",
              "                            project_resource_summary  \\\n",
              "0  My students need opportunities to practice beg...   \n",
              "1  My students need a projector to help with view...   \n",
              "2  My students need shine guards, athletic socks,...   \n",
              "3  My students need to engage in Reading and Math...   \n",
              "4  My students need hands on practice in mathemat...   \n",
              "\n",
              "  teacher_number_of_previously_posted_projects  project_is_approved  \\\n",
              "0                                            0                    0   \n",
              "1                                            7                    1   \n",
              "2                                            1                    0   \n",
              "3                                            4                    1   \n",
              "4                                            1                    1   \n",
              "\n",
              "                 clean_categories           clean_subcategories Total_Price  \\\n",
              "0               Literacy_Language                  ESL Literacy      596.36   \n",
              "1    History_Civics Health_Sports  Civics_Government TeamSports      299.00   \n",
              "2                   Health_Sports    Health_Wellness TeamSports      686.68   \n",
              "3  Literacy_Language Math_Science          Literacy Mathematics      431.90   \n",
              "4                    Math_Science                   Mathematics      143.96   \n",
              "\n",
              "   quantity                                              essay  \\\n",
              "0        23  My students are English learners that are work...   \n",
              "1         1  Our students arrive to our school eager to lea...   \n",
              "2        22  \\r\\n\\\"True champions aren't always the ones th...   \n",
              "3         4  I work at a unique school filled with both ESL...   \n",
              "4         4  Our second grade classroom next year will be m...   \n",
              "\n",
              "                                       Essay_Cleaned  \\\n",
              "0  students english learners working english seco...   \n",
              "1  students arrive school eager learn polite gene...   \n",
              "2  true champions always ones win guts mia hamm q...   \n",
              "3  work unique school filled esl english second l...   \n",
              "4  second grade classroom next year made around k...   \n",
              "\n",
              "                             Project_Title_Cleaned  \n",
              "0        educational support english learners home  \n",
              "1                 wanted projector hungry learners  \n",
              "2  soccer equipment awesome middle school students  \n",
              "3                           techie kindergarteners  \n",
              "4                           interactive math tools  \n",
              "\n",
              "[5 rows x 21 columns]"
            ],
            "text/html": [
              "\n",
              "  <div id=\"df-3cce8cea-d61e-45ba-89c8-587d59836e5e\">\n",
              "    <div class=\"colab-df-container\">\n",
              "      <div>\n",
              "<style scoped>\n",
              "    .dataframe tbody tr th:only-of-type {\n",
              "        vertical-align: middle;\n",
              "    }\n",
              "\n",
              "    .dataframe tbody tr th {\n",
              "        vertical-align: top;\n",
              "    }\n",
              "\n",
              "    .dataframe thead th {\n",
              "        text-align: right;\n",
              "    }\n",
              "</style>\n",
              "<table border=\"1\" class=\"dataframe\">\n",
              "  <thead>\n",
              "    <tr style=\"text-align: right;\">\n",
              "      <th></th>\n",
              "      <th>id</th>\n",
              "      <th>teacher_id</th>\n",
              "      <th>teacher_prefix</th>\n",
              "      <th>school_state</th>\n",
              "      <th>project_submitted_datetime</th>\n",
              "      <th>project_grade_category</th>\n",
              "      <th>project_title</th>\n",
              "      <th>project_essay_1</th>\n",
              "      <th>project_essay_2</th>\n",
              "      <th>project_essay_3</th>\n",
              "      <th>...</th>\n",
              "      <th>project_resource_summary</th>\n",
              "      <th>teacher_number_of_previously_posted_projects</th>\n",
              "      <th>project_is_approved</th>\n",
              "      <th>clean_categories</th>\n",
              "      <th>clean_subcategories</th>\n",
              "      <th>Total_Price</th>\n",
              "      <th>quantity</th>\n",
              "      <th>essay</th>\n",
              "      <th>Essay_Cleaned</th>\n",
              "      <th>Project_Title_Cleaned</th>\n",
              "    </tr>\n",
              "  </thead>\n",
              "  <tbody>\n",
              "    <tr>\n",
              "      <th>0</th>\n",
              "      <td>p253737</td>\n",
              "      <td>c90749f5d961ff158d4b4d1e7dc665fc</td>\n",
              "      <td>Mrs.</td>\n",
              "      <td>IN</td>\n",
              "      <td>05-12-2016 13:43</td>\n",
              "      <td>Grades PreK-2</td>\n",
              "      <td>Educational Support for English Learners at Home</td>\n",
              "      <td>My students are English learners that are work...</td>\n",
              "      <td>\\\"The limits of your language are the limits o...</td>\n",
              "      <td>NaN</td>\n",
              "      <td>...</td>\n",
              "      <td>My students need opportunities to practice beg...</td>\n",
              "      <td>0</td>\n",
              "      <td>0</td>\n",
              "      <td>Literacy_Language</td>\n",
              "      <td>ESL Literacy</td>\n",
              "      <td>596.36</td>\n",
              "      <td>23</td>\n",
              "      <td>My students are English learners that are work...</td>\n",
              "      <td>students english learners working english seco...</td>\n",
              "      <td>educational support english learners home</td>\n",
              "    </tr>\n",
              "    <tr>\n",
              "      <th>1</th>\n",
              "      <td>p258326</td>\n",
              "      <td>897464ce9ddc600bced1151f324dd63a</td>\n",
              "      <td>Mr.</td>\n",
              "      <td>FL</td>\n",
              "      <td>25-10-2016 09:22</td>\n",
              "      <td>Grades 6-8</td>\n",
              "      <td>Wanted: Projector for Hungry Learners</td>\n",
              "      <td>Our students arrive to our school eager to lea...</td>\n",
              "      <td>The projector we need for our school is very c...</td>\n",
              "      <td>NaN</td>\n",
              "      <td>...</td>\n",
              "      <td>My students need a projector to help with view...</td>\n",
              "      <td>7</td>\n",
              "      <td>1</td>\n",
              "      <td>History_Civics Health_Sports</td>\n",
              "      <td>Civics_Government TeamSports</td>\n",
              "      <td>299.00</td>\n",
              "      <td>1</td>\n",
              "      <td>Our students arrive to our school eager to lea...</td>\n",
              "      <td>students arrive school eager learn polite gene...</td>\n",
              "      <td>wanted projector hungry learners</td>\n",
              "    </tr>\n",
              "    <tr>\n",
              "      <th>2</th>\n",
              "      <td>p182444</td>\n",
              "      <td>3465aaf82da834c0582ebd0ef8040ca0</td>\n",
              "      <td>Ms.</td>\n",
              "      <td>AZ</td>\n",
              "      <td>31-08-2016 12:03</td>\n",
              "      <td>Grades 6-8</td>\n",
              "      <td>Soccer Equipment for AWESOME Middle School Stu...</td>\n",
              "      <td>\\r\\n\\\"True champions aren't always the ones th...</td>\n",
              "      <td>The students on the campus come to school know...</td>\n",
              "      <td>NaN</td>\n",
              "      <td>...</td>\n",
              "      <td>My students need shine guards, athletic socks,...</td>\n",
              "      <td>1</td>\n",
              "      <td>0</td>\n",
              "      <td>Health_Sports</td>\n",
              "      <td>Health_Wellness TeamSports</td>\n",
              "      <td>686.68</td>\n",
              "      <td>22</td>\n",
              "      <td>\\r\\n\\\"True champions aren't always the ones th...</td>\n",
              "      <td>true champions always ones win guts mia hamm q...</td>\n",
              "      <td>soccer equipment awesome middle school students</td>\n",
              "    </tr>\n",
              "    <tr>\n",
              "      <th>3</th>\n",
              "      <td>p246581</td>\n",
              "      <td>f3cb9bffbba169bef1a77b243e620b60</td>\n",
              "      <td>Mrs.</td>\n",
              "      <td>KY</td>\n",
              "      <td>06-10-2016 21:16</td>\n",
              "      <td>Grades PreK-2</td>\n",
              "      <td>Techie Kindergarteners</td>\n",
              "      <td>I work at a unique school filled with both ESL...</td>\n",
              "      <td>My students live in high poverty conditions wi...</td>\n",
              "      <td>NaN</td>\n",
              "      <td>...</td>\n",
              "      <td>My students need to engage in Reading and Math...</td>\n",
              "      <td>4</td>\n",
              "      <td>1</td>\n",
              "      <td>Literacy_Language Math_Science</td>\n",
              "      <td>Literacy Mathematics</td>\n",
              "      <td>431.90</td>\n",
              "      <td>4</td>\n",
              "      <td>I work at a unique school filled with both ESL...</td>\n",
              "      <td>work unique school filled esl english second l...</td>\n",
              "      <td>techie kindergarteners</td>\n",
              "    </tr>\n",
              "    <tr>\n",
              "      <th>4</th>\n",
              "      <td>p104768</td>\n",
              "      <td>be1f7507a41f8479dc06f047086a39ec</td>\n",
              "      <td>Mrs.</td>\n",
              "      <td>TX</td>\n",
              "      <td>11-07-2016 01:10</td>\n",
              "      <td>Grades PreK-2</td>\n",
              "      <td>Interactive Math Tools</td>\n",
              "      <td>Our second grade classroom next year will be m...</td>\n",
              "      <td>For many students, math is a subject that does...</td>\n",
              "      <td>NaN</td>\n",
              "      <td>...</td>\n",
              "      <td>My students need hands on practice in mathemat...</td>\n",
              "      <td>1</td>\n",
              "      <td>1</td>\n",
              "      <td>Math_Science</td>\n",
              "      <td>Mathematics</td>\n",
              "      <td>143.96</td>\n",
              "      <td>4</td>\n",
              "      <td>Our second grade classroom next year will be m...</td>\n",
              "      <td>second grade classroom next year made around k...</td>\n",
              "      <td>interactive math tools</td>\n",
              "    </tr>\n",
              "  </tbody>\n",
              "</table>\n",
              "<p>5 rows × 21 columns</p>\n",
              "</div>\n",
              "      <button class=\"colab-df-convert\" onclick=\"convertToInteractive('df-3cce8cea-d61e-45ba-89c8-587d59836e5e')\"\n",
              "              title=\"Convert this dataframe to an interactive table.\"\n",
              "              style=\"display:none;\">\n",
              "        \n",
              "  <svg xmlns=\"http://www.w3.org/2000/svg\" height=\"24px\"viewBox=\"0 0 24 24\"\n",
              "       width=\"24px\">\n",
              "    <path d=\"M0 0h24v24H0V0z\" fill=\"none\"/>\n",
              "    <path d=\"M18.56 5.44l.94 2.06.94-2.06 2.06-.94-2.06-.94-.94-2.06-.94 2.06-2.06.94zm-11 1L8.5 8.5l.94-2.06 2.06-.94-2.06-.94L8.5 2.5l-.94 2.06-2.06.94zm10 10l.94 2.06.94-2.06 2.06-.94-2.06-.94-.94-2.06-.94 2.06-2.06.94z\"/><path d=\"M17.41 7.96l-1.37-1.37c-.4-.4-.92-.59-1.43-.59-.52 0-1.04.2-1.43.59L10.3 9.45l-7.72 7.72c-.78.78-.78 2.05 0 2.83L4 21.41c.39.39.9.59 1.41.59.51 0 1.02-.2 1.41-.59l7.78-7.78 2.81-2.81c.8-.78.8-2.07 0-2.86zM5.41 20L4 18.59l7.72-7.72 1.47 1.35L5.41 20z\"/>\n",
              "  </svg>\n",
              "      </button>\n",
              "      \n",
              "  <style>\n",
              "    .colab-df-container {\n",
              "      display:flex;\n",
              "      flex-wrap:wrap;\n",
              "      gap: 12px;\n",
              "    }\n",
              "\n",
              "    .colab-df-convert {\n",
              "      background-color: #E8F0FE;\n",
              "      border: none;\n",
              "      border-radius: 50%;\n",
              "      cursor: pointer;\n",
              "      display: none;\n",
              "      fill: #1967D2;\n",
              "      height: 32px;\n",
              "      padding: 0 0 0 0;\n",
              "      width: 32px;\n",
              "    }\n",
              "\n",
              "    .colab-df-convert:hover {\n",
              "      background-color: #E2EBFA;\n",
              "      box-shadow: 0px 1px 2px rgba(60, 64, 67, 0.3), 0px 1px 3px 1px rgba(60, 64, 67, 0.15);\n",
              "      fill: #174EA6;\n",
              "    }\n",
              "\n",
              "    [theme=dark] .colab-df-convert {\n",
              "      background-color: #3B4455;\n",
              "      fill: #D2E3FC;\n",
              "    }\n",
              "\n",
              "    [theme=dark] .colab-df-convert:hover {\n",
              "      background-color: #434B5C;\n",
              "      box-shadow: 0px 1px 3px 1px rgba(0, 0, 0, 0.15);\n",
              "      filter: drop-shadow(0px 1px 2px rgba(0, 0, 0, 0.3));\n",
              "      fill: #FFFFFF;\n",
              "    }\n",
              "  </style>\n",
              "\n",
              "      <script>\n",
              "        const buttonEl =\n",
              "          document.querySelector('#df-3cce8cea-d61e-45ba-89c8-587d59836e5e button.colab-df-convert');\n",
              "        buttonEl.style.display =\n",
              "          google.colab.kernel.accessAllowed ? 'block' : 'none';\n",
              "\n",
              "        async function convertToInteractive(key) {\n",
              "          const element = document.querySelector('#df-3cce8cea-d61e-45ba-89c8-587d59836e5e');\n",
              "          const dataTable =\n",
              "            await google.colab.kernel.invokeFunction('convertToInteractive',\n",
              "                                                     [key], {});\n",
              "          if (!dataTable) return;\n",
              "\n",
              "          const docLinkHtml = 'Like what you see? Visit the ' +\n",
              "            '<a target=\"_blank\" href=https://colab.research.google.com/notebooks/data_table.ipynb>data table notebook</a>'\n",
              "            + ' to learn more about interactive tables.';\n",
              "          element.innerHTML = '';\n",
              "          dataTable['output_type'] = 'display_data';\n",
              "          await google.colab.output.renderOutput(dataTable, element);\n",
              "          const docLink = document.createElement('div');\n",
              "          docLink.innerHTML = docLinkHtml;\n",
              "          element.appendChild(docLink);\n",
              "        }\n",
              "      </script>\n",
              "    </div>\n",
              "  </div>\n",
              "  "
            ]
          },
          "metadata": {},
          "execution_count": 48
        }
      ],
      "source": [
        "project_data.head()"
      ]
    },
    {
      "cell_type": "markdown",
      "metadata": {
        "id": "sETR7FS8a_f9"
      },
      "source": [
        "<h1>2. Logistic Regression</h1>\n"
      ]
    },
    {
      "cell_type": "markdown",
      "metadata": {
        "id": "PG7e2kdba_f9"
      },
      "source": [
        "<h2>2.1 Splitting data into Train and cross validation and test data: Stratified Sampling</h2>"
      ]
    },
    {
      "cell_type": "code",
      "execution_count": null,
      "metadata": {
        "colab": {
          "base_uri": "https://localhost:8080/",
          "height": 249
        },
        "id": "mVrUl_AEa_f9",
        "outputId": "fb673b41-e599-4afe-99a0-87feb56ecc8c"
      },
      "outputs": [
        {
          "output_type": "execute_result",
          "data": {
            "text/plain": [
              "        id                        teacher_id teacher_prefix school_state  \\\n",
              "0  p253737  c90749f5d961ff158d4b4d1e7dc665fc           Mrs.           IN   \n",
              "\n",
              "  project_submitted_datetime project_grade_category  \\\n",
              "0           05-12-2016 13:43          Grades PreK-2   \n",
              "\n",
              "                                      project_title  \\\n",
              "0  Educational Support for English Learners at Home   \n",
              "\n",
              "                                     project_essay_1  \\\n",
              "0  My students are English learners that are work...   \n",
              "\n",
              "                                     project_essay_2 project_essay_3  \\\n",
              "0  \\\"The limits of your language are the limits o...             NaN   \n",
              "\n",
              "  project_essay_4                           project_resource_summary  \\\n",
              "0             NaN  My students need opportunities to practice beg...   \n",
              "\n",
              "   teacher_number_of_previously_posted_projects   clean_categories  \\\n",
              "0                                             0  Literacy_Language   \n",
              "\n",
              "  clean_subcategories  Total_Price  quantity  \\\n",
              "0        ESL Literacy       596.36        23   \n",
              "\n",
              "                                               essay  \\\n",
              "0  My students are English learners that are work...   \n",
              "\n",
              "                                       Essay_Cleaned  \\\n",
              "0  students english learners working english seco...   \n",
              "\n",
              "                       Project_Title_Cleaned  \n",
              "0  educational support english learners home  "
            ],
            "text/html": [
              "\n",
              "  <div id=\"df-b8598be4-4f25-4a74-99b2-c8f676454fca\">\n",
              "    <div class=\"colab-df-container\">\n",
              "      <div>\n",
              "<style scoped>\n",
              "    .dataframe tbody tr th:only-of-type {\n",
              "        vertical-align: middle;\n",
              "    }\n",
              "\n",
              "    .dataframe tbody tr th {\n",
              "        vertical-align: top;\n",
              "    }\n",
              "\n",
              "    .dataframe thead th {\n",
              "        text-align: right;\n",
              "    }\n",
              "</style>\n",
              "<table border=\"1\" class=\"dataframe\">\n",
              "  <thead>\n",
              "    <tr style=\"text-align: right;\">\n",
              "      <th></th>\n",
              "      <th>id</th>\n",
              "      <th>teacher_id</th>\n",
              "      <th>teacher_prefix</th>\n",
              "      <th>school_state</th>\n",
              "      <th>project_submitted_datetime</th>\n",
              "      <th>project_grade_category</th>\n",
              "      <th>project_title</th>\n",
              "      <th>project_essay_1</th>\n",
              "      <th>project_essay_2</th>\n",
              "      <th>project_essay_3</th>\n",
              "      <th>project_essay_4</th>\n",
              "      <th>project_resource_summary</th>\n",
              "      <th>teacher_number_of_previously_posted_projects</th>\n",
              "      <th>clean_categories</th>\n",
              "      <th>clean_subcategories</th>\n",
              "      <th>Total_Price</th>\n",
              "      <th>quantity</th>\n",
              "      <th>essay</th>\n",
              "      <th>Essay_Cleaned</th>\n",
              "      <th>Project_Title_Cleaned</th>\n",
              "    </tr>\n",
              "  </thead>\n",
              "  <tbody>\n",
              "    <tr>\n",
              "      <th>0</th>\n",
              "      <td>p253737</td>\n",
              "      <td>c90749f5d961ff158d4b4d1e7dc665fc</td>\n",
              "      <td>Mrs.</td>\n",
              "      <td>IN</td>\n",
              "      <td>05-12-2016 13:43</td>\n",
              "      <td>Grades PreK-2</td>\n",
              "      <td>Educational Support for English Learners at Home</td>\n",
              "      <td>My students are English learners that are work...</td>\n",
              "      <td>\\\"The limits of your language are the limits o...</td>\n",
              "      <td>NaN</td>\n",
              "      <td>NaN</td>\n",
              "      <td>My students need opportunities to practice beg...</td>\n",
              "      <td>0</td>\n",
              "      <td>Literacy_Language</td>\n",
              "      <td>ESL Literacy</td>\n",
              "      <td>596.36</td>\n",
              "      <td>23</td>\n",
              "      <td>My students are English learners that are work...</td>\n",
              "      <td>students english learners working english seco...</td>\n",
              "      <td>educational support english learners home</td>\n",
              "    </tr>\n",
              "  </tbody>\n",
              "</table>\n",
              "</div>\n",
              "      <button class=\"colab-df-convert\" onclick=\"convertToInteractive('df-b8598be4-4f25-4a74-99b2-c8f676454fca')\"\n",
              "              title=\"Convert this dataframe to an interactive table.\"\n",
              "              style=\"display:none;\">\n",
              "        \n",
              "  <svg xmlns=\"http://www.w3.org/2000/svg\" height=\"24px\"viewBox=\"0 0 24 24\"\n",
              "       width=\"24px\">\n",
              "    <path d=\"M0 0h24v24H0V0z\" fill=\"none\"/>\n",
              "    <path d=\"M18.56 5.44l.94 2.06.94-2.06 2.06-.94-2.06-.94-.94-2.06-.94 2.06-2.06.94zm-11 1L8.5 8.5l.94-2.06 2.06-.94-2.06-.94L8.5 2.5l-.94 2.06-2.06.94zm10 10l.94 2.06.94-2.06 2.06-.94-2.06-.94-.94-2.06-.94 2.06-2.06.94z\"/><path d=\"M17.41 7.96l-1.37-1.37c-.4-.4-.92-.59-1.43-.59-.52 0-1.04.2-1.43.59L10.3 9.45l-7.72 7.72c-.78.78-.78 2.05 0 2.83L4 21.41c.39.39.9.59 1.41.59.51 0 1.02-.2 1.41-.59l7.78-7.78 2.81-2.81c.8-.78.8-2.07 0-2.86zM5.41 20L4 18.59l7.72-7.72 1.47 1.35L5.41 20z\"/>\n",
              "  </svg>\n",
              "      </button>\n",
              "      \n",
              "  <style>\n",
              "    .colab-df-container {\n",
              "      display:flex;\n",
              "      flex-wrap:wrap;\n",
              "      gap: 12px;\n",
              "    }\n",
              "\n",
              "    .colab-df-convert {\n",
              "      background-color: #E8F0FE;\n",
              "      border: none;\n",
              "      border-radius: 50%;\n",
              "      cursor: pointer;\n",
              "      display: none;\n",
              "      fill: #1967D2;\n",
              "      height: 32px;\n",
              "      padding: 0 0 0 0;\n",
              "      width: 32px;\n",
              "    }\n",
              "\n",
              "    .colab-df-convert:hover {\n",
              "      background-color: #E2EBFA;\n",
              "      box-shadow: 0px 1px 2px rgba(60, 64, 67, 0.3), 0px 1px 3px 1px rgba(60, 64, 67, 0.15);\n",
              "      fill: #174EA6;\n",
              "    }\n",
              "\n",
              "    [theme=dark] .colab-df-convert {\n",
              "      background-color: #3B4455;\n",
              "      fill: #D2E3FC;\n",
              "    }\n",
              "\n",
              "    [theme=dark] .colab-df-convert:hover {\n",
              "      background-color: #434B5C;\n",
              "      box-shadow: 0px 1px 3px 1px rgba(0, 0, 0, 0.15);\n",
              "      filter: drop-shadow(0px 1px 2px rgba(0, 0, 0, 0.3));\n",
              "      fill: #FFFFFF;\n",
              "    }\n",
              "  </style>\n",
              "\n",
              "      <script>\n",
              "        const buttonEl =\n",
              "          document.querySelector('#df-b8598be4-4f25-4a74-99b2-c8f676454fca button.colab-df-convert');\n",
              "        buttonEl.style.display =\n",
              "          google.colab.kernel.accessAllowed ? 'block' : 'none';\n",
              "\n",
              "        async function convertToInteractive(key) {\n",
              "          const element = document.querySelector('#df-b8598be4-4f25-4a74-99b2-c8f676454fca');\n",
              "          const dataTable =\n",
              "            await google.colab.kernel.invokeFunction('convertToInteractive',\n",
              "                                                     [key], {});\n",
              "          if (!dataTable) return;\n",
              "\n",
              "          const docLinkHtml = 'Like what you see? Visit the ' +\n",
              "            '<a target=\"_blank\" href=https://colab.research.google.com/notebooks/data_table.ipynb>data table notebook</a>'\n",
              "            + ' to learn more about interactive tables.';\n",
              "          element.innerHTML = '';\n",
              "          dataTable['output_type'] = 'display_data';\n",
              "          await google.colab.output.renderOutput(dataTable, element);\n",
              "          const docLink = document.createElement('div');\n",
              "          docLink.innerHTML = docLinkHtml;\n",
              "          element.appendChild(docLink);\n",
              "        }\n",
              "      </script>\n",
              "    </div>\n",
              "  </div>\n",
              "  "
            ]
          },
          "metadata": {},
          "execution_count": 49
        }
      ],
      "source": [
        "y = project_data['project_is_approved']\n",
        "X=project_data.drop(['project_is_approved'], axis=1, inplace=False)\n",
        "X.head(1)"
      ]
    },
    {
      "cell_type": "code",
      "execution_count": null,
      "metadata": {
        "colab": {
          "base_uri": "https://localhost:8080/"
        },
        "id": "_6W53eH4a_f-",
        "outputId": "dd002541-df5d-49e7-fee6-3c3b8fd816cf"
      },
      "outputs": [
        {
          "output_type": "execute_result",
          "data": {
            "text/plain": [
              "1    92703\n",
              "0    16542\n",
              "Name: project_is_approved, dtype: int64"
            ]
          },
          "metadata": {},
          "execution_count": 50
        }
      ],
      "source": [
        "y.value_counts()"
      ]
    },
    {
      "cell_type": "code",
      "execution_count": null,
      "metadata": {
        "id": "oke0zHRoa_f-"
      },
      "outputs": [],
      "source": [
        "# train test split\n",
        "from sklearn.model_selection import train_test_split\n",
        "X_train, X_test, y_train, y_test = train_test_split(X, y, test_size=0.1, stratify=y,random_state=41)\n",
        "X_train, X_cv, y_train, y_cv = train_test_split(X_train, y_train, test_size=0.1, stratify=y_train,random_state=41)"
      ]
    },
    {
      "cell_type": "code",
      "execution_count": null,
      "metadata": {
        "colab": {
          "base_uri": "https://localhost:8080/"
        },
        "id": "Dd8app0Ua_f-",
        "outputId": "3384f65c-35b4-4f58-c0b6-042df1305824"
      },
      "outputs": [
        {
          "output_type": "stream",
          "name": "stdout",
          "text": [
            "<class 'pandas.core.frame.DataFrame'>\n",
            "<class 'pandas.core.series.Series'>\n",
            "(88488, 20)\n",
            "(88488,)\n",
            "Index(['id', 'teacher_id', 'teacher_prefix', 'school_state',\n",
            "       'project_submitted_datetime', 'project_grade_category', 'project_title',\n",
            "       'project_essay_1', 'project_essay_2', 'project_essay_3',\n",
            "       'project_essay_4', 'project_resource_summary',\n",
            "       'teacher_number_of_previously_posted_projects', 'clean_categories',\n",
            "       'clean_subcategories', 'Total_Price', 'quantity', 'essay',\n",
            "       'Essay_Cleaned', 'Project_Title_Cleaned'],\n",
            "      dtype='object')\n"
          ]
        }
      ],
      "source": [
        "print (type(X_train))\n",
        "print (type(y_train))\n",
        "print(X_train.shape)\n",
        "print(y_train.shape)\n",
        "print(X_train.columns)"
      ]
    },
    {
      "cell_type": "code",
      "execution_count": null,
      "metadata": {
        "colab": {
          "base_uri": "https://localhost:8080/"
        },
        "id": "6COyXUBpa_f-",
        "outputId": "486ac389-14d3-4d82-a4c5-35bdd85d6479"
      },
      "outputs": [
        {
          "output_type": "stream",
          "name": "stdout",
          "text": [
            "(88488, 20) (88488,)\n",
            "(9832, 20) (9832,)\n",
            "(10925, 20) (10925,)\n",
            "====================================================================================================\n"
          ]
        }
      ],
      "source": [
        "print(X_train.shape, y_train.shape)\n",
        "print(X_cv.shape, y_cv.shape)\n",
        "print(X_test.shape, y_test.shape)\n",
        "\n",
        "print(\"=\"*100)"
      ]
    },
    {
      "cell_type": "code",
      "execution_count": null,
      "metadata": {
        "colab": {
          "base_uri": "https://localhost:8080/"
        },
        "id": "1JwzwLHKa_f_",
        "outputId": "64659d24-34f5-47a8-8ecf-2f360bad6cf1"
      },
      "outputs": [
        {
          "output_type": "stream",
          "name": "stdout",
          "text": [
            "[(0, 13399), (1, 75089)]\n"
          ]
        }
      ],
      "source": [
        "from collections import Counter\n",
        "print(sorted(Counter(y_train).items()))"
      ]
    },
    {
      "cell_type": "markdown",
      "metadata": {
        "id": "rnUgDUBgaJc5"
      },
      "source": [
        "## 2.2  Preparing data for models"
      ]
    },
    {
      "cell_type": "code",
      "execution_count": null,
      "metadata": {
        "id": "1cPPdEGgaJc5",
        "outputId": "00754d69-10ed-4f94-93a4-40b194904a7a"
      },
      "outputs": [
        {
          "data": {
            "text/plain": [
              "Index(['Unnamed: 0', 'id', 'teacher_id', 'teacher_prefix', 'school_state',\n",
              "       'Date', 'project_grade_category', 'project_title', 'project_essay_1',\n",
              "       'project_essay_2', 'project_essay_3', 'project_essay_4',\n",
              "       'project_resource_summary',\n",
              "       'teacher_number_of_previously_posted_projects', 'project_is_approved',\n",
              "       'clean_categories', 'clean_subcategories', 'Total_Price', 'quantity',\n",
              "       'essay', 'Essay_Cleaned', 'Project_Title_Cleaned'],\n",
              "      dtype='object')"
            ]
          },
          "execution_count": 126,
          "metadata": {},
          "output_type": "execute_result"
        }
      ],
      "source": [
        "project_data.columns"
      ]
    },
    {
      "cell_type": "markdown",
      "metadata": {
        "id": "JoBT77NbaJc8"
      },
      "source": [
        "we are going to consider\n",
        "\n",
        "       - school_state : categorical data\n",
        "       - clean_categories : categorical data\n",
        "       - clean_subcategories : categorical data\n",
        "       - project_grade_category : categorical data\n",
        "       - teacher_prefix : categorical data\n",
        "       \n",
        "       - project_title : text data\n",
        "       - Essay : text data\n",
        "       - project_resource_summary: text data (optional)\n",
        "       \n",
        "       - quantity : numerical (optional)\n",
        "       - teacher_number_of_previously_posted_projects : numerical\n",
        "       - Total Price : numerical"
      ]
    },
    {
      "cell_type": "markdown",
      "metadata": {
        "id": "3KP4HQ2xaJc8"
      },
      "source": [
        "## 2.3 Vectorizing Categorical data"
      ]
    },
    {
      "cell_type": "code",
      "execution_count": null,
      "metadata": {
        "id": "NXn-jXYfa_gC"
      },
      "outputs": [],
      "source": [
        "# count of all the words in corpus python: https://stackoverflow.com/a/22898595/4084039\n",
        "from collections import Counter\n",
        "my_counter_category = Counter()\n",
        "for word in project_data['clean_categories'].values:\n",
        "    my_counter_category.update(word.split())"
      ]
    },
    {
      "cell_type": "code",
      "execution_count": null,
      "metadata": {
        "colab": {
          "base_uri": "https://localhost:8080/"
        },
        "id": "_xV1s9v-aJc9",
        "outputId": "cdfce24b-38dd-47d4-ca56-101f83e41bb2"
      },
      "outputs": [
        {
          "output_type": "stream",
          "name": "stdout",
          "text": [
            "['Literacy_Language' 'History_Civics' 'Health_Sports' 'Math_Science'\n",
            " 'SpecialNeeds' 'AppliedLearning' 'Music_Arts' 'Warmth' 'Care_Hunger']\n",
            "Shape of matrix after one hot encodig  (88488, 9)\n",
            "Shape of matrix after one hot encodig  (9832, 9)\n",
            "Shape of matrix after one hot encodig  (10925, 9)\n"
          ]
        }
      ],
      "source": [
        "# we use count vectorizer to convert the values into one hot encoded features\n",
        "from sklearn.feature_extraction.text import CountVectorizer\n",
        "vectorizer = CountVectorizer(vocabulary=list(my_counter_category.keys()), lowercase=False, binary=True)\n",
        "vectorizer.fit(X_train['clean_categories'].values)\n",
        "print(vectorizer.get_feature_names_out())\n",
        "\n",
        "categories_one_hot_train = vectorizer.transform(X_train['clean_categories'])\n",
        "categories_one_hot_cv = vectorizer.transform(X_cv['clean_categories'])\n",
        "categories_one_hot_test = vectorizer.transform(X_test['clean_categories'])\n",
        "print(\"Shape of matrix after one hot encodig \",categories_one_hot_train.shape)\n",
        "print(\"Shape of matrix after one hot encodig \",categories_one_hot_cv.shape)\n",
        "print(\"Shape of matrix after one hot encodig \",categories_one_hot_test.shape)"
      ]
    },
    {
      "cell_type": "markdown",
      "metadata": {
        "id": "izQxp5pAa_gD"
      },
      "source": [
        "### 2.3.2 Vectorizing Categorical data-Subject SubCategories"
      ]
    },
    {
      "cell_type": "code",
      "execution_count": null,
      "metadata": {
        "id": "lrLm6de1a_gE"
      },
      "outputs": [],
      "source": [
        "from collections import Counter\n",
        "my_counter_subcategory = Counter()\n",
        "for word in project_data['clean_subcategories'].values:\n",
        "    my_counter_subcategory.update(word.split())"
      ]
    },
    {
      "cell_type": "code",
      "execution_count": null,
      "metadata": {
        "colab": {
          "base_uri": "https://localhost:8080/"
        },
        "id": "e_H4_HHha_gE",
        "outputId": "76310017-add4-46fe-90be-89e432608c5b"
      },
      "outputs": [
        {
          "output_type": "stream",
          "name": "stdout",
          "text": [
            "['ESL' 'Literacy' 'Civics_Government' 'TeamSports' 'Health_Wellness'\n",
            " 'Mathematics' 'Literature_Writing' 'SpecialNeeds' 'ParentInvolvement'\n",
            " 'EnvironmentalScience' 'Health_LifeScience' 'AppliedSciences'\n",
            " 'EarlyDevelopment' 'Music' 'ForeignLanguages' 'Other' 'Economics'\n",
            " 'FinancialLiteracy' 'Gym_Fitness' 'VisualArts' 'Warmth' 'Care_Hunger'\n",
            " 'SocialSciences' 'College_CareerPrep' 'CharacterEducation'\n",
            " 'PerformingArts' 'CommunityService' 'History_Geography'\n",
            " 'NutritionEducation' 'Extracurricular']\n",
            "Shape of matrix after one hot encodig  (88488, 30)\n",
            "Shape of matrix after one hot encodig  (9832, 30)\n",
            "Shape of matrix after one hot encodig  (10925, 30)\n"
          ]
        }
      ],
      "source": [
        "# we use count vectorizer to convert the values into one hot encoded features\n",
        "from sklearn.feature_extraction.text import CountVectorizer\n",
        "vectorizer = CountVectorizer(vocabulary=list(my_counter_subcategory.keys()), lowercase=False, binary=True)\n",
        "vectorizer.fit(X_train['clean_subcategories'])\n",
        "print(vectorizer.get_feature_names_out())\n",
        "\n",
        "\n",
        "sub_categories_one_hot_train = vectorizer.transform(X_train['clean_subcategories'])\n",
        "sub_categories_one_hot_cv = vectorizer.transform(X_cv['clean_subcategories'])\n",
        "sub_categories_one_hot_test = vectorizer.transform(X_test['clean_subcategories'])\n",
        "\n",
        "print(\"Shape of matrix after one hot encodig \",sub_categories_one_hot_train.shape)\n",
        "print(\"Shape of matrix after one hot encodig \",sub_categories_one_hot_cv.shape)\n",
        "print(\"Shape of matrix after one hot encodig \",sub_categories_one_hot_test.shape)"
      ]
    },
    {
      "cell_type": "markdown",
      "source": [
        "#### 2.3.3 Vectorizing Categorical data-State"
      ],
      "metadata": {
        "id": "9aYGLOVu5OFf"
      }
    },
    {
      "cell_type": "code",
      "execution_count": null,
      "metadata": {
        "colab": {
          "base_uri": "https://localhost:8080/"
        },
        "id": "gUrMj1vca_gG",
        "outputId": "2e101e1e-1526-42c2-a21d-c04138615e4a"
      },
      "outputs": [
        {
          "output_type": "stream",
          "name": "stdout",
          "text": [
            "['AK' 'AL' 'AR' 'AZ' 'CA' 'CO' 'CT' 'DC' 'DE' 'FL' 'GA' 'HI' 'IA' 'ID'\n",
            " 'IL' 'IN' 'KS' 'KY' 'LA' 'MA' 'MD' 'ME' 'MI' 'MN' 'MO' 'MS' 'MT' 'NC'\n",
            " 'ND' 'NE' 'NH' 'NJ' 'NM' 'NV' 'NY' 'OH' 'OK' 'OR' 'PA' 'RI' 'SC' 'SD'\n",
            " 'TN' 'TX' 'UT' 'VA' 'VT' 'WA' 'WI' 'WV' 'WY']\n",
            "Shape of matrix after one hot encodig  (88488, 51)\n",
            "Shape of matrix after one hot encodig  (9832, 51)\n",
            "Shape of matrix after one hot encodig  (10925, 51)\n"
          ]
        }
      ],
      "source": [
        "# we use count vectorizer to convert the values into one hot encoded features\n",
        "from sklearn.feature_extraction.text import CountVectorizer\n",
        "vectorizer = CountVectorizer(lowercase=False, binary=True)\n",
        "vectorizer.fit(X_train['school_state'])\n",
        "print(vectorizer.get_feature_names_out())\n",
        "\n",
        "\n",
        "school_state_one_hot_train = vectorizer.transform(X_train['school_state'])\n",
        "school_state_one_hot_cv = vectorizer.transform(X_cv['school_state'])\n",
        "school_state_one_hot_test = vectorizer.transform(X_test['school_state'])\n",
        "print(\"Shape of matrix after one hot encodig \",school_state_one_hot_train.shape)\n",
        "print(\"Shape of matrix after one hot encodig \",school_state_one_hot_cv.shape)\n",
        "print(\"Shape of matrix after one hot encodig \",school_state_one_hot_test.shape)"
      ]
    },
    {
      "cell_type": "markdown",
      "metadata": {
        "id": "p5gBQQy-a_gG"
      },
      "source": [
        "#### 2.3.4 Vectorizing Categorical data-Teacher_prefix "
      ]
    },
    {
      "cell_type": "code",
      "execution_count": null,
      "metadata": {
        "colab": {
          "base_uri": "https://localhost:8080/"
        },
        "id": "q-R1ge5Ca_gG",
        "outputId": "556e59b6-6784-4ce9-ef63-f87ee32741e8"
      },
      "outputs": [
        {
          "output_type": "stream",
          "name": "stdout",
          "text": [
            "['Dr' 'Mr' 'Mrs' 'Ms' 'Teacher']\n",
            "Shape of matrix after one hot encodig  (88488, 5)\n",
            "Shape of matrix after one hot encodig  (9832, 5)\n",
            "Shape of matrix after one hot encodig  (10925, 5)\n"
          ]
        }
      ],
      "source": [
        "# we use count vectorizer to convert the values into one hot encoded features\n",
        "from sklearn.feature_extraction.text import CountVectorizer\n",
        "vectorizer = CountVectorizer(lowercase=False, binary=True)\n",
        "vectorizer.fit(X_train['teacher_prefix'])\n",
        "print(vectorizer.get_feature_names_out())\n",
        "\n",
        "\n",
        "teacher_prefix_one_hot_train = vectorizer.transform(X_train['teacher_prefix'])\n",
        "teacher_prefix_one_hot_cv = vectorizer.transform(X_cv['teacher_prefix'])\n",
        "teacher_prefix_one_hot_test = vectorizer.transform(X_test['teacher_prefix'])\n",
        "print(\"Shape of matrix after one hot encodig \",teacher_prefix_one_hot_train.shape)\n",
        "print(\"Shape of matrix after one hot encodig \",teacher_prefix_one_hot_cv.shape)\n",
        "print(\"Shape of matrix after one hot encodig \",teacher_prefix_one_hot_test.shape)"
      ]
    },
    {
      "cell_type": "markdown",
      "metadata": {
        "id": "rlNLlE9ya_gG"
      },
      "source": [
        "#### 2.3.5 Vectorizing Categorical data-project_grade_category "
      ]
    },
    {
      "cell_type": "code",
      "execution_count": null,
      "metadata": {
        "colab": {
          "base_uri": "https://localhost:8080/"
        },
        "id": "QPNeYCX_a_gH",
        "outputId": "a729a645-20fb-4709-b209-1916ea51d31d"
      },
      "outputs": [
        {
          "output_type": "execute_result",
          "data": {
            "text/plain": [
              "['Grades 6-8', 'Grades 3-5', 'Grades 9-12', 'Grades PreK-2']"
            ]
          },
          "metadata": {},
          "execution_count": 62
        }
      ],
      "source": [
        "#Finding unique grades\n",
        "list_of_grades=list(set(list(project_data['project_grade_category'])))\n",
        "list_of_grades"
      ]
    },
    {
      "cell_type": "code",
      "execution_count": null,
      "metadata": {
        "colab": {
          "base_uri": "https://localhost:8080/"
        },
        "id": "mNTuY1aaa_gH",
        "outputId": "4fba18bb-abc3-4b33-cfbe-e85c8ce8176e"
      },
      "outputs": [
        {
          "output_type": "stream",
          "name": "stdout",
          "text": [
            "['Grades 6-8' 'Grades 3-5' 'Grades 9-12' 'Grades PreK-2']\n",
            "Shape of matrix after one hot encodig  (88488, 4)\n",
            "Shape of matrix after one hot encodig  (9832, 4)\n",
            "Shape of matrix after one hot encodig  (10925, 4)\n"
          ]
        }
      ],
      "source": [
        "# we use count vectorizer to convert the values into one hot encoded features\n",
        "from sklearn.feature_extraction.text import CountVectorizer\n",
        "vectorizer = CountVectorizer(vocabulary=list_of_grades, lowercase=False, binary=True)\n",
        "vectorizer.fit(X_train['project_grade_category'])\n",
        "print(vectorizer.get_feature_names_out())\n",
        "\n",
        "\n",
        "project_grade_categoty_one_hot_train = vectorizer.transform(X_train['project_grade_category'])\n",
        "project_grade_categoty_one_hot_cv = vectorizer.transform(X_cv['project_grade_category'])\n",
        "project_grade_categoty_one_hot_test = vectorizer.transform(X_test['project_grade_category'])\n",
        "\n",
        "print(\"Shape of matrix after one hot encodig \",project_grade_categoty_one_hot_train.shape)\n",
        "print(\"Shape of matrix after one hot encodig \",project_grade_categoty_one_hot_cv.shape)\n",
        "print(\"Shape of matrix after one hot encodig \",project_grade_categoty_one_hot_test.shape)"
      ]
    },
    {
      "cell_type": "markdown",
      "source": [
        "## 2.4 Vectorizing Text data\n",
        "\n",
        "\n",
        "\n"
      ],
      "metadata": {
        "id": "YvRwrtYM2iN1"
      }
    },
    {
      "cell_type": "markdown",
      "metadata": {
        "id": "oMHWIrroaJdE"
      },
      "source": [
        "#### 2.4.1 Bag of words on Essays"
      ]
    },
    {
      "cell_type": "code",
      "execution_count": null,
      "metadata": {
        "colab": {
          "base_uri": "https://localhost:8080/"
        },
        "id": "Lrds1eDgaJdE",
        "outputId": "8f94940d-2c4c-4153-b19b-4520de88eeb2"
      },
      "outputs": [
        {
          "output_type": "stream",
          "name": "stdout",
          "text": [
            "Shape of matrix after one hot encodig  (88488, 5000)\n",
            "Shape of matrix after one hot encodig  (9832, 5000)\n",
            "Shape of matrix after one hot encodig  (10925, 5000)\n"
          ]
        }
      ],
      "source": [
        "# We are considering only the words which appeared in at least 10 documents(rows or projects).\n",
        "vectorizer = CountVectorizer(min_df=10,max_features=5000,ngram_range=(1, 2))\n",
        "fitted_text_bow=vectorizer.fit(X_train[\"Essay_Cleaned\"])\n",
        "\n",
        "\n",
        "transformed_text_bow_train = fitted_text_bow.transform(X_train[\"Essay_Cleaned\"])\n",
        "transformed_text_bow_cv = fitted_text_bow.transform(X_cv[\"Essay_Cleaned\"])\n",
        "transformed_text_bow_test = fitted_text_bow.transform(X_test[\"Essay_Cleaned\"])\n",
        "\n",
        "print(\"Shape of matrix after one hot encodig \",transformed_text_bow_train.shape)\n",
        "print(\"Shape of matrix after one hot encodig \",transformed_text_bow_cv.shape)\n",
        "print(\"Shape of matrix after one hot encodig \",transformed_text_bow_test.shape)"
      ]
    },
    {
      "cell_type": "markdown",
      "metadata": {
        "id": "G_QLDn9eaJdG"
      },
      "source": [
        "### 2.4.2 Bag of Words on `project_title`"
      ]
    },
    {
      "cell_type": "code",
      "execution_count": null,
      "metadata": {
        "colab": {
          "base_uri": "https://localhost:8080/"
        },
        "id": "h0-OVajdaJdH",
        "outputId": "cd75cf24-af77-43f0-eed2-be186085102d"
      },
      "outputs": [
        {
          "output_type": "stream",
          "name": "stdout",
          "text": [
            "Shape of matrix after one hot encodig  (88488, 2803)\n",
            "Shape of matrix after one hot encodig  (9832, 2803)\n",
            "Shape of matrix after one hot encodig  (10925, 2803)\n"
          ]
        }
      ],
      "source": [
        "# you can vectorize the title also \n",
        "# before you vectorize the title make sure you preprocess it\n",
        "vectorizer = CountVectorizer(min_df=10)\n",
        "fitted_project_title_bow=vectorizer.fit(X_train[\"Project_Title_Cleaned\"])\n",
        "\n",
        "transformed_project_title_bow_train = fitted_project_title_bow.transform(X_train[\"Project_Title_Cleaned\"])\n",
        "transformed_project_title_bow_cv = fitted_project_title_bow.transform(X_cv[\"Project_Title_Cleaned\"])\n",
        "transformed_project_title_bow_test = fitted_project_title_bow.transform(X_test[\"Project_Title_Cleaned\"])\n",
        "\n",
        "print(\"Shape of matrix after one hot encodig \",transformed_project_title_bow_train.shape)\n",
        "print(\"Shape of matrix after one hot encodig \",transformed_project_title_bow_cv.shape)\n",
        "print(\"Shape of matrix after one hot encodig \",transformed_project_title_bow_test.shape)"
      ]
    },
    {
      "cell_type": "markdown",
      "metadata": {
        "id": "sKXhBeHZaJdK"
      },
      "source": [
        "#### 2.4.3 TFIDF vectorizer on Essays"
      ]
    },
    {
      "cell_type": "code",
      "execution_count": null,
      "metadata": {
        "colab": {
          "base_uri": "https://localhost:8080/"
        },
        "id": "U34wJAiraJdK",
        "outputId": "0684dee8-b777-42fb-8349-5281e758f668"
      },
      "outputs": [
        {
          "output_type": "stream",
          "name": "stdout",
          "text": [
            "Shape of matrix after one hot encodig  (88488, 5000)\n",
            "Shape of matrix after one hot encodig  (9832, 5000)\n",
            "Shape of matrix after one hot encodig  (10925, 5000)\n"
          ]
        }
      ],
      "source": [
        "from sklearn.feature_extraction.text import TfidfTransformer\n",
        "vectorizer = TfidfTransformer(norm=None)\n",
        "fitted_text_tfidf = vectorizer.fit(transformed_text_bow_train)\n",
        "\n",
        "\n",
        "transformed_text_tfidf_train=fitted_text_tfidf.transform(transformed_text_bow_train)\n",
        "transformed_text_tfidf_cv=fitted_text_tfidf.transform(transformed_text_bow_cv)\n",
        "transformed_text_tfidf_test=fitted_text_tfidf.transform(transformed_text_bow_test)\n",
        "\n",
        "print(\"Shape of matrix after one hot encodig \",transformed_text_tfidf_train.shape)\n",
        "print(\"Shape of matrix after one hot encodig \",transformed_text_tfidf_cv.shape)\n",
        "print(\"Shape of matrix after one hot encodig \",transformed_text_tfidf_test.shape)"
      ]
    },
    {
      "cell_type": "markdown",
      "metadata": {
        "id": "K0uZKKmKaJdN"
      },
      "source": [
        "### 2.4.4 TFIDF Vectorizer on `project_title`"
      ]
    },
    {
      "cell_type": "code",
      "execution_count": null,
      "metadata": {
        "colab": {
          "base_uri": "https://localhost:8080/"
        },
        "id": "fh8eivOeaJdN",
        "outputId": "be4b3b0b-54a8-444b-9726-e89205d7c98d"
      },
      "outputs": [
        {
          "output_type": "stream",
          "name": "stdout",
          "text": [
            "Shape of matrix after one hot encodig  (88488, 2803)\n",
            "Shape of matrix after one hot encodig  (9832, 2803)\n",
            "Shape of matrix after one hot encodig  (10925, 2803)\n"
          ]
        }
      ],
      "source": [
        "# Similarly you can vectorize for title also\n",
        "vectorizer = TfidfTransformer(norm=None)\n",
        "fitted_project_title_tfidf = vectorizer.fit(transformed_project_title_bow_train)\n",
        "\n",
        "\n",
        "transformed_project_title_tfidf_train=fitted_project_title_tfidf.transform(transformed_project_title_bow_train)\n",
        "transformed_project_title_tfidf_cv=fitted_project_title_tfidf.transform(transformed_project_title_bow_cv)\n",
        "transformed_project_title_tfidf_test=fitted_project_title_tfidf.transform(transformed_project_title_bow_test)\n",
        "\n",
        "\n",
        "print(\"Shape of matrix after one hot encodig \",transformed_project_title_tfidf_train.shape)\n",
        "print(\"Shape of matrix after one hot encodig \",transformed_project_title_tfidf_cv.shape)\n",
        "print(\"Shape of matrix after one hot encodig \",transformed_project_title_tfidf_test.shape)"
      ]
    },
    {
      "cell_type": "markdown",
      "metadata": {
        "id": "RDYCGTBvaJdP"
      },
      "source": [
        "#### 2.4.5 Using Pretrained Models: Avg W2V on Essay\n",
        "\n",
        "\n",
        "\n"
      ]
    },
    {
      "cell_type": "code",
      "execution_count": null,
      "metadata": {
        "id": "_bpfNIJBa_gL"
      },
      "outputs": [],
      "source": [
        "'''# Reading glove vectors in python: https://stackoverflow.com/a/38230349/4084039\n",
        "def loadGloveModel(gloveFile):\n",
        "    print (\"Loading Glove Model\")\n",
        "    f = open(gloveFile,'r',encoding=\"utf8\")\n",
        "    model = {}\n",
        "    for line in tqdm_notebook(f):\n",
        "        splitLine = line.split()\n",
        "        word = splitLine[0]\n",
        "        embedding = np.array([float(val) for val in splitLine[1:]])\n",
        "        model[word] = embedding\n",
        "    print (\"Done.\",len(model),\" words loaded!\")\n",
        "    f.close()\n",
        "    return model\n",
        "model = loadGloveModel('glove.42B.300d.txt')'''"
      ]
    },
    {
      "cell_type": "code",
      "execution_count": null,
      "metadata": {
        "id": "DxieeVk3aJdP"
      },
      "outputs": [],
      "source": [
        "'''\n",
        "# Reading glove vectors in python: https://stackoverflow.com/a/38230349/4084039\n",
        "def loadGloveModel(gloveFile):\n",
        "    print (\"Loading Glove Model\")\n",
        "    f = open(gloveFile,'r', encoding=\"utf8\")\n",
        "    model = {}\n",
        "    for line in tqdm(f):\n",
        "        splitLine = line.split()\n",
        "        word = splitLine[0]\n",
        "        embedding = np.array([float(val) for val in splitLine[1:]])\n",
        "        model[word] = embedding\n",
        "    print (\"Done.\",len(model),\" words loaded!\")\n",
        "    return model\n",
        "model = loadGloveModel('glove.42B.300d.txt')\n",
        "\n",
        "# ============================\n",
        "Output:\n",
        "    \n",
        "Loading Glove Model\n",
        "1917495it [06:32, 4879.69it/s]\n",
        "Done. 1917495  words loaded!\n",
        "\n",
        "# ============================\n",
        "\n",
        "words = []\n",
        "for i in preproced_texts:\n",
        "    words.extend(i.split(' '))\n",
        "\n",
        "for i in preproced_titles:\n",
        "    words.extend(i.split(' '))\n",
        "print(\"all the words in the coupus\", len(words))\n",
        "words = set(words)\n",
        "print(\"the unique words in the coupus\", len(words))\n",
        "\n",
        "inter_words = set(model.keys()).intersection(words)\n",
        "print(\"The number of words that are present in both glove vectors and our coupus\", \\\n",
        "      len(inter_words),\"(\",np.round(len(inter_words)/len(words)*100,3),\"%)\")\n",
        "\n",
        "words_courpus = {}\n",
        "words_glove = set(model.keys())\n",
        "for i in words:\n",
        "    if i in words_glove:\n",
        "        words_courpus[i] = model[i]\n",
        "print(\"word 2 vec length\", len(words_courpus))\n",
        "\n",
        "\n",
        "# storing variables into pickle files python: http://www.jessicayung.com/how-to-use-pickle-to-save-and-load-variables-in-python/\n",
        "\n",
        "import pickle\n",
        "with open('glove_vectors', 'wb') as f:\n",
        "    pickle.dump(words_courpus, f)\n",
        "\n",
        "\n",
        "'''"
      ]
    },
    {
      "cell_type": "code",
      "execution_count": null,
      "metadata": {
        "id": "eAuf0Wvxa_gM"
      },
      "outputs": [],
      "source": [
        "'''#Understanding above code\n",
        "#Counting all the words in our essay and project title corpus\n",
        "words = []\n",
        "words.extend(fitted_text_bow.get_feature_names())\n",
        "print(len(words))\n",
        "words.extend(fitted_project_title_bow.get_feature_names())\n",
        "print(\"Total words in our corpus\",len(words))\n",
        "print('*'*50)\n",
        "inter_words = set(model.keys()).intersection(words)\n",
        "print(\"The number of words that are present in both glove vectors and our coupus\", \\\n",
        "      len(inter_words),\"(\",np.round(len(inter_words)/len(words)*100,3),\"%)\")\n",
        "print('*'*50)\n",
        "words_courpus = {}\n",
        "words_glove = set(model.keys())\n",
        "for i in words:\n",
        "    if i in words_glove:\n",
        "        words_courpus[i] = model[i]\n",
        "print(\"word 2 vec length\", len(words_courpus))'''"
      ]
    },
    {
      "cell_type": "code",
      "execution_count": null,
      "metadata": {
        "id": "BmL5grnNa_gN"
      },
      "outputs": [],
      "source": [
        "'''# stronging variables into pickle files python: http://www.jessicayung.com/how-to-use-pickle-to-save-and-load-variables-in-python/\n",
        "\n",
        "import pickle\n",
        "with open('glove_vectors1', 'wb') as f:\n",
        "    pickle.dump(words_courpus, f)'''"
      ]
    },
    {
      "cell_type": "code",
      "execution_count": null,
      "metadata": {
        "id": "3nv7_Ohha_gO"
      },
      "outputs": [],
      "source": [
        "import pickle"
      ]
    },
    {
      "cell_type": "code",
      "execution_count": null,
      "metadata": {
        "id": "IPpaw4SAaJdR"
      },
      "outputs": [],
      "source": [
        "# stronging variables into pickle files python: http://www.jessicayung.com/how-to-use-pickle-to-save-and-load-variables-in-python/\n",
        "# make sure you have the glove_vectors file\n",
        "\n",
        "with open('glove_vectors', 'rb') as f:\n",
        "    glove_model = pickle.load(f)\n",
        "    glove_words =  set(glove_model.keys())"
      ]
    },
    {
      "cell_type": "markdown",
      "metadata": {
        "id": "VyvkLN2Sa_gP"
      },
      "source": [
        "### 2.4.6 Using Pretrained Models: AVG W2V on `Essay`"
      ]
    },
    {
      "cell_type": "code",
      "execution_count": null,
      "metadata": {
        "colab": {
          "base_uri": "https://localhost:8080/",
          "height": 84,
          "referenced_widgets": [
            "f0e09b334a0d4dafbe351e4df5147e4e",
            "279ff6c8c679499185f1079964d81d44",
            "2dac28ccabd34d8495df0339b4f5594d",
            "6905c4587bc54cd3ac213ebbd4371d29",
            "a8ee65e650094970bb34b3d1ca7c9d1c",
            "eaee9cbd3a0246d1aedf02d2358d7526",
            "059b90bd21dd4928b53cb66a50e6e2bd",
            "5020bf314d874f6a81688a0271c0f44f",
            "ffa8f38f5d334173801f43c22c4c9f02",
            "74565839ea2d47cd9efc072054a44323",
            "157831c082344c67a3c59470f273e001"
          ]
        },
        "id": "1vQDQ-h-aJdS",
        "outputId": "336ae7d8-022b-44fb-d252-034d8f00a422"
      },
      "outputs": [
        {
          "output_type": "display_data",
          "data": {
            "text/plain": [
              "  0%|          | 0/88488 [00:00<?, ?it/s]"
            ],
            "application/vnd.jupyter.widget-view+json": {
              "version_major": 2,
              "version_minor": 0,
              "model_id": "f0e09b334a0d4dafbe351e4df5147e4e"
            }
          },
          "metadata": {}
        },
        {
          "output_type": "stream",
          "name": "stdout",
          "text": [
            "88488\n",
            "300\n"
          ]
        }
      ],
      "source": [
        "# average Word2Vec\n",
        "# compute average word2vec for each essay.\n",
        "\n",
        "essay_Avg_W2V_train = []\n",
        "for each_essay in tqdm_notebook(X_train['Essay_Cleaned']):\n",
        "    each_essay_vec =np.zeros(300)\n",
        "    cnt_words=0\n",
        "    for word in each_essay.split():\n",
        "        if word in glove_words:\n",
        "            word_vec = glove_model[word]\n",
        "            each_essay_vec += word_vec\n",
        "            cnt_words += 1\n",
        "    if cnt_words !=0:\n",
        "            each_essay_vec /= cnt_words\n",
        "    essay_Avg_W2V_train.append(each_essay_vec)  \n",
        "print(len(essay_Avg_W2V_train))\n",
        "print(len(essay_Avg_W2V_train[0]))"
      ]
    },
    {
      "cell_type": "code",
      "execution_count": null,
      "metadata": {
        "colab": {
          "base_uri": "https://localhost:8080/",
          "height": 84,
          "referenced_widgets": [
            "49d92b61b39545c7a417a4333b889a8d",
            "1f139962f917411d9fb21ef56965973e",
            "19f9dd757dc6462297dcecceb636caff",
            "1619fc8ae3f74d2eadf4324268e3b8d9",
            "b3e824160bcd43779a6965f1f6da59f6",
            "7687da6e7b6f45e085ceacf008b1426d",
            "eca2125e6fb145029be3bef925fa3f88",
            "dbc2c4b42107416e9f0ac354891c4439",
            "fd7838c48ce34942857115c02213dbe7",
            "b10dc2e7f12b48219863582e61ade260",
            "70a601f1f9574c68bdea4c08cd9df5a5"
          ]
        },
        "id": "qg1qquyEa_gP",
        "outputId": "4b778086-4c1c-4f59-c6d4-6008da821e1d"
      },
      "outputs": [
        {
          "output_type": "display_data",
          "data": {
            "text/plain": [
              "  0%|          | 0/9832 [00:00<?, ?it/s]"
            ],
            "application/vnd.jupyter.widget-view+json": {
              "version_major": 2,
              "version_minor": 0,
              "model_id": "49d92b61b39545c7a417a4333b889a8d"
            }
          },
          "metadata": {}
        },
        {
          "output_type": "stream",
          "name": "stdout",
          "text": [
            "9832\n",
            "300\n"
          ]
        }
      ],
      "source": [
        "# average Word2Vec\n",
        "# compute average word2vec for each essay.\n",
        "\n",
        "essay_Avg_W2V_cv = []\n",
        "for each_essay in tqdm_notebook(X_cv['Essay_Cleaned']):\n",
        "    each_essay_vec =np.zeros(300)\n",
        "    cnt_words=0\n",
        "    for word in each_essay.split():\n",
        "        if word in glove_words:\n",
        "            word_vec = glove_model[word]\n",
        "            each_essay_vec += word_vec\n",
        "            cnt_words += 1\n",
        "    if cnt_words !=0:\n",
        "            each_essay_vec /= cnt_words\n",
        "    essay_Avg_W2V_cv.append(each_essay_vec)  \n",
        "print(len(essay_Avg_W2V_cv))\n",
        "print(len(essay_Avg_W2V_cv[0]))"
      ]
    },
    {
      "cell_type": "code",
      "execution_count": null,
      "metadata": {
        "colab": {
          "base_uri": "https://localhost:8080/",
          "height": 84,
          "referenced_widgets": [
            "8fcdbd2229de403eb52c6541ef1f3c18",
            "8da8d527975c49cca44affc15e7f51e5",
            "84a76653b07c44ab9f71d9fc2b22c565",
            "4fb4c323d7e947eda6ed14a6761ece13",
            "ac1d3b4f36074a7a98f6b1b552be5154",
            "7fd29d8f7db841eeae6178fc4b0c7d2f",
            "17d599f8e23140ee8c4be73821019a40",
            "6e898987808c4b8795db62aeea54380b",
            "e730414ba9034b80994298c321b6e95f",
            "3c4783a0c3ae4ae8ab878d6360a8f4d1",
            "552d92373a564200ab14d878c445e1f0"
          ]
        },
        "id": "yO1YBx0ba_gQ",
        "outputId": "fc67f3d8-fa2f-4664-c568-390c2c4b9280"
      },
      "outputs": [
        {
          "output_type": "display_data",
          "data": {
            "text/plain": [
              "  0%|          | 0/10925 [00:00<?, ?it/s]"
            ],
            "application/vnd.jupyter.widget-view+json": {
              "version_major": 2,
              "version_minor": 0,
              "model_id": "8fcdbd2229de403eb52c6541ef1f3c18"
            }
          },
          "metadata": {}
        },
        {
          "output_type": "stream",
          "name": "stdout",
          "text": [
            "10925\n",
            "300\n"
          ]
        }
      ],
      "source": [
        "# average Word2Vec\n",
        "# compute average word2vec for each essay.\n",
        "\n",
        "essay_Avg_W2V_test = []\n",
        "for each_essay in tqdm_notebook(X_test['Essay_Cleaned']):\n",
        "    each_essay_vec =np.zeros(300)\n",
        "    cnt_words=0\n",
        "    for word in each_essay.split():\n",
        "        if word in glove_words:\n",
        "            word_vec = glove_model[word]\n",
        "            each_essay_vec += word_vec\n",
        "            cnt_words += 1\n",
        "    if cnt_words !=0:\n",
        "            each_essay_vec /= cnt_words\n",
        "    essay_Avg_W2V_test.append(each_essay_vec)  \n",
        "print(len(essay_Avg_W2V_test))\n",
        "print(len(essay_Avg_W2V_test[0]))"
      ]
    },
    {
      "cell_type": "markdown",
      "metadata": {
        "id": "NJvhZFzRaJdU"
      },
      "source": [
        "### 2.4.7 Using Pretrained Models: AVG W2V on `project_title`"
      ]
    },
    {
      "cell_type": "code",
      "execution_count": null,
      "metadata": {
        "colab": {
          "base_uri": "https://localhost:8080/",
          "height": 84,
          "referenced_widgets": [
            "22e85db5bb1342d4882c72c529f58356",
            "61e09a6a45604e16a8691bc07d5753c0",
            "24bfade86e1e473d8dcec9f7c2f5ef79",
            "41e6b403c7b748a7b3cdd9876b11d78f",
            "c35a256e822b4df88d2651dff345d4e3",
            "6ca21792774540baad646f8b2c66b02b",
            "f5fc10f1bee74cfb904117daf23c54da",
            "2e03e9ce55a04134bd5589f08047f9b3",
            "f8679cb32ae14f19a18a87b9b052ebd1",
            "29465956dfc04ed09a03870eca2fd5f7",
            "5862326ad13f453b9723a7550dc05a7b"
          ]
        },
        "id": "zH59XedPaJdU",
        "outputId": "abdb259f-9e2f-4f47-a4b5-a4ef204fb53e"
      },
      "outputs": [
        {
          "output_type": "display_data",
          "data": {
            "text/plain": [
              "  0%|          | 0/88488 [00:00<?, ?it/s]"
            ],
            "application/vnd.jupyter.widget-view+json": {
              "version_major": 2,
              "version_minor": 0,
              "model_id": "22e85db5bb1342d4882c72c529f58356"
            }
          },
          "metadata": {}
        },
        {
          "output_type": "stream",
          "name": "stdout",
          "text": [
            "88488\n",
            "300\n"
          ]
        }
      ],
      "source": [
        "# Similarly you can vectorize for title also\n",
        "# average Word2Vec\n",
        "# compute average word2vec for each review.\n",
        "\n",
        "project_title_Avg_W2V_train = []\n",
        "for each_project_title in tqdm_notebook(X_train['Project_Title_Cleaned']):\n",
        "    each_project_title_vec =np.zeros(300)\n",
        "    cnt_words=0\n",
        "    for word in each_project_title.split():\n",
        "        if word in glove_words:\n",
        "            word_vec = glove_model[word]\n",
        "            each_project_title_vec += word_vec\n",
        "            cnt_words += 1\n",
        "    if cnt_words !=0:\n",
        "            each_project_title_vec /= cnt_words\n",
        "    project_title_Avg_W2V_train.append(each_project_title_vec)  \n",
        "print(len(project_title_Avg_W2V_train))\n",
        "print(len(project_title_Avg_W2V_train[0]))"
      ]
    },
    {
      "cell_type": "code",
      "execution_count": null,
      "metadata": {
        "colab": {
          "base_uri": "https://localhost:8080/",
          "height": 84,
          "referenced_widgets": [
            "b6273b8469da4ffe923e50167328db6d",
            "3ac563d7e30049f4bd102678c0378534",
            "6f289aad4260411ab670b27a246a3581",
            "06a3dff08a1e487a9c418216e19ebaa6",
            "c6704566480e45548a4f34c2c5900995",
            "01ba53f6f58d41b980c50ab5930e9714",
            "91f840e18f724a3784cec69910585f88",
            "27cd44f481354fcbb5414aa24d267ae3",
            "988a5f697d4d4670a2e71f6cc5934e81",
            "32e6d0ccd1b4471ab116d58f5be771dc",
            "fc2f36dddb3f4df28286b22b2d181e16"
          ]
        },
        "id": "95h1ujRba_gT",
        "outputId": "f43af6a5-a22b-4c6f-daa0-1a4ef4df1563"
      },
      "outputs": [
        {
          "output_type": "display_data",
          "data": {
            "text/plain": [
              "  0%|          | 0/9832 [00:00<?, ?it/s]"
            ],
            "application/vnd.jupyter.widget-view+json": {
              "version_major": 2,
              "version_minor": 0,
              "model_id": "b6273b8469da4ffe923e50167328db6d"
            }
          },
          "metadata": {}
        },
        {
          "output_type": "stream",
          "name": "stdout",
          "text": [
            "9832\n",
            "300\n"
          ]
        }
      ],
      "source": [
        "# Similarly you can vectorize for title also\n",
        "# average Word2Vec\n",
        "# compute average word2vec for each review.\n",
        "\n",
        "project_title_Avg_W2V_cv = []\n",
        "for each_project_title in tqdm_notebook(X_cv['Project_Title_Cleaned']):\n",
        "    each_project_title_vec =np.zeros(300)\n",
        "    cnt_words=0\n",
        "    for word in each_project_title.split():\n",
        "        if word in glove_words:\n",
        "            word_vec = glove_model[word]\n",
        "            each_project_title_vec += word_vec\n",
        "            cnt_words += 1\n",
        "    if cnt_words !=0:\n",
        "            each_project_title_vec /= cnt_words\n",
        "    project_title_Avg_W2V_cv.append(each_project_title_vec)  \n",
        "print(len(project_title_Avg_W2V_cv))\n",
        "print(len(project_title_Avg_W2V_cv[0]))"
      ]
    },
    {
      "cell_type": "code",
      "execution_count": null,
      "metadata": {
        "colab": {
          "base_uri": "https://localhost:8080/",
          "height": 84,
          "referenced_widgets": [
            "31fb6513e4694e94a3f77a1d5b91de2e",
            "777358f4571e411b99da336fa7695a15",
            "eb0295d9b608478786e7c741400a3b97",
            "d630bd1f9513456d94b4efa19efa038c",
            "b2aaac89cd974b828d1417d1e082e9f7",
            "22a7768df03849f1acb074b88e0023e0",
            "80368757145e48aab9a4ace6154039d0",
            "ed4e7381bbf042a5b972f2344e8f2d3c",
            "52560a0396fd4cc4b27847fe396db284",
            "f6e9e14c55984cab9d06e3354d5e7f7d",
            "5cefc22977774f168feacced3f500f62"
          ]
        },
        "id": "WEjwSO1Ba_gT",
        "outputId": "7d4324eb-e7b8-44a1-fa03-64c3d0d5758c"
      },
      "outputs": [
        {
          "output_type": "display_data",
          "data": {
            "text/plain": [
              "  0%|          | 0/10925 [00:00<?, ?it/s]"
            ],
            "application/vnd.jupyter.widget-view+json": {
              "version_major": 2,
              "version_minor": 0,
              "model_id": "31fb6513e4694e94a3f77a1d5b91de2e"
            }
          },
          "metadata": {}
        },
        {
          "output_type": "stream",
          "name": "stdout",
          "text": [
            "10925\n",
            "300\n"
          ]
        }
      ],
      "source": [
        "# Similarly you can vectorize for title also\n",
        "# average Word2Vec\n",
        "# compute average word2vec for each review.\n",
        "\n",
        "project_title_Avg_W2V_test = []\n",
        "for each_project_title in tqdm_notebook(X_test['Project_Title_Cleaned']):\n",
        "    each_project_title_vec =np.zeros(300)\n",
        "    cnt_words=0\n",
        "    for word in each_project_title.split():\n",
        "        if word in glove_words:\n",
        "            word_vec = glove_model[word]\n",
        "            each_project_title_vec += word_vec\n",
        "            cnt_words += 1\n",
        "    if cnt_words !=0:\n",
        "            each_project_title_vec /= cnt_words\n",
        "    project_title_Avg_W2V_test.append(each_project_title_vec)  \n",
        "print(len(project_title_Avg_W2V_test))\n",
        "print(len(project_title_Avg_W2V_test[0]))"
      ]
    },
    {
      "cell_type": "markdown",
      "metadata": {
        "id": "yJWbIFXKaJdW"
      },
      "source": [
        "### 2.4.8 Using Pretrained Models: TFIDF weighted W2V on Essay"
      ]
    },
    {
      "cell_type": "code",
      "execution_count": null,
      "metadata": {
        "id": "yuFJoWEna_gV"
      },
      "outputs": [],
      "source": [
        "essay_idf=dict(zip(fitted_text_bow.get_feature_names_out(),list(fitted_text_tfidf.idf_)))"
      ]
    },
    {
      "cell_type": "code",
      "execution_count": null,
      "metadata": {
        "colab": {
          "base_uri": "https://localhost:8080/",
          "height": 84,
          "referenced_widgets": [
            "4e188eb055014bf69cff845ec383931b",
            "54bb4cd41496421c82c8b8225b933d00",
            "75b381f07fb74ce1ad5e4039754ab9c8",
            "f4e8d37914ef4b4994e298065100b5e3",
            "caf80eaba17348cf85c822c56944aa04",
            "acec442b84844c6c8b83188bc8734639",
            "d72dff1fd9bf4691825cabf74daf41e2",
            "12b9f9194d6e48feb88a2848c30ab2de",
            "725ffc48c53540f39980536cd819fc59",
            "244ff9fea6a4441e9693477b87ee435f",
            "d3ee473e40ae48cc84f079ef671cfaa2"
          ]
        },
        "id": "cLjnV0SkaJdY",
        "outputId": "bfe9b03d-b28c-44bc-e2e7-1bb9ded97241",
        "scrolled": true
      },
      "outputs": [
        {
          "data": {
            "application/vnd.jupyter.widget-view+json": {
              "model_id": "4e188eb055014bf69cff845ec383931b",
              "version_major": 2,
              "version_minor": 0
            },
            "text/plain": [
              "  0%|          | 0/88488 [00:00<?, ?it/s]"
            ]
          },
          "metadata": {},
          "output_type": "display_data"
        },
        {
          "output_type": "stream",
          "name": "stdout",
          "text": [
            "88488\n",
            "300\n"
          ]
        }
      ],
      "source": [
        "# tfidf weighted Word2Vec\n",
        "# compute tfidf weighted word2vec for each essay.\n",
        "\n",
        "list_of_features = fitted_text_bow.get_feature_names_out()\n",
        "essay_tfidf_weighted_train = []\n",
        "for each_essay in tqdm_notebook(X_train['Essay_Cleaned']):\n",
        "    each_essay_vec =np.zeros(300)\n",
        "    tfidf_sum=0\n",
        "    for word in each_essay.split():\n",
        "        if word in glove_words and word in list_of_features:\n",
        "            word_vec = glove_model[word]\n",
        "            tf_idf=(each_essay.count(word)/len(each_essay))*essay_idf[word]\n",
        "            each_essay_vec += word_vec*tf_idf\n",
        "            tfidf_sum += tf_idf\n",
        "    if tfidf_sum !=0:\n",
        "            each_essay_vec /= tfidf_sum\n",
        "    essay_tfidf_weighted_train.append(each_essay_vec)  \n",
        "  \n",
        "print (len(essay_tfidf_weighted_train))\n",
        "print (len(essay_tfidf_weighted_train[0]))"
      ]
    },
    {
      "cell_type": "code",
      "execution_count": null,
      "metadata": {
        "colab": {
          "base_uri": "https://localhost:8080/",
          "height": 84,
          "referenced_widgets": [
            "c3ab7635aa6846a3a4016398d21b3507",
            "7e9c71b310934b4c9f48fe6e1bbedb6f",
            "bd484857b9bc41e3a33f4c55df5af98e",
            "0cb8a5fbe85b402e80a88a3c7ee7f745",
            "be21479335a6485cb76a20cfdd570f57",
            "e0567bb899b74b9b8560c06895e2b521",
            "13556239ec134ed3aebe52e16907f7c3",
            "3baf10f93cf142b892163154988a264c",
            "dc310a7e5c8448958e6f9e5311913260",
            "a8f00c5206d1409cbbb9320b35be7e00",
            "dd9931b97aae4227bb4569024697bedb"
          ]
        },
        "id": "yXnvRb9Ua_gW",
        "outputId": "8fffde7f-567b-4506-b693-e716375c0f52"
      },
      "outputs": [
        {
          "output_type": "display_data",
          "data": {
            "text/plain": [
              "  0%|          | 0/9832 [00:00<?, ?it/s]"
            ],
            "application/vnd.jupyter.widget-view+json": {
              "version_major": 2,
              "version_minor": 0,
              "model_id": "c3ab7635aa6846a3a4016398d21b3507"
            }
          },
          "metadata": {}
        },
        {
          "output_type": "stream",
          "name": "stdout",
          "text": [
            "9832\n",
            "300\n"
          ]
        }
      ],
      "source": [
        "# tfidf weighted Word2Vec\n",
        "# compute tfidf weighted word2vec for each essay.\n",
        "\n",
        "list_of_features = fitted_text_bow.get_feature_names_out()\n",
        "essay_tfidf_weighted_cv = []\n",
        "for each_essay in tqdm_notebook(X_cv['Essay_Cleaned']):\n",
        "    each_essay_vec =np.zeros(300)\n",
        "    tfidf_sum=0\n",
        "    for word in each_essay.split():\n",
        "        if word in glove_words and word in list_of_features:\n",
        "            word_vec = glove_model[word]\n",
        "            tf_idf=(each_essay.count(word)/len(each_essay))*essay_idf[word]\n",
        "            each_essay_vec += word_vec*tf_idf\n",
        "            tfidf_sum += tf_idf\n",
        "    if tfidf_sum !=0:\n",
        "            each_essay_vec /= tfidf_sum\n",
        "    essay_tfidf_weighted_cv.append(each_essay_vec)  \n",
        "  \n",
        "print (len(essay_tfidf_weighted_cv))\n",
        "print (len(essay_tfidf_weighted_cv[0]))"
      ]
    },
    {
      "cell_type": "code",
      "execution_count": null,
      "metadata": {
        "colab": {
          "base_uri": "https://localhost:8080/",
          "height": 84,
          "referenced_widgets": [
            "677895de0ae248d8af9cdab5f209805c",
            "05388598ad4a4c56b4869d5b7910cb20",
            "8714989ea4b44da7ab24f425704b83ff",
            "5b89bfe0d4c04e3cb29ba218f998a01c",
            "de130f378a284023972d468f86e17bf4",
            "2bd8ce14c69c4f38b909a6ad4e586425",
            "6ce0abfe73cb436c9320567d9ca0f514",
            "647e5fe10a6a4a93b9387e089bac6130",
            "bff1d14926f147b1bb062054b8de64bf",
            "d852ac9a7fcd4f4d8ca4274669150b48",
            "a13bf0283a7146f998eb96a45e7b4d1f"
          ]
        },
        "id": "RLNiOzb4a_gX",
        "outputId": "f1b2bd18-afdc-4a62-e00c-f5199fa75bbb"
      },
      "outputs": [
        {
          "output_type": "display_data",
          "data": {
            "text/plain": [
              "  0%|          | 0/10925 [00:00<?, ?it/s]"
            ],
            "application/vnd.jupyter.widget-view+json": {
              "version_major": 2,
              "version_minor": 0,
              "model_id": "677895de0ae248d8af9cdab5f209805c"
            }
          },
          "metadata": {}
        },
        {
          "output_type": "stream",
          "name": "stdout",
          "text": [
            "10925\n",
            "300\n"
          ]
        }
      ],
      "source": [
        "# tfidf weighted Word2Vec\n",
        "# compute tfidf weighted word2vec for each essay.\n",
        "\n",
        "list_of_features = fitted_text_bow.get_feature_names_out()\n",
        "essay_tfidf_weighted_test = []\n",
        "for each_essay in tqdm_notebook(X_test['Essay_Cleaned']):\n",
        "    each_essay_vec =np.zeros(300)\n",
        "    tfidf_sum=0\n",
        "    for word in each_essay.split():\n",
        "        if word in glove_words and word in list_of_features:\n",
        "            word_vec = glove_model[word]\n",
        "            tf_idf=(each_essay.count(word)/len(each_essay))*essay_idf[word]\n",
        "            each_essay_vec += word_vec*tf_idf\n",
        "            tfidf_sum += tfidf_sum\n",
        "    if tfidf_sum !=0:\n",
        "            each_essay_vec /= tfidf_sum\n",
        "    essay_tfidf_weighted_test.append(each_essay_vec)  \n",
        "  \n",
        "print (len(essay_tfidf_weighted_test))\n",
        "print (len(essay_tfidf_weighted_test[0]))"
      ]
    },
    {
      "cell_type": "markdown",
      "metadata": {
        "id": "v0niZGPZaJda"
      },
      "source": [
        "### 2.4.9 Using Pretrained Models: TFIDF weighted W2V on `project_title`"
      ]
    },
    {
      "cell_type": "code",
      "execution_count": null,
      "metadata": {
        "id": "b3pNdlD-a_gY"
      },
      "outputs": [],
      "source": [
        "project_title_idf=dict(zip(fitted_project_title_bow.get_feature_names_out(),list(fitted_project_title_tfidf.idf_)))"
      ]
    },
    {
      "cell_type": "code",
      "execution_count": null,
      "metadata": {
        "colab": {
          "base_uri": "https://localhost:8080/",
          "height": 84,
          "referenced_widgets": [
            "854d60b16d5a49098f1920987de5915a",
            "e2ad28bd598b4ee6a8ef298ee1e8ee49",
            "fc724809b99447859b9ebbea8ae2d443",
            "feefe503f93a4439a9ac2b2ada1d71ab",
            "f828c2179236424d9d770359bd85fe6a",
            "40e3b67fb2144427a346f0a16d41e786",
            "6eb6074109bd4c65a5def44389c9e030",
            "076c7fdab9ad4f85b284a2cadef0fa37",
            "2b0b1ecbcd8f4d2694a0bc30c35f0f9d",
            "e1f47c883a564326b1b40d2d1519eec2",
            "3c4b10bdc88d41b79fdf46f6d1cea965"
          ]
        },
        "id": "HoD70PX4aJdb",
        "outputId": "ceae9f35-edad-48c8-a566-857459c51b86"
      },
      "outputs": [
        {
          "output_type": "display_data",
          "data": {
            "text/plain": [
              "  0%|          | 0/88488 [00:00<?, ?it/s]"
            ],
            "application/vnd.jupyter.widget-view+json": {
              "version_major": 2,
              "version_minor": 0,
              "model_id": "854d60b16d5a49098f1920987de5915a"
            }
          },
          "metadata": {}
        },
        {
          "output_type": "stream",
          "name": "stdout",
          "text": [
            "88488\n",
            "300\n"
          ]
        }
      ],
      "source": [
        "# Similarly you can vectorize for title also\n",
        "\n",
        "list_of_features = fitted_project_title_bow.get_feature_names_out()\n",
        "project_title_tfidf_weighted_train = []\n",
        "for each_project_title in tqdm_notebook(X_train['Project_Title_Cleaned']):\n",
        "    each_project_title_vec =np.zeros(300)\n",
        "    tfidf_sum=0\n",
        "    for word in each_project_title.split():\n",
        "        if word in glove_words and word in list_of_features:\n",
        "            word_vec = glove_model[word]\n",
        "            tf_idf=(each_project_title.count(word)/len(each_project_title))*project_title_idf[word]\n",
        "            each_project_title_vec += word_vec*tf_idf\n",
        "            tfidf_sum += tfidf_sum\n",
        "    if tfidf_sum !=0:\n",
        "            each_project_title_vec /= tfidf_sum\n",
        "    project_title_tfidf_weighted_train.append(each_project_title_vec)  \n",
        "  \n",
        "print (len(project_title_tfidf_weighted_train))\n",
        "print (len(project_title_tfidf_weighted_train[0]))"
      ]
    },
    {
      "cell_type": "code",
      "execution_count": null,
      "metadata": {
        "colab": {
          "base_uri": "https://localhost:8080/",
          "height": 84,
          "referenced_widgets": [
            "a15fe4732219433fb5cca332f87f56ea",
            "3e4f6f35e517425ba5b0b69dcf57729e",
            "4f2f0207d53046b496113f5046a9f1dc",
            "606d844f6d5b40bebb7b1a08e58368bf",
            "db7b06cfb30f46eb840695dd10d7460e",
            "a8782efd55a247e3ac4f750bac1c405b",
            "ef16ef1d94894818b42155433f8c5058",
            "f57ca064611d499b936d057df11ac49a",
            "30fb825ed3ed4ea7a5f5706299a2a028",
            "5d4c63968895482086ea3eb038d7c450",
            "1994c5c5404f445fb16ec208deed5d6e"
          ]
        },
        "id": "6-iFOd1Qa_gZ",
        "outputId": "a156717d-e72f-4fb5-b53b-69e66d5e01cf"
      },
      "outputs": [
        {
          "output_type": "display_data",
          "data": {
            "text/plain": [
              "  0%|          | 0/9832 [00:00<?, ?it/s]"
            ],
            "application/vnd.jupyter.widget-view+json": {
              "version_major": 2,
              "version_minor": 0,
              "model_id": "a15fe4732219433fb5cca332f87f56ea"
            }
          },
          "metadata": {}
        },
        {
          "output_type": "stream",
          "name": "stdout",
          "text": [
            "9832\n",
            "300\n"
          ]
        }
      ],
      "source": [
        "# Similarly you can vectorize for title also\n",
        "\n",
        "list_of_features = fitted_project_title_bow.get_feature_names_out()\n",
        "project_title_tfidf_weighted_cv = []\n",
        "for each_project_title in tqdm_notebook(X_cv['Project_Title_Cleaned']):\n",
        "    each_project_title_vec =np.zeros(300)\n",
        "    tfidf_sum=0\n",
        "    for word in each_project_title.split():\n",
        "        if word in glove_words and word in list_of_features:\n",
        "            word_vec = glove_model[word]\n",
        "            tf_idf=(each_project_title.count(word)/len(each_project_title))*project_title_idf[word]\n",
        "            each_project_title_vec += word_vec*tf_idf\n",
        "            tfidf_sum += tfidf_sum\n",
        "    if tfidf_sum !=0:\n",
        "            each_project_title_vec /= tfidf_sum\n",
        "    project_title_tfidf_weighted_cv.append(each_project_title_vec)  \n",
        "  \n",
        "print (len(project_title_tfidf_weighted_cv))\n",
        "print (len(project_title_tfidf_weighted_cv[0]))"
      ]
    },
    {
      "cell_type": "code",
      "execution_count": null,
      "metadata": {
        "colab": {
          "base_uri": "https://localhost:8080/",
          "height": 84,
          "referenced_widgets": [
            "8ecc471b71e84c8b8638bfa7cd08ed9f",
            "99d450c9e9ff43c68cfba230bad01793",
            "20f98d9f83d04f2c8dd420e6b072d0ae",
            "156d4e51439c4a4090152ada4de17ce0",
            "ecae0850c1214f4386983585f58530a4",
            "eef9359a284f445aa32580e56378a70b",
            "752653d7209940599450b16a279a4a65",
            "536ed2745718497a8a3ac5a97fc9ef3d",
            "0542dff904a243b2ad6ce48e4e24a0c1",
            "330645b7e5cd4452aed2d3a51cd236bf",
            "83d52ca73f784439906b63f79dbd0ec2"
          ]
        },
        "id": "M8OmK66da_ga",
        "outputId": "254417cf-4d61-47f5-bbce-44144b53ca91"
      },
      "outputs": [
        {
          "output_type": "display_data",
          "data": {
            "text/plain": [
              "  0%|          | 0/10925 [00:00<?, ?it/s]"
            ],
            "application/vnd.jupyter.widget-view+json": {
              "version_major": 2,
              "version_minor": 0,
              "model_id": "8ecc471b71e84c8b8638bfa7cd08ed9f"
            }
          },
          "metadata": {}
        },
        {
          "output_type": "stream",
          "name": "stdout",
          "text": [
            "10925\n",
            "300\n"
          ]
        }
      ],
      "source": [
        "# Similarly you can vectorize for title also\n",
        "\n",
        "list_of_features = fitted_project_title_bow.get_feature_names_out()\n",
        "project_title_tfidf_weighted_test = []\n",
        "for each_project_title in tqdm_notebook(X_test['Project_Title_Cleaned']):\n",
        "    each_project_title_vec =np.zeros(300)\n",
        "    tfidf_sum=0\n",
        "    for word in each_project_title.split():\n",
        "        if word in glove_words and word in list_of_features:\n",
        "            word_vec = glove_model[word]\n",
        "            tf_idf=(each_project_title.count(word)/len(each_project_title))*project_title_idf[word]\n",
        "            each_project_title_vec += word_vec*tf_idf\n",
        "            tfidf_sum += tfidf_sum\n",
        "    if tfidf_sum !=0:\n",
        "            each_project_title_vec /= tfidf_sum\n",
        "    project_title_tfidf_weighted_test.append(each_project_title_vec)  \n",
        "  \n",
        "print (len(project_title_tfidf_weighted_test))\n",
        "print (len(project_title_tfidf_weighted_test[0]))"
      ]
    },
    {
      "cell_type": "markdown",
      "metadata": {
        "id": "K561nWdYaJdc"
      },
      "source": [
        "\n",
        "\n",
        "### 2.5.1 Vectorizing Numerical features - Total_Price"
      ]
    },
    {
      "cell_type": "code",
      "execution_count": null,
      "metadata": {
        "colab": {
          "base_uri": "https://localhost:8080/"
        },
        "id": "Uv3lHA0va_gb",
        "outputId": "3e6db733-6993-43c1-bb8f-28db0f66b266"
      },
      "outputs": [
        {
          "output_type": "execute_result",
          "data": {
            "text/plain": [
              "(109245,)"
            ]
          },
          "metadata": {},
          "execution_count": 86
        }
      ],
      "source": [
        "project_data['Total_Price'].shape"
      ]
    },
    {
      "cell_type": "code",
      "execution_count": null,
      "metadata": {
        "colab": {
          "base_uri": "https://localhost:8080/"
        },
        "id": "55xAvTiza_gb",
        "outputId": "289487c2-bce3-49c7-bcd9-fe1979274471"
      },
      "outputs": [
        {
          "output_type": "stream",
          "name": "stdout",
          "text": [
            "Mean : 544.2142428351866, Standard deviation : 545.5975097627115\n",
            "Shape of matrix after standardization  (88488, 1)\n",
            "Shape of matrix after standardization  (9832, 1)\n",
            "Shape of matrix after standardization  (10925, 1)\n"
          ]
        }
      ],
      "source": [
        "# check this one: https://www.youtube.com/watch?v=0HOqOcln3Z4&t=530s\n",
        "# standardization sklearn: https://scikit-learn.org/stable/modules/generated/sklearn.preprocessing.StandardScaler.html\n",
        "from sklearn.preprocessing import StandardScaler\n",
        "\n",
        "# price_standardized = standardScalar.fit(project_data['price'].values)\n",
        "# this will rise the error\n",
        "# ValueError: Expected 2D array, got 1D array instead: array=[725.05 213.03 329.   ... 399.   287.73   5.5 ].\n",
        "# Reshape your data either using array.reshape(-1, 1)\n",
        "\n",
        "price_scalar = StandardScaler()\n",
        "price_scalar.fit(X_train['Total_Price'].values.reshape(-1,1)) # finding the mean and standard deviation of this data\n",
        "print(f\"Mean : {price_scalar.mean_[0]}, Standard deviation : {np.sqrt(price_scalar.var_[0])}\")\n",
        "\n",
        "# Now standardize the data with above maen and variance.\n",
        "price_standardized_train = price_scalar.transform(X_train['Total_Price'].values.reshape(-1, 1))\n",
        "price_standardized_cv = price_scalar.transform(X_cv['Total_Price'].values.reshape(-1, 1))\n",
        "price_standardized_test = price_scalar.transform(X_test['Total_Price'].values.reshape(-1, 1))\n",
        "\n",
        "print(\"Shape of matrix after standardization \",price_standardized_train.shape)\n",
        "print(\"Shape of matrix after standardization \",price_standardized_cv.shape)\n",
        "print(\"Shape of matrix after standardization \",price_standardized_test.shape)"
      ]
    },
    {
      "cell_type": "markdown",
      "metadata": {
        "id": "dDqvSdx-a_gc"
      },
      "source": [
        "### 2.5.2 Vectorizing Numerical features - teacher_number_of_previously_posted_projects "
      ]
    },
    {
      "cell_type": "code",
      "execution_count": null,
      "metadata": {
        "colab": {
          "base_uri": "https://localhost:8080/"
        },
        "id": "uH-3xTFaa_gc",
        "outputId": "23d58c60-336d-4d5b-f13f-536abc6853e2"
      },
      "outputs": [
        {
          "output_type": "execute_result",
          "data": {
            "text/plain": [
              "(109245,)"
            ]
          },
          "metadata": {},
          "execution_count": 88
        }
      ],
      "source": [
        "project_data['teacher_number_of_previously_posted_projects'].shape"
      ]
    },
    {
      "cell_type": "code",
      "execution_count": null,
      "metadata": {
        "colab": {
          "base_uri": "https://localhost:8080/"
        },
        "id": "xeAQhnBNa_gd",
        "outputId": "2c3eb6b7-5c02-4595-aeea-b57cc4277c85"
      },
      "outputs": [
        {
          "output_type": "stream",
          "name": "stdout",
          "text": [
            "Mean : 11.179052526896303, Standard deviation : 27.733239898848606\n",
            "Shape of matrix after one hot encodig  (88488, 1)\n",
            "Shape of matrix after one hot encodig  (9832, 1)\n",
            "Shape of matrix after one hot encodig  (10925, 1)\n"
          ]
        }
      ],
      "source": [
        "teacher_number_of_previously_posted_projects_scalar = StandardScaler()\n",
        "teacher_number_of_previously_posted_projects_scalar.fit(X_train['teacher_number_of_previously_posted_projects'].values.reshape(-1,1)) # finding the mean and standard deviation of this data\n",
        "print(f\"Mean : {teacher_number_of_previously_posted_projects_scalar.mean_[0]}, Standard deviation : {np.sqrt(teacher_number_of_previously_posted_projects_scalar.var_[0])}\")\n",
        "\n",
        "# Now standardize the data with above maen and variance.\n",
        "teacher_number_of_previously_posted_projects_standardized_train = teacher_number_of_previously_posted_projects_scalar.transform(X_train['teacher_number_of_previously_posted_projects'].values.reshape(-1, 1))\n",
        "teacher_number_of_previously_posted_projects_standardized_cv = teacher_number_of_previously_posted_projects_scalar.transform(X_cv['teacher_number_of_previously_posted_projects'].values.reshape(-1, 1))\n",
        "teacher_number_of_previously_posted_projects_standardized_test = teacher_number_of_previously_posted_projects_scalar.transform(X_test['teacher_number_of_previously_posted_projects'].values.reshape(-1, 1))\n",
        "\n",
        "\n",
        "print(\"Shape of matrix after one hot encodig \",teacher_number_of_previously_posted_projects_standardized_train.shape)\n",
        "print(\"Shape of matrix after one hot encodig \",teacher_number_of_previously_posted_projects_standardized_cv.shape)\n",
        "print(\"Shape of matrix after one hot encodig \",teacher_number_of_previously_posted_projects_standardized_test.shape)"
      ]
    },
    {
      "cell_type": "markdown",
      "metadata": {
        "id": "dmLoJysFaJdh"
      },
      "source": [
        "## 6 Merging all the above features"
      ]
    },
    {
      "cell_type": "markdown",
      "metadata": {
        "id": "RJvu3XjfaJdh"
      },
      "source": [
        "- we need to merge all the numerical vectors i.e catogorical, text, numerical vectors"
      ]
    },
    {
      "cell_type": "markdown",
      "metadata": {
        "id": "YgHMIKKia_ge"
      },
      "source": [
        "<ul><h3>Build the data matrix using these features</h3>\n",
        "        <li>school_state                     : categorical data (one hot encoding)</li>\n",
        "        <li>clean_categories                 : categorical data (one hot encoding)</li>\n",
        "        <li>clean_subcategories              : categorical data (one hot encoding)</li>\n",
        "        <li>teacher_prefix                   : categorical data (one hot encoding)</li>\n",
        "        <li>project_grade_category           : categorical data (one hot encoding)</li>\n",
        "        <li>essay                    : text data (BOW, TFIDF, AVG W2V, TFIDF W2V)</li>\n",
        "        <li>price                            : numerical</li>\n",
        "        <li>teacher_number_of_previously_posted_projects : numerical</li>\n",
        " "
      ]
    },
    {
      "cell_type": "markdown",
      "metadata": {
        "id": "HzdJXQ3Qa_ge"
      },
      "source": [
        "<ol>\n",
        "    <li><strong>[Task-1] Logistic Regression(either SGDClassifier with log loss, or LogisticRegression) on these feature sets</strong>\n",
        "        <ul>\n",
        "            <li><font color='black'>Set 1</font>: categorical, numerical features  + preprocessed_eassay (`BOW with bi-grams`) \n",
        "\n",
        "       \n",
        "</ol>"
      ]
    },
    {
      "cell_type": "markdown",
      "metadata": {
        "id": "ztyYNtgDa_gf"
      },
      "source": [
        "## Set 1</font>: categorical, numerical features + project_title(BOW) + preprocessed_eassay (`BOW with bi-grams` with `min_df=10` and `max_features=5000`)"
      ]
    },
    {
      "cell_type": "code",
      "execution_count": null,
      "metadata": {
        "colab": {
          "base_uri": "https://localhost:8080/"
        },
        "id": "LA_bZ1B5a_gf",
        "outputId": "10b9600d-7af8-406f-b9bf-a32e26821864"
      },
      "outputs": [
        {
          "output_type": "stream",
          "name": "stdout",
          "text": [
            "Shape of Train data\n",
            "(88488, 51)\n",
            "(88488, 9)\n",
            "(88488, 30)\n",
            "(88488, 5)\n",
            "(88488, 4)\n",
            "(88488, 1)\n",
            "(88488, 1)\n",
            "(88488, 5000)\n",
            "(88488, 2803)\n",
            "(88488, 2803)\n",
            "88488 300\n",
            "88488 300\n",
            "88488 300\n",
            "88488 300\n",
            "**************************************************\n",
            "Shape of CV data\n",
            "(9832, 51)\n",
            "(9832, 9)\n",
            "(9832, 30)\n",
            "(9832, 5)\n",
            "(9832, 4)\n",
            "(9832, 1)\n",
            "(9832, 1)\n",
            "(9832, 5000)\n",
            "(9832, 2803)\n",
            "(9832, 2803)\n",
            "9832 300\n",
            "9832 300\n",
            "9832 300\n",
            "9832 300\n",
            "**************************************************\n",
            "Shape of Test data\n",
            "(10925, 51)\n",
            "(10925, 9)\n",
            "(10925, 30)\n",
            "(10925, 5)\n",
            "(10925, 4)\n",
            "(10925, 1)\n",
            "(10925, 1)\n",
            "(10925, 5000)\n",
            "(10925, 2803)\n",
            "(10925, 2803)\n",
            "10925 300\n",
            "10925 300\n",
            "10925 300\n",
            "10925 300\n",
            "**************************************************\n"
          ]
        }
      ],
      "source": [
        "#Before we merge lets look at the size of all the data to make sure \n",
        "\n",
        "#Before we merge lets look at the size of all the data to make sure \n",
        "print (\"Shape of Train data\")\n",
        "print(school_state_one_hot_train.shape)\n",
        "print(categories_one_hot_train.shape)\n",
        "print(sub_categories_one_hot_train.shape)\n",
        "print(teacher_prefix_one_hot_train.shape)\n",
        "print(project_grade_categoty_one_hot_train.shape)\n",
        "print(price_standardized_train.shape)\n",
        "print(teacher_number_of_previously_posted_projects_standardized_train.shape)\n",
        "print(transformed_text_bow_train.shape)\n",
        "print(transformed_project_title_bow_train.shape)\n",
        "print(transformed_project_title_tfidf_train.shape)\n",
        "print(len(essay_Avg_W2V_train),len(essay_Avg_W2V_train[0]))\n",
        "print(len(essay_tfidf_weighted_train),len(essay_tfidf_weighted_train[0]))\n",
        "print(len(project_title_Avg_W2V_train),len(project_title_Avg_W2V_train[0]))\n",
        "print(len(project_title_tfidf_weighted_train),len(project_title_tfidf_weighted_train[0]))\n",
        "\n",
        "print ('*'*50)\n",
        "\n",
        "\n",
        "print (\"Shape of CV data\")\n",
        "print(school_state_one_hot_cv.shape)\n",
        "print(categories_one_hot_cv.shape)\n",
        "print(sub_categories_one_hot_cv.shape)\n",
        "print(teacher_prefix_one_hot_cv.shape)\n",
        "print(project_grade_categoty_one_hot_cv.shape)\n",
        "print(price_standardized_cv.shape)\n",
        "print(teacher_number_of_previously_posted_projects_standardized_cv.shape)\n",
        "print(transformed_text_bow_cv.shape)\n",
        "print(transformed_project_title_bow_cv.shape)\n",
        "print(transformed_project_title_tfidf_cv.shape)\n",
        "print(len(essay_Avg_W2V_cv),len(essay_Avg_W2V_cv[0]))\n",
        "print(len(essay_tfidf_weighted_cv),len(essay_tfidf_weighted_cv[0]))\n",
        "print(len(project_title_Avg_W2V_cv),len(project_title_Avg_W2V_cv[0]))\n",
        "print(len(project_title_tfidf_weighted_cv),len(project_title_tfidf_weighted_cv[0]))\n",
        "\n",
        "\n",
        "print ('*'*50)\n",
        "print (\"Shape of Test data\")\n",
        "print(school_state_one_hot_test.shape)\n",
        "print(categories_one_hot_test.shape)\n",
        "print(sub_categories_one_hot_test.shape)\n",
        "print(teacher_prefix_one_hot_test.shape)\n",
        "print(project_grade_categoty_one_hot_test.shape)\n",
        "print(price_standardized_test.shape)\n",
        "print(teacher_number_of_previously_posted_projects_standardized_test.shape)\n",
        "print(transformed_text_bow_test.shape)\n",
        "print(transformed_project_title_bow_test.shape)\n",
        "print(transformed_project_title_tfidf_test.shape)\n",
        "print(len(essay_Avg_W2V_test),len(essay_Avg_W2V_test[0]))\n",
        "print(len(essay_tfidf_weighted_test),len(essay_tfidf_weighted_test[0]))\n",
        "print(len(project_title_Avg_W2V_test),len(project_title_Avg_W2V_test[0]))\n",
        "print(len(project_title_tfidf_weighted_test),len(project_title_tfidf_weighted_test[0]))\n",
        "\n",
        "\n",
        "print ('*'*50)\n",
        "\n"
      ]
    },
    {
      "cell_type": "code",
      "execution_count": null,
      "metadata": {
        "colab": {
          "base_uri": "https://localhost:8080/"
        },
        "id": "Cm1pF4sDa_gf",
        "outputId": "42ff277f-596d-416c-a6df-2b250df228f0"
      },
      "outputs": [
        {
          "output_type": "stream",
          "name": "stdout",
          "text": [
            "Final Data matrix\n",
            "(88488, 7904) (88488,)\n",
            "(9832, 7904) (9832,)\n",
            "(10925, 7904) (10925,)\n",
            "====================================================================================================\n"
          ]
        }
      ],
      "source": [
        "# merge two sparse matrices: https://stackoverflow.com/a/19710648/4084039\n",
        "from scipy.sparse import hstack\n",
        "X_tr_bow = hstack((school_state_one_hot_train,categories_one_hot_train,sub_categories_one_hot_train,teacher_number_of_previously_posted_projects_standardized_train,project_grade_categoty_one_hot_train,price_standardized_train,teacher_prefix_one_hot_train,transformed_text_bow_train,transformed_project_title_bow_train)).tocsr()\n",
        "X_cr_bow = hstack((school_state_one_hot_cv,categories_one_hot_cv,sub_categories_one_hot_cv,teacher_number_of_previously_posted_projects_standardized_cv,project_grade_categoty_one_hot_cv,price_standardized_cv,teacher_prefix_one_hot_cv,transformed_text_bow_cv,transformed_project_title_bow_cv)).tocsr()\n",
        "X_te_bow = hstack((school_state_one_hot_test,categories_one_hot_test,sub_categories_one_hot_test,teacher_number_of_previously_posted_projects_standardized_test,project_grade_categoty_one_hot_test,price_standardized_test,teacher_prefix_one_hot_test,transformed_text_bow_test,transformed_project_title_bow_test)).tocsr()\n",
        "\n",
        "print(\"Final Data matrix\")\n",
        "print(X_tr_bow.shape, y_train.shape)\n",
        "print(X_cr_bow.shape, y_cv.shape)\n",
        "print(X_te_bow.shape, y_test.shape)\n",
        "print(\"=\"*100)"
      ]
    },
    {
      "cell_type": "code",
      "execution_count": null,
      "metadata": {
        "id": "vg1s1Tu8a_gg"
      },
      "outputs": [],
      "source": [
        "import pickle\n",
        "with open('X_tr_pickle_bow', 'wb') as X_tr_write_file:\n",
        "    pickle.dump(X_tr_bow, X_tr_write_file)\n",
        "with open('X_cr_pickle_bow', 'wb') as X_cr_write_file:\n",
        "    pickle.dump(X_cr_bow, X_cr_write_file)\n",
        "with open('X_te_pickle_bow', 'wb') as X_te_write_file:\n",
        "    pickle.dump(X_te_bow, X_te_write_file)\n",
        "with open('y_train', 'wb') as y_train_write_file:\n",
        "    pickle.dump(y_train, y_train_write_file)\n",
        "with open('y_cv', 'wb') as y_cv_write_file:\n",
        "    pickle.dump(y_cv, y_cv_write_file)\n",
        "with open('y_test', 'wb') as y_test_write_file:\n",
        "    pickle.dump(y_test, y_test_write_file)       "
      ]
    },
    {
      "cell_type": "code",
      "execution_count": null,
      "metadata": {
        "id": "a3Cy0qU3a_gg"
      },
      "outputs": [],
      "source": [
        "import pickle"
      ]
    },
    {
      "cell_type": "code",
      "execution_count": null,
      "metadata": {
        "id": "VHVKs9Cza_gg"
      },
      "outputs": [],
      "source": [
        "with open(r'C:\\Users\\kasturi.karuna\\AppliedAI course\\Assignment 5\\X_tr_pickle_bow', 'rb') as  X_tr_read_file:\n",
        "    X_tr_bow = pickle.load(X_tr_read_file)\n",
        "with open(r'C:\\Users\\kasturi.karuna\\AppliedAI course\\Assignment 5\\X_cr_pickle_bow', 'rb') as  X_cr_read_file:\n",
        "    X_cr_bow = pickle.load(X_cr_read_file)\n",
        "with open(r'C:\\Users\\kasturi.karuna\\AppliedAI course\\Assignment 5\\X_te_pickle_bow', 'rb') as  X_te_read_file:\n",
        "    X_te_bow = pickle.load(X_te_read_file)\n",
        "    \n",
        "with open(r'C:\\Users\\kasturi.karuna\\AppliedAI course\\Assignment 5\\y_train', 'rb') as  y_train_read_file:\n",
        "    y_train = pickle.load(y_train_read_file)\n",
        "with open(r'C:\\Users\\kasturi.karuna\\AppliedAI course\\Assignment 5\\y_cv', 'rb') as  y_cv_read_file:\n",
        "    y_cv = pickle.load(y_cv_read_file)\n",
        "with open(r'C:\\Users\\kasturi.karuna\\AppliedAI course\\Assignment 5\\y_test', 'rb') as  y_test_read_file:\n",
        "    y_test = pickle.load(y_test_read_file)    "
      ]
    },
    {
      "cell_type": "code",
      "execution_count": null,
      "metadata": {
        "colab": {
          "base_uri": "https://localhost:8080/"
        },
        "id": "rtg3-5_va_gg",
        "outputId": "d6f79ea9-3ccc-4d0f-eabf-b302736dde8f"
      },
      "outputs": [
        {
          "output_type": "stream",
          "name": "stdout",
          "text": [
            "Final Data matrix\n",
            "(88488, 7904) (88488,)\n",
            "(9832, 7904) (9832,)\n",
            "(10925, 7904) (10925,)\n",
            "====================================================================================================\n"
          ]
        }
      ],
      "source": [
        "print(\"Final Data matrix\")\n",
        "print(X_tr_bow.shape, y_train.shape)\n",
        "print(X_cr_bow.shape, y_cv.shape)\n",
        "print(X_te_bow.shape, y_test.shape)\n",
        "print(\"=\"*100)"
      ]
    },
    {
      "cell_type": "markdown",
      "metadata": {
        "id": "11QwJSuga_gg"
      },
      "source": [
        "### Hyper paramter tuning to find best lambda\n",
        "<ol> Find the best hyper parameter which results in the maximum AUC value</ol>\n",
        "    <ol> Find the best hyper paramter using k-fold cross validation (or) simple cross validation data</ol>\n",
        "        <ol> Use gridsearch-cv or randomsearch-cv or write your own for loops to do this task</ol>"
      ]
    },
    {
      "cell_type": "markdown",
      "metadata": {
        "id": "umVMBEW_a_gh"
      },
      "source": [
        "#### 3.1 Method 1: Simple Cross Validation and AUC score"
      ]
    },
    {
      "cell_type": "code",
      "execution_count": null,
      "metadata": {
        "id": "JWe9At3da_gh"
      },
      "outputs": [],
      "source": [
        "#Importing some useful libraries\n",
        "from sklearn.linear_model import LogisticRegression\n",
        "from sklearn.metrics import roc_auc_score\n"
      ]
    },
    {
      "cell_type": "code",
      "execution_count": null,
      "metadata": {
        "id": "5eQpqfLya_gh"
      },
      "outputs": [],
      "source": [
        "\n",
        "\"\"\"\n",
        "y_true : array, shape = [n_samples] or [n_samples, n_classes]\n",
        "True binary labels or binary label indicators.\n",
        "\n",
        "y_score : array, shape = [n_samples] or [n_samples, n_classes]\n",
        "Target scores, can either be probability estimates of the positive class, confidence values, or non-thresholded measure of\n",
        "decisions (as returned by “decision_function” on some classifiers). \n",
        "For binary y_true, y_score is supposed to be the score of the class with greater label.\n",
        "\n",
        "\"\"\"\n",
        "\n",
        "train_auc_bow = []\n",
        "cv_auc_bow = []\n",
        "lambda_hyperparameter = [0.001,0.01,0.1,1,10,50,100,200,500,1000,2000]\n",
        "C_hyperparameter=[1000,100,10,1,0.1,0.02,0.01,0.005,0.002,0.0001,0.00005]\n",
        "\n",
        "for i in C_hyperparameter:\n",
        "    classifier_LR =LogisticRegression(penalty=\"l2\",C=i,class_weight=\"balanced\")\n",
        "    classifier_LR.fit(X_tr_bow, y_train)\n",
        "\n",
        "    y_train_pred_bow = classifier_LR.predict_proba(X_tr_bow)[:,1]   \n",
        "    y_cv_pred_bow = classifier_LR.predict_proba(X_cr_bow)[:,1]\n",
        "    \n",
        "    # roc_auc_score(y_true, y_score) the 2nd parameter should be probability estimates of the positive class\n",
        "    # not the predicted outputs        \n",
        "    train_auc_bow.append(roc_auc_score(y_train,y_train_pred_bow))\n",
        "    cv_auc_bow.append(roc_auc_score(y_cv, y_cv_pred_bow))"
      ]
    },
    {
      "cell_type": "code",
      "execution_count": null,
      "metadata": {
        "colab": {
          "base_uri": "https://localhost:8080/",
          "height": 295
        },
        "id": "uAz_hAvGa_gi",
        "outputId": "00be8caa-9c8e-41c1-93d8-4ff8d4b386cc"
      },
      "outputs": [
        {
          "output_type": "display_data",
          "data": {
            "text/plain": [
              "<Figure size 432x288 with 1 Axes>"
            ],
            "image/png": "[encoded data removed]"
          },
          "metadata": {
            "needs_background": "light"
          }
        }
      ],
      "source": [
        "plt.plot(np.log10(lambda_hyperparameter), train_auc_bow, label='Train AUC_bow')\n",
        "plt.plot(np.log10(lambda_hyperparameter), cv_auc_bow, label='CV AUC_bow')\n",
        "\n",
        "plt.scatter(np.log10(lambda_hyperparameter), train_auc_bow, label='Train AUC_bow points')\n",
        "plt.scatter(np.log10(lambda_hyperparameter), cv_auc_bow, label='CV AUC_bow points')\n",
        "\n",
        "plt.legend()\n",
        "plt.xlabel(\"lambda hyperparamer\")\n",
        "plt.ylabel(\"AUC_bow\")\n",
        "plt.title(\"ERROR PLOTS\")\n",
        "plt.grid()\n",
        "plt.show()"
      ]
    },
    {
      "cell_type": "code",
      "execution_count": null,
      "metadata": {
        "colab": {
          "base_uri": "https://localhost:8080/"
        },
        "id": "NDwueBVYa_gj",
        "outputId": "3039271a-bca1-45d7-fb24-89afa7bd5a63"
      },
      "outputs": [
        {
          "output_type": "stream",
          "name": "stdout",
          "text": [
            "+--------+---------------+------------+\n",
            "| Lambda | TRAIN_AUC_bow | CV_AUC_bow |\n",
            "+--------+---------------+------------+\n",
            "| 0.001  |      0.82     |    0.68    |\n",
            "|  0.01  |      0.82     |    0.68    |\n",
            "|  0.1   |      0.82     |    0.68    |\n",
            "|   1    |      0.82     |    0.68    |\n",
            "|   10   |      0.82     |    0.69    |\n",
            "|   50   |      0.81     |    0.7     |\n",
            "|  100   |      0.81     |    0.71    |\n",
            "|  200   |      0.8      |    0.72    |\n",
            "|  500   |      0.78     |    0.72    |\n",
            "|  1000  |      0.72     |    0.71    |\n",
            "|  2000  |      0.71     |    0.7     |\n",
            "+--------+---------------+------------+\n"
          ]
        }
      ],
      "source": [
        "from prettytable import PrettyTable\n",
        "    \n",
        "x_bow = PrettyTable()\n",
        "x_bow.field_names = [\"Lambda\", \"TRAIN_AUC_bow\",\"CV_AUC_bow\"]\n",
        "for i in range(len(lambda_hyperparameter)):\n",
        "    x_bow.add_row([lambda_hyperparameter[i],round(train_auc_bow[i],2),round(cv_auc_bow[i],2)])\n",
        "    \n",
        "print(x_bow)"
      ]
    },
    {
      "cell_type": "markdown",
      "metadata": {
        "id": "3uDtKn5Ka_gj"
      },
      "source": [
        "#### By using Cross validation method we get highest AUC at lambda=200 with AUC value approximately around 73%"
      ]
    },
    {
      "cell_type": "markdown",
      "metadata": {
        "id": "rYB94rPLa_gj"
      },
      "source": [
        "#### 3.2  Method 2: K fold Cross Validation"
      ]
    },
    {
      "cell_type": "code",
      "execution_count": null,
      "metadata": {
        "id": "QVqPVowua_gj"
      },
      "outputs": [],
      "source": [
        "from sklearn.model_selection import cross_val_score"
      ]
    },
    {
      "cell_type": "code",
      "execution_count": null,
      "metadata": {
        "id": "K63jDaUWa_gk"
      },
      "outputs": [],
      "source": [
        "cv_scores_bow=[]\n",
        "for i in C_hyperparameter:\n",
        "    classifier_LR =LogisticRegression(penalty=\"l2\",C=i,class_weight=\"balanced\")\n",
        "    scores=cross_val_score(classifier_LR,X_tr_bow,y_train,cv=5,scoring='roc_auc')\n",
        "    cv_scores_bow.append(scores.mean())\n",
        "    "
      ]
    },
    {
      "cell_type": "code",
      "execution_count": null,
      "metadata": {
        "colab": {
          "base_uri": "https://localhost:8080/"
        },
        "id": "8doxnpvxa_gk",
        "outputId": "52ddbf28-f15a-4308-fd53-806d79b61d8e"
      },
      "outputs": [
        {
          "output_type": "stream",
          "name": "stdout",
          "text": [
            "+--------+--------+\n",
            "| lambda | CV_AUC |\n",
            "+--------+--------+\n",
            "| 0.001  |  0.69  |\n",
            "|  0.01  |  0.69  |\n",
            "|  0.1   |  0.69  |\n",
            "|   1    |  0.69  |\n",
            "|   10   |  0.7   |\n",
            "|   50   |  0.71  |\n",
            "|  100   |  0.72  |\n",
            "|  200   |  0.73  |\n",
            "|  500   |  0.73  |\n",
            "|  1000  |  0.7   |\n",
            "|  2000  |  0.69  |\n",
            "+--------+--------+\n"
          ]
        }
      ],
      "source": [
        "y_bow = PrettyTable()\n",
        "y_bow.field_names = [\"lambda\", \"CV_AUC\"]\n",
        "for i in range(len(lambda_hyperparameter)):\n",
        "    y_bow.add_row([lambda_hyperparameter[i],round(cv_scores_bow[i],2)])\n",
        "    \n",
        "print(y_bow)"
      ]
    },
    {
      "cell_type": "markdown",
      "metadata": {
        "id": "xAn7RW3wa_gk"
      },
      "source": [
        "#### By using k fold Cross validation method we get highest AUC at lambda=200 with AUC value approximately around 72%"
      ]
    },
    {
      "cell_type": "markdown",
      "metadata": {
        "id": "d-9w-Iuwa_gk"
      },
      "source": [
        "#### 3.2  Method 3: GridSearch or randomsearch"
      ]
    },
    {
      "cell_type": "code",
      "execution_count": null,
      "metadata": {
        "colab": {
          "base_uri": "https://localhost:8080/",
          "height": 116
        },
        "id": "7jfiUebQa_gl",
        "outputId": "bc038e8e-1f8e-48e4-e29b-56c82e474798"
      },
      "outputs": [
        {
          "output_type": "execute_result",
          "data": {
            "text/plain": [
              "GridSearchCV(cv=5, estimator=LogisticRegression(class_weight='balanced'),\n",
              "             param_grid={'C': [1000, 100, 10, 1, 0.1, 0.02, 0.01, 0.005, 0.002,\n",
              "                               0.0001, 5e-05]},\n",
              "             return_train_score=True, scoring='roc_auc')"
            ],
            "text/html": [
              "<style>#sk-container-id-1 {color: black;background-color: white;}#sk-container-id-1 pre{padding: 0;}#sk-container-id-1 div.sk-toggleable {background-color: white;}#sk-container-id-1 label.sk-toggleable__label {cursor: pointer;display: block;width: 100%;margin-bottom: 0;padding: 0.3em;box-sizing: border-box;text-align: center;}#sk-container-id-1 label.sk-toggleable__label-arrow:before {content: \"▸\";float: left;margin-right: 0.25em;color: #696969;}#sk-container-id-1 label.sk-toggleable__label-arrow:hover:before {color: black;}#sk-container-id-1 div.sk-estimator:hover label.sk-toggleable__label-arrow:before {color: black;}#sk-container-id-1 div.sk-toggleable__content {max-height: 0;max-width: 0;overflow: hidden;text-align: left;background-color: #f0f8ff;}#sk-container-id-1 div.sk-toggleable__content pre {margin: 0.2em;color: black;border-radius: 0.25em;background-color: #f0f8ff;}#sk-container-id-1 input.sk-toggleable__control:checked~div.sk-toggleable__content {max-height: 200px;max-width: 100%;overflow: auto;}#sk-container-id-1 input.sk-toggleable__control:checked~label.sk-toggleable__label-arrow:before {content: \"▾\";}#sk-container-id-1 div.sk-estimator input.sk-toggleable__control:checked~label.sk-toggleable__label {background-color: #d4ebff;}#sk-container-id-1 div.sk-label input.sk-toggleable__control:checked~label.sk-toggleable__label {background-color: #d4ebff;}#sk-container-id-1 input.sk-hidden--visually {border: 0;clip: rect(1px 1px 1px 1px);clip: rect(1px, 1px, 1px, 1px);height: 1px;margin: -1px;overflow: hidden;padding: 0;position: absolute;width: 1px;}#sk-container-id-1 div.sk-estimator {font-family: monospace;background-color: #f0f8ff;border: 1px dotted black;border-radius: 0.25em;box-sizing: border-box;margin-bottom: 0.5em;}#sk-container-id-1 div.sk-estimator:hover {background-color: #d4ebff;}#sk-container-id-1 div.sk-parallel-item::after {content: \"\";width: 100%;border-bottom: 1px solid gray;flex-grow: 1;}#sk-container-id-1 div.sk-label:hover label.sk-toggleable__label {background-color: #d4ebff;}#sk-container-id-1 div.sk-serial::before {content: \"\";position: absolute;border-left: 1px solid gray;box-sizing: border-box;top: 0;bottom: 0;left: 50%;z-index: 0;}#sk-container-id-1 div.sk-serial {display: flex;flex-direction: column;align-items: center;background-color: white;padding-right: 0.2em;padding-left: 0.2em;position: relative;}#sk-container-id-1 div.sk-item {position: relative;z-index: 1;}#sk-container-id-1 div.sk-parallel {display: flex;align-items: stretch;justify-content: center;background-color: white;position: relative;}#sk-container-id-1 div.sk-item::before, #sk-container-id-1 div.sk-parallel-item::before {content: \"\";position: absolute;border-left: 1px solid gray;box-sizing: border-box;top: 0;bottom: 0;left: 50%;z-index: -1;}#sk-container-id-1 div.sk-parallel-item {display: flex;flex-direction: column;z-index: 1;position: relative;background-color: white;}#sk-container-id-1 div.sk-parallel-item:first-child::after {align-self: flex-end;width: 50%;}#sk-container-id-1 div.sk-parallel-item:last-child::after {align-self: flex-start;width: 50%;}#sk-container-id-1 div.sk-parallel-item:only-child::after {width: 0;}#sk-container-id-1 div.sk-dashed-wrapped {border: 1px dashed gray;margin: 0 0.4em 0.5em 0.4em;box-sizing: border-box;padding-bottom: 0.4em;background-color: white;}#sk-container-id-1 div.sk-label label {font-family: monospace;font-weight: bold;display: inline-block;line-height: 1.2em;}#sk-container-id-1 div.sk-label-container {text-align: center;}#sk-container-id-1 div.sk-container {/* jupyter's `normalize.less` sets `[hidden] { display: none; }` but bootstrap.min.css set `[hidden] { display: none !important; }` so we also need the `!important` here to be able to override the default hidden behavior on the sphinx rendered scikit-learn.org. See: https://github.com/scikit-learn/scikit-learn/issues/21755 */display: inline-block !important;position: relative;}#sk-container-id-1 div.sk-text-repr-fallback {display: none;}</style><div id=\"sk-container-id-1\" class=\"sk-top-container\"><div class=\"sk-text-repr-fallback\"><pre>GridSearchCV(cv=5, estimator=LogisticRegression(class_weight=&#x27;balanced&#x27;),\n",
              "             param_grid={&#x27;C&#x27;: [1000, 100, 10, 1, 0.1, 0.02, 0.01, 0.005, 0.002,\n",
              "                               0.0001, 5e-05]},\n",
              "             return_train_score=True, scoring=&#x27;roc_auc&#x27;)</pre><b>In a Jupyter environment, please rerun this cell to show the HTML representation or trust the notebook. <br />On GitHub, the HTML representation is unable to render, please try loading this page with nbviewer.org.</b></div><div class=\"sk-container\" hidden><div class=\"sk-item sk-dashed-wrapped\"><div class=\"sk-label-container\"><div class=\"sk-label sk-toggleable\"><input class=\"sk-toggleable__control sk-hidden--visually\" id=\"sk-estimator-id-1\" type=\"checkbox\" ><label for=\"sk-estimator-id-1\" class=\"sk-toggleable__label sk-toggleable__label-arrow\">GridSearchCV</label><div class=\"sk-toggleable__content\"><pre>GridSearchCV(cv=5, estimator=LogisticRegression(class_weight=&#x27;balanced&#x27;),\n",
              "             param_grid={&#x27;C&#x27;: [1000, 100, 10, 1, 0.1, 0.02, 0.01, 0.005, 0.002,\n",
              "                               0.0001, 5e-05]},\n",
              "             return_train_score=True, scoring=&#x27;roc_auc&#x27;)</pre></div></div></div><div class=\"sk-parallel\"><div class=\"sk-parallel-item\"><div class=\"sk-item\"><div class=\"sk-label-container\"><div class=\"sk-label sk-toggleable\"><input class=\"sk-toggleable__control sk-hidden--visually\" id=\"sk-estimator-id-2\" type=\"checkbox\" ><label for=\"sk-estimator-id-2\" class=\"sk-toggleable__label sk-toggleable__label-arrow\">estimator: LogisticRegression</label><div class=\"sk-toggleable__content\"><pre>LogisticRegression(class_weight=&#x27;balanced&#x27;)</pre></div></div></div><div class=\"sk-serial\"><div class=\"sk-item\"><div class=\"sk-estimator sk-toggleable\"><input class=\"sk-toggleable__control sk-hidden--visually\" id=\"sk-estimator-id-3\" type=\"checkbox\" ><label for=\"sk-estimator-id-3\" class=\"sk-toggleable__label sk-toggleable__label-arrow\">LogisticRegression</label><div class=\"sk-toggleable__content\"><pre>LogisticRegression(class_weight=&#x27;balanced&#x27;)</pre></div></div></div></div></div></div></div></div></div></div>"
            ]
          },
          "metadata": {},
          "execution_count": 101
        }
      ],
      "source": [
        "# https://scikit-learn.org/stable/modules/generated/sklearn.model_selection.GridSearchCV.html\n",
        "from sklearn.model_selection import GridSearchCV\n",
        "\n",
        "classifier_LR =LogisticRegression(penalty=\"l2\",class_weight=\"balanced\")\n",
        "parameters = {'C':[1000,100,10,1,0.1,0.02,0.01,0.005,0.002,0.0001,0.00005]}\n",
        "GridSV_model=GridSearchCV(classifier_LR, param_grid=parameters, scoring='roc_auc',cv=5,return_train_score=True)\n",
        "GridSV_model.fit(X_tr_bow,y_train)"
      ]
    },
    {
      "cell_type": "code",
      "execution_count": null,
      "metadata": {
        "id": "nzaoJo9Ba_gl"
      },
      "outputs": [],
      "source": [
        "train_auc_GS_bow= GridSV_model.cv_results_['mean_train_score']\n",
        "train_auc_std_GS_bow= GridSV_model.cv_results_['std_train_score']\n",
        "cv_auc_GS_bow = GridSV_model.cv_results_['mean_test_score'] \n",
        "cv_auc_std_GS_bow= GridSV_model.cv_results_['std_test_score']"
      ]
    },
    {
      "cell_type": "code",
      "execution_count": null,
      "metadata": {
        "colab": {
          "base_uri": "https://localhost:8080/",
          "height": 295
        },
        "id": "c1UFL_R5a_gl",
        "outputId": "23a4db55-8563-4ce5-ea5b-3b48ed41bea1"
      },
      "outputs": [
        {
          "output_type": "display_data",
          "data": {
            "text/plain": [
              "<Figure size 432x288 with 1 Axes>"
            ],
            "image/png": "[encoded data removed]"
          },
          "metadata": {
            "needs_background": "light"
          }
        }
      ],
      "source": [
        "plt.plot(np.log10(lambda_hyperparameter), train_auc_GS_bow, label='Train AUC')\n",
        "# this code is copied from here: https://stackoverflow.com/a/48803361/4084039\n",
        "plt.gca().fill_between(np.log10(lambda_hyperparameter),train_auc_GS_bow - train_auc_std_GS_bow,train_auc_GS_bow + train_auc_std_GS_bow,alpha=0.2,color='darkblue')\n",
        "\n",
        "plt.plot(np.log10(lambda_hyperparameter), cv_auc_GS_bow, label='CV AUC')\n",
        "# this code is copied from here: https://stackoverflow.com/a/48803361/4084039\n",
        "plt.gca().fill_between(np.log10(lambda_hyperparameter),cv_auc_GS_bow - cv_auc_std_GS_bow,cv_auc_GS_bow + cv_auc_std_GS_bow,alpha=0.2,color='darkorange')\n",
        "\n",
        "plt.scatter(np.log10(lambda_hyperparameter), train_auc_GS_bow, label='Train AUC points')\n",
        "plt.scatter(np.log10(lambda_hyperparameter), cv_auc_GS_bow, label='CV AUC points')\n",
        "\n",
        "\n",
        "plt.legend()\n",
        "plt.xlabel(\"lambda: hyperparameter\")\n",
        "plt.ylabel(\"AUC\")\n",
        "plt.title(\"ERROR PLOTS\")\n",
        "plt.grid()\n",
        "plt.show()"
      ]
    },
    {
      "cell_type": "code",
      "execution_count": null,
      "metadata": {
        "colab": {
          "base_uri": "https://localhost:8080/"
        },
        "id": "TH5NuQPVa_gm",
        "outputId": "5a4ac137-9d1e-4838-b2b8-2d3e739e77d1"
      },
      "outputs": [
        {
          "output_type": "stream",
          "name": "stdout",
          "text": [
            "+--------+-----------+--------+\n",
            "| Lambda | Train_AUC | CV_AUC |\n",
            "+--------+-----------+--------+\n",
            "| 0.001  |    0.83   |  0.69  |\n",
            "|  0.01  |    0.83   |  0.69  |\n",
            "|  0.1   |    0.83   |  0.69  |\n",
            "|   1    |    0.83   |  0.69  |\n",
            "|   10   |    0.83   |  0.7   |\n",
            "|   50   |    0.82   |  0.71  |\n",
            "|  100   |    0.82   |  0.72  |\n",
            "|  200   |    0.81   |  0.73  |\n",
            "|  500   |    0.79   |  0.73  |\n",
            "|  1000  |    0.72   |  0.7   |\n",
            "|  2000  |    0.7    |  0.69  |\n",
            "+--------+-----------+--------+\n"
          ]
        }
      ],
      "source": [
        "z_bow = PrettyTable()\n",
        "z_bow.field_names = [\"Lambda\",\"Train_AUC\" ,\"CV_AUC\"]\n",
        "for i in range(len(lambda_hyperparameter)):\n",
        "    z_bow.add_row([lambda_hyperparameter[i],round(train_auc_GS_bow[i],2),round(cv_auc_GS_bow[i],2)])\n",
        "    \n",
        "print(z_bow)"
      ]
    },
    {
      "cell_type": "markdown",
      "metadata": {
        "id": "R5eBk62Ma_gm"
      },
      "source": [
        "#### By using Grid Search validation method we get highest AUC at lambda=200 with AUC value approximately around 72%"
      ]
    },
    {
      "cell_type": "markdown",
      "metadata": {
        "id": "pZjBFaEsa_gm"
      },
      "source": [
        "#### The Best lambda=200\n",
        "#### We will now train our final model using lambda=200\n",
        "#### Predicting AUC on Test Data"
      ]
    },
    {
      "cell_type": "code",
      "execution_count": null,
      "metadata": {
        "id": "jjgPUUpwa_gn"
      },
      "outputs": [],
      "source": [
        "# https://scikit-learn.org/stable/modules/generated/sklearn.metrics.roc_curve.html#sklearn.metrics.roc_curve\n",
        "from sklearn.metrics import roc_curve, auc\n",
        "\n",
        "classifier_LR_bestlambda=LogisticRegression(penalty=\"l2\",class_weight=\"balanced\",C=0.005)\n",
        "classifier_LR_bestlambda.fit(X_tr_bow, y_train)\n",
        "\n",
        "\n",
        "y_train_pred_bestlambda_bow = classifier_LR_bestlambda.predict_proba(X_tr_bow)[:,1]\n",
        "y_cv_pred_bestlambda_bow = classifier_LR_bestlambda.predict_proba(X_cr_bow)[:,1]\n",
        "y_test_pred_bestlambda_bow=classifier_LR_bestlambda.predict_proba(X_te_bow)[:,1]\n",
        "\n",
        "             \n",
        "train_auc_bestlambda_bow = roc_auc_score(y_train,y_train_pred_bestlambda_bow)\n",
        "cv_auc_bestlambda_bow = roc_auc_score(y_cv, y_cv_pred_bestlambda_bow)\n",
        "test_auc_bestlambda_bow = roc_auc_score(y_test, y_test_pred_bestlambda_bow)"
      ]
    },
    {
      "cell_type": "code",
      "execution_count": null,
      "metadata": {
        "colab": {
          "base_uri": "https://localhost:8080/"
        },
        "id": "4VBB-TM7a_gn",
        "outputId": "9aff6ab9-98d7-47a4-e382-4dbeab2237c2"
      },
      "outputs": [
        {
          "output_type": "stream",
          "name": "stdout",
          "text": [
            "0.7991706169598711\n",
            "0.7150432429208176\n",
            "0.7054386935793467\n"
          ]
        }
      ],
      "source": [
        "print(train_auc_bestlambda_bow)\n",
        "print(cv_auc_bestlambda_bow)\n",
        "print(test_auc_bestlambda_bow)"
      ]
    },
    {
      "cell_type": "code",
      "execution_count": null,
      "metadata": {
        "id": "vGlmrTSOa_go"
      },
      "outputs": [],
      "source": [
        "train_fpr_bow, train_tpr_bow, tr_thresholds_bow = roc_curve(y_train, y_train_pred_bestlambda_bow)\n",
        "cv_fpr_bow, cv_tpr_bow, cv_thresholds_bow = roc_curve(y_cv, y_cv_pred_bestlambda_bow)\n",
        "test_fpr_bow, test_tpr_bow, te_thresholds_bow = roc_curve(y_test, y_test_pred_bestlambda_bow)\n"
      ]
    },
    {
      "cell_type": "code",
      "execution_count": null,
      "metadata": {
        "colab": {
          "base_uri": "https://localhost:8080/",
          "height": 295
        },
        "id": "EvQHMBRGa_go",
        "outputId": "a0610e88-e6c5-46be-dfe6-716007c4896c"
      },
      "outputs": [
        {
          "output_type": "display_data",
          "data": {
            "text/plain": [
              "<Figure size 432x288 with 1 Axes>"
            ],
            "image/png": "[encoded data removed]"
          },
          "metadata": {
            "needs_background": "light"
          }
        }
      ],
      "source": [
        "plt.plot(train_fpr_bow, train_tpr_bow, label=\"train AUC BOW =\"+str(auc(train_fpr_bow, train_tpr_bow)))\n",
        "plt.plot(cv_fpr_bow, cv_tpr_bow, label=\"cv AUC BOW =\"+str(auc(cv_fpr_bow, cv_tpr_bow)))\n",
        "plt.plot(test_fpr_bow, test_tpr_bow, label=\"test AUC BOW =\"+str(auc(test_fpr_bow, test_tpr_bow)))\n",
        "plt.legend()\n",
        "plt.xlabel(\"fpr\")\n",
        "plt.ylabel(\"tpr\")\n",
        "plt.title(\"AUCPLOTS\")\n",
        "plt.grid()\n",
        "plt.show()"
      ]
    },
    {
      "cell_type": "markdown",
      "metadata": {
        "id": "8P-tTE4qa_go"
      },
      "source": [
        "#### The Test AUC=73% which is very close to CV AUC score and hence the model seems to be performing at the same accuracy as for the CV data"
      ]
    },
    {
      "cell_type": "markdown",
      "metadata": {
        "id": "0bUpCiHda_go"
      },
      "source": [
        "#### 3.4  Confusion Matrix and Accuracy and Recall metrics"
      ]
    },
    {
      "cell_type": "code",
      "execution_count": null,
      "metadata": {
        "id": "vQavtwfva_gp"
      },
      "outputs": [],
      "source": [
        "#We will try to find a threshold score for determing the class for which TPR is high and FPR is low\n",
        "#This can be achieved via 2 ways...either we find maximum of tpr*(1-fpr) or max of trp/fpr. Both this will try to maximize \n",
        "#tpd and minimize fpr\n",
        "def predict(proba, threshould, fpr, tpr):\n",
        "    \n",
        "    t = threshould[np.argmax(tpr*(1-fpr))]\n",
        "    \n",
        "    # (tpr*(1-fpr)) will be maximum if your fpr is very low and tpr is very high\n",
        "    \n",
        "    print(\"the maximum value of tpr*(1-fpr)\", max(tpr*(1-fpr)), \"for threshold\", np.round(t,3))\n",
        "    predictions = []\n",
        "    for i in proba:\n",
        "        if i>=t:\n",
        "            predictions.append(1)\n",
        "        else:\n",
        "            predictions.append(0)\n",
        "    return predictions"
      ]
    },
    {
      "cell_type": "code",
      "execution_count": null,
      "metadata": {
        "id": "hwCCou_pa_gp"
      },
      "outputs": [],
      "source": [
        "from sklearn.metrics import confusion_matrix\n",
        "from sklearn.metrics import classification_report"
      ]
    },
    {
      "cell_type": "code",
      "execution_count": null,
      "metadata": {
        "colab": {
          "base_uri": "https://localhost:8080/"
        },
        "id": "_ZsQtDEVa_gp",
        "outputId": "a49b16b9-3caf-4e6d-d5d5-099dea841c34"
      },
      "outputs": [
        {
          "output_type": "stream",
          "name": "stdout",
          "text": [
            "**************************************************\n",
            "For train Data\n",
            "Confusion Matrix\n",
            "the maximum value of tpr*(1-fpr) 0.529655437037712 for threshold 0.486\n",
            "+--------------------------------------+\n",
            "|   CONFUSION MATRIX FOR TRAIN DATA    |\n",
            "+----------+-------------+-------------+\n",
            "|          | PREDICTED:0 | PREDICTED 1 |\n",
            "+----------+-------------+-------------+\n",
            "| ACTUAL:0 |   TN=9815   |   FP=3584   |\n",
            "| ACTUAL:1 |   FN=20795  |   TP=54294  |\n",
            "+----------+-------------+-------------+\n",
            "Classification Report\n",
            "the maximum value of tpr*(1-fpr) 0.529655437037712 for threshold 0.486\n",
            "              precision    recall  f1-score   support\n",
            "\n",
            "           0       0.32      0.73      0.45     13399\n",
            "           1       0.94      0.72      0.82     75089\n",
            "\n",
            "    accuracy                           0.72     88488\n",
            "   macro avg       0.63      0.73      0.63     88488\n",
            "weighted avg       0.84      0.72      0.76     88488\n",
            "\n"
          ]
        }
      ],
      "source": [
        "print ('*'*50)\n",
        "print('For train Data')\n",
        "print('Confusion Matrix')\n",
        "CM_train=confusion_matrix(y_train,predict(y_train_pred_bestlambda_bow, tr_thresholds_bow,train_fpr_bow, train_tpr_bow))\n",
        "# http://zetcode.com/python/prettytable/\n",
        "from prettytable import PrettyTable\n",
        "\n",
        "#If you get a ModuleNotFoundError error , install prettytable using: pip3 install prettytable\n",
        "\n",
        "x = PrettyTable()\n",
        "x.field_names = [\" \", \"PREDICTED:0\", \"PREDICTED 1\"]\n",
        "x.title = 'CONFUSION MATRIX FOR TRAIN DATA'\n",
        "x.add_row([\"ACTUAL:0\",\"TN=\"+str(CM_train[0][0]),\"FP=\"+str(CM_train[0][1])])\n",
        "x.add_row([\"ACTUAL:1\",\"FN=\"+str(CM_train[1][0]),\"TP=\"+str(CM_train[1][1])])\n",
        "print(x)\n",
        "print('Classification Report')\n",
        "print(classification_report(y_train,predict(y_train_pred_bestlambda_bow, tr_thresholds_bow,train_fpr_bow, train_tpr_bow)))"
      ]
    },
    {
      "cell_type": "code",
      "execution_count": null,
      "metadata": {
        "colab": {
          "base_uri": "https://localhost:8080/"
        },
        "id": "iSLylqwWa_gp",
        "outputId": "5377ce4b-dbd1-49a5-f5bb-1302178ddc75"
      },
      "outputs": [
        {
          "output_type": "stream",
          "name": "stdout",
          "text": [
            "**************************************************\n",
            "For test Data\n",
            "Confusion Matrix\n",
            "the maximum value of tpr*(1-fpr) 0.529655437037712 for threshold 0.486\n",
            "+--------------------------------------+\n",
            "|    CONFUSION MATRIX FOR TEST DATA    |\n",
            "+----------+-------------+-------------+\n",
            "|          | PREDICTED:0 | PREDICTED 1 |\n",
            "+----------+-------------+-------------+\n",
            "| ACTUAL:0 |   TN=1004   |    FP=650   |\n",
            "| ACTUAL:1 |   FN=2673   |   TP=6598   |\n",
            "+----------+-------------+-------------+\n",
            "Classification Report\n",
            "the maximum value of tpr*(1-fpr) 0.529655437037712 for threshold 0.486\n",
            "              precision    recall  f1-score   support\n",
            "\n",
            "           0       0.27      0.61      0.38      1654\n",
            "           1       0.91      0.71      0.80      9271\n",
            "\n",
            "    accuracy                           0.70     10925\n",
            "   macro avg       0.59      0.66      0.59     10925\n",
            "weighted avg       0.81      0.70      0.73     10925\n",
            "\n"
          ]
        }
      ],
      "source": [
        "print ('*'*50)\n",
        "print('For test Data')\n",
        "print('Confusion Matrix')\n",
        "CM_test=confusion_matrix(y_test,predict(y_test_pred_bestlambda_bow, tr_thresholds_bow,train_fpr_bow, train_tpr_bow))\n",
        "# http://zetcode.com/python/prettytable/\n",
        "from prettytable import PrettyTable\n",
        "\n",
        "#If you get a ModuleNotFoundError error , install prettytable using: pip3 install prettytable\n",
        "\n",
        "x = PrettyTable()\n",
        "x.field_names = [\" \", \"PREDICTED:0\", \"PREDICTED 1\"]\n",
        "x.title = 'CONFUSION MATRIX FOR TEST DATA'\n",
        "x.add_row([\"ACTUAL:0\",\"TN=\"+str(CM_test[0][0]),\"FP=\"+str(CM_test[0][1])])\n",
        "x.add_row([\"ACTUAL:1\",\"FN=\"+str(CM_test[1][0]),\"TP=\"+str(CM_test[1][1])])\n",
        "print(x)\n",
        "\n",
        "print('Classification Report')\n",
        "print(classification_report(y_test,predict(y_test_pred_bestlambda_bow, tr_thresholds_bow,train_fpr_bow, train_tpr_bow)))"
      ]
    },
    {
      "cell_type": "markdown",
      "metadata": {
        "id": "q3tIklDVa_gq"
      },
      "source": [
        "#### The model preformace is average. For test data for category declined the precision is as low as 28% which is very poor.\n",
        "#### Overall performance of the model(f1 score) is not good for declined category however its decent for accepted category at 80%\n",
        "#### Inspite of train data being balanced the test data is not performing upto the mark for category=0"
      ]
    },
    {
      "cell_type": "markdown",
      "metadata": {
        "id": "ncOHERwma_hj"
      },
      "source": [
        "### Home Work"
      ]
    },
    {
      "cell_type": "markdown",
      "source": [
        "<ol>\n",
        "    <li><strong>[Task-1] Logistic Regression(either SGDClassifier with log loss, or LogisticRegression) on these feature sets</strong>\n",
        "        <ul>\n",
        "            <li><font color='black'>Set 2</font>: categorical, numerical features + project_title(TFIDF)+  preprocessed_eassay (`TFIDF with bi-grams` with `min_df=10` and `max_features=5000`)</li>\n",
        "            <li><font color='black'>Set 3</font>: categorical, numerical features + project_title(AVG W2V)+  preprocessed_eassay (AVG W2V)</li>\n",
        "            <li><font color='black'>Set 4</font>: categorical, numerical features + project_title(TFIDF W2V)+  preprocessed_essay (TFIDF W2V)</li>        </ul>\n",
        "    </li>\n",
        "        </ul>\n",
        "</ol>"
      ],
      "metadata": {
        "id": "7U8172gEtS8v"
      }
    }
  ],
  "metadata": {
    "colab": {
      "collapsed_sections": [
        "oMHWIrroaJdE",
        "sKXhBeHZaJdK",
        "RDYCGTBvaJdP",
        "yJWbIFXKaJdW"
      ],
      "provenance": [],
      "include_colab_link": true
    },
    "kernelspec": {
      "display_name": "Python 3",
      "language": "python",
      "name": "python3"
    },
    "language_info": {
      "codemirror_mode": {
        "name": "ipython",
        "version": 3
      },
      "file_extension": ".py",
      "mimetype": "text/x-python",
      "name": "python",
      "nbconvert_exporter": "python",
      "pygments_lexer": "ipython3",
      "version": "3.6.5"
    },
    "widgets": {
      "application/vnd.jupyter.widget-state+json": {
        "dbd52c9da1c64d38b1b248584ec5098a": {
          "model_module": "@jupyter-widgets/controls",
          "model_name": "HBoxModel",
          "model_module_version": "1.5.0",
          "state": {
            "_dom_classes": [],
            "_model_module": "@jupyter-widgets/controls",
            "_model_module_version": "1.5.0",
            "_model_name": "HBoxModel",
            "_view_count": null,
            "_view_module": "@jupyter-widgets/controls",
            "_view_module_version": "1.5.0",
            "_view_name": "HBoxView",
            "box_style": "",
            "children": [
              "IPY_MODEL_9310afac2e6248a6a0faabca58ed89c2",
              "IPY_MODEL_48fc5ef65fd14f30bf12bfac035ed270",
              "IPY_MODEL_ece6634cef1f435db38086a97bba319f"
            ],
            "layout": "IPY_MODEL_3a35112d636b4c6eaeed7548166d7ef2"
          }
        },
        "9310afac2e6248a6a0faabca58ed89c2": {
          "model_module": "@jupyter-widgets/controls",
          "model_name": "HTMLModel",
          "model_module_version": "1.5.0",
          "state": {
            "_dom_classes": [],
            "_model_module": "@jupyter-widgets/controls",
            "_model_module_version": "1.5.0",
            "_model_name": "HTMLModel",
            "_view_count": null,
            "_view_module": "@jupyter-widgets/controls",
            "_view_module_version": "1.5.0",
            "_view_name": "HTMLView",
            "description": "",
            "description_tooltip": null,
            "layout": "IPY_MODEL_23b9f43d300c48698a43d173cde5f0d8",
            "placeholder": "​",
            "style": "IPY_MODEL_78b4839c09d5417cb199152e6606c88f",
            "value": "100%"
          }
        },
        "48fc5ef65fd14f30bf12bfac035ed270": {
          "model_module": "@jupyter-widgets/controls",
          "model_name": "FloatProgressModel",
          "model_module_version": "1.5.0",
          "state": {
            "_dom_classes": [],
            "_model_module": "@jupyter-widgets/controls",
            "_model_module_version": "1.5.0",
            "_model_name": "FloatProgressModel",
            "_view_count": null,
            "_view_module": "@jupyter-widgets/controls",
            "_view_module_version": "1.5.0",
            "_view_name": "ProgressView",
            "bar_style": "success",
            "description": "",
            "description_tooltip": null,
            "layout": "IPY_MODEL_8ff031eb529c4874a01cd4dc955c5738",
            "max": 109245,
            "min": 0,
            "orientation": "horizontal",
            "style": "IPY_MODEL_4d39f7ed10a34d29a4fa9cf4ffd51d6c",
            "value": 109245
          }
        },
        "ece6634cef1f435db38086a97bba319f": {
          "model_module": "@jupyter-widgets/controls",
          "model_name": "HTMLModel",
          "model_module_version": "1.5.0",
          "state": {
            "_dom_classes": [],
            "_model_module": "@jupyter-widgets/controls",
            "_model_module_version": "1.5.0",
            "_model_name": "HTMLModel",
            "_view_count": null,
            "_view_module": "@jupyter-widgets/controls",
            "_view_module_version": "1.5.0",
            "_view_name": "HTMLView",
            "description": "",
            "description_tooltip": null,
            "layout": "IPY_MODEL_802f147b7bec48f096b41397f5a90f83",
            "placeholder": "​",
            "style": "IPY_MODEL_7c8154d1e7f24d51bbd256252d01c7d2",
            "value": " 109245/109245 [01:37&lt;00:00, 1404.48it/s]"
          }
        },
        "3a35112d636b4c6eaeed7548166d7ef2": {
          "model_module": "@jupyter-widgets/base",
          "model_name": "LayoutModel",
          "model_module_version": "1.2.0",
          "state": {
            "_model_module": "@jupyter-widgets/base",
            "_model_module_version": "1.2.0",
            "_model_name": "LayoutModel",
            "_view_count": null,
            "_view_module": "@jupyter-widgets/base",
            "_view_module_version": "1.2.0",
            "_view_name": "LayoutView",
            "align_content": null,
            "align_items": null,
            "align_self": null,
            "border": null,
            "bottom": null,
            "display": null,
            "flex": null,
            "flex_flow": null,
            "grid_area": null,
            "grid_auto_columns": null,
            "grid_auto_flow": null,
            "grid_auto_rows": null,
            "grid_column": null,
            "grid_gap": null,
            "grid_row": null,
            "grid_template_areas": null,
            "grid_template_columns": null,
            "grid_template_rows": null,
            "height": null,
            "justify_content": null,
            "justify_items": null,
            "left": null,
            "margin": null,
            "max_height": null,
            "max_width": null,
            "min_height": null,
            "min_width": null,
            "object_fit": null,
            "object_position": null,
            "order": null,
            "overflow": null,
            "overflow_x": null,
            "overflow_y": null,
            "padding": null,
            "right": null,
            "top": null,
            "visibility": null,
            "width": null
          }
        },
        "23b9f43d300c48698a43d173cde5f0d8": {
          "model_module": "@jupyter-widgets/base",
          "model_name": "LayoutModel",
          "model_module_version": "1.2.0",
          "state": {
            "_model_module": "@jupyter-widgets/base",
            "_model_module_version": "1.2.0",
            "_model_name": "LayoutModel",
            "_view_count": null,
            "_view_module": "@jupyter-widgets/base",
            "_view_module_version": "1.2.0",
            "_view_name": "LayoutView",
            "align_content": null,
            "align_items": null,
            "align_self": null,
            "border": null,
            "bottom": null,
            "display": null,
            "flex": null,
            "flex_flow": null,
            "grid_area": null,
            "grid_auto_columns": null,
            "grid_auto_flow": null,
            "grid_auto_rows": null,
            "grid_column": null,
            "grid_gap": null,
            "grid_row": null,
            "grid_template_areas": null,
            "grid_template_columns": null,
            "grid_template_rows": null,
            "height": null,
            "justify_content": null,
            "justify_items": null,
            "left": null,
            "margin": null,
            "max_height": null,
            "max_width": null,
            "min_height": null,
            "min_width": null,
            "object_fit": null,
            "object_position": null,
            "order": null,
            "overflow": null,
            "overflow_x": null,
            "overflow_y": null,
            "padding": null,
            "right": null,
            "top": null,
            "visibility": null,
            "width": null
          }
        },
        "78b4839c09d5417cb199152e6606c88f": {
          "model_module": "@jupyter-widgets/controls",
          "model_name": "DescriptionStyleModel",
          "model_module_version": "1.5.0",
          "state": {
            "_model_module": "@jupyter-widgets/controls",
            "_model_module_version": "1.5.0",
            "_model_name": "DescriptionStyleModel",
            "_view_count": null,
            "_view_module": "@jupyter-widgets/base",
            "_view_module_version": "1.2.0",
            "_view_name": "StyleView",
            "description_width": ""
          }
        },
        "8ff031eb529c4874a01cd4dc955c5738": {
          "model_module": "@jupyter-widgets/base",
          "model_name": "LayoutModel",
          "model_module_version": "1.2.0",
          "state": {
            "_model_module": "@jupyter-widgets/base",
            "_model_module_version": "1.2.0",
            "_model_name": "LayoutModel",
            "_view_count": null,
            "_view_module": "@jupyter-widgets/base",
            "_view_module_version": "1.2.0",
            "_view_name": "LayoutView",
            "align_content": null,
            "align_items": null,
            "align_self": null,
            "border": null,
            "bottom": null,
            "display": null,
            "flex": null,
            "flex_flow": null,
            "grid_area": null,
            "grid_auto_columns": null,
            "grid_auto_flow": null,
            "grid_auto_rows": null,
            "grid_column": null,
            "grid_gap": null,
            "grid_row": null,
            "grid_template_areas": null,
            "grid_template_columns": null,
            "grid_template_rows": null,
            "height": null,
            "justify_content": null,
            "justify_items": null,
            "left": null,
            "margin": null,
            "max_height": null,
            "max_width": null,
            "min_height": null,
            "min_width": null,
            "object_fit": null,
            "object_position": null,
            "order": null,
            "overflow": null,
            "overflow_x": null,
            "overflow_y": null,
            "padding": null,
            "right": null,
            "top": null,
            "visibility": null,
            "width": null
          }
        },
        "4d39f7ed10a34d29a4fa9cf4ffd51d6c": {
          "model_module": "@jupyter-widgets/controls",
          "model_name": "ProgressStyleModel",
          "model_module_version": "1.5.0",
          "state": {
            "_model_module": "@jupyter-widgets/controls",
            "_model_module_version": "1.5.0",
            "_model_name": "ProgressStyleModel",
            "_view_count": null,
            "_view_module": "@jupyter-widgets/base",
            "_view_module_version": "1.2.0",
            "_view_name": "StyleView",
            "bar_color": null,
            "description_width": ""
          }
        },
        "802f147b7bec48f096b41397f5a90f83": {
          "model_module": "@jupyter-widgets/base",
          "model_name": "LayoutModel",
          "model_module_version": "1.2.0",
          "state": {
            "_model_module": "@jupyter-widgets/base",
            "_model_module_version": "1.2.0",
            "_model_name": "LayoutModel",
            "_view_count": null,
            "_view_module": "@jupyter-widgets/base",
            "_view_module_version": "1.2.0",
            "_view_name": "LayoutView",
            "align_content": null,
            "align_items": null,
            "align_self": null,
            "border": null,
            "bottom": null,
            "display": null,
            "flex": null,
            "flex_flow": null,
            "grid_area": null,
            "grid_auto_columns": null,
            "grid_auto_flow": null,
            "grid_auto_rows": null,
            "grid_column": null,
            "grid_gap": null,
            "grid_row": null,
            "grid_template_areas": null,
            "grid_template_columns": null,
            "grid_template_rows": null,
            "height": null,
            "justify_content": null,
            "justify_items": null,
            "left": null,
            "margin": null,
            "max_height": null,
            "max_width": null,
            "min_height": null,
            "min_width": null,
            "object_fit": null,
            "object_position": null,
            "order": null,
            "overflow": null,
            "overflow_x": null,
            "overflow_y": null,
            "padding": null,
            "right": null,
            "top": null,
            "visibility": null,
            "width": null
          }
        },
        "7c8154d1e7f24d51bbd256252d01c7d2": {
          "model_module": "@jupyter-widgets/controls",
          "model_name": "DescriptionStyleModel",
          "model_module_version": "1.5.0",
          "state": {
            "_model_module": "@jupyter-widgets/controls",
            "_model_module_version": "1.5.0",
            "_model_name": "DescriptionStyleModel",
            "_view_count": null,
            "_view_module": "@jupyter-widgets/base",
            "_view_module_version": "1.2.0",
            "_view_name": "StyleView",
            "description_width": ""
          }
        },
        "48fb397116044c37bb2cabb6af694de9": {
          "model_module": "@jupyter-widgets/controls",
          "model_name": "HBoxModel",
          "model_module_version": "1.5.0",
          "state": {
            "_dom_classes": [],
            "_model_module": "@jupyter-widgets/controls",
            "_model_module_version": "1.5.0",
            "_model_name": "HBoxModel",
            "_view_count": null,
            "_view_module": "@jupyter-widgets/controls",
            "_view_module_version": "1.5.0",
            "_view_name": "HBoxView",
            "box_style": "",
            "children": [
              "IPY_MODEL_168476cad7334ecca313005846527cd7",
              "IPY_MODEL_d09c8d149bd9487a8e745cafd9bed9e4",
              "IPY_MODEL_c24085667e4d4490ac2ccf16ff1cc27d"
            ],
            "layout": "IPY_MODEL_422218c49a8f4cea89c3c61baca9ed14"
          }
        },
        "168476cad7334ecca313005846527cd7": {
          "model_module": "@jupyter-widgets/controls",
          "model_name": "HTMLModel",
          "model_module_version": "1.5.0",
          "state": {
            "_dom_classes": [],
            "_model_module": "@jupyter-widgets/controls",
            "_model_module_version": "1.5.0",
            "_model_name": "HTMLModel",
            "_view_count": null,
            "_view_module": "@jupyter-widgets/controls",
            "_view_module_version": "1.5.0",
            "_view_name": "HTMLView",
            "description": "",
            "description_tooltip": null,
            "layout": "IPY_MODEL_63fbc27186824a048df50d08a734f2cc",
            "placeholder": "​",
            "style": "IPY_MODEL_e6a44c4e7320437eba14efc982b4c372",
            "value": "100%"
          }
        },
        "d09c8d149bd9487a8e745cafd9bed9e4": {
          "model_module": "@jupyter-widgets/controls",
          "model_name": "FloatProgressModel",
          "model_module_version": "1.5.0",
          "state": {
            "_dom_classes": [],
            "_model_module": "@jupyter-widgets/controls",
            "_model_module_version": "1.5.0",
            "_model_name": "FloatProgressModel",
            "_view_count": null,
            "_view_module": "@jupyter-widgets/controls",
            "_view_module_version": "1.5.0",
            "_view_name": "ProgressView",
            "bar_style": "success",
            "description": "",
            "description_tooltip": null,
            "layout": "IPY_MODEL_4eadaed012974e2290e3699beebf4fb6",
            "max": 109245,
            "min": 0,
            "orientation": "horizontal",
            "style": "IPY_MODEL_16f3ec75595445ae9b4c40d403c68acd",
            "value": 109245
          }
        },
        "c24085667e4d4490ac2ccf16ff1cc27d": {
          "model_module": "@jupyter-widgets/controls",
          "model_name": "HTMLModel",
          "model_module_version": "1.5.0",
          "state": {
            "_dom_classes": [],
            "_model_module": "@jupyter-widgets/controls",
            "_model_module_version": "1.5.0",
            "_model_name": "HTMLModel",
            "_view_count": null,
            "_view_module": "@jupyter-widgets/controls",
            "_view_module_version": "1.5.0",
            "_view_name": "HTMLView",
            "description": "",
            "description_tooltip": null,
            "layout": "IPY_MODEL_a6f8178eba594e4fac3fb241ad6857df",
            "placeholder": "​",
            "style": "IPY_MODEL_bad556b256db40c79724be347c8d9560",
            "value": " 109245/109245 [00:04&lt;00:00, 15581.06it/s]"
          }
        },
        "422218c49a8f4cea89c3c61baca9ed14": {
          "model_module": "@jupyter-widgets/base",
          "model_name": "LayoutModel",
          "model_module_version": "1.2.0",
          "state": {
            "_model_module": "@jupyter-widgets/base",
            "_model_module_version": "1.2.0",
            "_model_name": "LayoutModel",
            "_view_count": null,
            "_view_module": "@jupyter-widgets/base",
            "_view_module_version": "1.2.0",
            "_view_name": "LayoutView",
            "align_content": null,
            "align_items": null,
            "align_self": null,
            "border": null,
            "bottom": null,
            "display": null,
            "flex": null,
            "flex_flow": null,
            "grid_area": null,
            "grid_auto_columns": null,
            "grid_auto_flow": null,
            "grid_auto_rows": null,
            "grid_column": null,
            "grid_gap": null,
            "grid_row": null,
            "grid_template_areas": null,
            "grid_template_columns": null,
            "grid_template_rows": null,
            "height": null,
            "justify_content": null,
            "justify_items": null,
            "left": null,
            "margin": null,
            "max_height": null,
            "max_width": null,
            "min_height": null,
            "min_width": null,
            "object_fit": null,
            "object_position": null,
            "order": null,
            "overflow": null,
            "overflow_x": null,
            "overflow_y": null,
            "padding": null,
            "right": null,
            "top": null,
            "visibility": null,
            "width": null
          }
        },
        "63fbc27186824a048df50d08a734f2cc": {
          "model_module": "@jupyter-widgets/base",
          "model_name": "LayoutModel",
          "model_module_version": "1.2.0",
          "state": {
            "_model_module": "@jupyter-widgets/base",
            "_model_module_version": "1.2.0",
            "_model_name": "LayoutModel",
            "_view_count": null,
            "_view_module": "@jupyter-widgets/base",
            "_view_module_version": "1.2.0",
            "_view_name": "LayoutView",
            "align_content": null,
            "align_items": null,
            "align_self": null,
            "border": null,
            "bottom": null,
            "display": null,
            "flex": null,
            "flex_flow": null,
            "grid_area": null,
            "grid_auto_columns": null,
            "grid_auto_flow": null,
            "grid_auto_rows": null,
            "grid_column": null,
            "grid_gap": null,
            "grid_row": null,
            "grid_template_areas": null,
            "grid_template_columns": null,
            "grid_template_rows": null,
            "height": null,
            "justify_content": null,
            "justify_items": null,
            "left": null,
            "margin": null,
            "max_height": null,
            "max_width": null,
            "min_height": null,
            "min_width": null,
            "object_fit": null,
            "object_position": null,
            "order": null,
            "overflow": null,
            "overflow_x": null,
            "overflow_y": null,
            "padding": null,
            "right": null,
            "top": null,
            "visibility": null,
            "width": null
          }
        },
        "e6a44c4e7320437eba14efc982b4c372": {
          "model_module": "@jupyter-widgets/controls",
          "model_name": "DescriptionStyleModel",
          "model_module_version": "1.5.0",
          "state": {
            "_model_module": "@jupyter-widgets/controls",
            "_model_module_version": "1.5.0",
            "_model_name": "DescriptionStyleModel",
            "_view_count": null,
            "_view_module": "@jupyter-widgets/base",
            "_view_module_version": "1.2.0",
            "_view_name": "StyleView",
            "description_width": ""
          }
        },
        "4eadaed012974e2290e3699beebf4fb6": {
          "model_module": "@jupyter-widgets/base",
          "model_name": "LayoutModel",
          "model_module_version": "1.2.0",
          "state": {
            "_model_module": "@jupyter-widgets/base",
            "_model_module_version": "1.2.0",
            "_model_name": "LayoutModel",
            "_view_count": null,
            "_view_module": "@jupyter-widgets/base",
            "_view_module_version": "1.2.0",
            "_view_name": "LayoutView",
            "align_content": null,
            "align_items": null,
            "align_self": null,
            "border": null,
            "bottom": null,
            "display": null,
            "flex": null,
            "flex_flow": null,
            "grid_area": null,
            "grid_auto_columns": null,
            "grid_auto_flow": null,
            "grid_auto_rows": null,
            "grid_column": null,
            "grid_gap": null,
            "grid_row": null,
            "grid_template_areas": null,
            "grid_template_columns": null,
            "grid_template_rows": null,
            "height": null,
            "justify_content": null,
            "justify_items": null,
            "left": null,
            "margin": null,
            "max_height": null,
            "max_width": null,
            "min_height": null,
            "min_width": null,
            "object_fit": null,
            "object_position": null,
            "order": null,
            "overflow": null,
            "overflow_x": null,
            "overflow_y": null,
            "padding": null,
            "right": null,
            "top": null,
            "visibility": null,
            "width": null
          }
        },
        "16f3ec75595445ae9b4c40d403c68acd": {
          "model_module": "@jupyter-widgets/controls",
          "model_name": "ProgressStyleModel",
          "model_module_version": "1.5.0",
          "state": {
            "_model_module": "@jupyter-widgets/controls",
            "_model_module_version": "1.5.0",
            "_model_name": "ProgressStyleModel",
            "_view_count": null,
            "_view_module": "@jupyter-widgets/base",
            "_view_module_version": "1.2.0",
            "_view_name": "StyleView",
            "bar_color": null,
            "description_width": ""
          }
        },
        "a6f8178eba594e4fac3fb241ad6857df": {
          "model_module": "@jupyter-widgets/base",
          "model_name": "LayoutModel",
          "model_module_version": "1.2.0",
          "state": {
            "_model_module": "@jupyter-widgets/base",
            "_model_module_version": "1.2.0",
            "_model_name": "LayoutModel",
            "_view_count": null,
            "_view_module": "@jupyter-widgets/base",
            "_view_module_version": "1.2.0",
            "_view_name": "LayoutView",
            "align_content": null,
            "align_items": null,
            "align_self": null,
            "border": null,
            "bottom": null,
            "display": null,
            "flex": null,
            "flex_flow": null,
            "grid_area": null,
            "grid_auto_columns": null,
            "grid_auto_flow": null,
            "grid_auto_rows": null,
            "grid_column": null,
            "grid_gap": null,
            "grid_row": null,
            "grid_template_areas": null,
            "grid_template_columns": null,
            "grid_template_rows": null,
            "height": null,
            "justify_content": null,
            "justify_items": null,
            "left": null,
            "margin": null,
            "max_height": null,
            "max_width": null,
            "min_height": null,
            "min_width": null,
            "object_fit": null,
            "object_position": null,
            "order": null,
            "overflow": null,
            "overflow_x": null,
            "overflow_y": null,
            "padding": null,
            "right": null,
            "top": null,
            "visibility": null,
            "width": null
          }
        },
        "bad556b256db40c79724be347c8d9560": {
          "model_module": "@jupyter-widgets/controls",
          "model_name": "DescriptionStyleModel",
          "model_module_version": "1.5.0",
          "state": {
            "_model_module": "@jupyter-widgets/controls",
            "_model_module_version": "1.5.0",
            "_model_name": "DescriptionStyleModel",
            "_view_count": null,
            "_view_module": "@jupyter-widgets/base",
            "_view_module_version": "1.2.0",
            "_view_name": "StyleView",
            "description_width": ""
          }
        },
        "f0e09b334a0d4dafbe351e4df5147e4e": {
          "model_module": "@jupyter-widgets/controls",
          "model_name": "HBoxModel",
          "model_module_version": "1.5.0",
          "state": {
            "_dom_classes": [],
            "_model_module": "@jupyter-widgets/controls",
            "_model_module_version": "1.5.0",
            "_model_name": "HBoxModel",
            "_view_count": null,
            "_view_module": "@jupyter-widgets/controls",
            "_view_module_version": "1.5.0",
            "_view_name": "HBoxView",
            "box_style": "",
            "children": [
              "IPY_MODEL_279ff6c8c679499185f1079964d81d44",
              "IPY_MODEL_2dac28ccabd34d8495df0339b4f5594d",
              "IPY_MODEL_6905c4587bc54cd3ac213ebbd4371d29"
            ],
            "layout": "IPY_MODEL_a8ee65e650094970bb34b3d1ca7c9d1c"
          }
        },
        "279ff6c8c679499185f1079964d81d44": {
          "model_module": "@jupyter-widgets/controls",
          "model_name": "HTMLModel",
          "model_module_version": "1.5.0",
          "state": {
            "_dom_classes": [],
            "_model_module": "@jupyter-widgets/controls",
            "_model_module_version": "1.5.0",
            "_model_name": "HTMLModel",
            "_view_count": null,
            "_view_module": "@jupyter-widgets/controls",
            "_view_module_version": "1.5.0",
            "_view_name": "HTMLView",
            "description": "",
            "description_tooltip": null,
            "layout": "IPY_MODEL_eaee9cbd3a0246d1aedf02d2358d7526",
            "placeholder": "​",
            "style": "IPY_MODEL_059b90bd21dd4928b53cb66a50e6e2bd",
            "value": "100%"
          }
        },
        "2dac28ccabd34d8495df0339b4f5594d": {
          "model_module": "@jupyter-widgets/controls",
          "model_name": "FloatProgressModel",
          "model_module_version": "1.5.0",
          "state": {
            "_dom_classes": [],
            "_model_module": "@jupyter-widgets/controls",
            "_model_module_version": "1.5.0",
            "_model_name": "FloatProgressModel",
            "_view_count": null,
            "_view_module": "@jupyter-widgets/controls",
            "_view_module_version": "1.5.0",
            "_view_name": "ProgressView",
            "bar_style": "success",
            "description": "",
            "description_tooltip": null,
            "layout": "IPY_MODEL_5020bf314d874f6a81688a0271c0f44f",
            "max": 88488,
            "min": 0,
            "orientation": "horizontal",
            "style": "IPY_MODEL_ffa8f38f5d334173801f43c22c4c9f02",
            "value": 88488
          }
        },
        "6905c4587bc54cd3ac213ebbd4371d29": {
          "model_module": "@jupyter-widgets/controls",
          "model_name": "HTMLModel",
          "model_module_version": "1.5.0",
          "state": {
            "_dom_classes": [],
            "_model_module": "@jupyter-widgets/controls",
            "_model_module_version": "1.5.0",
            "_model_name": "HTMLModel",
            "_view_count": null,
            "_view_module": "@jupyter-widgets/controls",
            "_view_module_version": "1.5.0",
            "_view_name": "HTMLView",
            "description": "",
            "description_tooltip": null,
            "layout": "IPY_MODEL_74565839ea2d47cd9efc072054a44323",
            "placeholder": "​",
            "style": "IPY_MODEL_157831c082344c67a3c59470f273e001",
            "value": " 88488/88488 [00:36&lt;00:00, 2927.22it/s]"
          }
        },
        "a8ee65e650094970bb34b3d1ca7c9d1c": {
          "model_module": "@jupyter-widgets/base",
          "model_name": "LayoutModel",
          "model_module_version": "1.2.0",
          "state": {
            "_model_module": "@jupyter-widgets/base",
            "_model_module_version": "1.2.0",
            "_model_name": "LayoutModel",
            "_view_count": null,
            "_view_module": "@jupyter-widgets/base",
            "_view_module_version": "1.2.0",
            "_view_name": "LayoutView",
            "align_content": null,
            "align_items": null,
            "align_self": null,
            "border": null,
            "bottom": null,
            "display": null,
            "flex": null,
            "flex_flow": null,
            "grid_area": null,
            "grid_auto_columns": null,
            "grid_auto_flow": null,
            "grid_auto_rows": null,
            "grid_column": null,
            "grid_gap": null,
            "grid_row": null,
            "grid_template_areas": null,
            "grid_template_columns": null,
            "grid_template_rows": null,
            "height": null,
            "justify_content": null,
            "justify_items": null,
            "left": null,
            "margin": null,
            "max_height": null,
            "max_width": null,
            "min_height": null,
            "min_width": null,
            "object_fit": null,
            "object_position": null,
            "order": null,
            "overflow": null,
            "overflow_x": null,
            "overflow_y": null,
            "padding": null,
            "right": null,
            "top": null,
            "visibility": null,
            "width": null
          }
        },
        "eaee9cbd3a0246d1aedf02d2358d7526": {
          "model_module": "@jupyter-widgets/base",
          "model_name": "LayoutModel",
          "model_module_version": "1.2.0",
          "state": {
            "_model_module": "@jupyter-widgets/base",
            "_model_module_version": "1.2.0",
            "_model_name": "LayoutModel",
            "_view_count": null,
            "_view_module": "@jupyter-widgets/base",
            "_view_module_version": "1.2.0",
            "_view_name": "LayoutView",
            "align_content": null,
            "align_items": null,
            "align_self": null,
            "border": null,
            "bottom": null,
            "display": null,
            "flex": null,
            "flex_flow": null,
            "grid_area": null,
            "grid_auto_columns": null,
            "grid_auto_flow": null,
            "grid_auto_rows": null,
            "grid_column": null,
            "grid_gap": null,
            "grid_row": null,
            "grid_template_areas": null,
            "grid_template_columns": null,
            "grid_template_rows": null,
            "height": null,
            "justify_content": null,
            "justify_items": null,
            "left": null,
            "margin": null,
            "max_height": null,
            "max_width": null,
            "min_height": null,
            "min_width": null,
            "object_fit": null,
            "object_position": null,
            "order": null,
            "overflow": null,
            "overflow_x": null,
            "overflow_y": null,
            "padding": null,
            "right": null,
            "top": null,
            "visibility": null,
            "width": null
          }
        },
        "059b90bd21dd4928b53cb66a50e6e2bd": {
          "model_module": "@jupyter-widgets/controls",
          "model_name": "DescriptionStyleModel",
          "model_module_version": "1.5.0",
          "state": {
            "_model_module": "@jupyter-widgets/controls",
            "_model_module_version": "1.5.0",
            "_model_name": "DescriptionStyleModel",
            "_view_count": null,
            "_view_module": "@jupyter-widgets/base",
            "_view_module_version": "1.2.0",
            "_view_name": "StyleView",
            "description_width": ""
          }
        },
        "5020bf314d874f6a81688a0271c0f44f": {
          "model_module": "@jupyter-widgets/base",
          "model_name": "LayoutModel",
          "model_module_version": "1.2.0",
          "state": {
            "_model_module": "@jupyter-widgets/base",
            "_model_module_version": "1.2.0",
            "_model_name": "LayoutModel",
            "_view_count": null,
            "_view_module": "@jupyter-widgets/base",
            "_view_module_version": "1.2.0",
            "_view_name": "LayoutView",
            "align_content": null,
            "align_items": null,
            "align_self": null,
            "border": null,
            "bottom": null,
            "display": null,
            "flex": null,
            "flex_flow": null,
            "grid_area": null,
            "grid_auto_columns": null,
            "grid_auto_flow": null,
            "grid_auto_rows": null,
            "grid_column": null,
            "grid_gap": null,
            "grid_row": null,
            "grid_template_areas": null,
            "grid_template_columns": null,
            "grid_template_rows": null,
            "height": null,
            "justify_content": null,
            "justify_items": null,
            "left": null,
            "margin": null,
            "max_height": null,
            "max_width": null,
            "min_height": null,
            "min_width": null,
            "object_fit": null,
            "object_position": null,
            "order": null,
            "overflow": null,
            "overflow_x": null,
            "overflow_y": null,
            "padding": null,
            "right": null,
            "top": null,
            "visibility": null,
            "width": null
          }
        },
        "ffa8f38f5d334173801f43c22c4c9f02": {
          "model_module": "@jupyter-widgets/controls",
          "model_name": "ProgressStyleModel",
          "model_module_version": "1.5.0",
          "state": {
            "_model_module": "@jupyter-widgets/controls",
            "_model_module_version": "1.5.0",
            "_model_name": "ProgressStyleModel",
            "_view_count": null,
            "_view_module": "@jupyter-widgets/base",
            "_view_module_version": "1.2.0",
            "_view_name": "StyleView",
            "bar_color": null,
            "description_width": ""
          }
        },
        "74565839ea2d47cd9efc072054a44323": {
          "model_module": "@jupyter-widgets/base",
          "model_name": "LayoutModel",
          "model_module_version": "1.2.0",
          "state": {
            "_model_module": "@jupyter-widgets/base",
            "_model_module_version": "1.2.0",
            "_model_name": "LayoutModel",
            "_view_count": null,
            "_view_module": "@jupyter-widgets/base",
            "_view_module_version": "1.2.0",
            "_view_name": "LayoutView",
            "align_content": null,
            "align_items": null,
            "align_self": null,
            "border": null,
            "bottom": null,
            "display": null,
            "flex": null,
            "flex_flow": null,
            "grid_area": null,
            "grid_auto_columns": null,
            "grid_auto_flow": null,
            "grid_auto_rows": null,
            "grid_column": null,
            "grid_gap": null,
            "grid_row": null,
            "grid_template_areas": null,
            "grid_template_columns": null,
            "grid_template_rows": null,
            "height": null,
            "justify_content": null,
            "justify_items": null,
            "left": null,
            "margin": null,
            "max_height": null,
            "max_width": null,
            "min_height": null,
            "min_width": null,
            "object_fit": null,
            "object_position": null,
            "order": null,
            "overflow": null,
            "overflow_x": null,
            "overflow_y": null,
            "padding": null,
            "right": null,
            "top": null,
            "visibility": null,
            "width": null
          }
        },
        "157831c082344c67a3c59470f273e001": {
          "model_module": "@jupyter-widgets/controls",
          "model_name": "DescriptionStyleModel",
          "model_module_version": "1.5.0",
          "state": {
            "_model_module": "@jupyter-widgets/controls",
            "_model_module_version": "1.5.0",
            "_model_name": "DescriptionStyleModel",
            "_view_count": null,
            "_view_module": "@jupyter-widgets/base",
            "_view_module_version": "1.2.0",
            "_view_name": "StyleView",
            "description_width": ""
          }
        },
        "49d92b61b39545c7a417a4333b889a8d": {
          "model_module": "@jupyter-widgets/controls",
          "model_name": "HBoxModel",
          "model_module_version": "1.5.0",
          "state": {
            "_dom_classes": [],
            "_model_module": "@jupyter-widgets/controls",
            "_model_module_version": "1.5.0",
            "_model_name": "HBoxModel",
            "_view_count": null,
            "_view_module": "@jupyter-widgets/controls",
            "_view_module_version": "1.5.0",
            "_view_name": "HBoxView",
            "box_style": "",
            "children": [
              "IPY_MODEL_1f139962f917411d9fb21ef56965973e",
              "IPY_MODEL_19f9dd757dc6462297dcecceb636caff",
              "IPY_MODEL_1619fc8ae3f74d2eadf4324268e3b8d9"
            ],
            "layout": "IPY_MODEL_b3e824160bcd43779a6965f1f6da59f6"
          }
        },
        "1f139962f917411d9fb21ef56965973e": {
          "model_module": "@jupyter-widgets/controls",
          "model_name": "HTMLModel",
          "model_module_version": "1.5.0",
          "state": {
            "_dom_classes": [],
            "_model_module": "@jupyter-widgets/controls",
            "_model_module_version": "1.5.0",
            "_model_name": "HTMLModel",
            "_view_count": null,
            "_view_module": "@jupyter-widgets/controls",
            "_view_module_version": "1.5.0",
            "_view_name": "HTMLView",
            "description": "",
            "description_tooltip": null,
            "layout": "IPY_MODEL_7687da6e7b6f45e085ceacf008b1426d",
            "placeholder": "​",
            "style": "IPY_MODEL_eca2125e6fb145029be3bef925fa3f88",
            "value": "100%"
          }
        },
        "19f9dd757dc6462297dcecceb636caff": {
          "model_module": "@jupyter-widgets/controls",
          "model_name": "FloatProgressModel",
          "model_module_version": "1.5.0",
          "state": {
            "_dom_classes": [],
            "_model_module": "@jupyter-widgets/controls",
            "_model_module_version": "1.5.0",
            "_model_name": "FloatProgressModel",
            "_view_count": null,
            "_view_module": "@jupyter-widgets/controls",
            "_view_module_version": "1.5.0",
            "_view_name": "ProgressView",
            "bar_style": "success",
            "description": "",
            "description_tooltip": null,
            "layout": "IPY_MODEL_dbc2c4b42107416e9f0ac354891c4439",
            "max": 9832,
            "min": 0,
            "orientation": "horizontal",
            "style": "IPY_MODEL_fd7838c48ce34942857115c02213dbe7",
            "value": 9832
          }
        },
        "1619fc8ae3f74d2eadf4324268e3b8d9": {
          "model_module": "@jupyter-widgets/controls",
          "model_name": "HTMLModel",
          "model_module_version": "1.5.0",
          "state": {
            "_dom_classes": [],
            "_model_module": "@jupyter-widgets/controls",
            "_model_module_version": "1.5.0",
            "_model_name": "HTMLModel",
            "_view_count": null,
            "_view_module": "@jupyter-widgets/controls",
            "_view_module_version": "1.5.0",
            "_view_name": "HTMLView",
            "description": "",
            "description_tooltip": null,
            "layout": "IPY_MODEL_b10dc2e7f12b48219863582e61ade260",
            "placeholder": "​",
            "style": "IPY_MODEL_70a601f1f9574c68bdea4c08cd9df5a5",
            "value": " 9832/9832 [00:04&lt;00:00, 1625.29it/s]"
          }
        },
        "b3e824160bcd43779a6965f1f6da59f6": {
          "model_module": "@jupyter-widgets/base",
          "model_name": "LayoutModel",
          "model_module_version": "1.2.0",
          "state": {
            "_model_module": "@jupyter-widgets/base",
            "_model_module_version": "1.2.0",
            "_model_name": "LayoutModel",
            "_view_count": null,
            "_view_module": "@jupyter-widgets/base",
            "_view_module_version": "1.2.0",
            "_view_name": "LayoutView",
            "align_content": null,
            "align_items": null,
            "align_self": null,
            "border": null,
            "bottom": null,
            "display": null,
            "flex": null,
            "flex_flow": null,
            "grid_area": null,
            "grid_auto_columns": null,
            "grid_auto_flow": null,
            "grid_auto_rows": null,
            "grid_column": null,
            "grid_gap": null,
            "grid_row": null,
            "grid_template_areas": null,
            "grid_template_columns": null,
            "grid_template_rows": null,
            "height": null,
            "justify_content": null,
            "justify_items": null,
            "left": null,
            "margin": null,
            "max_height": null,
            "max_width": null,
            "min_height": null,
            "min_width": null,
            "object_fit": null,
            "object_position": null,
            "order": null,
            "overflow": null,
            "overflow_x": null,
            "overflow_y": null,
            "padding": null,
            "right": null,
            "top": null,
            "visibility": null,
            "width": null
          }
        },
        "7687da6e7b6f45e085ceacf008b1426d": {
          "model_module": "@jupyter-widgets/base",
          "model_name": "LayoutModel",
          "model_module_version": "1.2.0",
          "state": {
            "_model_module": "@jupyter-widgets/base",
            "_model_module_version": "1.2.0",
            "_model_name": "LayoutModel",
            "_view_count": null,
            "_view_module": "@jupyter-widgets/base",
            "_view_module_version": "1.2.0",
            "_view_name": "LayoutView",
            "align_content": null,
            "align_items": null,
            "align_self": null,
            "border": null,
            "bottom": null,
            "display": null,
            "flex": null,
            "flex_flow": null,
            "grid_area": null,
            "grid_auto_columns": null,
            "grid_auto_flow": null,
            "grid_auto_rows": null,
            "grid_column": null,
            "grid_gap": null,
            "grid_row": null,
            "grid_template_areas": null,
            "grid_template_columns": null,
            "grid_template_rows": null,
            "height": null,
            "justify_content": null,
            "justify_items": null,
            "left": null,
            "margin": null,
            "max_height": null,
            "max_width": null,
            "min_height": null,
            "min_width": null,
            "object_fit": null,
            "object_position": null,
            "order": null,
            "overflow": null,
            "overflow_x": null,
            "overflow_y": null,
            "padding": null,
            "right": null,
            "top": null,
            "visibility": null,
            "width": null
          }
        },
        "eca2125e6fb145029be3bef925fa3f88": {
          "model_module": "@jupyter-widgets/controls",
          "model_name": "DescriptionStyleModel",
          "model_module_version": "1.5.0",
          "state": {
            "_model_module": "@jupyter-widgets/controls",
            "_model_module_version": "1.5.0",
            "_model_name": "DescriptionStyleModel",
            "_view_count": null,
            "_view_module": "@jupyter-widgets/base",
            "_view_module_version": "1.2.0",
            "_view_name": "StyleView",
            "description_width": ""
          }
        },
        "dbc2c4b42107416e9f0ac354891c4439": {
          "model_module": "@jupyter-widgets/base",
          "model_name": "LayoutModel",
          "model_module_version": "1.2.0",
          "state": {
            "_model_module": "@jupyter-widgets/base",
            "_model_module_version": "1.2.0",
            "_model_name": "LayoutModel",
            "_view_count": null,
            "_view_module": "@jupyter-widgets/base",
            "_view_module_version": "1.2.0",
            "_view_name": "LayoutView",
            "align_content": null,
            "align_items": null,
            "align_self": null,
            "border": null,
            "bottom": null,
            "display": null,
            "flex": null,
            "flex_flow": null,
            "grid_area": null,
            "grid_auto_columns": null,
            "grid_auto_flow": null,
            "grid_auto_rows": null,
            "grid_column": null,
            "grid_gap": null,
            "grid_row": null,
            "grid_template_areas": null,
            "grid_template_columns": null,
            "grid_template_rows": null,
            "height": null,
            "justify_content": null,
            "justify_items": null,
            "left": null,
            "margin": null,
            "max_height": null,
            "max_width": null,
            "min_height": null,
            "min_width": null,
            "object_fit": null,
            "object_position": null,
            "order": null,
            "overflow": null,
            "overflow_x": null,
            "overflow_y": null,
            "padding": null,
            "right": null,
            "top": null,
            "visibility": null,
            "width": null
          }
        },
        "fd7838c48ce34942857115c02213dbe7": {
          "model_module": "@jupyter-widgets/controls",
          "model_name": "ProgressStyleModel",
          "model_module_version": "1.5.0",
          "state": {
            "_model_module": "@jupyter-widgets/controls",
            "_model_module_version": "1.5.0",
            "_model_name": "ProgressStyleModel",
            "_view_count": null,
            "_view_module": "@jupyter-widgets/base",
            "_view_module_version": "1.2.0",
            "_view_name": "StyleView",
            "bar_color": null,
            "description_width": ""
          }
        },
        "b10dc2e7f12b48219863582e61ade260": {
          "model_module": "@jupyter-widgets/base",
          "model_name": "LayoutModel",
          "model_module_version": "1.2.0",
          "state": {
            "_model_module": "@jupyter-widgets/base",
            "_model_module_version": "1.2.0",
            "_model_name": "LayoutModel",
            "_view_count": null,
            "_view_module": "@jupyter-widgets/base",
            "_view_module_version": "1.2.0",
            "_view_name": "LayoutView",
            "align_content": null,
            "align_items": null,
            "align_self": null,
            "border": null,
            "bottom": null,
            "display": null,
            "flex": null,
            "flex_flow": null,
            "grid_area": null,
            "grid_auto_columns": null,
            "grid_auto_flow": null,
            "grid_auto_rows": null,
            "grid_column": null,
            "grid_gap": null,
            "grid_row": null,
            "grid_template_areas": null,
            "grid_template_columns": null,
            "grid_template_rows": null,
            "height": null,
            "justify_content": null,
            "justify_items": null,
            "left": null,
            "margin": null,
            "max_height": null,
            "max_width": null,
            "min_height": null,
            "min_width": null,
            "object_fit": null,
            "object_position": null,
            "order": null,
            "overflow": null,
            "overflow_x": null,
            "overflow_y": null,
            "padding": null,
            "right": null,
            "top": null,
            "visibility": null,
            "width": null
          }
        },
        "70a601f1f9574c68bdea4c08cd9df5a5": {
          "model_module": "@jupyter-widgets/controls",
          "model_name": "DescriptionStyleModel",
          "model_module_version": "1.5.0",
          "state": {
            "_model_module": "@jupyter-widgets/controls",
            "_model_module_version": "1.5.0",
            "_model_name": "DescriptionStyleModel",
            "_view_count": null,
            "_view_module": "@jupyter-widgets/base",
            "_view_module_version": "1.2.0",
            "_view_name": "StyleView",
            "description_width": ""
          }
        },
        "8fcdbd2229de403eb52c6541ef1f3c18": {
          "model_module": "@jupyter-widgets/controls",
          "model_name": "HBoxModel",
          "model_module_version": "1.5.0",
          "state": {
            "_dom_classes": [],
            "_model_module": "@jupyter-widgets/controls",
            "_model_module_version": "1.5.0",
            "_model_name": "HBoxModel",
            "_view_count": null,
            "_view_module": "@jupyter-widgets/controls",
            "_view_module_version": "1.5.0",
            "_view_name": "HBoxView",
            "box_style": "",
            "children": [
              "IPY_MODEL_8da8d527975c49cca44affc15e7f51e5",
              "IPY_MODEL_84a76653b07c44ab9f71d9fc2b22c565",
              "IPY_MODEL_4fb4c323d7e947eda6ed14a6761ece13"
            ],
            "layout": "IPY_MODEL_ac1d3b4f36074a7a98f6b1b552be5154"
          }
        },
        "8da8d527975c49cca44affc15e7f51e5": {
          "model_module": "@jupyter-widgets/controls",
          "model_name": "HTMLModel",
          "model_module_version": "1.5.0",
          "state": {
            "_dom_classes": [],
            "_model_module": "@jupyter-widgets/controls",
            "_model_module_version": "1.5.0",
            "_model_name": "HTMLModel",
            "_view_count": null,
            "_view_module": "@jupyter-widgets/controls",
            "_view_module_version": "1.5.0",
            "_view_name": "HTMLView",
            "description": "",
            "description_tooltip": null,
            "layout": "IPY_MODEL_7fd29d8f7db841eeae6178fc4b0c7d2f",
            "placeholder": "​",
            "style": "IPY_MODEL_17d599f8e23140ee8c4be73821019a40",
            "value": "100%"
          }
        },
        "84a76653b07c44ab9f71d9fc2b22c565": {
          "model_module": "@jupyter-widgets/controls",
          "model_name": "FloatProgressModel",
          "model_module_version": "1.5.0",
          "state": {
            "_dom_classes": [],
            "_model_module": "@jupyter-widgets/controls",
            "_model_module_version": "1.5.0",
            "_model_name": "FloatProgressModel",
            "_view_count": null,
            "_view_module": "@jupyter-widgets/controls",
            "_view_module_version": "1.5.0",
            "_view_name": "ProgressView",
            "bar_style": "success",
            "description": "",
            "description_tooltip": null,
            "layout": "IPY_MODEL_6e898987808c4b8795db62aeea54380b",
            "max": 10925,
            "min": 0,
            "orientation": "horizontal",
            "style": "IPY_MODEL_e730414ba9034b80994298c321b6e95f",
            "value": 10925
          }
        },
        "4fb4c323d7e947eda6ed14a6761ece13": {
          "model_module": "@jupyter-widgets/controls",
          "model_name": "HTMLModel",
          "model_module_version": "1.5.0",
          "state": {
            "_dom_classes": [],
            "_model_module": "@jupyter-widgets/controls",
            "_model_module_version": "1.5.0",
            "_model_name": "HTMLModel",
            "_view_count": null,
            "_view_module": "@jupyter-widgets/controls",
            "_view_module_version": "1.5.0",
            "_view_name": "HTMLView",
            "description": "",
            "description_tooltip": null,
            "layout": "IPY_MODEL_3c4783a0c3ae4ae8ab878d6360a8f4d1",
            "placeholder": "​",
            "style": "IPY_MODEL_552d92373a564200ab14d878c445e1f0",
            "value": " 10925/10925 [00:05&lt;00:00, 2668.20it/s]"
          }
        },
        "ac1d3b4f36074a7a98f6b1b552be5154": {
          "model_module": "@jupyter-widgets/base",
          "model_name": "LayoutModel",
          "model_module_version": "1.2.0",
          "state": {
            "_model_module": "@jupyter-widgets/base",
            "_model_module_version": "1.2.0",
            "_model_name": "LayoutModel",
            "_view_count": null,
            "_view_module": "@jupyter-widgets/base",
            "_view_module_version": "1.2.0",
            "_view_name": "LayoutView",
            "align_content": null,
            "align_items": null,
            "align_self": null,
            "border": null,
            "bottom": null,
            "display": null,
            "flex": null,
            "flex_flow": null,
            "grid_area": null,
            "grid_auto_columns": null,
            "grid_auto_flow": null,
            "grid_auto_rows": null,
            "grid_column": null,
            "grid_gap": null,
            "grid_row": null,
            "grid_template_areas": null,
            "grid_template_columns": null,
            "grid_template_rows": null,
            "height": null,
            "justify_content": null,
            "justify_items": null,
            "left": null,
            "margin": null,
            "max_height": null,
            "max_width": null,
            "min_height": null,
            "min_width": null,
            "object_fit": null,
            "object_position": null,
            "order": null,
            "overflow": null,
            "overflow_x": null,
            "overflow_y": null,
            "padding": null,
            "right": null,
            "top": null,
            "visibility": null,
            "width": null
          }
        },
        "7fd29d8f7db841eeae6178fc4b0c7d2f": {
          "model_module": "@jupyter-widgets/base",
          "model_name": "LayoutModel",
          "model_module_version": "1.2.0",
          "state": {
            "_model_module": "@jupyter-widgets/base",
            "_model_module_version": "1.2.0",
            "_model_name": "LayoutModel",
            "_view_count": null,
            "_view_module": "@jupyter-widgets/base",
            "_view_module_version": "1.2.0",
            "_view_name": "LayoutView",
            "align_content": null,
            "align_items": null,
            "align_self": null,
            "border": null,
            "bottom": null,
            "display": null,
            "flex": null,
            "flex_flow": null,
            "grid_area": null,
            "grid_auto_columns": null,
            "grid_auto_flow": null,
            "grid_auto_rows": null,
            "grid_column": null,
            "grid_gap": null,
            "grid_row": null,
            "grid_template_areas": null,
            "grid_template_columns": null,
            "grid_template_rows": null,
            "height": null,
            "justify_content": null,
            "justify_items": null,
            "left": null,
            "margin": null,
            "max_height": null,
            "max_width": null,
            "min_height": null,
            "min_width": null,
            "object_fit": null,
            "object_position": null,
            "order": null,
            "overflow": null,
            "overflow_x": null,
            "overflow_y": null,
            "padding": null,
            "right": null,
            "top": null,
            "visibility": null,
            "width": null
          }
        },
        "17d599f8e23140ee8c4be73821019a40": {
          "model_module": "@jupyter-widgets/controls",
          "model_name": "DescriptionStyleModel",
          "model_module_version": "1.5.0",
          "state": {
            "_model_module": "@jupyter-widgets/controls",
            "_model_module_version": "1.5.0",
            "_model_name": "DescriptionStyleModel",
            "_view_count": null,
            "_view_module": "@jupyter-widgets/base",
            "_view_module_version": "1.2.0",
            "_view_name": "StyleView",
            "description_width": ""
          }
        },
        "6e898987808c4b8795db62aeea54380b": {
          "model_module": "@jupyter-widgets/base",
          "model_name": "LayoutModel",
          "model_module_version": "1.2.0",
          "state": {
            "_model_module": "@jupyter-widgets/base",
            "_model_module_version": "1.2.0",
            "_model_name": "LayoutModel",
            "_view_count": null,
            "_view_module": "@jupyter-widgets/base",
            "_view_module_version": "1.2.0",
            "_view_name": "LayoutView",
            "align_content": null,
            "align_items": null,
            "align_self": null,
            "border": null,
            "bottom": null,
            "display": null,
            "flex": null,
            "flex_flow": null,
            "grid_area": null,
            "grid_auto_columns": null,
            "grid_auto_flow": null,
            "grid_auto_rows": null,
            "grid_column": null,
            "grid_gap": null,
            "grid_row": null,
            "grid_template_areas": null,
            "grid_template_columns": null,
            "grid_template_rows": null,
            "height": null,
            "justify_content": null,
            "justify_items": null,
            "left": null,
            "margin": null,
            "max_height": null,
            "max_width": null,
            "min_height": null,
            "min_width": null,
            "object_fit": null,
            "object_position": null,
            "order": null,
            "overflow": null,
            "overflow_x": null,
            "overflow_y": null,
            "padding": null,
            "right": null,
            "top": null,
            "visibility": null,
            "width": null
          }
        },
        "e730414ba9034b80994298c321b6e95f": {
          "model_module": "@jupyter-widgets/controls",
          "model_name": "ProgressStyleModel",
          "model_module_version": "1.5.0",
          "state": {
            "_model_module": "@jupyter-widgets/controls",
            "_model_module_version": "1.5.0",
            "_model_name": "ProgressStyleModel",
            "_view_count": null,
            "_view_module": "@jupyter-widgets/base",
            "_view_module_version": "1.2.0",
            "_view_name": "StyleView",
            "bar_color": null,
            "description_width": ""
          }
        },
        "3c4783a0c3ae4ae8ab878d6360a8f4d1": {
          "model_module": "@jupyter-widgets/base",
          "model_name": "LayoutModel",
          "model_module_version": "1.2.0",
          "state": {
            "_model_module": "@jupyter-widgets/base",
            "_model_module_version": "1.2.0",
            "_model_name": "LayoutModel",
            "_view_count": null,
            "_view_module": "@jupyter-widgets/base",
            "_view_module_version": "1.2.0",
            "_view_name": "LayoutView",
            "align_content": null,
            "align_items": null,
            "align_self": null,
            "border": null,
            "bottom": null,
            "display": null,
            "flex": null,
            "flex_flow": null,
            "grid_area": null,
            "grid_auto_columns": null,
            "grid_auto_flow": null,
            "grid_auto_rows": null,
            "grid_column": null,
            "grid_gap": null,
            "grid_row": null,
            "grid_template_areas": null,
            "grid_template_columns": null,
            "grid_template_rows": null,
            "height": null,
            "justify_content": null,
            "justify_items": null,
            "left": null,
            "margin": null,
            "max_height": null,
            "max_width": null,
            "min_height": null,
            "min_width": null,
            "object_fit": null,
            "object_position": null,
            "order": null,
            "overflow": null,
            "overflow_x": null,
            "overflow_y": null,
            "padding": null,
            "right": null,
            "top": null,
            "visibility": null,
            "width": null
          }
        },
        "552d92373a564200ab14d878c445e1f0": {
          "model_module": "@jupyter-widgets/controls",
          "model_name": "DescriptionStyleModel",
          "model_module_version": "1.5.0",
          "state": {
            "_model_module": "@jupyter-widgets/controls",
            "_model_module_version": "1.5.0",
            "_model_name": "DescriptionStyleModel",
            "_view_count": null,
            "_view_module": "@jupyter-widgets/base",
            "_view_module_version": "1.2.0",
            "_view_name": "StyleView",
            "description_width": ""
          }
        },
        "22e85db5bb1342d4882c72c529f58356": {
          "model_module": "@jupyter-widgets/controls",
          "model_name": "HBoxModel",
          "model_module_version": "1.5.0",
          "state": {
            "_dom_classes": [],
            "_model_module": "@jupyter-widgets/controls",
            "_model_module_version": "1.5.0",
            "_model_name": "HBoxModel",
            "_view_count": null,
            "_view_module": "@jupyter-widgets/controls",
            "_view_module_version": "1.5.0",
            "_view_name": "HBoxView",
            "box_style": "",
            "children": [
              "IPY_MODEL_61e09a6a45604e16a8691bc07d5753c0",
              "IPY_MODEL_24bfade86e1e473d8dcec9f7c2f5ef79",
              "IPY_MODEL_41e6b403c7b748a7b3cdd9876b11d78f"
            ],
            "layout": "IPY_MODEL_c35a256e822b4df88d2651dff345d4e3"
          }
        },
        "61e09a6a45604e16a8691bc07d5753c0": {
          "model_module": "@jupyter-widgets/controls",
          "model_name": "HTMLModel",
          "model_module_version": "1.5.0",
          "state": {
            "_dom_classes": [],
            "_model_module": "@jupyter-widgets/controls",
            "_model_module_version": "1.5.0",
            "_model_name": "HTMLModel",
            "_view_count": null,
            "_view_module": "@jupyter-widgets/controls",
            "_view_module_version": "1.5.0",
            "_view_name": "HTMLView",
            "description": "",
            "description_tooltip": null,
            "layout": "IPY_MODEL_6ca21792774540baad646f8b2c66b02b",
            "placeholder": "​",
            "style": "IPY_MODEL_f5fc10f1bee74cfb904117daf23c54da",
            "value": "100%"
          }
        },
        "24bfade86e1e473d8dcec9f7c2f5ef79": {
          "model_module": "@jupyter-widgets/controls",
          "model_name": "FloatProgressModel",
          "model_module_version": "1.5.0",
          "state": {
            "_dom_classes": [],
            "_model_module": "@jupyter-widgets/controls",
            "_model_module_version": "1.5.0",
            "_model_name": "FloatProgressModel",
            "_view_count": null,
            "_view_module": "@jupyter-widgets/controls",
            "_view_module_version": "1.5.0",
            "_view_name": "ProgressView",
            "bar_style": "success",
            "description": "",
            "description_tooltip": null,
            "layout": "IPY_MODEL_2e03e9ce55a04134bd5589f08047f9b3",
            "max": 88488,
            "min": 0,
            "orientation": "horizontal",
            "style": "IPY_MODEL_f8679cb32ae14f19a18a87b9b052ebd1",
            "value": 88488
          }
        },
        "41e6b403c7b748a7b3cdd9876b11d78f": {
          "model_module": "@jupyter-widgets/controls",
          "model_name": "HTMLModel",
          "model_module_version": "1.5.0",
          "state": {
            "_dom_classes": [],
            "_model_module": "@jupyter-widgets/controls",
            "_model_module_version": "1.5.0",
            "_model_name": "HTMLModel",
            "_view_count": null,
            "_view_module": "@jupyter-widgets/controls",
            "_view_module_version": "1.5.0",
            "_view_name": "HTMLView",
            "description": "",
            "description_tooltip": null,
            "layout": "IPY_MODEL_29465956dfc04ed09a03870eca2fd5f7",
            "placeholder": "​",
            "style": "IPY_MODEL_5862326ad13f453b9723a7550dc05a7b",
            "value": " 88488/88488 [00:04&lt;00:00, 15833.63it/s]"
          }
        },
        "c35a256e822b4df88d2651dff345d4e3": {
          "model_module": "@jupyter-widgets/base",
          "model_name": "LayoutModel",
          "model_module_version": "1.2.0",
          "state": {
            "_model_module": "@jupyter-widgets/base",
            "_model_module_version": "1.2.0",
            "_model_name": "LayoutModel",
            "_view_count": null,
            "_view_module": "@jupyter-widgets/base",
            "_view_module_version": "1.2.0",
            "_view_name": "LayoutView",
            "align_content": null,
            "align_items": null,
            "align_self": null,
            "border": null,
            "bottom": null,
            "display": null,
            "flex": null,
            "flex_flow": null,
            "grid_area": null,
            "grid_auto_columns": null,
            "grid_auto_flow": null,
            "grid_auto_rows": null,
            "grid_column": null,
            "grid_gap": null,
            "grid_row": null,
            "grid_template_areas": null,
            "grid_template_columns": null,
            "grid_template_rows": null,
            "height": null,
            "justify_content": null,
            "justify_items": null,
            "left": null,
            "margin": null,
            "max_height": null,
            "max_width": null,
            "min_height": null,
            "min_width": null,
            "object_fit": null,
            "object_position": null,
            "order": null,
            "overflow": null,
            "overflow_x": null,
            "overflow_y": null,
            "padding": null,
            "right": null,
            "top": null,
            "visibility": null,
            "width": null
          }
        },
        "6ca21792774540baad646f8b2c66b02b": {
          "model_module": "@jupyter-widgets/base",
          "model_name": "LayoutModel",
          "model_module_version": "1.2.0",
          "state": {
            "_model_module": "@jupyter-widgets/base",
            "_model_module_version": "1.2.0",
            "_model_name": "LayoutModel",
            "_view_count": null,
            "_view_module": "@jupyter-widgets/base",
            "_view_module_version": "1.2.0",
            "_view_name": "LayoutView",
            "align_content": null,
            "align_items": null,
            "align_self": null,
            "border": null,
            "bottom": null,
            "display": null,
            "flex": null,
            "flex_flow": null,
            "grid_area": null,
            "grid_auto_columns": null,
            "grid_auto_flow": null,
            "grid_auto_rows": null,
            "grid_column": null,
            "grid_gap": null,
            "grid_row": null,
            "grid_template_areas": null,
            "grid_template_columns": null,
            "grid_template_rows": null,
            "height": null,
            "justify_content": null,
            "justify_items": null,
            "left": null,
            "margin": null,
            "max_height": null,
            "max_width": null,
            "min_height": null,
            "min_width": null,
            "object_fit": null,
            "object_position": null,
            "order": null,
            "overflow": null,
            "overflow_x": null,
            "overflow_y": null,
            "padding": null,
            "right": null,
            "top": null,
            "visibility": null,
            "width": null
          }
        },
        "f5fc10f1bee74cfb904117daf23c54da": {
          "model_module": "@jupyter-widgets/controls",
          "model_name": "DescriptionStyleModel",
          "model_module_version": "1.5.0",
          "state": {
            "_model_module": "@jupyter-widgets/controls",
            "_model_module_version": "1.5.0",
            "_model_name": "DescriptionStyleModel",
            "_view_count": null,
            "_view_module": "@jupyter-widgets/base",
            "_view_module_version": "1.2.0",
            "_view_name": "StyleView",
            "description_width": ""
          }
        },
        "2e03e9ce55a04134bd5589f08047f9b3": {
          "model_module": "@jupyter-widgets/base",
          "model_name": "LayoutModel",
          "model_module_version": "1.2.0",
          "state": {
            "_model_module": "@jupyter-widgets/base",
            "_model_module_version": "1.2.0",
            "_model_name": "LayoutModel",
            "_view_count": null,
            "_view_module": "@jupyter-widgets/base",
            "_view_module_version": "1.2.0",
            "_view_name": "LayoutView",
            "align_content": null,
            "align_items": null,
            "align_self": null,
            "border": null,
            "bottom": null,
            "display": null,
            "flex": null,
            "flex_flow": null,
            "grid_area": null,
            "grid_auto_columns": null,
            "grid_auto_flow": null,
            "grid_auto_rows": null,
            "grid_column": null,
            "grid_gap": null,
            "grid_row": null,
            "grid_template_areas": null,
            "grid_template_columns": null,
            "grid_template_rows": null,
            "height": null,
            "justify_content": null,
            "justify_items": null,
            "left": null,
            "margin": null,
            "max_height": null,
            "max_width": null,
            "min_height": null,
            "min_width": null,
            "object_fit": null,
            "object_position": null,
            "order": null,
            "overflow": null,
            "overflow_x": null,
            "overflow_y": null,
            "padding": null,
            "right": null,
            "top": null,
            "visibility": null,
            "width": null
          }
        },
        "f8679cb32ae14f19a18a87b9b052ebd1": {
          "model_module": "@jupyter-widgets/controls",
          "model_name": "ProgressStyleModel",
          "model_module_version": "1.5.0",
          "state": {
            "_model_module": "@jupyter-widgets/controls",
            "_model_module_version": "1.5.0",
            "_model_name": "ProgressStyleModel",
            "_view_count": null,
            "_view_module": "@jupyter-widgets/base",
            "_view_module_version": "1.2.0",
            "_view_name": "StyleView",
            "bar_color": null,
            "description_width": ""
          }
        },
        "29465956dfc04ed09a03870eca2fd5f7": {
          "model_module": "@jupyter-widgets/base",
          "model_name": "LayoutModel",
          "model_module_version": "1.2.0",
          "state": {
            "_model_module": "@jupyter-widgets/base",
            "_model_module_version": "1.2.0",
            "_model_name": "LayoutModel",
            "_view_count": null,
            "_view_module": "@jupyter-widgets/base",
            "_view_module_version": "1.2.0",
            "_view_name": "LayoutView",
            "align_content": null,
            "align_items": null,
            "align_self": null,
            "border": null,
            "bottom": null,
            "display": null,
            "flex": null,
            "flex_flow": null,
            "grid_area": null,
            "grid_auto_columns": null,
            "grid_auto_flow": null,
            "grid_auto_rows": null,
            "grid_column": null,
            "grid_gap": null,
            "grid_row": null,
            "grid_template_areas": null,
            "grid_template_columns": null,
            "grid_template_rows": null,
            "height": null,
            "justify_content": null,
            "justify_items": null,
            "left": null,
            "margin": null,
            "max_height": null,
            "max_width": null,
            "min_height": null,
            "min_width": null,
            "object_fit": null,
            "object_position": null,
            "order": null,
            "overflow": null,
            "overflow_x": null,
            "overflow_y": null,
            "padding": null,
            "right": null,
            "top": null,
            "visibility": null,
            "width": null
          }
        },
        "5862326ad13f453b9723a7550dc05a7b": {
          "model_module": "@jupyter-widgets/controls",
          "model_name": "DescriptionStyleModel",
          "model_module_version": "1.5.0",
          "state": {
            "_model_module": "@jupyter-widgets/controls",
            "_model_module_version": "1.5.0",
            "_model_name": "DescriptionStyleModel",
            "_view_count": null,
            "_view_module": "@jupyter-widgets/base",
            "_view_module_version": "1.2.0",
            "_view_name": "StyleView",
            "description_width": ""
          }
        },
        "b6273b8469da4ffe923e50167328db6d": {
          "model_module": "@jupyter-widgets/controls",
          "model_name": "HBoxModel",
          "model_module_version": "1.5.0",
          "state": {
            "_dom_classes": [],
            "_model_module": "@jupyter-widgets/controls",
            "_model_module_version": "1.5.0",
            "_model_name": "HBoxModel",
            "_view_count": null,
            "_view_module": "@jupyter-widgets/controls",
            "_view_module_version": "1.5.0",
            "_view_name": "HBoxView",
            "box_style": "",
            "children": [
              "IPY_MODEL_3ac563d7e30049f4bd102678c0378534",
              "IPY_MODEL_6f289aad4260411ab670b27a246a3581",
              "IPY_MODEL_06a3dff08a1e487a9c418216e19ebaa6"
            ],
            "layout": "IPY_MODEL_c6704566480e45548a4f34c2c5900995"
          }
        },
        "3ac563d7e30049f4bd102678c0378534": {
          "model_module": "@jupyter-widgets/controls",
          "model_name": "HTMLModel",
          "model_module_version": "1.5.0",
          "state": {
            "_dom_classes": [],
            "_model_module": "@jupyter-widgets/controls",
            "_model_module_version": "1.5.0",
            "_model_name": "HTMLModel",
            "_view_count": null,
            "_view_module": "@jupyter-widgets/controls",
            "_view_module_version": "1.5.0",
            "_view_name": "HTMLView",
            "description": "",
            "description_tooltip": null,
            "layout": "IPY_MODEL_01ba53f6f58d41b980c50ab5930e9714",
            "placeholder": "​",
            "style": "IPY_MODEL_91f840e18f724a3784cec69910585f88",
            "value": "100%"
          }
        },
        "6f289aad4260411ab670b27a246a3581": {
          "model_module": "@jupyter-widgets/controls",
          "model_name": "FloatProgressModel",
          "model_module_version": "1.5.0",
          "state": {
            "_dom_classes": [],
            "_model_module": "@jupyter-widgets/controls",
            "_model_module_version": "1.5.0",
            "_model_name": "FloatProgressModel",
            "_view_count": null,
            "_view_module": "@jupyter-widgets/controls",
            "_view_module_version": "1.5.0",
            "_view_name": "ProgressView",
            "bar_style": "success",
            "description": "",
            "description_tooltip": null,
            "layout": "IPY_MODEL_27cd44f481354fcbb5414aa24d267ae3",
            "max": 9832,
            "min": 0,
            "orientation": "horizontal",
            "style": "IPY_MODEL_988a5f697d4d4670a2e71f6cc5934e81",
            "value": 9832
          }
        },
        "06a3dff08a1e487a9c418216e19ebaa6": {
          "model_module": "@jupyter-widgets/controls",
          "model_name": "HTMLModel",
          "model_module_version": "1.5.0",
          "state": {
            "_dom_classes": [],
            "_model_module": "@jupyter-widgets/controls",
            "_model_module_version": "1.5.0",
            "_model_name": "HTMLModel",
            "_view_count": null,
            "_view_module": "@jupyter-widgets/controls",
            "_view_module_version": "1.5.0",
            "_view_name": "HTMLView",
            "description": "",
            "description_tooltip": null,
            "layout": "IPY_MODEL_32e6d0ccd1b4471ab116d58f5be771dc",
            "placeholder": "​",
            "style": "IPY_MODEL_fc2f36dddb3f4df28286b22b2d181e16",
            "value": " 9832/9832 [00:00&lt;00:00, 14267.68it/s]"
          }
        },
        "c6704566480e45548a4f34c2c5900995": {
          "model_module": "@jupyter-widgets/base",
          "model_name": "LayoutModel",
          "model_module_version": "1.2.0",
          "state": {
            "_model_module": "@jupyter-widgets/base",
            "_model_module_version": "1.2.0",
            "_model_name": "LayoutModel",
            "_view_count": null,
            "_view_module": "@jupyter-widgets/base",
            "_view_module_version": "1.2.0",
            "_view_name": "LayoutView",
            "align_content": null,
            "align_items": null,
            "align_self": null,
            "border": null,
            "bottom": null,
            "display": null,
            "flex": null,
            "flex_flow": null,
            "grid_area": null,
            "grid_auto_columns": null,
            "grid_auto_flow": null,
            "grid_auto_rows": null,
            "grid_column": null,
            "grid_gap": null,
            "grid_row": null,
            "grid_template_areas": null,
            "grid_template_columns": null,
            "grid_template_rows": null,
            "height": null,
            "justify_content": null,
            "justify_items": null,
            "left": null,
            "margin": null,
            "max_height": null,
            "max_width": null,
            "min_height": null,
            "min_width": null,
            "object_fit": null,
            "object_position": null,
            "order": null,
            "overflow": null,
            "overflow_x": null,
            "overflow_y": null,
            "padding": null,
            "right": null,
            "top": null,
            "visibility": null,
            "width": null
          }
        },
        "01ba53f6f58d41b980c50ab5930e9714": {
          "model_module": "@jupyter-widgets/base",
          "model_name": "LayoutModel",
          "model_module_version": "1.2.0",
          "state": {
            "_model_module": "@jupyter-widgets/base",
            "_model_module_version": "1.2.0",
            "_model_name": "LayoutModel",
            "_view_count": null,
            "_view_module": "@jupyter-widgets/base",
            "_view_module_version": "1.2.0",
            "_view_name": "LayoutView",
            "align_content": null,
            "align_items": null,
            "align_self": null,
            "border": null,
            "bottom": null,
            "display": null,
            "flex": null,
            "flex_flow": null,
            "grid_area": null,
            "grid_auto_columns": null,
            "grid_auto_flow": null,
            "grid_auto_rows": null,
            "grid_column": null,
            "grid_gap": null,
            "grid_row": null,
            "grid_template_areas": null,
            "grid_template_columns": null,
            "grid_template_rows": null,
            "height": null,
            "justify_content": null,
            "justify_items": null,
            "left": null,
            "margin": null,
            "max_height": null,
            "max_width": null,
            "min_height": null,
            "min_width": null,
            "object_fit": null,
            "object_position": null,
            "order": null,
            "overflow": null,
            "overflow_x": null,
            "overflow_y": null,
            "padding": null,
            "right": null,
            "top": null,
            "visibility": null,
            "width": null
          }
        },
        "91f840e18f724a3784cec69910585f88": {
          "model_module": "@jupyter-widgets/controls",
          "model_name": "DescriptionStyleModel",
          "model_module_version": "1.5.0",
          "state": {
            "_model_module": "@jupyter-widgets/controls",
            "_model_module_version": "1.5.0",
            "_model_name": "DescriptionStyleModel",
            "_view_count": null,
            "_view_module": "@jupyter-widgets/base",
            "_view_module_version": "1.2.0",
            "_view_name": "StyleView",
            "description_width": ""
          }
        },
        "27cd44f481354fcbb5414aa24d267ae3": {
          "model_module": "@jupyter-widgets/base",
          "model_name": "LayoutModel",
          "model_module_version": "1.2.0",
          "state": {
            "_model_module": "@jupyter-widgets/base",
            "_model_module_version": "1.2.0",
            "_model_name": "LayoutModel",
            "_view_count": null,
            "_view_module": "@jupyter-widgets/base",
            "_view_module_version": "1.2.0",
            "_view_name": "LayoutView",
            "align_content": null,
            "align_items": null,
            "align_self": null,
            "border": null,
            "bottom": null,
            "display": null,
            "flex": null,
            "flex_flow": null,
            "grid_area": null,
            "grid_auto_columns": null,
            "grid_auto_flow": null,
            "grid_auto_rows": null,
            "grid_column": null,
            "grid_gap": null,
            "grid_row": null,
            "grid_template_areas": null,
            "grid_template_columns": null,
            "grid_template_rows": null,
            "height": null,
            "justify_content": null,
            "justify_items": null,
            "left": null,
            "margin": null,
            "max_height": null,
            "max_width": null,
            "min_height": null,
            "min_width": null,
            "object_fit": null,
            "object_position": null,
            "order": null,
            "overflow": null,
            "overflow_x": null,
            "overflow_y": null,
            "padding": null,
            "right": null,
            "top": null,
            "visibility": null,
            "width": null
          }
        },
        "988a5f697d4d4670a2e71f6cc5934e81": {
          "model_module": "@jupyter-widgets/controls",
          "model_name": "ProgressStyleModel",
          "model_module_version": "1.5.0",
          "state": {
            "_model_module": "@jupyter-widgets/controls",
            "_model_module_version": "1.5.0",
            "_model_name": "ProgressStyleModel",
            "_view_count": null,
            "_view_module": "@jupyter-widgets/base",
            "_view_module_version": "1.2.0",
            "_view_name": "StyleView",
            "bar_color": null,
            "description_width": ""
          }
        },
        "32e6d0ccd1b4471ab116d58f5be771dc": {
          "model_module": "@jupyter-widgets/base",
          "model_name": "LayoutModel",
          "model_module_version": "1.2.0",
          "state": {
            "_model_module": "@jupyter-widgets/base",
            "_model_module_version": "1.2.0",
            "_model_name": "LayoutModel",
            "_view_count": null,
            "_view_module": "@jupyter-widgets/base",
            "_view_module_version": "1.2.0",
            "_view_name": "LayoutView",
            "align_content": null,
            "align_items": null,
            "align_self": null,
            "border": null,
            "bottom": null,
            "display": null,
            "flex": null,
            "flex_flow": null,
            "grid_area": null,
            "grid_auto_columns": null,
            "grid_auto_flow": null,
            "grid_auto_rows": null,
            "grid_column": null,
            "grid_gap": null,
            "grid_row": null,
            "grid_template_areas": null,
            "grid_template_columns": null,
            "grid_template_rows": null,
            "height": null,
            "justify_content": null,
            "justify_items": null,
            "left": null,
            "margin": null,
            "max_height": null,
            "max_width": null,
            "min_height": null,
            "min_width": null,
            "object_fit": null,
            "object_position": null,
            "order": null,
            "overflow": null,
            "overflow_x": null,
            "overflow_y": null,
            "padding": null,
            "right": null,
            "top": null,
            "visibility": null,
            "width": null
          }
        },
        "fc2f36dddb3f4df28286b22b2d181e16": {
          "model_module": "@jupyter-widgets/controls",
          "model_name": "DescriptionStyleModel",
          "model_module_version": "1.5.0",
          "state": {
            "_model_module": "@jupyter-widgets/controls",
            "_model_module_version": "1.5.0",
            "_model_name": "DescriptionStyleModel",
            "_view_count": null,
            "_view_module": "@jupyter-widgets/base",
            "_view_module_version": "1.2.0",
            "_view_name": "StyleView",
            "description_width": ""
          }
        },
        "31fb6513e4694e94a3f77a1d5b91de2e": {
          "model_module": "@jupyter-widgets/controls",
          "model_name": "HBoxModel",
          "model_module_version": "1.5.0",
          "state": {
            "_dom_classes": [],
            "_model_module": "@jupyter-widgets/controls",
            "_model_module_version": "1.5.0",
            "_model_name": "HBoxModel",
            "_view_count": null,
            "_view_module": "@jupyter-widgets/controls",
            "_view_module_version": "1.5.0",
            "_view_name": "HBoxView",
            "box_style": "",
            "children": [
              "IPY_MODEL_777358f4571e411b99da336fa7695a15",
              "IPY_MODEL_eb0295d9b608478786e7c741400a3b97",
              "IPY_MODEL_d630bd1f9513456d94b4efa19efa038c"
            ],
            "layout": "IPY_MODEL_b2aaac89cd974b828d1417d1e082e9f7"
          }
        },
        "777358f4571e411b99da336fa7695a15": {
          "model_module": "@jupyter-widgets/controls",
          "model_name": "HTMLModel",
          "model_module_version": "1.5.0",
          "state": {
            "_dom_classes": [],
            "_model_module": "@jupyter-widgets/controls",
            "_model_module_version": "1.5.0",
            "_model_name": "HTMLModel",
            "_view_count": null,
            "_view_module": "@jupyter-widgets/controls",
            "_view_module_version": "1.5.0",
            "_view_name": "HTMLView",
            "description": "",
            "description_tooltip": null,
            "layout": "IPY_MODEL_22a7768df03849f1acb074b88e0023e0",
            "placeholder": "​",
            "style": "IPY_MODEL_80368757145e48aab9a4ace6154039d0",
            "value": "100%"
          }
        },
        "eb0295d9b608478786e7c741400a3b97": {
          "model_module": "@jupyter-widgets/controls",
          "model_name": "FloatProgressModel",
          "model_module_version": "1.5.0",
          "state": {
            "_dom_classes": [],
            "_model_module": "@jupyter-widgets/controls",
            "_model_module_version": "1.5.0",
            "_model_name": "FloatProgressModel",
            "_view_count": null,
            "_view_module": "@jupyter-widgets/controls",
            "_view_module_version": "1.5.0",
            "_view_name": "ProgressView",
            "bar_style": "success",
            "description": "",
            "description_tooltip": null,
            "layout": "IPY_MODEL_ed4e7381bbf042a5b972f2344e8f2d3c",
            "max": 10925,
            "min": 0,
            "orientation": "horizontal",
            "style": "IPY_MODEL_52560a0396fd4cc4b27847fe396db284",
            "value": 10925
          }
        },
        "d630bd1f9513456d94b4efa19efa038c": {
          "model_module": "@jupyter-widgets/controls",
          "model_name": "HTMLModel",
          "model_module_version": "1.5.0",
          "state": {
            "_dom_classes": [],
            "_model_module": "@jupyter-widgets/controls",
            "_model_module_version": "1.5.0",
            "_model_name": "HTMLModel",
            "_view_count": null,
            "_view_module": "@jupyter-widgets/controls",
            "_view_module_version": "1.5.0",
            "_view_name": "HTMLView",
            "description": "",
            "description_tooltip": null,
            "layout": "IPY_MODEL_f6e9e14c55984cab9d06e3354d5e7f7d",
            "placeholder": "​",
            "style": "IPY_MODEL_5cefc22977774f168feacced3f500f62",
            "value": " 10925/10925 [00:00&lt;00:00, 20976.19it/s]"
          }
        },
        "b2aaac89cd974b828d1417d1e082e9f7": {
          "model_module": "@jupyter-widgets/base",
          "model_name": "LayoutModel",
          "model_module_version": "1.2.0",
          "state": {
            "_model_module": "@jupyter-widgets/base",
            "_model_module_version": "1.2.0",
            "_model_name": "LayoutModel",
            "_view_count": null,
            "_view_module": "@jupyter-widgets/base",
            "_view_module_version": "1.2.0",
            "_view_name": "LayoutView",
            "align_content": null,
            "align_items": null,
            "align_self": null,
            "border": null,
            "bottom": null,
            "display": null,
            "flex": null,
            "flex_flow": null,
            "grid_area": null,
            "grid_auto_columns": null,
            "grid_auto_flow": null,
            "grid_auto_rows": null,
            "grid_column": null,
            "grid_gap": null,
            "grid_row": null,
            "grid_template_areas": null,
            "grid_template_columns": null,
            "grid_template_rows": null,
            "height": null,
            "justify_content": null,
            "justify_items": null,
            "left": null,
            "margin": null,
            "max_height": null,
            "max_width": null,
            "min_height": null,
            "min_width": null,
            "object_fit": null,
            "object_position": null,
            "order": null,
            "overflow": null,
            "overflow_x": null,
            "overflow_y": null,
            "padding": null,
            "right": null,
            "top": null,
            "visibility": null,
            "width": null
          }
        },
        "22a7768df03849f1acb074b88e0023e0": {
          "model_module": "@jupyter-widgets/base",
          "model_name": "LayoutModel",
          "model_module_version": "1.2.0",
          "state": {
            "_model_module": "@jupyter-widgets/base",
            "_model_module_version": "1.2.0",
            "_model_name": "LayoutModel",
            "_view_count": null,
            "_view_module": "@jupyter-widgets/base",
            "_view_module_version": "1.2.0",
            "_view_name": "LayoutView",
            "align_content": null,
            "align_items": null,
            "align_self": null,
            "border": null,
            "bottom": null,
            "display": null,
            "flex": null,
            "flex_flow": null,
            "grid_area": null,
            "grid_auto_columns": null,
            "grid_auto_flow": null,
            "grid_auto_rows": null,
            "grid_column": null,
            "grid_gap": null,
            "grid_row": null,
            "grid_template_areas": null,
            "grid_template_columns": null,
            "grid_template_rows": null,
            "height": null,
            "justify_content": null,
            "justify_items": null,
            "left": null,
            "margin": null,
            "max_height": null,
            "max_width": null,
            "min_height": null,
            "min_width": null,
            "object_fit": null,
            "object_position": null,
            "order": null,
            "overflow": null,
            "overflow_x": null,
            "overflow_y": null,
            "padding": null,
            "right": null,
            "top": null,
            "visibility": null,
            "width": null
          }
        },
        "80368757145e48aab9a4ace6154039d0": {
          "model_module": "@jupyter-widgets/controls",
          "model_name": "DescriptionStyleModel",
          "model_module_version": "1.5.0",
          "state": {
            "_model_module": "@jupyter-widgets/controls",
            "_model_module_version": "1.5.0",
            "_model_name": "DescriptionStyleModel",
            "_view_count": null,
            "_view_module": "@jupyter-widgets/base",
            "_view_module_version": "1.2.0",
            "_view_name": "StyleView",
            "description_width": ""
          }
        },
        "ed4e7381bbf042a5b972f2344e8f2d3c": {
          "model_module": "@jupyter-widgets/base",
          "model_name": "LayoutModel",
          "model_module_version": "1.2.0",
          "state": {
            "_model_module": "@jupyter-widgets/base",
            "_model_module_version": "1.2.0",
            "_model_name": "LayoutModel",
            "_view_count": null,
            "_view_module": "@jupyter-widgets/base",
            "_view_module_version": "1.2.0",
            "_view_name": "LayoutView",
            "align_content": null,
            "align_items": null,
            "align_self": null,
            "border": null,
            "bottom": null,
            "display": null,
            "flex": null,
            "flex_flow": null,
            "grid_area": null,
            "grid_auto_columns": null,
            "grid_auto_flow": null,
            "grid_auto_rows": null,
            "grid_column": null,
            "grid_gap": null,
            "grid_row": null,
            "grid_template_areas": null,
            "grid_template_columns": null,
            "grid_template_rows": null,
            "height": null,
            "justify_content": null,
            "justify_items": null,
            "left": null,
            "margin": null,
            "max_height": null,
            "max_width": null,
            "min_height": null,
            "min_width": null,
            "object_fit": null,
            "object_position": null,
            "order": null,
            "overflow": null,
            "overflow_x": null,
            "overflow_y": null,
            "padding": null,
            "right": null,
            "top": null,
            "visibility": null,
            "width": null
          }
        },
        "52560a0396fd4cc4b27847fe396db284": {
          "model_module": "@jupyter-widgets/controls",
          "model_name": "ProgressStyleModel",
          "model_module_version": "1.5.0",
          "state": {
            "_model_module": "@jupyter-widgets/controls",
            "_model_module_version": "1.5.0",
            "_model_name": "ProgressStyleModel",
            "_view_count": null,
            "_view_module": "@jupyter-widgets/base",
            "_view_module_version": "1.2.0",
            "_view_name": "StyleView",
            "bar_color": null,
            "description_width": ""
          }
        },
        "f6e9e14c55984cab9d06e3354d5e7f7d": {
          "model_module": "@jupyter-widgets/base",
          "model_name": "LayoutModel",
          "model_module_version": "1.2.0",
          "state": {
            "_model_module": "@jupyter-widgets/base",
            "_model_module_version": "1.2.0",
            "_model_name": "LayoutModel",
            "_view_count": null,
            "_view_module": "@jupyter-widgets/base",
            "_view_module_version": "1.2.0",
            "_view_name": "LayoutView",
            "align_content": null,
            "align_items": null,
            "align_self": null,
            "border": null,
            "bottom": null,
            "display": null,
            "flex": null,
            "flex_flow": null,
            "grid_area": null,
            "grid_auto_columns": null,
            "grid_auto_flow": null,
            "grid_auto_rows": null,
            "grid_column": null,
            "grid_gap": null,
            "grid_row": null,
            "grid_template_areas": null,
            "grid_template_columns": null,
            "grid_template_rows": null,
            "height": null,
            "justify_content": null,
            "justify_items": null,
            "left": null,
            "margin": null,
            "max_height": null,
            "max_width": null,
            "min_height": null,
            "min_width": null,
            "object_fit": null,
            "object_position": null,
            "order": null,
            "overflow": null,
            "overflow_x": null,
            "overflow_y": null,
            "padding": null,
            "right": null,
            "top": null,
            "visibility": null,
            "width": null
          }
        },
        "5cefc22977774f168feacced3f500f62": {
          "model_module": "@jupyter-widgets/controls",
          "model_name": "DescriptionStyleModel",
          "model_module_version": "1.5.0",
          "state": {
            "_model_module": "@jupyter-widgets/controls",
            "_model_module_version": "1.5.0",
            "_model_name": "DescriptionStyleModel",
            "_view_count": null,
            "_view_module": "@jupyter-widgets/base",
            "_view_module_version": "1.2.0",
            "_view_name": "StyleView",
            "description_width": ""
          }
        },
        "4e188eb055014bf69cff845ec383931b": {
          "model_module": "@jupyter-widgets/controls",
          "model_name": "HBoxModel",
          "model_module_version": "1.5.0",
          "state": {
            "_dom_classes": [],
            "_model_module": "@jupyter-widgets/controls",
            "_model_module_version": "1.5.0",
            "_model_name": "HBoxModel",
            "_view_count": null,
            "_view_module": "@jupyter-widgets/controls",
            "_view_module_version": "1.5.0",
            "_view_name": "HBoxView",
            "box_style": "",
            "children": [
              "IPY_MODEL_54bb4cd41496421c82c8b8225b933d00",
              "IPY_MODEL_75b381f07fb74ce1ad5e4039754ab9c8",
              "IPY_MODEL_f4e8d37914ef4b4994e298065100b5e3"
            ],
            "layout": "IPY_MODEL_caf80eaba17348cf85c822c56944aa04"
          }
        },
        "54bb4cd41496421c82c8b8225b933d00": {
          "model_module": "@jupyter-widgets/controls",
          "model_name": "HTMLModel",
          "model_module_version": "1.5.0",
          "state": {
            "_dom_classes": [],
            "_model_module": "@jupyter-widgets/controls",
            "_model_module_version": "1.5.0",
            "_model_name": "HTMLModel",
            "_view_count": null,
            "_view_module": "@jupyter-widgets/controls",
            "_view_module_version": "1.5.0",
            "_view_name": "HTMLView",
            "description": "",
            "description_tooltip": null,
            "layout": "IPY_MODEL_acec442b84844c6c8b83188bc8734639",
            "placeholder": "​",
            "style": "IPY_MODEL_d72dff1fd9bf4691825cabf74daf41e2",
            "value": "100%"
          }
        },
        "75b381f07fb74ce1ad5e4039754ab9c8": {
          "model_module": "@jupyter-widgets/controls",
          "model_name": "FloatProgressModel",
          "model_module_version": "1.5.0",
          "state": {
            "_dom_classes": [],
            "_model_module": "@jupyter-widgets/controls",
            "_model_module_version": "1.5.0",
            "_model_name": "FloatProgressModel",
            "_view_count": null,
            "_view_module": "@jupyter-widgets/controls",
            "_view_module_version": "1.5.0",
            "_view_name": "ProgressView",
            "bar_style": "success",
            "description": "",
            "description_tooltip": null,
            "layout": "IPY_MODEL_12b9f9194d6e48feb88a2848c30ab2de",
            "max": 88488,
            "min": 0,
            "orientation": "horizontal",
            "style": "IPY_MODEL_725ffc48c53540f39980536cd819fc59",
            "value": 88488
          }
        },
        "f4e8d37914ef4b4994e298065100b5e3": {
          "model_module": "@jupyter-widgets/controls",
          "model_name": "HTMLModel",
          "model_module_version": "1.5.0",
          "state": {
            "_dom_classes": [],
            "_model_module": "@jupyter-widgets/controls",
            "_model_module_version": "1.5.0",
            "_model_name": "HTMLModel",
            "_view_count": null,
            "_view_module": "@jupyter-widgets/controls",
            "_view_module_version": "1.5.0",
            "_view_name": "HTMLView",
            "description": "",
            "description_tooltip": null,
            "layout": "IPY_MODEL_244ff9fea6a4441e9693477b87ee435f",
            "placeholder": "​",
            "style": "IPY_MODEL_d3ee473e40ae48cc84f079ef671cfaa2",
            "value": " 88488/88488 [44:35&lt;00:00, 37.07it/s]"
          }
        },
        "caf80eaba17348cf85c822c56944aa04": {
          "model_module": "@jupyter-widgets/base",
          "model_name": "LayoutModel",
          "model_module_version": "1.2.0",
          "state": {
            "_model_module": "@jupyter-widgets/base",
            "_model_module_version": "1.2.0",
            "_model_name": "LayoutModel",
            "_view_count": null,
            "_view_module": "@jupyter-widgets/base",
            "_view_module_version": "1.2.0",
            "_view_name": "LayoutView",
            "align_content": null,
            "align_items": null,
            "align_self": null,
            "border": null,
            "bottom": null,
            "display": null,
            "flex": null,
            "flex_flow": null,
            "grid_area": null,
            "grid_auto_columns": null,
            "grid_auto_flow": null,
            "grid_auto_rows": null,
            "grid_column": null,
            "grid_gap": null,
            "grid_row": null,
            "grid_template_areas": null,
            "grid_template_columns": null,
            "grid_template_rows": null,
            "height": null,
            "justify_content": null,
            "justify_items": null,
            "left": null,
            "margin": null,
            "max_height": null,
            "max_width": null,
            "min_height": null,
            "min_width": null,
            "object_fit": null,
            "object_position": null,
            "order": null,
            "overflow": null,
            "overflow_x": null,
            "overflow_y": null,
            "padding": null,
            "right": null,
            "top": null,
            "visibility": null,
            "width": null
          }
        },
        "acec442b84844c6c8b83188bc8734639": {
          "model_module": "@jupyter-widgets/base",
          "model_name": "LayoutModel",
          "model_module_version": "1.2.0",
          "state": {
            "_model_module": "@jupyter-widgets/base",
            "_model_module_version": "1.2.0",
            "_model_name": "LayoutModel",
            "_view_count": null,
            "_view_module": "@jupyter-widgets/base",
            "_view_module_version": "1.2.0",
            "_view_name": "LayoutView",
            "align_content": null,
            "align_items": null,
            "align_self": null,
            "border": null,
            "bottom": null,
            "display": null,
            "flex": null,
            "flex_flow": null,
            "grid_area": null,
            "grid_auto_columns": null,
            "grid_auto_flow": null,
            "grid_auto_rows": null,
            "grid_column": null,
            "grid_gap": null,
            "grid_row": null,
            "grid_template_areas": null,
            "grid_template_columns": null,
            "grid_template_rows": null,
            "height": null,
            "justify_content": null,
            "justify_items": null,
            "left": null,
            "margin": null,
            "max_height": null,
            "max_width": null,
            "min_height": null,
            "min_width": null,
            "object_fit": null,
            "object_position": null,
            "order": null,
            "overflow": null,
            "overflow_x": null,
            "overflow_y": null,
            "padding": null,
            "right": null,
            "top": null,
            "visibility": null,
            "width": null
          }
        },
        "d72dff1fd9bf4691825cabf74daf41e2": {
          "model_module": "@jupyter-widgets/controls",
          "model_name": "DescriptionStyleModel",
          "model_module_version": "1.5.0",
          "state": {
            "_model_module": "@jupyter-widgets/controls",
            "_model_module_version": "1.5.0",
            "_model_name": "DescriptionStyleModel",
            "_view_count": null,
            "_view_module": "@jupyter-widgets/base",
            "_view_module_version": "1.2.0",
            "_view_name": "StyleView",
            "description_width": ""
          }
        },
        "12b9f9194d6e48feb88a2848c30ab2de": {
          "model_module": "@jupyter-widgets/base",
          "model_name": "LayoutModel",
          "model_module_version": "1.2.0",
          "state": {
            "_model_module": "@jupyter-widgets/base",
            "_model_module_version": "1.2.0",
            "_model_name": "LayoutModel",
            "_view_count": null,
            "_view_module": "@jupyter-widgets/base",
            "_view_module_version": "1.2.0",
            "_view_name": "LayoutView",
            "align_content": null,
            "align_items": null,
            "align_self": null,
            "border": null,
            "bottom": null,
            "display": null,
            "flex": null,
            "flex_flow": null,
            "grid_area": null,
            "grid_auto_columns": null,
            "grid_auto_flow": null,
            "grid_auto_rows": null,
            "grid_column": null,
            "grid_gap": null,
            "grid_row": null,
            "grid_template_areas": null,
            "grid_template_columns": null,
            "grid_template_rows": null,
            "height": null,
            "justify_content": null,
            "justify_items": null,
            "left": null,
            "margin": null,
            "max_height": null,
            "max_width": null,
            "min_height": null,
            "min_width": null,
            "object_fit": null,
            "object_position": null,
            "order": null,
            "overflow": null,
            "overflow_x": null,
            "overflow_y": null,
            "padding": null,
            "right": null,
            "top": null,
            "visibility": null,
            "width": null
          }
        },
        "725ffc48c53540f39980536cd819fc59": {
          "model_module": "@jupyter-widgets/controls",
          "model_name": "ProgressStyleModel",
          "model_module_version": "1.5.0",
          "state": {
            "_model_module": "@jupyter-widgets/controls",
            "_model_module_version": "1.5.0",
            "_model_name": "ProgressStyleModel",
            "_view_count": null,
            "_view_module": "@jupyter-widgets/base",
            "_view_module_version": "1.2.0",
            "_view_name": "StyleView",
            "bar_color": null,
            "description_width": ""
          }
        },
        "244ff9fea6a4441e9693477b87ee435f": {
          "model_module": "@jupyter-widgets/base",
          "model_name": "LayoutModel",
          "model_module_version": "1.2.0",
          "state": {
            "_model_module": "@jupyter-widgets/base",
            "_model_module_version": "1.2.0",
            "_model_name": "LayoutModel",
            "_view_count": null,
            "_view_module": "@jupyter-widgets/base",
            "_view_module_version": "1.2.0",
            "_view_name": "LayoutView",
            "align_content": null,
            "align_items": null,
            "align_self": null,
            "border": null,
            "bottom": null,
            "display": null,
            "flex": null,
            "flex_flow": null,
            "grid_area": null,
            "grid_auto_columns": null,
            "grid_auto_flow": null,
            "grid_auto_rows": null,
            "grid_column": null,
            "grid_gap": null,
            "grid_row": null,
            "grid_template_areas": null,
            "grid_template_columns": null,
            "grid_template_rows": null,
            "height": null,
            "justify_content": null,
            "justify_items": null,
            "left": null,
            "margin": null,
            "max_height": null,
            "max_width": null,
            "min_height": null,
            "min_width": null,
            "object_fit": null,
            "object_position": null,
            "order": null,
            "overflow": null,
            "overflow_x": null,
            "overflow_y": null,
            "padding": null,
            "right": null,
            "top": null,
            "visibility": null,
            "width": null
          }
        },
        "d3ee473e40ae48cc84f079ef671cfaa2": {
          "model_module": "@jupyter-widgets/controls",
          "model_name": "DescriptionStyleModel",
          "model_module_version": "1.5.0",
          "state": {
            "_model_module": "@jupyter-widgets/controls",
            "_model_module_version": "1.5.0",
            "_model_name": "DescriptionStyleModel",
            "_view_count": null,
            "_view_module": "@jupyter-widgets/base",
            "_view_module_version": "1.2.0",
            "_view_name": "StyleView",
            "description_width": ""
          }
        },
        "c3ab7635aa6846a3a4016398d21b3507": {
          "model_module": "@jupyter-widgets/controls",
          "model_name": "HBoxModel",
          "model_module_version": "1.5.0",
          "state": {
            "_dom_classes": [],
            "_model_module": "@jupyter-widgets/controls",
            "_model_module_version": "1.5.0",
            "_model_name": "HBoxModel",
            "_view_count": null,
            "_view_module": "@jupyter-widgets/controls",
            "_view_module_version": "1.5.0",
            "_view_name": "HBoxView",
            "box_style": "",
            "children": [
              "IPY_MODEL_7e9c71b310934b4c9f48fe6e1bbedb6f",
              "IPY_MODEL_bd484857b9bc41e3a33f4c55df5af98e",
              "IPY_MODEL_0cb8a5fbe85b402e80a88a3c7ee7f745"
            ],
            "layout": "IPY_MODEL_be21479335a6485cb76a20cfdd570f57"
          }
        },
        "7e9c71b310934b4c9f48fe6e1bbedb6f": {
          "model_module": "@jupyter-widgets/controls",
          "model_name": "HTMLModel",
          "model_module_version": "1.5.0",
          "state": {
            "_dom_classes": [],
            "_model_module": "@jupyter-widgets/controls",
            "_model_module_version": "1.5.0",
            "_model_name": "HTMLModel",
            "_view_count": null,
            "_view_module": "@jupyter-widgets/controls",
            "_view_module_version": "1.5.0",
            "_view_name": "HTMLView",
            "description": "",
            "description_tooltip": null,
            "layout": "IPY_MODEL_e0567bb899b74b9b8560c06895e2b521",
            "placeholder": "​",
            "style": "IPY_MODEL_13556239ec134ed3aebe52e16907f7c3",
            "value": "100%"
          }
        },
        "bd484857b9bc41e3a33f4c55df5af98e": {
          "model_module": "@jupyter-widgets/controls",
          "model_name": "FloatProgressModel",
          "model_module_version": "1.5.0",
          "state": {
            "_dom_classes": [],
            "_model_module": "@jupyter-widgets/controls",
            "_model_module_version": "1.5.0",
            "_model_name": "FloatProgressModel",
            "_view_count": null,
            "_view_module": "@jupyter-widgets/controls",
            "_view_module_version": "1.5.0",
            "_view_name": "ProgressView",
            "bar_style": "success",
            "description": "",
            "description_tooltip": null,
            "layout": "IPY_MODEL_3baf10f93cf142b892163154988a264c",
            "max": 9832,
            "min": 0,
            "orientation": "horizontal",
            "style": "IPY_MODEL_dc310a7e5c8448958e6f9e5311913260",
            "value": 9832
          }
        },
        "0cb8a5fbe85b402e80a88a3c7ee7f745": {
          "model_module": "@jupyter-widgets/controls",
          "model_name": "HTMLModel",
          "model_module_version": "1.5.0",
          "state": {
            "_dom_classes": [],
            "_model_module": "@jupyter-widgets/controls",
            "_model_module_version": "1.5.0",
            "_model_name": "HTMLModel",
            "_view_count": null,
            "_view_module": "@jupyter-widgets/controls",
            "_view_module_version": "1.5.0",
            "_view_name": "HTMLView",
            "description": "",
            "description_tooltip": null,
            "layout": "IPY_MODEL_a8f00c5206d1409cbbb9320b35be7e00",
            "placeholder": "​",
            "style": "IPY_MODEL_dd9931b97aae4227bb4569024697bedb",
            "value": " 9832/9832 [05:00&lt;00:00, 36.57it/s]"
          }
        },
        "be21479335a6485cb76a20cfdd570f57": {
          "model_module": "@jupyter-widgets/base",
          "model_name": "LayoutModel",
          "model_module_version": "1.2.0",
          "state": {
            "_model_module": "@jupyter-widgets/base",
            "_model_module_version": "1.2.0",
            "_model_name": "LayoutModel",
            "_view_count": null,
            "_view_module": "@jupyter-widgets/base",
            "_view_module_version": "1.2.0",
            "_view_name": "LayoutView",
            "align_content": null,
            "align_items": null,
            "align_self": null,
            "border": null,
            "bottom": null,
            "display": null,
            "flex": null,
            "flex_flow": null,
            "grid_area": null,
            "grid_auto_columns": null,
            "grid_auto_flow": null,
            "grid_auto_rows": null,
            "grid_column": null,
            "grid_gap": null,
            "grid_row": null,
            "grid_template_areas": null,
            "grid_template_columns": null,
            "grid_template_rows": null,
            "height": null,
            "justify_content": null,
            "justify_items": null,
            "left": null,
            "margin": null,
            "max_height": null,
            "max_width": null,
            "min_height": null,
            "min_width": null,
            "object_fit": null,
            "object_position": null,
            "order": null,
            "overflow": null,
            "overflow_x": null,
            "overflow_y": null,
            "padding": null,
            "right": null,
            "top": null,
            "visibility": null,
            "width": null
          }
        },
        "e0567bb899b74b9b8560c06895e2b521": {
          "model_module": "@jupyter-widgets/base",
          "model_name": "LayoutModel",
          "model_module_version": "1.2.0",
          "state": {
            "_model_module": "@jupyter-widgets/base",
            "_model_module_version": "1.2.0",
            "_model_name": "LayoutModel",
            "_view_count": null,
            "_view_module": "@jupyter-widgets/base",
            "_view_module_version": "1.2.0",
            "_view_name": "LayoutView",
            "align_content": null,
            "align_items": null,
            "align_self": null,
            "border": null,
            "bottom": null,
            "display": null,
            "flex": null,
            "flex_flow": null,
            "grid_area": null,
            "grid_auto_columns": null,
            "grid_auto_flow": null,
            "grid_auto_rows": null,
            "grid_column": null,
            "grid_gap": null,
            "grid_row": null,
            "grid_template_areas": null,
            "grid_template_columns": null,
            "grid_template_rows": null,
            "height": null,
            "justify_content": null,
            "justify_items": null,
            "left": null,
            "margin": null,
            "max_height": null,
            "max_width": null,
            "min_height": null,
            "min_width": null,
            "object_fit": null,
            "object_position": null,
            "order": null,
            "overflow": null,
            "overflow_x": null,
            "overflow_y": null,
            "padding": null,
            "right": null,
            "top": null,
            "visibility": null,
            "width": null
          }
        },
        "13556239ec134ed3aebe52e16907f7c3": {
          "model_module": "@jupyter-widgets/controls",
          "model_name": "DescriptionStyleModel",
          "model_module_version": "1.5.0",
          "state": {
            "_model_module": "@jupyter-widgets/controls",
            "_model_module_version": "1.5.0",
            "_model_name": "DescriptionStyleModel",
            "_view_count": null,
            "_view_module": "@jupyter-widgets/base",
            "_view_module_version": "1.2.0",
            "_view_name": "StyleView",
            "description_width": ""
          }
        },
        "3baf10f93cf142b892163154988a264c": {
          "model_module": "@jupyter-widgets/base",
          "model_name": "LayoutModel",
          "model_module_version": "1.2.0",
          "state": {
            "_model_module": "@jupyter-widgets/base",
            "_model_module_version": "1.2.0",
            "_model_name": "LayoutModel",
            "_view_count": null,
            "_view_module": "@jupyter-widgets/base",
            "_view_module_version": "1.2.0",
            "_view_name": "LayoutView",
            "align_content": null,
            "align_items": null,
            "align_self": null,
            "border": null,
            "bottom": null,
            "display": null,
            "flex": null,
            "flex_flow": null,
            "grid_area": null,
            "grid_auto_columns": null,
            "grid_auto_flow": null,
            "grid_auto_rows": null,
            "grid_column": null,
            "grid_gap": null,
            "grid_row": null,
            "grid_template_areas": null,
            "grid_template_columns": null,
            "grid_template_rows": null,
            "height": null,
            "justify_content": null,
            "justify_items": null,
            "left": null,
            "margin": null,
            "max_height": null,
            "max_width": null,
            "min_height": null,
            "min_width": null,
            "object_fit": null,
            "object_position": null,
            "order": null,
            "overflow": null,
            "overflow_x": null,
            "overflow_y": null,
            "padding": null,
            "right": null,
            "top": null,
            "visibility": null,
            "width": null
          }
        },
        "dc310a7e5c8448958e6f9e5311913260": {
          "model_module": "@jupyter-widgets/controls",
          "model_name": "ProgressStyleModel",
          "model_module_version": "1.5.0",
          "state": {
            "_model_module": "@jupyter-widgets/controls",
            "_model_module_version": "1.5.0",
            "_model_name": "ProgressStyleModel",
            "_view_count": null,
            "_view_module": "@jupyter-widgets/base",
            "_view_module_version": "1.2.0",
            "_view_name": "StyleView",
            "bar_color": null,
            "description_width": ""
          }
        },
        "a8f00c5206d1409cbbb9320b35be7e00": {
          "model_module": "@jupyter-widgets/base",
          "model_name": "LayoutModel",
          "model_module_version": "1.2.0",
          "state": {
            "_model_module": "@jupyter-widgets/base",
            "_model_module_version": "1.2.0",
            "_model_name": "LayoutModel",
            "_view_count": null,
            "_view_module": "@jupyter-widgets/base",
            "_view_module_version": "1.2.0",
            "_view_name": "LayoutView",
            "align_content": null,
            "align_items": null,
            "align_self": null,
            "border": null,
            "bottom": null,
            "display": null,
            "flex": null,
            "flex_flow": null,
            "grid_area": null,
            "grid_auto_columns": null,
            "grid_auto_flow": null,
            "grid_auto_rows": null,
            "grid_column": null,
            "grid_gap": null,
            "grid_row": null,
            "grid_template_areas": null,
            "grid_template_columns": null,
            "grid_template_rows": null,
            "height": null,
            "justify_content": null,
            "justify_items": null,
            "left": null,
            "margin": null,
            "max_height": null,
            "max_width": null,
            "min_height": null,
            "min_width": null,
            "object_fit": null,
            "object_position": null,
            "order": null,
            "overflow": null,
            "overflow_x": null,
            "overflow_y": null,
            "padding": null,
            "right": null,
            "top": null,
            "visibility": null,
            "width": null
          }
        },
        "dd9931b97aae4227bb4569024697bedb": {
          "model_module": "@jupyter-widgets/controls",
          "model_name": "DescriptionStyleModel",
          "model_module_version": "1.5.0",
          "state": {
            "_model_module": "@jupyter-widgets/controls",
            "_model_module_version": "1.5.0",
            "_model_name": "DescriptionStyleModel",
            "_view_count": null,
            "_view_module": "@jupyter-widgets/base",
            "_view_module_version": "1.2.0",
            "_view_name": "StyleView",
            "description_width": ""
          }
        },
        "677895de0ae248d8af9cdab5f209805c": {
          "model_module": "@jupyter-widgets/controls",
          "model_name": "HBoxModel",
          "model_module_version": "1.5.0",
          "state": {
            "_dom_classes": [],
            "_model_module": "@jupyter-widgets/controls",
            "_model_module_version": "1.5.0",
            "_model_name": "HBoxModel",
            "_view_count": null,
            "_view_module": "@jupyter-widgets/controls",
            "_view_module_version": "1.5.0",
            "_view_name": "HBoxView",
            "box_style": "",
            "children": [
              "IPY_MODEL_05388598ad4a4c56b4869d5b7910cb20",
              "IPY_MODEL_8714989ea4b44da7ab24f425704b83ff",
              "IPY_MODEL_5b89bfe0d4c04e3cb29ba218f998a01c"
            ],
            "layout": "IPY_MODEL_de130f378a284023972d468f86e17bf4"
          }
        },
        "05388598ad4a4c56b4869d5b7910cb20": {
          "model_module": "@jupyter-widgets/controls",
          "model_name": "HTMLModel",
          "model_module_version": "1.5.0",
          "state": {
            "_dom_classes": [],
            "_model_module": "@jupyter-widgets/controls",
            "_model_module_version": "1.5.0",
            "_model_name": "HTMLModel",
            "_view_count": null,
            "_view_module": "@jupyter-widgets/controls",
            "_view_module_version": "1.5.0",
            "_view_name": "HTMLView",
            "description": "",
            "description_tooltip": null,
            "layout": "IPY_MODEL_2bd8ce14c69c4f38b909a6ad4e586425",
            "placeholder": "​",
            "style": "IPY_MODEL_6ce0abfe73cb436c9320567d9ca0f514",
            "value": "100%"
          }
        },
        "8714989ea4b44da7ab24f425704b83ff": {
          "model_module": "@jupyter-widgets/controls",
          "model_name": "FloatProgressModel",
          "model_module_version": "1.5.0",
          "state": {
            "_dom_classes": [],
            "_model_module": "@jupyter-widgets/controls",
            "_model_module_version": "1.5.0",
            "_model_name": "FloatProgressModel",
            "_view_count": null,
            "_view_module": "@jupyter-widgets/controls",
            "_view_module_version": "1.5.0",
            "_view_name": "ProgressView",
            "bar_style": "success",
            "description": "",
            "description_tooltip": null,
            "layout": "IPY_MODEL_647e5fe10a6a4a93b9387e089bac6130",
            "max": 10925,
            "min": 0,
            "orientation": "horizontal",
            "style": "IPY_MODEL_bff1d14926f147b1bb062054b8de64bf",
            "value": 10925
          }
        },
        "5b89bfe0d4c04e3cb29ba218f998a01c": {
          "model_module": "@jupyter-widgets/controls",
          "model_name": "HTMLModel",
          "model_module_version": "1.5.0",
          "state": {
            "_dom_classes": [],
            "_model_module": "@jupyter-widgets/controls",
            "_model_module_version": "1.5.0",
            "_model_name": "HTMLModel",
            "_view_count": null,
            "_view_module": "@jupyter-widgets/controls",
            "_view_module_version": "1.5.0",
            "_view_name": "HTMLView",
            "description": "",
            "description_tooltip": null,
            "layout": "IPY_MODEL_d852ac9a7fcd4f4d8ca4274669150b48",
            "placeholder": "​",
            "style": "IPY_MODEL_a13bf0283a7146f998eb96a45e7b4d1f",
            "value": " 10925/10925 [05:35&lt;00:00, 31.55it/s]"
          }
        },
        "de130f378a284023972d468f86e17bf4": {
          "model_module": "@jupyter-widgets/base",
          "model_name": "LayoutModel",
          "model_module_version": "1.2.0",
          "state": {
            "_model_module": "@jupyter-widgets/base",
            "_model_module_version": "1.2.0",
            "_model_name": "LayoutModel",
            "_view_count": null,
            "_view_module": "@jupyter-widgets/base",
            "_view_module_version": "1.2.0",
            "_view_name": "LayoutView",
            "align_content": null,
            "align_items": null,
            "align_self": null,
            "border": null,
            "bottom": null,
            "display": null,
            "flex": null,
            "flex_flow": null,
            "grid_area": null,
            "grid_auto_columns": null,
            "grid_auto_flow": null,
            "grid_auto_rows": null,
            "grid_column": null,
            "grid_gap": null,
            "grid_row": null,
            "grid_template_areas": null,
            "grid_template_columns": null,
            "grid_template_rows": null,
            "height": null,
            "justify_content": null,
            "justify_items": null,
            "left": null,
            "margin": null,
            "max_height": null,
            "max_width": null,
            "min_height": null,
            "min_width": null,
            "object_fit": null,
            "object_position": null,
            "order": null,
            "overflow": null,
            "overflow_x": null,
            "overflow_y": null,
            "padding": null,
            "right": null,
            "top": null,
            "visibility": null,
            "width": null
          }
        },
        "2bd8ce14c69c4f38b909a6ad4e586425": {
          "model_module": "@jupyter-widgets/base",
          "model_name": "LayoutModel",
          "model_module_version": "1.2.0",
          "state": {
            "_model_module": "@jupyter-widgets/base",
            "_model_module_version": "1.2.0",
            "_model_name": "LayoutModel",
            "_view_count": null,
            "_view_module": "@jupyter-widgets/base",
            "_view_module_version": "1.2.0",
            "_view_name": "LayoutView",
            "align_content": null,
            "align_items": null,
            "align_self": null,
            "border": null,
            "bottom": null,
            "display": null,
            "flex": null,
            "flex_flow": null,
            "grid_area": null,
            "grid_auto_columns": null,
            "grid_auto_flow": null,
            "grid_auto_rows": null,
            "grid_column": null,
            "grid_gap": null,
            "grid_row": null,
            "grid_template_areas": null,
            "grid_template_columns": null,
            "grid_template_rows": null,
            "height": null,
            "justify_content": null,
            "justify_items": null,
            "left": null,
            "margin": null,
            "max_height": null,
            "max_width": null,
            "min_height": null,
            "min_width": null,
            "object_fit": null,
            "object_position": null,
            "order": null,
            "overflow": null,
            "overflow_x": null,
            "overflow_y": null,
            "padding": null,
            "right": null,
            "top": null,
            "visibility": null,
            "width": null
          }
        },
        "6ce0abfe73cb436c9320567d9ca0f514": {
          "model_module": "@jupyter-widgets/controls",
          "model_name": "DescriptionStyleModel",
          "model_module_version": "1.5.0",
          "state": {
            "_model_module": "@jupyter-widgets/controls",
            "_model_module_version": "1.5.0",
            "_model_name": "DescriptionStyleModel",
            "_view_count": null,
            "_view_module": "@jupyter-widgets/base",
            "_view_module_version": "1.2.0",
            "_view_name": "StyleView",
            "description_width": ""
          }
        },
        "647e5fe10a6a4a93b9387e089bac6130": {
          "model_module": "@jupyter-widgets/base",
          "model_name": "LayoutModel",
          "model_module_version": "1.2.0",
          "state": {
            "_model_module": "@jupyter-widgets/base",
            "_model_module_version": "1.2.0",
            "_model_name": "LayoutModel",
            "_view_count": null,
            "_view_module": "@jupyter-widgets/base",
            "_view_module_version": "1.2.0",
            "_view_name": "LayoutView",
            "align_content": null,
            "align_items": null,
            "align_self": null,
            "border": null,
            "bottom": null,
            "display": null,
            "flex": null,
            "flex_flow": null,
            "grid_area": null,
            "grid_auto_columns": null,
            "grid_auto_flow": null,
            "grid_auto_rows": null,
            "grid_column": null,
            "grid_gap": null,
            "grid_row": null,
            "grid_template_areas": null,
            "grid_template_columns": null,
            "grid_template_rows": null,
            "height": null,
            "justify_content": null,
            "justify_items": null,
            "left": null,
            "margin": null,
            "max_height": null,
            "max_width": null,
            "min_height": null,
            "min_width": null,
            "object_fit": null,
            "object_position": null,
            "order": null,
            "overflow": null,
            "overflow_x": null,
            "overflow_y": null,
            "padding": null,
            "right": null,
            "top": null,
            "visibility": null,
            "width": null
          }
        },
        "bff1d14926f147b1bb062054b8de64bf": {
          "model_module": "@jupyter-widgets/controls",
          "model_name": "ProgressStyleModel",
          "model_module_version": "1.5.0",
          "state": {
            "_model_module": "@jupyter-widgets/controls",
            "_model_module_version": "1.5.0",
            "_model_name": "ProgressStyleModel",
            "_view_count": null,
            "_view_module": "@jupyter-widgets/base",
            "_view_module_version": "1.2.0",
            "_view_name": "StyleView",
            "bar_color": null,
            "description_width": ""
          }
        },
        "d852ac9a7fcd4f4d8ca4274669150b48": {
          "model_module": "@jupyter-widgets/base",
          "model_name": "LayoutModel",
          "model_module_version": "1.2.0",
          "state": {
            "_model_module": "@jupyter-widgets/base",
            "_model_module_version": "1.2.0",
            "_model_name": "LayoutModel",
            "_view_count": null,
            "_view_module": "@jupyter-widgets/base",
            "_view_module_version": "1.2.0",
            "_view_name": "LayoutView",
            "align_content": null,
            "align_items": null,
            "align_self": null,
            "border": null,
            "bottom": null,
            "display": null,
            "flex": null,
            "flex_flow": null,
            "grid_area": null,
            "grid_auto_columns": null,
            "grid_auto_flow": null,
            "grid_auto_rows": null,
            "grid_column": null,
            "grid_gap": null,
            "grid_row": null,
            "grid_template_areas": null,
            "grid_template_columns": null,
            "grid_template_rows": null,
            "height": null,
            "justify_content": null,
            "justify_items": null,
            "left": null,
            "margin": null,
            "max_height": null,
            "max_width": null,
            "min_height": null,
            "min_width": null,
            "object_fit": null,
            "object_position": null,
            "order": null,
            "overflow": null,
            "overflow_x": null,
            "overflow_y": null,
            "padding": null,
            "right": null,
            "top": null,
            "visibility": null,
            "width": null
          }
        },
        "a13bf0283a7146f998eb96a45e7b4d1f": {
          "model_module": "@jupyter-widgets/controls",
          "model_name": "DescriptionStyleModel",
          "model_module_version": "1.5.0",
          "state": {
            "_model_module": "@jupyter-widgets/controls",
            "_model_module_version": "1.5.0",
            "_model_name": "DescriptionStyleModel",
            "_view_count": null,
            "_view_module": "@jupyter-widgets/base",
            "_view_module_version": "1.2.0",
            "_view_name": "StyleView",
            "description_width": ""
          }
        },
        "854d60b16d5a49098f1920987de5915a": {
          "model_module": "@jupyter-widgets/controls",
          "model_name": "HBoxModel",
          "model_module_version": "1.5.0",
          "state": {
            "_dom_classes": [],
            "_model_module": "@jupyter-widgets/controls",
            "_model_module_version": "1.5.0",
            "_model_name": "HBoxModel",
            "_view_count": null,
            "_view_module": "@jupyter-widgets/controls",
            "_view_module_version": "1.5.0",
            "_view_name": "HBoxView",
            "box_style": "",
            "children": [
              "IPY_MODEL_e2ad28bd598b4ee6a8ef298ee1e8ee49",
              "IPY_MODEL_fc724809b99447859b9ebbea8ae2d443",
              "IPY_MODEL_feefe503f93a4439a9ac2b2ada1d71ab"
            ],
            "layout": "IPY_MODEL_f828c2179236424d9d770359bd85fe6a"
          }
        },
        "e2ad28bd598b4ee6a8ef298ee1e8ee49": {
          "model_module": "@jupyter-widgets/controls",
          "model_name": "HTMLModel",
          "model_module_version": "1.5.0",
          "state": {
            "_dom_classes": [],
            "_model_module": "@jupyter-widgets/controls",
            "_model_module_version": "1.5.0",
            "_model_name": "HTMLModel",
            "_view_count": null,
            "_view_module": "@jupyter-widgets/controls",
            "_view_module_version": "1.5.0",
            "_view_name": "HTMLView",
            "description": "",
            "description_tooltip": null,
            "layout": "IPY_MODEL_40e3b67fb2144427a346f0a16d41e786",
            "placeholder": "​",
            "style": "IPY_MODEL_6eb6074109bd4c65a5def44389c9e030",
            "value": "100%"
          }
        },
        "fc724809b99447859b9ebbea8ae2d443": {
          "model_module": "@jupyter-widgets/controls",
          "model_name": "FloatProgressModel",
          "model_module_version": "1.5.0",
          "state": {
            "_dom_classes": [],
            "_model_module": "@jupyter-widgets/controls",
            "_model_module_version": "1.5.0",
            "_model_name": "FloatProgressModel",
            "_view_count": null,
            "_view_module": "@jupyter-widgets/controls",
            "_view_module_version": "1.5.0",
            "_view_name": "ProgressView",
            "bar_style": "success",
            "description": "",
            "description_tooltip": null,
            "layout": "IPY_MODEL_076c7fdab9ad4f85b284a2cadef0fa37",
            "max": 88488,
            "min": 0,
            "orientation": "horizontal",
            "style": "IPY_MODEL_2b0b1ecbcd8f4d2694a0bc30c35f0f9d",
            "value": 88488
          }
        },
        "feefe503f93a4439a9ac2b2ada1d71ab": {
          "model_module": "@jupyter-widgets/controls",
          "model_name": "HTMLModel",
          "model_module_version": "1.5.0",
          "state": {
            "_dom_classes": [],
            "_model_module": "@jupyter-widgets/controls",
            "_model_module_version": "1.5.0",
            "_model_name": "HTMLModel",
            "_view_count": null,
            "_view_module": "@jupyter-widgets/controls",
            "_view_module_version": "1.5.0",
            "_view_name": "HTMLView",
            "description": "",
            "description_tooltip": null,
            "layout": "IPY_MODEL_e1f47c883a564326b1b40d2d1519eec2",
            "placeholder": "​",
            "style": "IPY_MODEL_3c4b10bdc88d41b79fdf46f6d1cea965",
            "value": " 88488/88488 [01:07&lt;00:00, 2312.42it/s]"
          }
        },
        "f828c2179236424d9d770359bd85fe6a": {
          "model_module": "@jupyter-widgets/base",
          "model_name": "LayoutModel",
          "model_module_version": "1.2.0",
          "state": {
            "_model_module": "@jupyter-widgets/base",
            "_model_module_version": "1.2.0",
            "_model_name": "LayoutModel",
            "_view_count": null,
            "_view_module": "@jupyter-widgets/base",
            "_view_module_version": "1.2.0",
            "_view_name": "LayoutView",
            "align_content": null,
            "align_items": null,
            "align_self": null,
            "border": null,
            "bottom": null,
            "display": null,
            "flex": null,
            "flex_flow": null,
            "grid_area": null,
            "grid_auto_columns": null,
            "grid_auto_flow": null,
            "grid_auto_rows": null,
            "grid_column": null,
            "grid_gap": null,
            "grid_row": null,
            "grid_template_areas": null,
            "grid_template_columns": null,
            "grid_template_rows": null,
            "height": null,
            "justify_content": null,
            "justify_items": null,
            "left": null,
            "margin": null,
            "max_height": null,
            "max_width": null,
            "min_height": null,
            "min_width": null,
            "object_fit": null,
            "object_position": null,
            "order": null,
            "overflow": null,
            "overflow_x": null,
            "overflow_y": null,
            "padding": null,
            "right": null,
            "top": null,
            "visibility": null,
            "width": null
          }
        },
        "40e3b67fb2144427a346f0a16d41e786": {
          "model_module": "@jupyter-widgets/base",
          "model_name": "LayoutModel",
          "model_module_version": "1.2.0",
          "state": {
            "_model_module": "@jupyter-widgets/base",
            "_model_module_version": "1.2.0",
            "_model_name": "LayoutModel",
            "_view_count": null,
            "_view_module": "@jupyter-widgets/base",
            "_view_module_version": "1.2.0",
            "_view_name": "LayoutView",
            "align_content": null,
            "align_items": null,
            "align_self": null,
            "border": null,
            "bottom": null,
            "display": null,
            "flex": null,
            "flex_flow": null,
            "grid_area": null,
            "grid_auto_columns": null,
            "grid_auto_flow": null,
            "grid_auto_rows": null,
            "grid_column": null,
            "grid_gap": null,
            "grid_row": null,
            "grid_template_areas": null,
            "grid_template_columns": null,
            "grid_template_rows": null,
            "height": null,
            "justify_content": null,
            "justify_items": null,
            "left": null,
            "margin": null,
            "max_height": null,
            "max_width": null,
            "min_height": null,
            "min_width": null,
            "object_fit": null,
            "object_position": null,
            "order": null,
            "overflow": null,
            "overflow_x": null,
            "overflow_y": null,
            "padding": null,
            "right": null,
            "top": null,
            "visibility": null,
            "width": null
          }
        },
        "6eb6074109bd4c65a5def44389c9e030": {
          "model_module": "@jupyter-widgets/controls",
          "model_name": "DescriptionStyleModel",
          "model_module_version": "1.5.0",
          "state": {
            "_model_module": "@jupyter-widgets/controls",
            "_model_module_version": "1.5.0",
            "_model_name": "DescriptionStyleModel",
            "_view_count": null,
            "_view_module": "@jupyter-widgets/base",
            "_view_module_version": "1.2.0",
            "_view_name": "StyleView",
            "description_width": ""
          }
        },
        "076c7fdab9ad4f85b284a2cadef0fa37": {
          "model_module": "@jupyter-widgets/base",
          "model_name": "LayoutModel",
          "model_module_version": "1.2.0",
          "state": {
            "_model_module": "@jupyter-widgets/base",
            "_model_module_version": "1.2.0",
            "_model_name": "LayoutModel",
            "_view_count": null,
            "_view_module": "@jupyter-widgets/base",
            "_view_module_version": "1.2.0",
            "_view_name": "LayoutView",
            "align_content": null,
            "align_items": null,
            "align_self": null,
            "border": null,
            "bottom": null,
            "display": null,
            "flex": null,
            "flex_flow": null,
            "grid_area": null,
            "grid_auto_columns": null,
            "grid_auto_flow": null,
            "grid_auto_rows": null,
            "grid_column": null,
            "grid_gap": null,
            "grid_row": null,
            "grid_template_areas": null,
            "grid_template_columns": null,
            "grid_template_rows": null,
            "height": null,
            "justify_content": null,
            "justify_items": null,
            "left": null,
            "margin": null,
            "max_height": null,
            "max_width": null,
            "min_height": null,
            "min_width": null,
            "object_fit": null,
            "object_position": null,
            "order": null,
            "overflow": null,
            "overflow_x": null,
            "overflow_y": null,
            "padding": null,
            "right": null,
            "top": null,
            "visibility": null,
            "width": null
          }
        },
        "2b0b1ecbcd8f4d2694a0bc30c35f0f9d": {
          "model_module": "@jupyter-widgets/controls",
          "model_name": "ProgressStyleModel",
          "model_module_version": "1.5.0",
          "state": {
            "_model_module": "@jupyter-widgets/controls",
            "_model_module_version": "1.5.0",
            "_model_name": "ProgressStyleModel",
            "_view_count": null,
            "_view_module": "@jupyter-widgets/base",
            "_view_module_version": "1.2.0",
            "_view_name": "StyleView",
            "bar_color": null,
            "description_width": ""
          }
        },
        "e1f47c883a564326b1b40d2d1519eec2": {
          "model_module": "@jupyter-widgets/base",
          "model_name": "LayoutModel",
          "model_module_version": "1.2.0",
          "state": {
            "_model_module": "@jupyter-widgets/base",
            "_model_module_version": "1.2.0",
            "_model_name": "LayoutModel",
            "_view_count": null,
            "_view_module": "@jupyter-widgets/base",
            "_view_module_version": "1.2.0",
            "_view_name": "LayoutView",
            "align_content": null,
            "align_items": null,
            "align_self": null,
            "border": null,
            "bottom": null,
            "display": null,
            "flex": null,
            "flex_flow": null,
            "grid_area": null,
            "grid_auto_columns": null,
            "grid_auto_flow": null,
            "grid_auto_rows": null,
            "grid_column": null,
            "grid_gap": null,
            "grid_row": null,
            "grid_template_areas": null,
            "grid_template_columns": null,
            "grid_template_rows": null,
            "height": null,
            "justify_content": null,
            "justify_items": null,
            "left": null,
            "margin": null,
            "max_height": null,
            "max_width": null,
            "min_height": null,
            "min_width": null,
            "object_fit": null,
            "object_position": null,
            "order": null,
            "overflow": null,
            "overflow_x": null,
            "overflow_y": null,
            "padding": null,
            "right": null,
            "top": null,
            "visibility": null,
            "width": null
          }
        },
        "3c4b10bdc88d41b79fdf46f6d1cea965": {
          "model_module": "@jupyter-widgets/controls",
          "model_name": "DescriptionStyleModel",
          "model_module_version": "1.5.0",
          "state": {
            "_model_module": "@jupyter-widgets/controls",
            "_model_module_version": "1.5.0",
            "_model_name": "DescriptionStyleModel",
            "_view_count": null,
            "_view_module": "@jupyter-widgets/base",
            "_view_module_version": "1.2.0",
            "_view_name": "StyleView",
            "description_width": ""
          }
        },
        "a15fe4732219433fb5cca332f87f56ea": {
          "model_module": "@jupyter-widgets/controls",
          "model_name": "HBoxModel",
          "model_module_version": "1.5.0",
          "state": {
            "_dom_classes": [],
            "_model_module": "@jupyter-widgets/controls",
            "_model_module_version": "1.5.0",
            "_model_name": "HBoxModel",
            "_view_count": null,
            "_view_module": "@jupyter-widgets/controls",
            "_view_module_version": "1.5.0",
            "_view_name": "HBoxView",
            "box_style": "",
            "children": [
              "IPY_MODEL_3e4f6f35e517425ba5b0b69dcf57729e",
              "IPY_MODEL_4f2f0207d53046b496113f5046a9f1dc",
              "IPY_MODEL_606d844f6d5b40bebb7b1a08e58368bf"
            ],
            "layout": "IPY_MODEL_db7b06cfb30f46eb840695dd10d7460e"
          }
        },
        "3e4f6f35e517425ba5b0b69dcf57729e": {
          "model_module": "@jupyter-widgets/controls",
          "model_name": "HTMLModel",
          "model_module_version": "1.5.0",
          "state": {
            "_dom_classes": [],
            "_model_module": "@jupyter-widgets/controls",
            "_model_module_version": "1.5.0",
            "_model_name": "HTMLModel",
            "_view_count": null,
            "_view_module": "@jupyter-widgets/controls",
            "_view_module_version": "1.5.0",
            "_view_name": "HTMLView",
            "description": "",
            "description_tooltip": null,
            "layout": "IPY_MODEL_a8782efd55a247e3ac4f750bac1c405b",
            "placeholder": "​",
            "style": "IPY_MODEL_ef16ef1d94894818b42155433f8c5058",
            "value": "100%"
          }
        },
        "4f2f0207d53046b496113f5046a9f1dc": {
          "model_module": "@jupyter-widgets/controls",
          "model_name": "FloatProgressModel",
          "model_module_version": "1.5.0",
          "state": {
            "_dom_classes": [],
            "_model_module": "@jupyter-widgets/controls",
            "_model_module_version": "1.5.0",
            "_model_name": "FloatProgressModel",
            "_view_count": null,
            "_view_module": "@jupyter-widgets/controls",
            "_view_module_version": "1.5.0",
            "_view_name": "ProgressView",
            "bar_style": "success",
            "description": "",
            "description_tooltip": null,
            "layout": "IPY_MODEL_f57ca064611d499b936d057df11ac49a",
            "max": 9832,
            "min": 0,
            "orientation": "horizontal",
            "style": "IPY_MODEL_30fb825ed3ed4ea7a5f5706299a2a028",
            "value": 9832
          }
        },
        "606d844f6d5b40bebb7b1a08e58368bf": {
          "model_module": "@jupyter-widgets/controls",
          "model_name": "HTMLModel",
          "model_module_version": "1.5.0",
          "state": {
            "_dom_classes": [],
            "_model_module": "@jupyter-widgets/controls",
            "_model_module_version": "1.5.0",
            "_model_name": "HTMLModel",
            "_view_count": null,
            "_view_module": "@jupyter-widgets/controls",
            "_view_module_version": "1.5.0",
            "_view_name": "HTMLView",
            "description": "",
            "description_tooltip": null,
            "layout": "IPY_MODEL_5d4c63968895482086ea3eb038d7c450",
            "placeholder": "​",
            "style": "IPY_MODEL_1994c5c5404f445fb16ec208deed5d6e",
            "value": " 9832/9832 [00:06&lt;00:00, 1520.45it/s]"
          }
        },
        "db7b06cfb30f46eb840695dd10d7460e": {
          "model_module": "@jupyter-widgets/base",
          "model_name": "LayoutModel",
          "model_module_version": "1.2.0",
          "state": {
            "_model_module": "@jupyter-widgets/base",
            "_model_module_version": "1.2.0",
            "_model_name": "LayoutModel",
            "_view_count": null,
            "_view_module": "@jupyter-widgets/base",
            "_view_module_version": "1.2.0",
            "_view_name": "LayoutView",
            "align_content": null,
            "align_items": null,
            "align_self": null,
            "border": null,
            "bottom": null,
            "display": null,
            "flex": null,
            "flex_flow": null,
            "grid_area": null,
            "grid_auto_columns": null,
            "grid_auto_flow": null,
            "grid_auto_rows": null,
            "grid_column": null,
            "grid_gap": null,
            "grid_row": null,
            "grid_template_areas": null,
            "grid_template_columns": null,
            "grid_template_rows": null,
            "height": null,
            "justify_content": null,
            "justify_items": null,
            "left": null,
            "margin": null,
            "max_height": null,
            "max_width": null,
            "min_height": null,
            "min_width": null,
            "object_fit": null,
            "object_position": null,
            "order": null,
            "overflow": null,
            "overflow_x": null,
            "overflow_y": null,
            "padding": null,
            "right": null,
            "top": null,
            "visibility": null,
            "width": null
          }
        },
        "a8782efd55a247e3ac4f750bac1c405b": {
          "model_module": "@jupyter-widgets/base",
          "model_name": "LayoutModel",
          "model_module_version": "1.2.0",
          "state": {
            "_model_module": "@jupyter-widgets/base",
            "_model_module_version": "1.2.0",
            "_model_name": "LayoutModel",
            "_view_count": null,
            "_view_module": "@jupyter-widgets/base",
            "_view_module_version": "1.2.0",
            "_view_name": "LayoutView",
            "align_content": null,
            "align_items": null,
            "align_self": null,
            "border": null,
            "bottom": null,
            "display": null,
            "flex": null,
            "flex_flow": null,
            "grid_area": null,
            "grid_auto_columns": null,
            "grid_auto_flow": null,
            "grid_auto_rows": null,
            "grid_column": null,
            "grid_gap": null,
            "grid_row": null,
            "grid_template_areas": null,
            "grid_template_columns": null,
            "grid_template_rows": null,
            "height": null,
            "justify_content": null,
            "justify_items": null,
            "left": null,
            "margin": null,
            "max_height": null,
            "max_width": null,
            "min_height": null,
            "min_width": null,
            "object_fit": null,
            "object_position": null,
            "order": null,
            "overflow": null,
            "overflow_x": null,
            "overflow_y": null,
            "padding": null,
            "right": null,
            "top": null,
            "visibility": null,
            "width": null
          }
        },
        "ef16ef1d94894818b42155433f8c5058": {
          "model_module": "@jupyter-widgets/controls",
          "model_name": "DescriptionStyleModel",
          "model_module_version": "1.5.0",
          "state": {
            "_model_module": "@jupyter-widgets/controls",
            "_model_module_version": "1.5.0",
            "_model_name": "DescriptionStyleModel",
            "_view_count": null,
            "_view_module": "@jupyter-widgets/base",
            "_view_module_version": "1.2.0",
            "_view_name": "StyleView",
            "description_width": ""
          }
        },
        "f57ca064611d499b936d057df11ac49a": {
          "model_module": "@jupyter-widgets/base",
          "model_name": "LayoutModel",
          "model_module_version": "1.2.0",
          "state": {
            "_model_module": "@jupyter-widgets/base",
            "_model_module_version": "1.2.0",
            "_model_name": "LayoutModel",
            "_view_count": null,
            "_view_module": "@jupyter-widgets/base",
            "_view_module_version": "1.2.0",
            "_view_name": "LayoutView",
            "align_content": null,
            "align_items": null,
            "align_self": null,
            "border": null,
            "bottom": null,
            "display": null,
            "flex": null,
            "flex_flow": null,
            "grid_area": null,
            "grid_auto_columns": null,
            "grid_auto_flow": null,
            "grid_auto_rows": null,
            "grid_column": null,
            "grid_gap": null,
            "grid_row": null,
            "grid_template_areas": null,
            "grid_template_columns": null,
            "grid_template_rows": null,
            "height": null,
            "justify_content": null,
            "justify_items": null,
            "left": null,
            "margin": null,
            "max_height": null,
            "max_width": null,
            "min_height": null,
            "min_width": null,
            "object_fit": null,
            "object_position": null,
            "order": null,
            "overflow": null,
            "overflow_x": null,
            "overflow_y": null,
            "padding": null,
            "right": null,
            "top": null,
            "visibility": null,
            "width": null
          }
        },
        "30fb825ed3ed4ea7a5f5706299a2a028": {
          "model_module": "@jupyter-widgets/controls",
          "model_name": "ProgressStyleModel",
          "model_module_version": "1.5.0",
          "state": {
            "_model_module": "@jupyter-widgets/controls",
            "_model_module_version": "1.5.0",
            "_model_name": "ProgressStyleModel",
            "_view_count": null,
            "_view_module": "@jupyter-widgets/base",
            "_view_module_version": "1.2.0",
            "_view_name": "StyleView",
            "bar_color": null,
            "description_width": ""
          }
        },
        "5d4c63968895482086ea3eb038d7c450": {
          "model_module": "@jupyter-widgets/base",
          "model_name": "LayoutModel",
          "model_module_version": "1.2.0",
          "state": {
            "_model_module": "@jupyter-widgets/base",
            "_model_module_version": "1.2.0",
            "_model_name": "LayoutModel",
            "_view_count": null,
            "_view_module": "@jupyter-widgets/base",
            "_view_module_version": "1.2.0",
            "_view_name": "LayoutView",
            "align_content": null,
            "align_items": null,
            "align_self": null,
            "border": null,
            "bottom": null,
            "display": null,
            "flex": null,
            "flex_flow": null,
            "grid_area": null,
            "grid_auto_columns": null,
            "grid_auto_flow": null,
            "grid_auto_rows": null,
            "grid_column": null,
            "grid_gap": null,
            "grid_row": null,
            "grid_template_areas": null,
            "grid_template_columns": null,
            "grid_template_rows": null,
            "height": null,
            "justify_content": null,
            "justify_items": null,
            "left": null,
            "margin": null,
            "max_height": null,
            "max_width": null,
            "min_height": null,
            "min_width": null,
            "object_fit": null,
            "object_position": null,
            "order": null,
            "overflow": null,
            "overflow_x": null,
            "overflow_y": null,
            "padding": null,
            "right": null,
            "top": null,
            "visibility": null,
            "width": null
          }
        },
        "1994c5c5404f445fb16ec208deed5d6e": {
          "model_module": "@jupyter-widgets/controls",
          "model_name": "DescriptionStyleModel",
          "model_module_version": "1.5.0",
          "state": {
            "_model_module": "@jupyter-widgets/controls",
            "_model_module_version": "1.5.0",
            "_model_name": "DescriptionStyleModel",
            "_view_count": null,
            "_view_module": "@jupyter-widgets/base",
            "_view_module_version": "1.2.0",
            "_view_name": "StyleView",
            "description_width": ""
          }
        },
        "8ecc471b71e84c8b8638bfa7cd08ed9f": {
          "model_module": "@jupyter-widgets/controls",
          "model_name": "HBoxModel",
          "model_module_version": "1.5.0",
          "state": {
            "_dom_classes": [],
            "_model_module": "@jupyter-widgets/controls",
            "_model_module_version": "1.5.0",
            "_model_name": "HBoxModel",
            "_view_count": null,
            "_view_module": "@jupyter-widgets/controls",
            "_view_module_version": "1.5.0",
            "_view_name": "HBoxView",
            "box_style": "",
            "children": [
              "IPY_MODEL_99d450c9e9ff43c68cfba230bad01793",
              "IPY_MODEL_20f98d9f83d04f2c8dd420e6b072d0ae",
              "IPY_MODEL_156d4e51439c4a4090152ada4de17ce0"
            ],
            "layout": "IPY_MODEL_ecae0850c1214f4386983585f58530a4"
          }
        },
        "99d450c9e9ff43c68cfba230bad01793": {
          "model_module": "@jupyter-widgets/controls",
          "model_name": "HTMLModel",
          "model_module_version": "1.5.0",
          "state": {
            "_dom_classes": [],
            "_model_module": "@jupyter-widgets/controls",
            "_model_module_version": "1.5.0",
            "_model_name": "HTMLModel",
            "_view_count": null,
            "_view_module": "@jupyter-widgets/controls",
            "_view_module_version": "1.5.0",
            "_view_name": "HTMLView",
            "description": "",
            "description_tooltip": null,
            "layout": "IPY_MODEL_eef9359a284f445aa32580e56378a70b",
            "placeholder": "​",
            "style": "IPY_MODEL_752653d7209940599450b16a279a4a65",
            "value": "100%"
          }
        },
        "20f98d9f83d04f2c8dd420e6b072d0ae": {
          "model_module": "@jupyter-widgets/controls",
          "model_name": "FloatProgressModel",
          "model_module_version": "1.5.0",
          "state": {
            "_dom_classes": [],
            "_model_module": "@jupyter-widgets/controls",
            "_model_module_version": "1.5.0",
            "_model_name": "FloatProgressModel",
            "_view_count": null,
            "_view_module": "@jupyter-widgets/controls",
            "_view_module_version": "1.5.0",
            "_view_name": "ProgressView",
            "bar_style": "success",
            "description": "",
            "description_tooltip": null,
            "layout": "IPY_MODEL_536ed2745718497a8a3ac5a97fc9ef3d",
            "max": 10925,
            "min": 0,
            "orientation": "horizontal",
            "style": "IPY_MODEL_0542dff904a243b2ad6ce48e4e24a0c1",
            "value": 10925
          }
        },
        "156d4e51439c4a4090152ada4de17ce0": {
          "model_module": "@jupyter-widgets/controls",
          "model_name": "HTMLModel",
          "model_module_version": "1.5.0",
          "state": {
            "_dom_classes": [],
            "_model_module": "@jupyter-widgets/controls",
            "_model_module_version": "1.5.0",
            "_model_name": "HTMLModel",
            "_view_count": null,
            "_view_module": "@jupyter-widgets/controls",
            "_view_module_version": "1.5.0",
            "_view_name": "HTMLView",
            "description": "",
            "description_tooltip": null,
            "layout": "IPY_MODEL_330645b7e5cd4452aed2d3a51cd236bf",
            "placeholder": "​",
            "style": "IPY_MODEL_83d52ca73f784439906b63f79dbd0ec2",
            "value": " 10925/10925 [00:05&lt;00:00, 2442.96it/s]"
          }
        },
        "ecae0850c1214f4386983585f58530a4": {
          "model_module": "@jupyter-widgets/base",
          "model_name": "LayoutModel",
          "model_module_version": "1.2.0",
          "state": {
            "_model_module": "@jupyter-widgets/base",
            "_model_module_version": "1.2.0",
            "_model_name": "LayoutModel",
            "_view_count": null,
            "_view_module": "@jupyter-widgets/base",
            "_view_module_version": "1.2.0",
            "_view_name": "LayoutView",
            "align_content": null,
            "align_items": null,
            "align_self": null,
            "border": null,
            "bottom": null,
            "display": null,
            "flex": null,
            "flex_flow": null,
            "grid_area": null,
            "grid_auto_columns": null,
            "grid_auto_flow": null,
            "grid_auto_rows": null,
            "grid_column": null,
            "grid_gap": null,
            "grid_row": null,
            "grid_template_areas": null,
            "grid_template_columns": null,
            "grid_template_rows": null,
            "height": null,
            "justify_content": null,
            "justify_items": null,
            "left": null,
            "margin": null,
            "max_height": null,
            "max_width": null,
            "min_height": null,
            "min_width": null,
            "object_fit": null,
            "object_position": null,
            "order": null,
            "overflow": null,
            "overflow_x": null,
            "overflow_y": null,
            "padding": null,
            "right": null,
            "top": null,
            "visibility": null,
            "width": null
          }
        },
        "eef9359a284f445aa32580e56378a70b": {
          "model_module": "@jupyter-widgets/base",
          "model_name": "LayoutModel",
          "model_module_version": "1.2.0",
          "state": {
            "_model_module": "@jupyter-widgets/base",
            "_model_module_version": "1.2.0",
            "_model_name": "LayoutModel",
            "_view_count": null,
            "_view_module": "@jupyter-widgets/base",
            "_view_module_version": "1.2.0",
            "_view_name": "LayoutView",
            "align_content": null,
            "align_items": null,
            "align_self": null,
            "border": null,
            "bottom": null,
            "display": null,
            "flex": null,
            "flex_flow": null,
            "grid_area": null,
            "grid_auto_columns": null,
            "grid_auto_flow": null,
            "grid_auto_rows": null,
            "grid_column": null,
            "grid_gap": null,
            "grid_row": null,
            "grid_template_areas": null,
            "grid_template_columns": null,
            "grid_template_rows": null,
            "height": null,
            "justify_content": null,
            "justify_items": null,
            "left": null,
            "margin": null,
            "max_height": null,
            "max_width": null,
            "min_height": null,
            "min_width": null,
            "object_fit": null,
            "object_position": null,
            "order": null,
            "overflow": null,
            "overflow_x": null,
            "overflow_y": null,
            "padding": null,
            "right": null,
            "top": null,
            "visibility": null,
            "width": null
          }
        },
        "752653d7209940599450b16a279a4a65": {
          "model_module": "@jupyter-widgets/controls",
          "model_name": "DescriptionStyleModel",
          "model_module_version": "1.5.0",
          "state": {
            "_model_module": "@jupyter-widgets/controls",
            "_model_module_version": "1.5.0",
            "_model_name": "DescriptionStyleModel",
            "_view_count": null,
            "_view_module": "@jupyter-widgets/base",
            "_view_module_version": "1.2.0",
            "_view_name": "StyleView",
            "description_width": ""
          }
        },
        "536ed2745718497a8a3ac5a97fc9ef3d": {
          "model_module": "@jupyter-widgets/base",
          "model_name": "LayoutModel",
          "model_module_version": "1.2.0",
          "state": {
            "_model_module": "@jupyter-widgets/base",
            "_model_module_version": "1.2.0",
            "_model_name": "LayoutModel",
            "_view_count": null,
            "_view_module": "@jupyter-widgets/base",
            "_view_module_version": "1.2.0",
            "_view_name": "LayoutView",
            "align_content": null,
            "align_items": null,
            "align_self": null,
            "border": null,
            "bottom": null,
            "display": null,
            "flex": null,
            "flex_flow": null,
            "grid_area": null,
            "grid_auto_columns": null,
            "grid_auto_flow": null,
            "grid_auto_rows": null,
            "grid_column": null,
            "grid_gap": null,
            "grid_row": null,
            "grid_template_areas": null,
            "grid_template_columns": null,
            "grid_template_rows": null,
            "height": null,
            "justify_content": null,
            "justify_items": null,
            "left": null,
            "margin": null,
            "max_height": null,
            "max_width": null,
            "min_height": null,
            "min_width": null,
            "object_fit": null,
            "object_position": null,
            "order": null,
            "overflow": null,
            "overflow_x": null,
            "overflow_y": null,
            "padding": null,
            "right": null,
            "top": null,
            "visibility": null,
            "width": null
          }
        },
        "0542dff904a243b2ad6ce48e4e24a0c1": {
          "model_module": "@jupyter-widgets/controls",
          "model_name": "ProgressStyleModel",
          "model_module_version": "1.5.0",
          "state": {
            "_model_module": "@jupyter-widgets/controls",
            "_model_module_version": "1.5.0",
            "_model_name": "ProgressStyleModel",
            "_view_count": null,
            "_view_module": "@jupyter-widgets/base",
            "_view_module_version": "1.2.0",
            "_view_name": "StyleView",
            "bar_color": null,
            "description_width": ""
          }
        },
        "330645b7e5cd4452aed2d3a51cd236bf": {
          "model_module": "@jupyter-widgets/base",
          "model_name": "LayoutModel",
          "model_module_version": "1.2.0",
          "state": {
            "_model_module": "@jupyter-widgets/base",
            "_model_module_version": "1.2.0",
            "_model_name": "LayoutModel",
            "_view_count": null,
            "_view_module": "@jupyter-widgets/base",
            "_view_module_version": "1.2.0",
            "_view_name": "LayoutView",
            "align_content": null,
            "align_items": null,
            "align_self": null,
            "border": null,
            "bottom": null,
            "display": null,
            "flex": null,
            "flex_flow": null,
            "grid_area": null,
            "grid_auto_columns": null,
            "grid_auto_flow": null,
            "grid_auto_rows": null,
            "grid_column": null,
            "grid_gap": null,
            "grid_row": null,
            "grid_template_areas": null,
            "grid_template_columns": null,
            "grid_template_rows": null,
            "height": null,
            "justify_content": null,
            "justify_items": null,
            "left": null,
            "margin": null,
            "max_height": null,
            "max_width": null,
            "min_height": null,
            "min_width": null,
            "object_fit": null,
            "object_position": null,
            "order": null,
            "overflow": null,
            "overflow_x": null,
            "overflow_y": null,
            "padding": null,
            "right": null,
            "top": null,
            "visibility": null,
            "width": null
          }
        },
        "83d52ca73f784439906b63f79dbd0ec2": {
          "model_module": "@jupyter-widgets/controls",
          "model_name": "DescriptionStyleModel",
          "model_module_version": "1.5.0",
          "state": {
            "_model_module": "@jupyter-widgets/controls",
            "_model_module_version": "1.5.0",
            "_model_name": "DescriptionStyleModel",
            "_view_count": null,
            "_view_module": "@jupyter-widgets/base",
            "_view_module_version": "1.2.0",
            "_view_name": "StyleView",
            "description_width": ""
          }
        }
      }
    }
  },
  "nbformat": 4,
  "nbformat_minor": 0
}